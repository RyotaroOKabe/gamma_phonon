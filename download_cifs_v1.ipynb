{
 "cells": [
  {
   "cell_type": "code",
   "execution_count": 1,
   "metadata": {},
   "outputs": [
    {
     "name": "stderr",
     "output_type": "stream",
     "text": [
      "/home/rokabe/anaconda3/envs/py310/lib/python3.10/site-packages/pymatgen/analysis/phase_diagram.py:24: TqdmWarning: IProgress not found. Please update jupyter and ipywidgets. See https://ipywidgets.readthedocs.io/en/stable/user_install.html\n",
      "  from tqdm.autonotebook import tqdm\n"
     ]
    }
   ],
   "source": [
    "from mp_api.client import MPRester\n",
    "import numpy as np\n",
    "import torch\n",
    "import matplotlib.pyplot as plt\n",
    "from glob import glob\n",
    "import time, os, sys\n",
    "from os.path import join as opj\n",
    "import json\n",
    "import pandas as pd\n",
    "from tqdm import tqdm\n",
    "import csv\n",
    "import pickle as pkl\n",
    "import pymatgen\n",
    "from pymatgen.core.structure import Structure\n",
    "from pymatgen.core.periodic_table import Element\n",
    "import datetime\n",
    "bar_format = '{l_bar}{bar:10}{r_bar}{bar:-10b}'\n",
    "api_key = \"PvfnzQv5PLh4Lzxz1pScKnAtcmmWVaeU\""
   ]
  },
  {
   "cell_type": "code",
   "execution_count": 2,
   "metadata": {},
   "outputs": [],
   "source": [
    "icsd_pd = pd.read_csv('data/mp_data.csv', header=None)"
   ]
  },
  {
   "cell_type": "code",
   "execution_count": null,
   "metadata": {},
   "outputs": [],
   "source": [
    "with MPRester(api_key) as mpr:\n",
    "    structure = mpr.get_structure_by_material_id(\"mp-149\")\n",
    "    print(type(structure))\n",
    "    print(structure)\n",
    "    print('=========')\n",
    "    # -- General search alternatives:\n",
    "    docs = mpr.summary.search(material_ids=[\"mp-149\"], fields=[\"structure\"])\n",
    "    structure = docs[0].structure\n",
    "    print(type(structure))\n",
    "    print(structure)\n",
    "    print('=========')\n",
    "    doc = mpr.summary.get_data_by_id(\"mp-149\", fields=[\"structure\"])\n",
    "    structure = doc.structure\n",
    "    print(type(structure))\n",
    "    print(structure)"
   ]
  },
  {
   "cell_type": "code",
   "execution_count": 9,
   "metadata": {},
   "outputs": [
    {
     "name": "stderr",
     "output_type": "stream",
     "text": [
      "Retrieving SummaryDoc documents: 100%|██████████| 1511/1511 [00:10<00:00, 150.06it/s] \n"
     ]
    },
    {
     "ename": "TypeError",
     "evalue": "write() argument must be str, not MPDataDoc",
     "output_type": "error",
     "traceback": [
      "\u001b[0;31m---------------------------------------------------------------------------\u001b[0m",
      "\u001b[0;31mTypeError\u001b[0m                                 Traceback (most recent call last)",
      "\u001b[1;32m/home/rokabe/data1/phonondos/g_phonon_v1/download_cifs_v1.ipynb Cell 4\u001b[0m in \u001b[0;36m<cell line: 1>\u001b[0;34m()\u001b[0m\n\u001b[1;32m      <a href='vscode-notebook-cell://ssh-remote%2Batom.mit.edu/home/rokabe/data1/phonondos/g_phonon_v1/download_cifs_v1.ipynb#W3sdnNjb2RlLXJlbW90ZQ%3D%3D?line=2'>3</a>\u001b[0m \u001b[39mfor\u001b[39;00m result \u001b[39min\u001b[39;00m m\u001b[39m.\u001b[39msummary\u001b[39m.\u001b[39msearch(\n\u001b[1;32m      <a href='vscode-notebook-cell://ssh-remote%2Batom.mit.edu/home/rokabe/data1/phonondos/g_phonon_v1/download_cifs_v1.ipynb#W3sdnNjb2RlLXJlbW90ZQ%3D%3D?line=3'>4</a>\u001b[0m \u001b[39m#for result in m.query(\u001b[39;00m\n\u001b[1;32m      <a href='vscode-notebook-cell://ssh-remote%2Batom.mit.edu/home/rokabe/data1/phonondos/g_phonon_v1/download_cifs_v1.ipynb#W3sdnNjb2RlLXJlbW90ZQ%3D%3D?line=4'>5</a>\u001b[0m     material_ids\u001b[39m=\u001b[39micsd_pd\u001b[39m.\u001b[39miloc[:, \u001b[39m0\u001b[39m]\u001b[39m.\u001b[39mto_list(),\n\u001b[1;32m      <a href='vscode-notebook-cell://ssh-remote%2Batom.mit.edu/home/rokabe/data1/phonondos/g_phonon_v1/download_cifs_v1.ipynb#W3sdnNjb2RlLXJlbW90ZQ%3D%3D?line=5'>6</a>\u001b[0m     fields\u001b[39m=\u001b[39m[\u001b[39m\"\u001b[39m\u001b[39mstructure\u001b[39m\u001b[39m\"\u001b[39m]\n\u001b[1;32m      <a href='vscode-notebook-cell://ssh-remote%2Batom.mit.edu/home/rokabe/data1/phonondos/g_phonon_v1/download_cifs_v1.ipynb#W3sdnNjb2RlLXJlbW90ZQ%3D%3D?line=6'>7</a>\u001b[0m     \u001b[39m#properties=['material_id', 'cif'], chunk_size=len(icsd_pd)\u001b[39;00m\n\u001b[1;32m      <a href='vscode-notebook-cell://ssh-remote%2Batom.mit.edu/home/rokabe/data1/phonondos/g_phonon_v1/download_cifs_v1.ipynb#W3sdnNjb2RlLXJlbW90ZQ%3D%3D?line=7'>8</a>\u001b[0m ):\n\u001b[1;32m      <a href='vscode-notebook-cell://ssh-remote%2Batom.mit.edu/home/rokabe/data1/phonondos/g_phonon_v1/download_cifs_v1.ipynb#W3sdnNjb2RlLXJlbW90ZQ%3D%3D?line=8'>9</a>\u001b[0m     \u001b[39mwith\u001b[39;00m \u001b[39mopen\u001b[39m(\u001b[39m'\u001b[39m\u001b[39mdata/test_folder/\u001b[39m\u001b[39m'\u001b[39m\u001b[39m+\u001b[39m \u001b[39mstr\u001b[39m(i) \u001b[39m+\u001b[39m\u001b[39m'\u001b[39m\u001b[39m.cif\u001b[39m\u001b[39m'\u001b[39m, \u001b[39m'\u001b[39m\u001b[39mw\u001b[39m\u001b[39m'\u001b[39m) \u001b[39mas\u001b[39;00m f:\n\u001b[0;32m---> <a href='vscode-notebook-cell://ssh-remote%2Batom.mit.edu/home/rokabe/data1/phonondos/g_phonon_v1/download_cifs_v1.ipynb#W3sdnNjb2RlLXJlbW90ZQ%3D%3D?line=9'>10</a>\u001b[0m         f\u001b[39m.\u001b[39;49mwrite(result)\n\u001b[1;32m     <a href='vscode-notebook-cell://ssh-remote%2Batom.mit.edu/home/rokabe/data1/phonondos/g_phonon_v1/download_cifs_v1.ipynb#W3sdnNjb2RlLXJlbW90ZQ%3D%3D?line=10'>11</a>\u001b[0m     i \u001b[39m+\u001b[39m\u001b[39m=\u001b[39m \u001b[39m1\u001b[39m\n",
      "\u001b[0;31mTypeError\u001b[0m: write() argument must be str, not MPDataDoc"
     ]
    }
   ],
   "source": [
    "with MPRester(api_key) as m:\n",
    "    i = 0\n",
    "    for result in m.summary.search(\n",
    "    #for result in m.query(\n",
    "        material_ids=icsd_pd.iloc[:, 0].to_list(),\n",
    "        fields=[\"structure\"]\n",
    "        #properties=['material_id', 'cif'], chunk_size=len(icsd_pd)\n",
    "    ):\n",
    "        with open('data/test_folder/'+ str(i) +'.cif', 'w') as f:\n",
    "            f.write(result)\n",
    "        i += 1"
   ]
  },
  {
   "cell_type": "code",
   "execution_count": 11,
   "metadata": {},
   "outputs": [],
   "source": [
    "mp_ids = icsd_pd.iloc[:, 0].to_list()"
   ]
  },
  {
   "cell_type": "code",
   "execution_count": 16,
   "metadata": {},
   "outputs": [
    {
     "name": "stdout",
     "output_type": "stream",
     "text": [
      "mp-1000\n"
     ]
    },
    {
     "name": "stderr",
     "output_type": "stream",
     "text": [
      "Retrieving MaterialsDoc documents: 100%|██████████| 1/1 [00:00<00:00, 6853.44it/s]\n",
      "Retrieving SummaryDoc documents: 100%|██████████| 1/1 [00:00<00:00, 8439.24it/s]\n"
     ]
    },
    {
     "name": "stdout",
     "output_type": "stream",
     "text": [
      "mp-1002124\n"
     ]
    },
    {
     "name": "stderr",
     "output_type": "stream",
     "text": [
      "Retrieving MaterialsDoc documents: 100%|██████████| 1/1 [00:00<00:00, 9619.96it/s]\n",
      "Retrieving SummaryDoc documents: 100%|██████████| 1/1 [00:00<00:00, 9822.73it/s]\n"
     ]
    },
    {
     "name": "stdout",
     "output_type": "stream",
     "text": [
      "mp-1002164\n"
     ]
    },
    {
     "name": "stderr",
     "output_type": "stream",
     "text": [
      "Retrieving MaterialsDoc documents: 100%|██████████| 1/1 [00:00<00:00, 9731.56it/s]\n",
      "Retrieving SummaryDoc documents: 100%|██████████| 1/1 [00:00<00:00, 8719.97it/s]\n"
     ]
    },
    {
     "name": "stdout",
     "output_type": "stream",
     "text": [
      "mp-10044\n"
     ]
    },
    {
     "name": "stderr",
     "output_type": "stream",
     "text": [
      "Retrieving MaterialsDoc documents: 100%|██████████| 1/1 [00:00<00:00, 9258.95it/s]\n",
      "Retrieving SummaryDoc documents: 100%|██████████| 1/1 [00:00<00:00, 9020.01it/s]\n"
     ]
    },
    {
     "name": "stdout",
     "output_type": "stream",
     "text": [
      "mp-1008223\n"
     ]
    },
    {
     "name": "stderr",
     "output_type": "stream",
     "text": [
      "Retrieving MaterialsDoc documents: 100%|██████████| 1/1 [00:00<00:00, 9425.40it/s]\n",
      "Retrieving SummaryDoc documents: 100%|██████████| 1/1 [00:00<00:00, 9776.93it/s]\n"
     ]
    },
    {
     "name": "stdout",
     "output_type": "stream",
     "text": [
      "mp-1008506\n"
     ]
    },
    {
     "name": "stderr",
     "output_type": "stream",
     "text": [
      "Retrieving MaterialsDoc documents: 100%|██████████| 1/1 [00:00<00:00, 9341.43it/s]\n",
      "Retrieving SummaryDoc documents: 100%|██████████| 1/1 [00:00<00:00, 9058.97it/s]\n"
     ]
    },
    {
     "name": "stdout",
     "output_type": "stream",
     "text": [
      "mp-1008556\n"
     ]
    },
    {
     "name": "stderr",
     "output_type": "stream",
     "text": [
      "Retrieving MaterialsDoc documents: 100%|██████████| 1/1 [00:00<00:00, 8981.38it/s]\n",
      "Retrieving SummaryDoc documents: 100%|██████████| 1/1 [00:00<00:00, 9425.40it/s]\n"
     ]
    },
    {
     "name": "stdout",
     "output_type": "stream",
     "text": [
      "mp-1008559\n"
     ]
    },
    {
     "name": "stderr",
     "output_type": "stream",
     "text": [
      "Retrieving MaterialsDoc documents: 100%|██████████| 1/1 [00:00<00:00, 9404.27it/s]\n",
      "Retrieving SummaryDoc documents: 100%|██████████| 1/1 [00:00<00:00, 8322.03it/s]\n"
     ]
    },
    {
     "name": "stdout",
     "output_type": "stream",
     "text": [
      "mp-10086\n"
     ]
    },
    {
     "name": "stderr",
     "output_type": "stream",
     "text": [
      "Retrieving MaterialsDoc documents: 100%|██████████| 1/1 [00:00<00:00, 9058.97it/s]\n",
      "Retrieving SummaryDoc documents: 100%|██████████| 1/1 [00:00<00:00, 9467.95it/s]\n"
     ]
    },
    {
     "name": "stdout",
     "output_type": "stream",
     "text": [
      "mp-1008680\n"
     ]
    },
    {
     "name": "stderr",
     "output_type": "stream",
     "text": [
      "Retrieving MaterialsDoc documents: 100%|██████████| 1/1 [00:00<00:00, 9532.51it/s]\n",
      "Retrieving SummaryDoc documents: 100%|██████████| 1/1 [00:00<00:00, 9467.95it/s]\n"
     ]
    },
    {
     "name": "stdout",
     "output_type": "stream",
     "text": [
      "mp-1008786\n"
     ]
    },
    {
     "name": "stderr",
     "output_type": "stream",
     "text": [
      "Retrieving MaterialsDoc documents: 100%|██████████| 1/1 [00:00<00:00, 8594.89it/s]\n",
      "Retrieving SummaryDoc documents: 100%|██████████| 1/1 [00:00<00:00, 9425.40it/s]\n"
     ]
    },
    {
     "name": "stdout",
     "output_type": "stream",
     "text": [
      "mp-1009009\n"
     ]
    },
    {
     "name": "stderr",
     "output_type": "stream",
     "text": [
      "Retrieving MaterialsDoc documents: 100%|██████████| 1/1 [00:00<00:00, 15252.01it/s]\n",
      "Retrieving SummaryDoc documents: 100%|██████████| 1/1 [00:00<00:00, 9198.04it/s]\n"
     ]
    },
    {
     "name": "stdout",
     "output_type": "stream",
     "text": [
      "mp-1009082\n"
     ]
    },
    {
     "name": "stderr",
     "output_type": "stream",
     "text": [
      "Retrieving MaterialsDoc documents: 100%|██████████| 1/1 [00:00<00:00, 13148.29it/s]\n",
      "Retrieving SummaryDoc documents: 100%|██████████| 1/1 [00:00<00:00, 9198.04it/s]\n"
     ]
    },
    {
     "name": "stdout",
     "output_type": "stream",
     "text": [
      "mp-1009084\n"
     ]
    },
    {
     "name": "stderr",
     "output_type": "stream",
     "text": [
      "Retrieving MaterialsDoc documents: 100%|██████████| 1/1 [00:00<00:00, 9078.58it/s]\n",
      "Retrieving SummaryDoc documents: 100%|██████████| 1/1 [00:00<00:00, 8943.08it/s]\n"
     ]
    },
    {
     "name": "stdout",
     "output_type": "stream",
     "text": [
      "mp-1009085\n"
     ]
    },
    {
     "name": "stderr",
     "output_type": "stream",
     "text": [
      "Retrieving MaterialsDoc documents: 100%|██████████| 1/1 [00:00<00:00, 11244.78it/s]\n",
      "Retrieving SummaryDoc documents: 100%|██████████| 1/1 [00:00<00:00, 9058.97it/s]\n"
     ]
    },
    {
     "name": "stdout",
     "output_type": "stream",
     "text": [
      "mp-1009087\n"
     ]
    },
    {
     "name": "stderr",
     "output_type": "stream",
     "text": [
      "Retrieving MaterialsDoc documents: 100%|██████████| 1/1 [00:00<00:00, 9404.27it/s]\n",
      "Retrieving SummaryDoc documents: 100%|██████████| 1/1 [00:00<00:00, 9098.27it/s]\n"
     ]
    },
    {
     "name": "stdout",
     "output_type": "stream",
     "text": [
      "mp-1009088\n"
     ]
    },
    {
     "name": "stderr",
     "output_type": "stream",
     "text": [
      "Retrieving MaterialsDoc documents: 100%|██████████| 1/1 [00:00<00:00, 9510.89it/s]\n",
      "Retrieving SummaryDoc documents: 100%|██████████| 1/1 [00:00<00:00, 9467.95it/s]\n"
     ]
    },
    {
     "name": "stdout",
     "output_type": "stream",
     "text": [
      "mp-1009127\n"
     ]
    },
    {
     "name": "stderr",
     "output_type": "stream",
     "text": [
      "Retrieving MaterialsDoc documents: 100%|██████████| 1/1 [00:00<00:00, 9425.40it/s]\n",
      "Retrieving SummaryDoc documents: 100%|██████████| 1/1 [00:00<00:00, 8630.26it/s]\n"
     ]
    },
    {
     "name": "stdout",
     "output_type": "stream",
     "text": [
      "mp-1009129\n"
     ]
    },
    {
     "name": "stderr",
     "output_type": "stream",
     "text": [
      "Retrieving MaterialsDoc documents: 100%|██████████| 1/1 [00:00<00:00, 9362.29it/s]\n",
      "Retrieving SummaryDoc documents: 100%|██████████| 1/1 [00:00<00:00, 9177.91it/s]\n"
     ]
    },
    {
     "name": "stdout",
     "output_type": "stream",
     "text": [
      "mp-1009220\n"
     ]
    },
    {
     "name": "stderr",
     "output_type": "stream",
     "text": [
      "Retrieving MaterialsDoc documents: 100%|██████████| 1/1 [00:00<00:00, 9597.95it/s]\n",
      "Retrieving SummaryDoc documents: 100%|██████████| 1/1 [00:00<00:00, 9404.27it/s]\n"
     ]
    },
    {
     "name": "stdout",
     "output_type": "stream",
     "text": [
      "mp-1009540\n"
     ]
    },
    {
     "name": "stderr",
     "output_type": "stream",
     "text": [
      "Retrieving MaterialsDoc documents: 100%|██████████| 1/1 [00:00<00:00, 16256.99it/s]\n",
      "Retrieving SummaryDoc documents: 100%|██████████| 1/1 [00:00<00:00, 13400.33it/s]\n"
     ]
    },
    {
     "name": "stdout",
     "output_type": "stream",
     "text": [
      "mp-1009733\n"
     ]
    },
    {
     "name": "stderr",
     "output_type": "stream",
     "text": [
      "Retrieving MaterialsDoc documents: 100%|██████████| 1/1 [00:00<00:00, 9664.29it/s]\n",
      "Retrieving SummaryDoc documents: 100%|██████████| 1/1 [00:00<00:00, 9510.89it/s]\n"
     ]
    },
    {
     "name": "stdout",
     "output_type": "stream",
     "text": [
      "mp-1009750\n"
     ]
    },
    {
     "name": "stderr",
     "output_type": "stream",
     "text": [
      "Retrieving MaterialsDoc documents: 100%|██████████| 1/1 [00:00<00:00, 9039.45it/s]\n",
      "Retrieving SummaryDoc documents: 100%|██████████| 1/1 [00:00<00:00, 9157.87it/s]\n"
     ]
    },
    {
     "name": "stdout",
     "output_type": "stream",
     "text": [
      "mp-1009792\n"
     ]
    },
    {
     "name": "stderr",
     "output_type": "stream",
     "text": [
      "Retrieving MaterialsDoc documents: 100%|██████████| 1/1 [00:00<00:00, 9425.40it/s]\n",
      "Retrieving SummaryDoc documents: 100%|██████████| 1/1 [00:00<00:00, 9404.27it/s]\n"
     ]
    },
    {
     "name": "stdout",
     "output_type": "stream",
     "text": [
      "mp-1009813\n"
     ]
    },
    {
     "name": "stderr",
     "output_type": "stream",
     "text": [
      "Retrieving MaterialsDoc documents: 100%|██████████| 1/1 [00:00<00:00, 9576.04it/s]\n",
      "Retrieving SummaryDoc documents: 100%|██████████| 1/1 [00:00<00:00, 8811.56it/s]\n"
     ]
    },
    {
     "name": "stdout",
     "output_type": "stream",
     "text": [
      "mp-1009819\n"
     ]
    },
    {
     "name": "stderr",
     "output_type": "stream",
     "text": [
      "Retrieving MaterialsDoc documents: 100%|██████████| 1/1 [00:00<00:00, 8867.45it/s]\n",
      "Retrieving SummaryDoc documents: 100%|██████████| 1/1 [00:00<00:00, 8192.00it/s]\n"
     ]
    },
    {
     "name": "stdout",
     "output_type": "stream",
     "text": [
      "mp-1009820\n"
     ]
    },
    {
     "name": "stderr",
     "output_type": "stream",
     "text": [
      "Retrieving MaterialsDoc documents: 100%|██████████| 1/1 [00:00<00:00, 10645.44it/s]\n",
      "Retrieving SummaryDoc documents: 100%|██████████| 1/1 [00:00<00:00, 9489.38it/s]\n"
     ]
    },
    {
     "name": "stdout",
     "output_type": "stream",
     "text": [
      "mp-1009894\n"
     ]
    },
    {
     "name": "stderr",
     "output_type": "stream",
     "text": [
      "Retrieving MaterialsDoc documents: 100%|██████████| 1/1 [00:00<00:00, 13888.42it/s]\n",
      "Retrieving SummaryDoc documents: 100%|██████████| 1/1 [00:00<00:00, 10951.19it/s]\n"
     ]
    },
    {
     "name": "stdout",
     "output_type": "stream",
     "text": [
      "mp-1011695\n"
     ]
    },
    {
     "name": "stderr",
     "output_type": "stream",
     "text": [
      "Retrieving MaterialsDoc documents: 100%|██████████| 1/1 [00:00<00:00, 9404.27it/s]\n",
      "Retrieving SummaryDoc documents: 100%|██████████| 1/1 [00:00<00:00, 9258.95it/s]\n"
     ]
    },
    {
     "name": "stdout",
     "output_type": "stream",
     "text": [
      "mp-1014244\n"
     ]
    },
    {
     "name": "stderr",
     "output_type": "stream",
     "text": [
      "Retrieving MaterialsDoc documents: 100%|██████████| 1/1 [00:00<00:00, 9532.51it/s]\n",
      "Retrieving SummaryDoc documents: 100%|██████████| 1/1 [00:00<00:00, 9238.56it/s]\n"
     ]
    },
    {
     "name": "stdout",
     "output_type": "stream",
     "text": [
      "mp-10155\n"
     ]
    },
    {
     "name": "stderr",
     "output_type": "stream",
     "text": [
      "Retrieving MaterialsDoc documents: 100%|██████████| 1/1 [00:00<00:00, 12787.51it/s]\n",
      "Retrieving SummaryDoc documents: 100%|██████████| 1/1 [00:00<00:00, 10894.30it/s]\n"
     ]
    },
    {
     "name": "stdout",
     "output_type": "stream",
     "text": [
      "mp-10159\n"
     ]
    },
    {
     "name": "stderr",
     "output_type": "stream",
     "text": [
      "Retrieving MaterialsDoc documents: 100%|██████████| 1/1 [00:00<00:00, 9619.96it/s]\n",
      "Retrieving SummaryDoc documents: 100%|██████████| 1/1 [00:00<00:00, 9845.78it/s]\n"
     ]
    },
    {
     "name": "stdout",
     "output_type": "stream",
     "text": [
      "mp-10163\n"
     ]
    },
    {
     "name": "stderr",
     "output_type": "stream",
     "text": [
      "Retrieving MaterialsDoc documents: 100%|██████████| 1/1 [00:00<00:00, 9597.95it/s]\n",
      "Retrieving SummaryDoc documents: 100%|██████████| 1/1 [00:00<00:00, 9532.51it/s]\n"
     ]
    },
    {
     "name": "stdout",
     "output_type": "stream",
     "text": [
      "mp-10167\n"
     ]
    },
    {
     "name": "stderr",
     "output_type": "stream",
     "text": [
      "Retrieving MaterialsDoc documents: 100%|██████████| 1/1 [00:00<00:00, 9776.93it/s]\n",
      "Retrieving SummaryDoc documents: 100%|██████████| 1/1 [00:00<00:00, 9686.61it/s]\n"
     ]
    },
    {
     "name": "stdout",
     "output_type": "stream",
     "text": [
      "mp-1018040\n"
     ]
    },
    {
     "name": "stderr",
     "output_type": "stream",
     "text": [
      "Retrieving MaterialsDoc documents: 100%|██████████| 1/1 [00:00<00:00, 9754.20it/s]\n",
      "Retrieving SummaryDoc documents: 100%|██████████| 1/1 [00:00<00:00, 9467.95it/s]\n"
     ]
    },
    {
     "name": "stdout",
     "output_type": "stream",
     "text": [
      "mp-1018096\n"
     ]
    },
    {
     "name": "stderr",
     "output_type": "stream",
     "text": [
      "Retrieving MaterialsDoc documents: 100%|██████████| 1/1 [00:00<00:00, 10058.28it/s]\n",
      "Retrieving SummaryDoc documents: 100%|██████████| 1/1 [00:00<00:00, 9177.91it/s]\n"
     ]
    },
    {
     "name": "stdout",
     "output_type": "stream",
     "text": [
      "mp-1018100\n"
     ]
    },
    {
     "name": "stderr",
     "output_type": "stream",
     "text": [
      "Retrieving MaterialsDoc documents: 100%|██████████| 1/1 [00:00<00:00, 9664.29it/s]\n",
      "Retrieving SummaryDoc documents: 100%|██████████| 1/1 [00:00<00:00, 8867.45it/s]\n"
     ]
    },
    {
     "name": "stdout",
     "output_type": "stream",
     "text": [
      "mp-10182\n"
     ]
    },
    {
     "name": "stderr",
     "output_type": "stream",
     "text": [
      "Retrieving MaterialsDoc documents: 100%|██████████| 1/1 [00:00<00:00, 9686.61it/s]\n",
      "Retrieving SummaryDoc documents: 100%|██████████| 1/1 [00:00<00:00, 9597.95it/s]\n"
     ]
    },
    {
     "name": "stdout",
     "output_type": "stream",
     "text": [
      "mp-1020019\n"
     ]
    },
    {
     "name": "stderr",
     "output_type": "stream",
     "text": [
      "Retrieving MaterialsDoc documents: 100%|██████████| 1/1 [00:00<00:00, 9467.95it/s]\n",
      "Retrieving SummaryDoc documents: 100%|██████████| 1/1 [00:00<00:00, 8630.26it/s]\n"
     ]
    },
    {
     "name": "stdout",
     "output_type": "stream",
     "text": [
      "mp-1020059\n"
     ]
    },
    {
     "name": "stderr",
     "output_type": "stream",
     "text": [
      "Retrieving MaterialsDoc documents: 100%|██████████| 1/1 [00:00<00:00, 9664.29it/s]\n",
      "Retrieving SummaryDoc documents: 100%|██████████| 1/1 [00:00<00:00, 10106.76it/s]\n"
     ]
    },
    {
     "name": "stdout",
     "output_type": "stream",
     "text": [
      "mp-10219\n"
     ]
    },
    {
     "name": "stderr",
     "output_type": "stream",
     "text": [
      "Retrieving MaterialsDoc documents: 100%|██████████| 1/1 [00:00<00:00, 9642.08it/s]\n",
      "Retrieving SummaryDoc documents: 100%|██████████| 1/1 [00:00<00:00, 9576.04it/s]\n"
     ]
    },
    {
     "name": "stdout",
     "output_type": "stream",
     "text": [
      "mp-1022\n"
     ]
    },
    {
     "name": "stderr",
     "output_type": "stream",
     "text": [
      "Retrieving MaterialsDoc documents: 100%|██████████| 1/1 [00:00<00:00, 10810.06it/s]\n",
      "Retrieving SummaryDoc documents: 100%|██████████| 1/1 [00:00<00:00, 9020.01it/s]\n"
     ]
    },
    {
     "name": "stdout",
     "output_type": "stream",
     "text": [
      "mp-10223\n"
     ]
    },
    {
     "name": "stderr",
     "output_type": "stream",
     "text": [
      "Retrieving MaterialsDoc documents: 100%|██████████| 1/1 [00:00<00:00, 9845.78it/s]\n",
      "Retrieving SummaryDoc documents: 100%|██████████| 1/1 [00:00<00:00, 9709.04it/s]\n"
     ]
    },
    {
     "name": "stdout",
     "output_type": "stream",
     "text": [
      "mp-10226\n"
     ]
    },
    {
     "name": "stderr",
     "output_type": "stream",
     "text": [
      "Retrieving MaterialsDoc documents: 100%|██████████| 1/1 [00:00<00:00, 9177.91it/s]\n",
      "Retrieving SummaryDoc documents: 100%|██████████| 1/1 [00:00<00:00, 9446.63it/s]\n"
     ]
    },
    {
     "name": "stdout",
     "output_type": "stream",
     "text": [
      "mp-10246\n"
     ]
    },
    {
     "name": "stderr",
     "output_type": "stream",
     "text": [
      "Retrieving MaterialsDoc documents: 100%|██████████| 1/1 [00:00<00:00, 9642.08it/s]\n",
      "Retrieving SummaryDoc documents: 100%|██████████| 1/1 [00:00<00:00, 10058.28it/s]\n"
     ]
    },
    {
     "name": "stdout",
     "output_type": "stream",
     "text": [
      "mp-10250\n"
     ]
    },
    {
     "name": "stderr",
     "output_type": "stream",
     "text": [
      "Retrieving MaterialsDoc documents: 100%|██████████| 1/1 [00:00<00:00, 7612.17it/s]\n",
      "Retrieving SummaryDoc documents: 100%|██████████| 1/1 [00:00<00:00, 10010.27it/s]\n"
     ]
    },
    {
     "name": "stdout",
     "output_type": "stream",
     "text": [
      "mp-10281\n"
     ]
    },
    {
     "name": "stderr",
     "output_type": "stream",
     "text": [
      "Retrieving MaterialsDoc documents: 100%|██████████| 1/1 [00:00<00:00, 9446.63it/s]\n",
      "Retrieving SummaryDoc documents: 100%|██████████| 1/1 [00:00<00:00, 9425.40it/s]\n"
     ]
    },
    {
     "name": "stdout",
     "output_type": "stream",
     "text": [
      "mp-10289\n"
     ]
    },
    {
     "name": "stderr",
     "output_type": "stream",
     "text": [
      "Retrieving MaterialsDoc documents: 100%|██████████| 1/1 [00:00<00:00, 9218.25it/s]\n",
      "Retrieving SummaryDoc documents: 100%|██████████| 1/1 [00:00<00:00, 10131.17it/s]\n"
     ]
    },
    {
     "name": "stdout",
     "output_type": "stream",
     "text": [
      "mp-1029\n"
     ]
    },
    {
     "name": "stderr",
     "output_type": "stream",
     "text": [
      "Retrieving MaterialsDoc documents: 100%|██████████| 1/1 [00:00<00:00, 9642.08it/s]\n",
      "Retrieving SummaryDoc documents: 100%|██████████| 1/1 [00:00<00:00, 9320.68it/s]\n"
     ]
    },
    {
     "name": "stdout",
     "output_type": "stream",
     "text": [
      "mp-10322\n"
     ]
    },
    {
     "name": "stderr",
     "output_type": "stream",
     "text": [
      "Retrieving MaterialsDoc documents: 100%|██████████| 1/1 [00:00<00:00, 8756.38it/s]\n",
      "Retrieving SummaryDoc documents: 100%|██████████| 1/1 [00:00<00:00, 8811.56it/s]\n"
     ]
    },
    {
     "name": "stdout",
     "output_type": "stream",
     "text": [
      "mp-10336\n"
     ]
    },
    {
     "name": "stderr",
     "output_type": "stream",
     "text": [
      "Retrieving MaterialsDoc documents: 100%|██████████| 1/1 [00:00<00:00, 9467.95it/s]\n",
      "Retrieving SummaryDoc documents: 100%|██████████| 1/1 [00:00<00:00, 8422.30it/s]\n"
     ]
    },
    {
     "name": "stdout",
     "output_type": "stream",
     "text": [
      "mp-10341\n"
     ]
    },
    {
     "name": "stderr",
     "output_type": "stream",
     "text": [
      "Retrieving MaterialsDoc documents: 100%|██████████| 1/1 [00:00<00:00, 9664.29it/s]\n",
      "Retrieving SummaryDoc documents: 100%|██████████| 1/1 [00:00<00:00, 14122.24it/s]\n"
     ]
    },
    {
     "name": "stdout",
     "output_type": "stream",
     "text": [
      "mp-10378\n"
     ]
    },
    {
     "name": "stderr",
     "output_type": "stream",
     "text": [
      "Retrieving MaterialsDoc documents: 100%|██████████| 1/1 [00:00<00:00, 9664.29it/s]\n",
      "Retrieving SummaryDoc documents: 100%|██████████| 1/1 [00:00<00:00, 9489.38it/s]\n"
     ]
    },
    {
     "name": "stdout",
     "output_type": "stream",
     "text": [
      "mp-10381\n"
     ]
    },
    {
     "name": "stderr",
     "output_type": "stream",
     "text": [
      "Retrieving MaterialsDoc documents: 100%|██████████| 1/1 [00:00<00:00, 9467.95it/s]\n",
      "Retrieving SummaryDoc documents: 100%|██████████| 1/1 [00:00<00:00, 9467.95it/s]\n"
     ]
    },
    {
     "name": "stdout",
     "output_type": "stream",
     "text": [
      "mp-1039\n"
     ]
    },
    {
     "name": "stderr",
     "output_type": "stream",
     "text": [
      "Retrieving MaterialsDoc documents: 100%|██████████| 1/1 [00:00<00:00, 9279.43it/s]\n",
      "Retrieving SummaryDoc documents: 100%|██████████| 1/1 [00:00<00:00, 9137.92it/s]\n"
     ]
    },
    {
     "name": "stdout",
     "output_type": "stream",
     "text": [
      "mp-10408\n"
     ]
    },
    {
     "name": "stderr",
     "output_type": "stream",
     "text": [
      "Retrieving MaterialsDoc documents: 100%|██████████| 1/1 [00:00<00:00, 9731.56it/s]\n",
      "Retrieving SummaryDoc documents: 100%|██████████| 1/1 [00:00<00:00, 9845.78it/s]\n"
     ]
    },
    {
     "name": "stdout",
     "output_type": "stream",
     "text": [
      "mp-10417\n"
     ]
    },
    {
     "name": "stderr",
     "output_type": "stream",
     "text": [
      "Retrieving MaterialsDoc documents: 100%|██████████| 1/1 [00:00<00:00, 9799.78it/s]\n",
      "Retrieving SummaryDoc documents: 100%|██████████| 1/1 [00:00<00:00, 9510.89it/s]\n"
     ]
    },
    {
     "name": "stdout",
     "output_type": "stream",
     "text": [
      "mp-10418\n"
     ]
    },
    {
     "name": "stderr",
     "output_type": "stream",
     "text": [
      "Retrieving MaterialsDoc documents: 100%|██████████| 1/1 [00:00<00:00, 9597.95it/s]\n",
      "Retrieving SummaryDoc documents: 100%|██████████| 1/1 [00:00<00:00, 15947.92it/s]\n"
     ]
    },
    {
     "name": "stdout",
     "output_type": "stream",
     "text": [
      "mp-10474\n"
     ]
    },
    {
     "name": "stderr",
     "output_type": "stream",
     "text": [
      "Retrieving MaterialsDoc documents: 100%|██████████| 1/1 [00:00<00:00, 9576.04it/s]\n",
      "Retrieving SummaryDoc documents: 100%|██████████| 1/1 [00:00<00:00, 9279.43it/s]\n"
     ]
    },
    {
     "name": "stdout",
     "output_type": "stream",
     "text": [
      "mp-10481\n"
     ]
    },
    {
     "name": "stderr",
     "output_type": "stream",
     "text": [
      "Retrieving MaterialsDoc documents: 100%|██████████| 1/1 [00:00<00:00, 9446.63it/s]\n",
      "Retrieving SummaryDoc documents: 100%|██████████| 1/1 [00:00<00:00, 9362.29it/s]\n"
     ]
    },
    {
     "name": "stdout",
     "output_type": "stream",
     "text": [
      "mp-10485\n"
     ]
    },
    {
     "name": "stderr",
     "output_type": "stream",
     "text": [
      "Retrieving MaterialsDoc documents: 100%|██████████| 1/1 [00:00<00:00, 6955.73it/s]\n",
      "Retrieving SummaryDoc documents: 100%|██████████| 1/1 [00:00<00:00, 8577.31it/s]\n"
     ]
    },
    {
     "name": "stdout",
     "output_type": "stream",
     "text": [
      "mp-10492\n"
     ]
    },
    {
     "name": "stderr",
     "output_type": "stream",
     "text": [
      "Retrieving MaterialsDoc documents: 100%|██████████| 1/1 [00:00<00:00, 9510.89it/s]\n",
      "Retrieving SummaryDoc documents: 100%|██████████| 1/1 [00:00<00:00, 9218.25it/s]\n"
     ]
    },
    {
     "name": "stdout",
     "output_type": "stream",
     "text": [
      "mp-10547\n"
     ]
    },
    {
     "name": "stderr",
     "output_type": "stream",
     "text": [
      "Retrieving MaterialsDoc documents: 100%|██████████| 1/1 [00:00<00:00, 9664.29it/s]\n",
      "Retrieving SummaryDoc documents: 100%|██████████| 1/1 [00:00<00:00, 10305.42it/s]\n"
     ]
    },
    {
     "name": "stdout",
     "output_type": "stream",
     "text": [
      "mp-10550\n"
     ]
    },
    {
     "name": "stderr",
     "output_type": "stream",
     "text": [
      "Retrieving MaterialsDoc documents: 100%|██████████| 1/1 [00:00<00:00, 9799.78it/s]\n",
      "Retrieving SummaryDoc documents: 100%|██████████| 1/1 [00:00<00:00, 9238.56it/s]\n"
     ]
    },
    {
     "name": "stdout",
     "output_type": "stream",
     "text": [
      "mp-10572\n"
     ]
    },
    {
     "name": "stderr",
     "output_type": "stream",
     "text": [
      "Retrieving MaterialsDoc documents: 100%|██████████| 1/1 [00:00<00:00, 13231.24it/s]\n",
      "Retrieving SummaryDoc documents: 100%|██████████| 1/1 [00:00<00:00, 9915.61it/s]\n"
     ]
    },
    {
     "name": "stdout",
     "output_type": "stream",
     "text": [
      "mp-10614\n"
     ]
    },
    {
     "name": "stderr",
     "output_type": "stream",
     "text": [
      "Retrieving MaterialsDoc documents: 100%|██████████| 1/1 [00:00<00:00, 11915.64it/s]\n",
      "Retrieving SummaryDoc documents: 100%|██████████| 1/1 [00:00<00:00, 9137.92it/s]\n"
     ]
    },
    {
     "name": "stdout",
     "output_type": "stream",
     "text": [
      "mp-10615\n"
     ]
    },
    {
     "name": "stderr",
     "output_type": "stream",
     "text": [
      "Retrieving MaterialsDoc documents: 100%|██████████| 1/1 [00:00<00:00, 9597.95it/s]\n",
      "Retrieving SummaryDoc documents: 100%|██████████| 1/1 [00:00<00:00, 9664.29it/s]\n"
     ]
    },
    {
     "name": "stdout",
     "output_type": "stream",
     "text": [
      "mp-10616\n"
     ]
    },
    {
     "name": "stderr",
     "output_type": "stream",
     "text": [
      "Retrieving MaterialsDoc documents: 100%|██████████| 1/1 [00:00<00:00, 9383.23it/s]\n",
      "Retrieving SummaryDoc documents: 100%|██████████| 1/1 [00:00<00:00, 9118.05it/s]\n"
     ]
    },
    {
     "name": "stdout",
     "output_type": "stream",
     "text": [
      "mp-10627\n"
     ]
    },
    {
     "name": "stderr",
     "output_type": "stream",
     "text": [
      "Retrieving MaterialsDoc documents: 100%|██████████| 1/1 [00:00<00:00, 9362.29it/s]\n",
      "Retrieving SummaryDoc documents: 100%|██████████| 1/1 [00:00<00:00, 9279.43it/s]\n"
     ]
    },
    {
     "name": "stdout",
     "output_type": "stream",
     "text": [
      "mp-10653\n"
     ]
    },
    {
     "name": "stderr",
     "output_type": "stream",
     "text": [
      "Retrieving MaterialsDoc documents: 100%|██████████| 1/1 [00:00<00:00, 10034.22it/s]\n",
      "Retrieving SummaryDoc documents: 100%|██████████| 1/1 [00:00<00:00, 9776.93it/s]\n"
     ]
    },
    {
     "name": "stdout",
     "output_type": "stream",
     "text": [
      "mp-10680\n"
     ]
    },
    {
     "name": "stderr",
     "output_type": "stream",
     "text": [
      "Retrieving MaterialsDoc documents: 100%|██████████| 1/1 [00:00<00:00, 9754.20it/s]\n",
      "Retrieving SummaryDoc documents: 100%|██████████| 1/1 [00:00<00:00, 9642.08it/s]\n"
     ]
    },
    {
     "name": "stdout",
     "output_type": "stream",
     "text": [
      "mp-10694\n"
     ]
    },
    {
     "name": "stderr",
     "output_type": "stream",
     "text": [
      "Retrieving MaterialsDoc documents: 100%|██████████| 1/1 [00:00<00:00, 10255.02it/s]\n",
      "Retrieving SummaryDoc documents: 100%|██████████| 1/1 [00:00<00:00, 9845.78it/s]\n"
     ]
    },
    {
     "name": "stdout",
     "output_type": "stream",
     "text": [
      "mp-10695\n"
     ]
    },
    {
     "name": "stderr",
     "output_type": "stream",
     "text": [
      "Retrieving MaterialsDoc documents: 100%|██████████| 1/1 [00:00<00:00, 10205.12it/s]\n",
      "Retrieving SummaryDoc documents: 100%|██████████| 1/1 [00:00<00:00, 8756.38it/s]\n"
     ]
    },
    {
     "name": "stdout",
     "output_type": "stream",
     "text": [
      "mp-1070\n"
     ]
    },
    {
     "name": "stderr",
     "output_type": "stream",
     "text": [
      "Retrieving MaterialsDoc documents: 100%|██████████| 1/1 [00:00<00:00, 9709.04it/s]\n",
      "Retrieving SummaryDoc documents: 100%|██████████| 1/1 [00:00<00:00, 9915.61it/s]\n"
     ]
    },
    {
     "name": "stdout",
     "output_type": "stream",
     "text": [
      "mp-10748\n"
     ]
    },
    {
     "name": "stderr",
     "output_type": "stream",
     "text": [
      "Retrieving MaterialsDoc documents: 100%|██████████| 1/1 [00:00<00:00, 9619.96it/s]\n",
      "Retrieving SummaryDoc documents: 100%|██████████| 1/1 [00:00<00:00, 9218.25it/s]\n"
     ]
    },
    {
     "name": "stdout",
     "output_type": "stream",
     "text": [
      "mp-10760\n"
     ]
    },
    {
     "name": "stderr",
     "output_type": "stream",
     "text": [
      "Retrieving MaterialsDoc documents: 100%|██████████| 1/1 [00:00<00:00, 9619.96it/s]\n",
      "Retrieving SummaryDoc documents: 100%|██████████| 1/1 [00:00<00:00, 9597.95it/s]\n"
     ]
    },
    {
     "name": "stdout",
     "output_type": "stream",
     "text": [
      "mp-10776\n"
     ]
    },
    {
     "name": "stderr",
     "output_type": "stream",
     "text": [
      "Retrieving MaterialsDoc documents: 100%|██████████| 1/1 [00:00<00:00, 9986.44it/s]\n",
      "Retrieving SummaryDoc documents: 100%|██████████| 1/1 [00:00<00:00, 10131.17it/s]\n"
     ]
    },
    {
     "name": "stdout",
     "output_type": "stream",
     "text": [
      "mp-1087\n"
     ]
    },
    {
     "name": "stderr",
     "output_type": "stream",
     "text": [
      "Retrieving MaterialsDoc documents: 100%|██████████| 1/1 [00:00<00:00, 9686.61it/s]\n",
      "Retrieving SummaryDoc documents: 100%|██████████| 1/1 [00:00<00:00, 9489.38it/s]\n"
     ]
    },
    {
     "name": "stdout",
     "output_type": "stream",
     "text": [
      "mp-10918\n"
     ]
    },
    {
     "name": "stderr",
     "output_type": "stream",
     "text": [
      "Retrieving MaterialsDoc documents: 100%|██████████| 1/1 [00:00<00:00, 10034.22it/s]\n",
      "Retrieving SummaryDoc documents: 100%|██████████| 1/1 [00:00<00:00, 9868.95it/s]\n"
     ]
    },
    {
     "name": "stdout",
     "output_type": "stream",
     "text": [
      "mp-10919\n"
     ]
    },
    {
     "name": "stderr",
     "output_type": "stream",
     "text": [
      "Retrieving MaterialsDoc documents: 100%|██████████| 1/1 [00:00<00:00, 14873.42it/s]\n",
      "Retrieving SummaryDoc documents: 100%|██████████| 1/1 [00:00<00:00, 9554.22it/s]\n"
     ]
    },
    {
     "name": "stdout",
     "output_type": "stream",
     "text": [
      "mp-10955\n"
     ]
    },
    {
     "name": "stderr",
     "output_type": "stream",
     "text": [
      "Retrieving MaterialsDoc documents: 100%|██████████| 1/1 [00:00<00:00, 9731.56it/s]\n",
      "Retrieving SummaryDoc documents: 100%|██████████| 1/1 [00:00<00:00, 9532.51it/s]\n"
     ]
    },
    {
     "name": "stdout",
     "output_type": "stream",
     "text": [
      "mp-10969\n"
     ]
    },
    {
     "name": "stderr",
     "output_type": "stream",
     "text": [
      "Retrieving MaterialsDoc documents: 100%|██████████| 1/1 [00:00<00:00, 9799.78it/s]\n",
      "Retrieving SummaryDoc documents: 100%|██████████| 1/1 [00:00<00:00, 9799.78it/s]\n"
     ]
    },
    {
     "name": "stdout",
     "output_type": "stream",
     "text": [
      "mp-10985\n"
     ]
    },
    {
     "name": "stderr",
     "output_type": "stream",
     "text": [
      "Retrieving MaterialsDoc documents: 100%|██████████| 1/1 [00:00<00:00, 10058.28it/s]\n",
      "Retrieving SummaryDoc documents: 100%|██████████| 1/1 [00:00<00:00, 9489.38it/s]\n"
     ]
    },
    {
     "name": "stdout",
     "output_type": "stream",
     "text": [
      "mp-11019\n"
     ]
    },
    {
     "name": "stderr",
     "output_type": "stream",
     "text": [
      "Retrieving MaterialsDoc documents: 100%|██████████| 1/1 [00:00<00:00, 9664.29it/s]\n",
      "Retrieving SummaryDoc documents: 100%|██████████| 1/1 [00:00<00:00, 9467.95it/s]\n"
     ]
    },
    {
     "name": "stdout",
     "output_type": "stream",
     "text": [
      "mp-11020\n"
     ]
    },
    {
     "name": "stderr",
     "output_type": "stream",
     "text": [
      "Retrieving MaterialsDoc documents: 100%|██████████| 1/1 [00:00<00:00, 9279.43it/s]\n",
      "Retrieving SummaryDoc documents: 100%|██████████| 1/1 [00:00<00:00, 9642.08it/s]\n"
     ]
    },
    {
     "name": "stdout",
     "output_type": "stream",
     "text": [
      "mp-11022\n"
     ]
    },
    {
     "name": "stderr",
     "output_type": "stream",
     "text": [
      "Retrieving MaterialsDoc documents: 100%|██████████| 1/1 [00:00<00:00, 9664.29it/s]\n",
      "Retrieving SummaryDoc documents: 100%|██████████| 1/1 [00:00<00:00, 9642.08it/s]\n"
     ]
    },
    {
     "name": "stdout",
     "output_type": "stream",
     "text": [
      "mp-1105\n"
     ]
    },
    {
     "name": "stderr",
     "output_type": "stream",
     "text": [
      "Retrieving MaterialsDoc documents: 100%|██████████| 1/1 [00:00<00:00, 10433.59it/s]\n",
      "Retrieving SummaryDoc documents: 100%|██████████| 1/1 [00:00<00:00, 9532.51it/s]\n"
     ]
    },
    {
     "name": "stdout",
     "output_type": "stream",
     "text": [
      "mp-1106\n"
     ]
    },
    {
     "name": "stderr",
     "output_type": "stream",
     "text": [
      "Retrieving MaterialsDoc documents: 100%|██████████| 1/1 [00:00<00:00, 9554.22it/s]\n",
      "Retrieving SummaryDoc documents: 100%|██████████| 1/1 [00:00<00:00, 9576.04it/s]\n"
     ]
    },
    {
     "name": "stdout",
     "output_type": "stream",
     "text": [
      "mp-11123\n"
     ]
    },
    {
     "name": "stderr",
     "output_type": "stream",
     "text": [
      "Retrieving MaterialsDoc documents: 100%|██████████| 1/1 [00:00<00:00, 9822.73it/s]\n",
      "Retrieving SummaryDoc documents: 100%|██████████| 1/1 [00:00<00:00, 13400.33it/s]\n"
     ]
    },
    {
     "name": "stdout",
     "output_type": "stream",
     "text": [
      "mp-11175\n"
     ]
    },
    {
     "name": "stderr",
     "output_type": "stream",
     "text": [
      "Retrieving MaterialsDoc documents: 100%|██████████| 1/1 [00:00<00:00, 9709.04it/s]\n",
      "Retrieving SummaryDoc documents: 100%|██████████| 1/1 [00:00<00:00, 9320.68it/s]\n"
     ]
    },
    {
     "name": "stdout",
     "output_type": "stream",
     "text": [
      "mp-11265\n"
     ]
    },
    {
     "name": "stderr",
     "output_type": "stream",
     "text": [
      "Retrieving MaterialsDoc documents: 100%|██████████| 1/1 [00:00<00:00, 9892.23it/s]\n",
      "Retrieving SummaryDoc documents: 100%|██████████| 1/1 [00:00<00:00, 7358.43it/s]\n"
     ]
    },
    {
     "name": "stdout",
     "output_type": "stream",
     "text": [
      "mp-11327\n"
     ]
    },
    {
     "name": "stderr",
     "output_type": "stream",
     "text": [
      "Retrieving MaterialsDoc documents: 100%|██████████| 1/1 [00:00<00:00, 9576.04it/s]\n",
      "Retrieving SummaryDoc documents: 100%|██████████| 1/1 [00:00<00:00, 9157.87it/s]\n"
     ]
    },
    {
     "name": "stdout",
     "output_type": "stream",
     "text": [
      "mp-1138\n"
     ]
    },
    {
     "name": "stderr",
     "output_type": "stream",
     "text": [
      "Retrieving MaterialsDoc documents: 100%|██████████| 1/1 [00:00<00:00, 9446.63it/s]\n",
      "Retrieving SummaryDoc documents: 100%|██████████| 1/1 [00:00<00:00, 8962.19it/s]\n"
     ]
    },
    {
     "name": "stdout",
     "output_type": "stream",
     "text": [
      "mp-1143\n"
     ]
    },
    {
     "name": "stderr",
     "output_type": "stream",
     "text": [
      "Retrieving MaterialsDoc documents: 100%|██████████| 1/1 [00:00<00:00, 9892.23it/s]\n",
      "Retrieving SummaryDoc documents: 100%|██████████| 1/1 [00:00<00:00, 9383.23it/s]\n"
     ]
    },
    {
     "name": "stdout",
     "output_type": "stream",
     "text": [
      "mp-11520\n"
     ]
    },
    {
     "name": "stderr",
     "output_type": "stream",
     "text": [
      "Retrieving MaterialsDoc documents: 100%|██████████| 1/1 [00:00<00:00, 9576.04it/s]\n",
      "Retrieving SummaryDoc documents: 100%|██████████| 1/1 [00:00<00:00, 9425.40it/s]\n"
     ]
    },
    {
     "name": "stdout",
     "output_type": "stream",
     "text": [
      "mp-1153\n"
     ]
    },
    {
     "name": "stderr",
     "output_type": "stream",
     "text": [
      "Retrieving MaterialsDoc documents: 100%|██████████| 1/1 [00:00<00:00, 9218.25it/s]\n",
      "Retrieving SummaryDoc documents: 100%|██████████| 1/1 [00:00<00:00, 9799.78it/s]\n"
     ]
    },
    {
     "name": "stdout",
     "output_type": "stream",
     "text": [
      "mp-11583\n"
     ]
    },
    {
     "name": "stderr",
     "output_type": "stream",
     "text": [
      "Retrieving MaterialsDoc documents: 100%|██████████| 1/1 [00:00<00:00, 9776.93it/s]\n",
      "Retrieving SummaryDoc documents: 100%|██████████| 1/1 [00:00<00:00, 9404.27it/s]\n"
     ]
    },
    {
     "name": "stdout",
     "output_type": "stream",
     "text": [
      "mp-11659\n"
     ]
    },
    {
     "name": "stderr",
     "output_type": "stream",
     "text": [
      "Retrieving MaterialsDoc documents: 100%|██████████| 1/1 [00:00<00:00, 8848.74it/s]\n",
      "Retrieving SummaryDoc documents: 100%|██████████| 1/1 [00:00<00:00, 9642.08it/s]\n"
     ]
    },
    {
     "name": "stdout",
     "output_type": "stream",
     "text": [
      "mp-11674\n"
     ]
    },
    {
     "name": "stderr",
     "output_type": "stream",
     "text": [
      "Retrieving MaterialsDoc documents: 100%|██████████| 1/1 [00:00<00:00, 9731.56it/s]\n",
      "Retrieving SummaryDoc documents: 100%|██████████| 1/1 [00:00<00:00, 10230.01it/s]\n"
     ]
    },
    {
     "name": "stdout",
     "output_type": "stream",
     "text": [
      "mp-11695\n"
     ]
    },
    {
     "name": "stderr",
     "output_type": "stream",
     "text": [
      "Retrieving MaterialsDoc documents: 100%|██████████| 1/1 [00:00<00:00, 9078.58it/s]\n",
      "Retrieving SummaryDoc documents: 100%|██████████| 1/1 [00:00<00:00, 8439.24it/s]\n"
     ]
    },
    {
     "name": "stdout",
     "output_type": "stream",
     "text": [
      "mp-11703\n"
     ]
    },
    {
     "name": "stderr",
     "output_type": "stream",
     "text": [
      "Retrieving MaterialsDoc documents: 100%|██████████| 1/1 [00:00<00:00, 5482.75it/s]\n",
      "Retrieving SummaryDoc documents: 100%|██████████| 1/1 [00:00<00:00, 8612.53it/s]\n"
     ]
    },
    {
     "name": "stdout",
     "output_type": "stream",
     "text": [
      "mp-11713\n"
     ]
    },
    {
     "name": "stderr",
     "output_type": "stream",
     "text": [
      "Retrieving MaterialsDoc documents: 100%|██████████| 1/1 [00:00<00:00, 9238.56it/s]\n",
      "Retrieving SummaryDoc documents: 100%|██████████| 1/1 [00:00<00:00, 10131.17it/s]\n"
     ]
    },
    {
     "name": "stdout",
     "output_type": "stream",
     "text": [
      "mp-11714\n"
     ]
    },
    {
     "name": "stderr",
     "output_type": "stream",
     "text": [
      "Retrieving MaterialsDoc documents: 100%|██████████| 1/1 [00:00<00:00, 9642.08it/s]\n",
      "Retrieving SummaryDoc documents: 100%|██████████| 1/1 [00:00<00:00, 8648.05it/s]\n"
     ]
    },
    {
     "name": "stdout",
     "output_type": "stream",
     "text": [
      "mp-11715\n"
     ]
    },
    {
     "name": "stderr",
     "output_type": "stream",
     "text": [
      "Retrieving MaterialsDoc documents: 100%|██████████| 1/1 [00:00<00:00, 9467.95it/s]\n",
      "Retrieving SummaryDoc documents: 100%|██████████| 1/1 [00:00<00:00, 8943.08it/s]\n"
     ]
    },
    {
     "name": "stdout",
     "output_type": "stream",
     "text": [
      "mp-11718\n"
     ]
    },
    {
     "name": "stderr",
     "output_type": "stream",
     "text": [
      "Retrieving MaterialsDoc documents: 100%|██████████| 1/1 [00:00<00:00, 9799.78it/s]\n",
      "Retrieving SummaryDoc documents: 100%|██████████| 1/1 [00:00<00:00, 10407.70it/s]\n"
     ]
    },
    {
     "name": "stdout",
     "output_type": "stream",
     "text": [
      "mp-11719\n"
     ]
    },
    {
     "name": "stderr",
     "output_type": "stream",
     "text": [
      "Retrieving MaterialsDoc documents: 100%|██████████| 1/1 [00:00<00:00, 9664.29it/s]\n",
      "Retrieving SummaryDoc documents: 100%|██████████| 1/1 [00:00<00:00, 8719.97it/s]\n"
     ]
    },
    {
     "name": "stdout",
     "output_type": "stream",
     "text": [
      "mp-11739\n"
     ]
    },
    {
     "name": "stderr",
     "output_type": "stream",
     "text": [
      "Retrieving MaterialsDoc documents: 100%|██████████| 1/1 [00:00<00:00, 9597.95it/s]\n",
      "Retrieving SummaryDoc documents: 100%|██████████| 1/1 [00:00<00:00, 10356.31it/s]\n"
     ]
    },
    {
     "name": "stdout",
     "output_type": "stream",
     "text": [
      "mp-11824\n"
     ]
    },
    {
     "name": "stderr",
     "output_type": "stream",
     "text": [
      "Retrieving MaterialsDoc documents: 100%|██████████| 1/1 [00:00<00:00, 9845.78it/s]\n",
      "Retrieving SummaryDoc documents: 100%|██████████| 1/1 [00:00<00:00, 8405.42it/s]\n"
     ]
    },
    {
     "name": "stdout",
     "output_type": "stream",
     "text": [
      "mp-11869\n"
     ]
    },
    {
     "name": "stderr",
     "output_type": "stream",
     "text": [
      "Retrieving MaterialsDoc documents: 100%|██████████| 1/1 [00:00<00:00, 9300.01it/s]\n",
      "Retrieving SummaryDoc documents: 100%|██████████| 1/1 [00:00<00:00, 10131.17it/s]\n"
     ]
    },
    {
     "name": "stdout",
     "output_type": "stream",
     "text": [
      "mp-1190\n"
     ]
    },
    {
     "name": "stderr",
     "output_type": "stream",
     "text": [
      "Retrieving MaterialsDoc documents: 100%|██████████| 1/1 [00:00<00:00, 15033.35it/s]\n",
      "Retrieving SummaryDoc documents: 100%|██████████| 1/1 [00:00<00:00, 11155.06it/s]\n"
     ]
    },
    {
     "name": "stdout",
     "output_type": "stream",
     "text": [
      "mp-11917\n"
     ]
    },
    {
     "name": "stderr",
     "output_type": "stream",
     "text": [
      "Retrieving MaterialsDoc documents: 100%|██████████| 1/1 [00:00<00:00, 9118.05it/s]\n",
      "Retrieving SummaryDoc documents: 100%|██████████| 1/1 [00:00<00:00, 8594.89it/s]\n"
     ]
    },
    {
     "name": "stdout",
     "output_type": "stream",
     "text": [
      "mp-11918\n"
     ]
    },
    {
     "name": "stderr",
     "output_type": "stream",
     "text": [
      "Retrieving MaterialsDoc documents: 100%|██████████| 1/1 [00:00<00:00, 9020.01it/s]\n",
      "Retrieving SummaryDoc documents: 100%|██████████| 1/1 [00:00<00:00, 8630.26it/s]\n"
     ]
    },
    {
     "name": "stdout",
     "output_type": "stream",
     "text": [
      "mp-11919\n"
     ]
    },
    {
     "name": "stderr",
     "output_type": "stream",
     "text": [
      "Retrieving MaterialsDoc documents: 100%|██████████| 1/1 [00:00<00:00, 9642.08it/s]\n",
      "Retrieving SummaryDoc documents: 100%|██████████| 1/1 [00:00<00:00, 9619.96it/s]\n"
     ]
    },
    {
     "name": "stdout",
     "output_type": "stream",
     "text": [
      "mp-12015\n"
     ]
    },
    {
     "name": "stderr",
     "output_type": "stream",
     "text": [
      "Retrieving MaterialsDoc documents: 100%|██████████| 1/1 [00:00<00:00, 9799.78it/s]\n",
      "Retrieving SummaryDoc documents: 100%|██████████| 1/1 [00:00<00:00, 8886.24it/s]\n"
     ]
    },
    {
     "name": "stdout",
     "output_type": "stream",
     "text": [
      "mp-12016\n"
     ]
    },
    {
     "name": "stderr",
     "output_type": "stream",
     "text": [
      "Retrieving MaterialsDoc documents: 100%|██████████| 1/1 [00:00<00:00, 9157.87it/s]\n",
      "Retrieving SummaryDoc documents: 100%|██████████| 1/1 [00:00<00:00, 8612.53it/s]\n"
     ]
    },
    {
     "name": "stdout",
     "output_type": "stream",
     "text": [
      "mp-12317\n"
     ]
    },
    {
     "name": "stderr",
     "output_type": "stream",
     "text": [
      "Retrieving MaterialsDoc documents: 100%|██████████| 1/1 [00:00<00:00, 9238.56it/s]\n",
      "Retrieving SummaryDoc documents: 100%|██████████| 1/1 [00:00<00:00, 8594.89it/s]\n"
     ]
    },
    {
     "name": "stdout",
     "output_type": "stream",
     "text": [
      "mp-12385\n"
     ]
    },
    {
     "name": "stderr",
     "output_type": "stream",
     "text": [
      "Retrieving MaterialsDoc documents: 100%|██████████| 1/1 [00:00<00:00, 9489.38it/s]\n",
      "Retrieving SummaryDoc documents: 100%|██████████| 1/1 [00:00<00:00, 9799.78it/s]\n"
     ]
    },
    {
     "name": "stdout",
     "output_type": "stream",
     "text": [
      "mp-12418\n"
     ]
    },
    {
     "name": "stderr",
     "output_type": "stream",
     "text": [
      "Retrieving MaterialsDoc documents: 100%|██████████| 1/1 [00:00<00:00, 9799.78it/s]\n",
      "Retrieving SummaryDoc documents: 100%|██████████| 1/1 [00:00<00:00, 8793.09it/s]\n"
     ]
    },
    {
     "name": "stdout",
     "output_type": "stream",
     "text": [
      "mp-12427\n"
     ]
    },
    {
     "name": "stderr",
     "output_type": "stream",
     "text": [
      "Retrieving MaterialsDoc documents: 100%|██████████| 1/1 [00:00<00:00, 6605.20it/s]\n",
      "Retrieving SummaryDoc documents: 100%|██████████| 1/1 [00:00<00:00, 9986.44it/s]\n"
     ]
    },
    {
     "name": "stdout",
     "output_type": "stream",
     "text": [
      "mp-1243\n"
     ]
    },
    {
     "name": "stderr",
     "output_type": "stream",
     "text": [
      "Retrieving MaterialsDoc documents: 100%|██████████| 1/1 [00:00<00:00, 13107.20it/s]\n",
      "Retrieving SummaryDoc documents: 100%|██████████| 1/1 [00:00<00:00, 9258.95it/s]\n"
     ]
    },
    {
     "name": "stdout",
     "output_type": "stream",
     "text": [
      "mp-12442\n"
     ]
    },
    {
     "name": "stderr",
     "output_type": "stream",
     "text": [
      "Retrieving MaterialsDoc documents: 100%|██████████| 1/1 [00:00<00:00, 9425.40it/s]\n",
      "Retrieving SummaryDoc documents: 100%|██████████| 1/1 [00:00<00:00, 7489.83it/s]\n"
     ]
    },
    {
     "name": "stdout",
     "output_type": "stream",
     "text": [
      "mp-12444\n"
     ]
    },
    {
     "name": "stderr",
     "output_type": "stream",
     "text": [
      "Retrieving MaterialsDoc documents: 100%|██████████| 1/1 [00:00<00:00, 7724.32it/s]\n",
      "Retrieving SummaryDoc documents: 100%|██████████| 1/1 [00:00<00:00, 10305.42it/s]\n"
     ]
    },
    {
     "name": "stdout",
     "output_type": "stream",
     "text": [
      "mp-1247\n"
     ]
    },
    {
     "name": "stderr",
     "output_type": "stream",
     "text": [
      "Retrieving MaterialsDoc documents: 100%|██████████| 1/1 [00:00<00:00, 9776.93it/s]\n",
      "Retrieving SummaryDoc documents: 100%|██████████| 1/1 [00:00<00:00, 9300.01it/s]\n"
     ]
    },
    {
     "name": "stdout",
     "output_type": "stream",
     "text": [
      "mp-1249\n"
     ]
    },
    {
     "name": "stderr",
     "output_type": "stream",
     "text": [
      "Retrieving MaterialsDoc documents: 100%|██████████| 1/1 [00:00<00:00, 10034.22it/s]\n",
      "Retrieving SummaryDoc documents: 100%|██████████| 1/1 [00:00<00:00, 9300.01it/s]\n"
     ]
    },
    {
     "name": "stdout",
     "output_type": "stream",
     "text": [
      "mp-12491\n"
     ]
    },
    {
     "name": "stderr",
     "output_type": "stream",
     "text": [
      "Retrieving MaterialsDoc documents: 100%|██████████| 1/1 [00:00<00:00, 9576.04it/s]\n",
      "Retrieving SummaryDoc documents: 100%|██████████| 1/1 [00:00<00:00, 8490.49it/s]\n"
     ]
    },
    {
     "name": "stdout",
     "output_type": "stream",
     "text": [
      "mp-12509\n"
     ]
    },
    {
     "name": "stderr",
     "output_type": "stream",
     "text": [
      "Retrieving MaterialsDoc documents: 100%|██████████| 1/1 [00:00<00:00, 9868.95it/s]\n",
      "Retrieving SummaryDoc documents: 100%|██████████| 1/1 [00:00<00:00, 9731.56it/s]\n"
     ]
    },
    {
     "name": "stdout",
     "output_type": "stream",
     "text": [
      "mp-12525\n"
     ]
    },
    {
     "name": "stderr",
     "output_type": "stream",
     "text": [
      "Retrieving MaterialsDoc documents: 100%|██████████| 1/1 [00:00<00:00, 7182.03it/s]\n",
      "Retrieving SummaryDoc documents: 100%|██████████| 1/1 [00:00<00:00, 9597.95it/s]\n"
     ]
    },
    {
     "name": "stdout",
     "output_type": "stream",
     "text": [
      "mp-1253\n"
     ]
    },
    {
     "name": "stderr",
     "output_type": "stream",
     "text": [
      "Retrieving MaterialsDoc documents: 100%|██████████| 1/1 [00:00<00:00, 8525.01it/s]\n",
      "Retrieving SummaryDoc documents: 100%|██████████| 1/1 [00:00<00:00, 9619.96it/s]\n"
     ]
    },
    {
     "name": "stdout",
     "output_type": "stream",
     "text": [
      "mp-12532\n"
     ]
    },
    {
     "name": "stderr",
     "output_type": "stream",
     "text": [
      "Retrieving MaterialsDoc documents: 100%|██████████| 1/1 [00:00<00:00, 13486.51it/s]\n",
      "Retrieving SummaryDoc documents: 100%|██████████| 1/1 [00:00<00:00, 9020.01it/s]\n"
     ]
    },
    {
     "name": "stdout",
     "output_type": "stream",
     "text": [
      "mp-12535\n"
     ]
    },
    {
     "name": "stderr",
     "output_type": "stream",
     "text": [
      "Retrieving MaterialsDoc documents: 100%|██████████| 1/1 [00:00<00:00, 16131.94it/s]\n",
      "Retrieving SummaryDoc documents: 100%|██████████| 1/1 [00:00<00:00, 9320.68it/s]\n"
     ]
    },
    {
     "name": "stdout",
     "output_type": "stream",
     "text": [
      "mp-12558\n"
     ]
    },
    {
     "name": "stderr",
     "output_type": "stream",
     "text": [
      "Retrieving MaterialsDoc documents: 100%|██████████| 1/1 [00:00<00:00, 9300.01it/s]\n",
      "Retrieving SummaryDoc documents: 100%|██████████| 1/1 [00:00<00:00, 9510.89it/s]\n"
     ]
    },
    {
     "name": "stdout",
     "output_type": "stream",
     "text": [
      "mp-12622\n"
     ]
    },
    {
     "name": "stderr",
     "output_type": "stream",
     "text": [
      "Retrieving MaterialsDoc documents: 100%|██████████| 1/1 [00:00<00:00, 9218.25it/s]\n",
      "Retrieving SummaryDoc documents: 100%|██████████| 1/1 [00:00<00:00, 9892.23it/s]\n"
     ]
    },
    {
     "name": "stdout",
     "output_type": "stream",
     "text": [
      "mp-12623\n"
     ]
    },
    {
     "name": "stderr",
     "output_type": "stream",
     "text": [
      "Retrieving MaterialsDoc documents: 100%|██████████| 1/1 [00:00<00:00, 14315.03it/s]\n",
      "Retrieving SummaryDoc documents: 100%|██████████| 1/1 [00:00<00:00, 8305.55it/s]\n"
     ]
    },
    {
     "name": "stdout",
     "output_type": "stream",
     "text": [
      "mp-1265\n"
     ]
    },
    {
     "name": "stderr",
     "output_type": "stream",
     "text": [
      "Retrieving MaterialsDoc documents: 100%|██████████| 1/1 [00:00<00:00, 9597.95it/s]\n",
      "Retrieving SummaryDoc documents: 100%|██████████| 1/1 [00:00<00:00, 9554.22it/s]\n"
     ]
    },
    {
     "name": "stdout",
     "output_type": "stream",
     "text": [
      "mp-1266\n"
     ]
    },
    {
     "name": "stderr",
     "output_type": "stream",
     "text": [
      "Retrieving MaterialsDoc documents: 100%|██████████| 1/1 [00:00<00:00, 9218.25it/s]\n",
      "Retrieving SummaryDoc documents: 100%|██████████| 1/1 [00:00<00:00, 14074.85it/s]\n"
     ]
    },
    {
     "name": "stdout",
     "output_type": "stream",
     "text": [
      "mp-12779\n"
     ]
    },
    {
     "name": "stderr",
     "output_type": "stream",
     "text": [
      "Retrieving MaterialsDoc documents: 100%|██████████| 1/1 [00:00<00:00, 9686.61it/s]\n",
      "Retrieving SummaryDoc documents: 100%|██████████| 1/1 [00:00<00:00, 9664.29it/s]\n"
     ]
    },
    {
     "name": "stdout",
     "output_type": "stream",
     "text": [
      "mp-12814\n"
     ]
    },
    {
     "name": "stderr",
     "output_type": "stream",
     "text": [
      "Retrieving MaterialsDoc documents: 100%|██████████| 1/1 [00:00<00:00, 9300.01it/s]\n",
      "Retrieving SummaryDoc documents: 100%|██████████| 1/1 [00:00<00:00, 8559.80it/s]\n"
     ]
    },
    {
     "name": "stdout",
     "output_type": "stream",
     "text": [
      "mp-1285\n"
     ]
    },
    {
     "name": "stderr",
     "output_type": "stream",
     "text": [
      "Retrieving MaterialsDoc documents: 100%|██████████| 1/1 [00:00<00:00, 9731.56it/s]\n",
      "Retrieving SummaryDoc documents: 100%|██████████| 1/1 [00:00<00:00, 9619.96it/s]\n"
     ]
    },
    {
     "name": "stdout",
     "output_type": "stream",
     "text": [
      "mp-1287\n"
     ]
    },
    {
     "name": "stderr",
     "output_type": "stream",
     "text": [
      "Retrieving MaterialsDoc documents: 100%|██████████| 1/1 [00:00<00:00, 14169.95it/s]\n",
      "Retrieving SummaryDoc documents: 100%|██████████| 1/1 [00:00<00:00, 13842.59it/s]\n"
     ]
    },
    {
     "name": "stdout",
     "output_type": "stream",
     "text": [
      "mp-12885\n"
     ]
    },
    {
     "name": "stderr",
     "output_type": "stream",
     "text": [
      "Retrieving MaterialsDoc documents: 100%|██████████| 1/1 [00:00<00:00, 9868.95it/s]\n",
      "Retrieving SummaryDoc documents: 100%|██████████| 1/1 [00:00<00:00, 9467.95it/s]\n"
     ]
    },
    {
     "name": "stdout",
     "output_type": "stream",
     "text": [
      "mp-12894\n"
     ]
    },
    {
     "name": "stderr",
     "output_type": "stream",
     "text": [
      "Retrieving MaterialsDoc documents: 100%|██████████| 1/1 [00:00<00:00, 9177.91it/s]\n",
      "Retrieving SummaryDoc documents: 100%|██████████| 1/1 [00:00<00:00, 8811.56it/s]\n"
     ]
    },
    {
     "name": "stdout",
     "output_type": "stream",
     "text": [
      "mp-12903\n"
     ]
    },
    {
     "name": "stderr",
     "output_type": "stream",
     "text": [
      "Retrieving MaterialsDoc documents: 100%|██████████| 1/1 [00:00<00:00, 9576.04it/s]\n",
      "Retrieving SummaryDoc documents: 100%|██████████| 1/1 [00:00<00:00, 9868.95it/s]\n"
     ]
    },
    {
     "name": "stdout",
     "output_type": "stream",
     "text": [
      "mp-12908\n"
     ]
    },
    {
     "name": "stderr",
     "output_type": "stream",
     "text": [
      "Retrieving MaterialsDoc documents: 100%|██████████| 1/1 [00:00<00:00, 9845.78it/s]\n",
      "Retrieving SummaryDoc documents: 100%|██████████| 1/1 [00:00<00:00, 8473.34it/s]\n"
     ]
    },
    {
     "name": "stdout",
     "output_type": "stream",
     "text": [
      "mp-12927\n"
     ]
    },
    {
     "name": "stderr",
     "output_type": "stream",
     "text": [
      "Retrieving MaterialsDoc documents: 100%|██████████| 1/1 [00:00<00:00, 9058.97it/s]\n",
      "Retrieving SummaryDoc documents: 100%|██████████| 1/1 [00:00<00:00, 9300.01it/s]\n"
     ]
    },
    {
     "name": "stdout",
     "output_type": "stream",
     "text": [
      "mp-12954\n"
     ]
    },
    {
     "name": "stderr",
     "output_type": "stream",
     "text": [
      "Retrieving MaterialsDoc documents: 100%|██████████| 1/1 [00:00<00:00, 9597.95it/s]\n",
      "Retrieving SummaryDoc documents: 100%|██████████| 1/1 [00:00<00:00, 9118.05it/s]\n"
     ]
    },
    {
     "name": "stdout",
     "output_type": "stream",
     "text": [
      "mp-12992\n"
     ]
    },
    {
     "name": "stderr",
     "output_type": "stream",
     "text": [
      "Retrieving MaterialsDoc documents: 100%|██████████| 1/1 [00:00<00:00, 9510.89it/s]\n",
      "Retrieving MaterialsDoc documents: 100%|██████████| 1/1 [00:00<00:00, 7973.96it/s]\n",
      "Retrieving MaterialsDoc documents: 100%|██████████| 1/1 [00:00<00:00, 9218.25it/s]\n",
      "Document primary key has changed from mp-12992 to mp-5986, returning data for mp-5986 in summary route.    \n",
      "Retrieving SummaryDoc documents: 100%|██████████| 1/1 [00:00<00:00, 9619.96it/s]\n"
     ]
    },
    {
     "name": "stdout",
     "output_type": "stream",
     "text": [
      "mp-13031\n"
     ]
    },
    {
     "name": "stderr",
     "output_type": "stream",
     "text": [
      "Retrieving MaterialsDoc documents: 100%|██████████| 1/1 [00:00<00:00, 10305.42it/s]\n",
      "Retrieving SummaryDoc documents: 100%|██████████| 1/1 [00:00<00:00, 10082.46it/s]\n"
     ]
    },
    {
     "name": "stdout",
     "output_type": "stream",
     "text": [
      "mp-13032\n"
     ]
    },
    {
     "name": "stderr",
     "output_type": "stream",
     "text": [
      "Retrieving MaterialsDoc documents: 100%|██████████| 1/1 [00:00<00:00, 8943.08it/s]\n",
      "Retrieving SummaryDoc documents: 100%|██████████| 1/1 [00:00<00:00, 8525.01it/s]\n"
     ]
    },
    {
     "name": "stdout",
     "output_type": "stream",
     "text": [
      "mp-13033\n"
     ]
    },
    {
     "name": "stderr",
     "output_type": "stream",
     "text": [
      "Retrieving MaterialsDoc documents: 100%|██████████| 1/1 [00:00<00:00, 9709.04it/s]\n",
      "Retrieving SummaryDoc documents: 100%|██████████| 1/1 [00:00<00:00, 9986.44it/s]\n"
     ]
    },
    {
     "name": "stdout",
     "output_type": "stream",
     "text": [
      "mp-13055\n"
     ]
    },
    {
     "name": "stderr",
     "output_type": "stream",
     "text": [
      "Retrieving MaterialsDoc documents: 100%|██████████| 1/1 [00:00<00:00, 9404.27it/s]\n",
      "Retrieving SummaryDoc documents: 100%|██████████| 1/1 [00:00<00:00, 8594.89it/s]\n"
     ]
    },
    {
     "name": "stdout",
     "output_type": "stream",
     "text": [
      "mp-13056\n"
     ]
    },
    {
     "name": "stderr",
     "output_type": "stream",
     "text": [
      "Retrieving MaterialsDoc documents: 100%|██████████| 1/1 [00:00<00:00, 9489.38it/s]\n",
      "Retrieving SummaryDoc documents: 100%|██████████| 1/1 [00:00<00:00, 10058.28it/s]\n"
     ]
    },
    {
     "name": "stdout",
     "output_type": "stream",
     "text": [
      "mp-13097\n"
     ]
    },
    {
     "name": "stderr",
     "output_type": "stream",
     "text": [
      "Retrieving MaterialsDoc documents: 100%|██████████| 1/1 [00:00<00:00, 9258.95it/s]\n",
      "Retrieving SummaryDoc documents: 100%|██████████| 1/1 [00:00<00:00, 9892.23it/s]\n"
     ]
    },
    {
     "name": "stdout",
     "output_type": "stream",
     "text": [
      "mp-13099\n"
     ]
    },
    {
     "name": "stderr",
     "output_type": "stream",
     "text": [
      "Retrieving MaterialsDoc documents: 100%|██████████| 1/1 [00:00<00:00, 13400.33it/s]\n",
      "Retrieving SummaryDoc documents: 100%|██████████| 1/1 [00:00<00:00, 16578.28it/s]\n"
     ]
    },
    {
     "name": "stdout",
     "output_type": "stream",
     "text": [
      "mp-13109\n"
     ]
    },
    {
     "name": "stderr",
     "output_type": "stream",
     "text": [
      "Retrieving MaterialsDoc documents: 100%|██████████| 1/1 [00:00<00:00, 9446.63it/s]\n",
      "Retrieving SummaryDoc documents: 100%|██████████| 1/1 [00:00<00:00, 9776.93it/s]\n"
     ]
    },
    {
     "name": "stdout",
     "output_type": "stream",
     "text": [
      "mp-13133\n"
     ]
    },
    {
     "name": "stderr",
     "output_type": "stream",
     "text": [
      "Retrieving MaterialsDoc documents: 100%|██████████| 1/1 [00:00<00:00, 9619.96it/s]\n",
      "Retrieving SummaryDoc documents: 100%|██████████| 1/1 [00:00<00:00, 9020.01it/s]\n"
     ]
    },
    {
     "name": "stdout",
     "output_type": "stream",
     "text": [
      "mp-1315\n"
     ]
    },
    {
     "name": "stderr",
     "output_type": "stream",
     "text": [
      "Retrieving MaterialsDoc documents: 100%|██████████| 1/1 [00:00<00:00, 13706.88it/s]\n",
      "Retrieving SummaryDoc documents: 100%|██████████| 1/1 [00:00<00:00, 15252.01it/s]\n"
     ]
    },
    {
     "name": "stdout",
     "output_type": "stream",
     "text": [
      "mp-13190\n"
     ]
    },
    {
     "name": "stderr",
     "output_type": "stream",
     "text": [
      "Retrieving MaterialsDoc documents: 100%|██████████| 1/1 [00:00<00:00, 9362.29it/s]\n",
      "Retrieving SummaryDoc documents: 100%|██████████| 1/1 [00:00<00:00, 8719.97it/s]\n"
     ]
    },
    {
     "name": "stdout",
     "output_type": "stream",
     "text": [
      "mp-13275\n"
     ]
    },
    {
     "name": "stderr",
     "output_type": "stream",
     "text": [
      "Retrieving MaterialsDoc documents: 100%|██████████| 1/1 [00:00<00:00, 9446.63it/s]\n",
      "Retrieving SummaryDoc documents: 100%|██████████| 1/1 [00:00<00:00, 9218.25it/s]\n"
     ]
    },
    {
     "name": "stdout",
     "output_type": "stream",
     "text": [
      "mp-13276\n"
     ]
    },
    {
     "name": "stderr",
     "output_type": "stream",
     "text": [
      "Retrieving MaterialsDoc documents: 100%|██████████| 1/1 [00:00<00:00, 9300.01it/s]\n",
      "Retrieving SummaryDoc documents: 100%|██████████| 1/1 [00:00<00:00, 9799.78it/s]\n"
     ]
    },
    {
     "name": "stdout",
     "output_type": "stream",
     "text": [
      "mp-13277\n"
     ]
    },
    {
     "name": "stderr",
     "output_type": "stream",
     "text": [
      "Retrieving MaterialsDoc documents: 100%|██████████| 1/1 [00:00<00:00, 9642.08it/s]\n",
      "Retrieving SummaryDoc documents: 100%|██████████| 1/1 [00:00<00:00, 9915.61it/s]\n"
     ]
    },
    {
     "name": "stdout",
     "output_type": "stream",
     "text": [
      "mp-13287\n"
     ]
    },
    {
     "name": "stderr",
     "output_type": "stream",
     "text": [
      "Retrieving MaterialsDoc documents: 100%|██████████| 1/1 [00:00<00:00, 9177.91it/s]\n",
      "Retrieving SummaryDoc documents: 100%|██████████| 1/1 [00:00<00:00, 9686.61it/s]\n"
     ]
    },
    {
     "name": "stdout",
     "output_type": "stream",
     "text": [
      "mp-1330\n"
     ]
    },
    {
     "name": "stderr",
     "output_type": "stream",
     "text": [
      "Retrieving MaterialsDoc documents: 100%|██████████| 1/1 [00:00<00:00, 9822.73it/s]\n",
      "Retrieving SummaryDoc documents: 100%|██████████| 1/1 [00:00<00:00, 9320.68it/s]\n"
     ]
    },
    {
     "name": "stdout",
     "output_type": "stream",
     "text": [
      "mp-13356\n"
     ]
    },
    {
     "name": "stderr",
     "output_type": "stream",
     "text": [
      "Retrieving MaterialsDoc documents: 100%|██████████| 1/1 [00:00<00:00, 8594.89it/s]\n",
      "Retrieving SummaryDoc documents: 100%|██████████| 1/1 [00:00<00:00, 8665.92it/s]\n"
     ]
    },
    {
     "name": "stdout",
     "output_type": "stream",
     "text": [
      "mp-1340\n"
     ]
    },
    {
     "name": "stderr",
     "output_type": "stream",
     "text": [
      "Retrieving MaterialsDoc documents: 100%|██████████| 1/1 [00:00<00:00, 9962.72it/s]\n",
      "Retrieving SummaryDoc documents: 100%|██████████| 1/1 [00:00<00:00, 10155.70it/s]\n"
     ]
    },
    {
     "name": "stdout",
     "output_type": "stream",
     "text": [
      "mp-1342\n"
     ]
    },
    {
     "name": "stderr",
     "output_type": "stream",
     "text": [
      "Retrieving MaterialsDoc documents: 100%|██████████| 1/1 [00:00<00:00, 9686.61it/s]\n",
      "Retrieving SummaryDoc documents: 100%|██████████| 1/1 [00:00<00:00, 9597.95it/s]\n"
     ]
    },
    {
     "name": "stdout",
     "output_type": "stream",
     "text": [
      "mp-13445\n"
     ]
    },
    {
     "name": "stderr",
     "output_type": "stream",
     "text": [
      "Retrieving MaterialsDoc documents: 100%|██████████| 1/1 [00:00<00:00, 9754.20it/s]\n",
      "Retrieving SummaryDoc documents: 100%|██████████| 1/1 [00:00<00:00, 9279.43it/s]\n"
     ]
    },
    {
     "name": "stdout",
     "output_type": "stream",
     "text": [
      "mp-1345\n"
     ]
    },
    {
     "name": "stderr",
     "output_type": "stream",
     "text": [
      "Retrieving MaterialsDoc documents: 100%|██████████| 1/1 [00:00<00:00, 9664.29it/s]\n",
      "Retrieving SummaryDoc documents: 100%|██████████| 1/1 [00:00<00:00, 10131.17it/s]\n"
     ]
    },
    {
     "name": "stdout",
     "output_type": "stream",
     "text": [
      "mp-13541\n"
     ]
    },
    {
     "name": "stderr",
     "output_type": "stream",
     "text": [
      "Retrieving MaterialsDoc documents: 100%|██████████| 1/1 [00:00<00:00, 9137.92it/s]\n",
      "Retrieving SummaryDoc documents: 100%|██████████| 1/1 [00:00<00:00, 8144.28it/s]\n"
     ]
    },
    {
     "name": "stdout",
     "output_type": "stream",
     "text": [
      "mp-13548\n"
     ]
    },
    {
     "name": "stderr",
     "output_type": "stream",
     "text": [
      "Retrieving MaterialsDoc documents: 100%|██████████| 1/1 [00:00<00:00, 10618.49it/s]\n",
      "Retrieving SummaryDoc documents: 100%|██████████| 1/1 [00:00<00:00, 9157.87it/s]\n"
     ]
    },
    {
     "name": "stdout",
     "output_type": "stream",
     "text": [
      "mp-13610\n"
     ]
    },
    {
     "name": "stderr",
     "output_type": "stream",
     "text": [
      "Retrieving MaterialsDoc documents: 100%|██████████| 1/1 [00:00<00:00, 9642.08it/s]\n",
      "Retrieving SummaryDoc documents: 100%|██████████| 1/1 [00:00<00:00, 8322.03it/s]\n"
     ]
    },
    {
     "name": "stdout",
     "output_type": "stream",
     "text": [
      "mp-13641\n"
     ]
    },
    {
     "name": "stderr",
     "output_type": "stream",
     "text": [
      "Retrieving MaterialsDoc documents: 100%|██████████| 1/1 [00:00<00:00, 18558.87it/s]\n",
      "Retrieving SummaryDoc documents: 100%|██████████| 1/1 [00:00<00:00, 18641.35it/s]\n"
     ]
    },
    {
     "name": "stdout",
     "output_type": "stream",
     "text": [
      "mp-13658\n"
     ]
    },
    {
     "name": "stderr",
     "output_type": "stream",
     "text": [
      "Retrieving MaterialsDoc documents: 100%|██████████| 1/1 [00:00<00:00, 9489.38it/s]\n",
      "Retrieving SummaryDoc documents: 100%|██████████| 1/1 [00:00<00:00, 9597.95it/s]\n"
     ]
    },
    {
     "name": "stdout",
     "output_type": "stream",
     "text": [
      "mp-13660\n"
     ]
    },
    {
     "name": "stderr",
     "output_type": "stream",
     "text": [
      "Retrieving MaterialsDoc documents: 100%|██████████| 1/1 [00:00<00:00, 9619.96it/s]\n",
      "Retrieving SummaryDoc documents: 100%|██████████| 1/1 [00:00<00:00, 10280.16it/s]\n"
     ]
    },
    {
     "name": "stdout",
     "output_type": "stream",
     "text": [
      "mp-1367\n"
     ]
    },
    {
     "name": "stderr",
     "output_type": "stream",
     "text": [
      "Retrieving MaterialsDoc documents: 100%|██████████| 1/1 [00:00<00:00, 8542.37it/s]\n",
      "Retrieving SummaryDoc documents: 100%|██████████| 1/1 [00:00<00:00, 8648.05it/s]\n"
     ]
    },
    {
     "name": "stdout",
     "output_type": "stream",
     "text": [
      "mp-13676\n"
     ]
    },
    {
     "name": "stderr",
     "output_type": "stream",
     "text": [
      "Retrieving MaterialsDoc documents: 100%|██████████| 1/1 [00:00<00:00, 9258.95it/s]\n",
      "Retrieving SummaryDoc documents: 100%|██████████| 1/1 [00:00<00:00, 8943.08it/s]\n"
     ]
    },
    {
     "name": "stdout",
     "output_type": "stream",
     "text": [
      "mp-13798\n"
     ]
    },
    {
     "name": "stderr",
     "output_type": "stream",
     "text": [
      "Retrieving MaterialsDoc documents: 100%|██████████| 1/1 [00:00<00:00, 7049.25it/s]\n",
      "Retrieving SummaryDoc documents: 100%|██████████| 1/1 [00:00<00:00, 8648.05it/s]\n"
     ]
    },
    {
     "name": "stdout",
     "output_type": "stream",
     "text": [
      "mp-13800\n"
     ]
    },
    {
     "name": "stderr",
     "output_type": "stream",
     "text": [
      "Retrieving MaterialsDoc documents: 100%|██████████| 1/1 [00:00<00:00, 8981.38it/s]\n",
      "Retrieving SummaryDoc documents: 100%|██████████| 1/1 [00:00<00:00, 9776.93it/s]\n"
     ]
    },
    {
     "name": "stdout",
     "output_type": "stream",
     "text": [
      "mp-13868\n"
     ]
    },
    {
     "name": "stderr",
     "output_type": "stream",
     "text": [
      "Retrieving MaterialsDoc documents: 100%|██████████| 1/1 [00:00<00:00, 9962.72it/s]\n",
      "Retrieving SummaryDoc documents: 100%|██████████| 1/1 [00:00<00:00, 9383.23it/s]\n"
     ]
    },
    {
     "name": "stdout",
     "output_type": "stream",
     "text": [
      "mp-13898\n"
     ]
    },
    {
     "name": "stderr",
     "output_type": "stream",
     "text": [
      "Retrieving MaterialsDoc documents: 100%|██████████| 1/1 [00:00<00:00, 9489.38it/s]\n",
      "Retrieving SummaryDoc documents: 100%|██████████| 1/1 [00:00<00:00, 9776.93it/s]\n"
     ]
    },
    {
     "name": "stdout",
     "output_type": "stream",
     "text": [
      "mp-13900\n"
     ]
    },
    {
     "name": "stderr",
     "output_type": "stream",
     "text": [
      "Retrieving MaterialsDoc documents: 100%|██████████| 1/1 [00:00<00:00, 7084.97it/s]\n",
      "Retrieving SummaryDoc documents: 100%|██████████| 1/1 [00:00<00:00, 8867.45it/s]\n"
     ]
    },
    {
     "name": "stdout",
     "output_type": "stream",
     "text": [
      "mp-13903\n"
     ]
    },
    {
     "name": "stderr",
     "output_type": "stream",
     "text": [
      "Retrieving MaterialsDoc documents: 100%|██████████| 1/1 [00:00<00:00, 10082.46it/s]\n",
      "Retrieving SummaryDoc documents: 100%|██████████| 1/1 [00:00<00:00, 9709.04it/s]\n"
     ]
    },
    {
     "name": "stdout",
     "output_type": "stream",
     "text": [
      "mp-13907\n"
     ]
    },
    {
     "name": "stderr",
     "output_type": "stream",
     "text": [
      "Retrieving MaterialsDoc documents: 100%|██████████| 1/1 [00:00<00:00, 9576.04it/s]\n",
      "Retrieving SummaryDoc documents: 100%|██████████| 1/1 [00:00<00:00, 8612.53it/s]\n"
     ]
    },
    {
     "name": "stdout",
     "output_type": "stream",
     "text": [
      "mp-13925\n"
     ]
    },
    {
     "name": "stderr",
     "output_type": "stream",
     "text": [
      "Retrieving MaterialsDoc documents: 100%|██████████| 1/1 [00:00<00:00, 9532.51it/s]\n",
      "Retrieving SummaryDoc documents: 100%|██████████| 1/1 [00:00<00:00, 9576.04it/s]\n"
     ]
    },
    {
     "name": "stdout",
     "output_type": "stream",
     "text": [
      "mp-13926\n"
     ]
    },
    {
     "name": "stderr",
     "output_type": "stream",
     "text": [
      "Retrieving MaterialsDoc documents: 100%|██████████| 1/1 [00:00<00:00, 11848.32it/s]\n",
      "Retrieving SummaryDoc documents: 100%|██████████| 1/1 [00:00<00:00, 10106.76it/s]\n"
     ]
    },
    {
     "name": "stdout",
     "output_type": "stream",
     "text": [
      "mp-1394\n"
     ]
    },
    {
     "name": "stderr",
     "output_type": "stream",
     "text": [
      "Retrieving MaterialsDoc documents: 100%|██████████| 1/1 [00:00<00:00, 9383.23it/s]\n",
      "Retrieving SummaryDoc documents: 100%|██████████| 1/1 [00:00<00:00, 9341.43it/s]\n"
     ]
    },
    {
     "name": "stdout",
     "output_type": "stream",
     "text": [
      "mp-13946\n"
     ]
    },
    {
     "name": "stderr",
     "output_type": "stream",
     "text": [
      "Retrieving MaterialsDoc documents: 100%|██████████| 1/1 [00:00<00:00, 9754.20it/s]\n",
      "Retrieving SummaryDoc documents: 100%|██████████| 1/1 [00:00<00:00, 9137.92it/s]\n"
     ]
    },
    {
     "name": "stdout",
     "output_type": "stream",
     "text": [
      "mp-13947\n"
     ]
    },
    {
     "name": "stderr",
     "output_type": "stream",
     "text": [
      "Retrieving MaterialsDoc documents: 100%|██████████| 1/1 [00:00<00:00, 9177.91it/s]\n",
      "Retrieving SummaryDoc documents: 100%|██████████| 1/1 [00:00<00:00, 8507.72it/s]\n"
     ]
    },
    {
     "name": "stdout",
     "output_type": "stream",
     "text": [
      "mp-13948\n"
     ]
    },
    {
     "name": "stderr",
     "output_type": "stream",
     "text": [
      "Retrieving MaterialsDoc documents: 100%|██████████| 1/1 [00:00<00:00, 21509.25it/s]\n",
      "Retrieving SummaryDoc documents: 100%|██████████| 1/1 [00:00<00:00, 20971.52it/s]\n"
     ]
    },
    {
     "name": "stdout",
     "output_type": "stream",
     "text": [
      "mp-13949\n"
     ]
    },
    {
     "name": "stderr",
     "output_type": "stream",
     "text": [
      "Retrieving MaterialsDoc documents: 100%|██████████| 1/1 [00:00<00:00, 8848.74it/s]\n",
      "Retrieving SummaryDoc documents: 100%|██████████| 1/1 [00:00<00:00, 9467.95it/s]\n"
     ]
    },
    {
     "name": "stdout",
     "output_type": "stream",
     "text": [
      "mp-13983\n"
     ]
    },
    {
     "name": "stderr",
     "output_type": "stream",
     "text": [
      "Retrieving MaterialsDoc documents: 100%|██████████| 1/1 [00:00<00:00, 9404.27it/s]\n",
      "Retrieving SummaryDoc documents: 100%|██████████| 1/1 [00:00<00:00, 9915.61it/s]\n"
     ]
    },
    {
     "name": "stdout",
     "output_type": "stream",
     "text": [
      "mp-13984\n"
     ]
    },
    {
     "name": "stderr",
     "output_type": "stream",
     "text": [
      "Retrieving MaterialsDoc documents: 100%|██████████| 1/1 [00:00<00:00, 9664.29it/s]\n",
      "Retrieving SummaryDoc documents: 100%|██████████| 1/1 [00:00<00:00, 8422.30it/s]\n"
     ]
    },
    {
     "name": "stdout",
     "output_type": "stream",
     "text": [
      "mp-13992\n"
     ]
    },
    {
     "name": "stderr",
     "output_type": "stream",
     "text": [
      "Retrieving MaterialsDoc documents: 100%|██████████| 1/1 [00:00<00:00, 16777.22it/s]\n",
      "Retrieving SummaryDoc documents: 100%|██████████| 1/1 [00:00<00:00, 16710.37it/s]\n"
     ]
    },
    {
     "name": "stdout",
     "output_type": "stream",
     "text": [
      "mp-14006\n"
     ]
    },
    {
     "name": "stderr",
     "output_type": "stream",
     "text": [
      "Retrieving MaterialsDoc documents: 100%|██████████| 1/1 [00:00<00:00, 9799.78it/s]\n",
      "Retrieving SummaryDoc documents: 100%|██████████| 1/1 [00:00<00:00, 9510.89it/s]\n"
     ]
    },
    {
     "name": "stdout",
     "output_type": "stream",
     "text": [
      "mp-14017\n"
     ]
    },
    {
     "name": "stderr",
     "output_type": "stream",
     "text": [
      "Retrieving MaterialsDoc documents: 100%|██████████| 1/1 [00:00<00:00, 9664.29it/s]\n",
      "Retrieving SummaryDoc documents: 100%|██████████| 1/1 [00:00<00:00, 9822.73it/s]\n"
     ]
    },
    {
     "name": "stdout",
     "output_type": "stream",
     "text": [
      "mp-14036\n"
     ]
    },
    {
     "name": "stderr",
     "output_type": "stream",
     "text": [
      "Retrieving MaterialsDoc documents: 100%|██████████| 1/1 [00:00<00:00, 9709.04it/s]\n",
      "Retrieving SummaryDoc documents: 100%|██████████| 1/1 [00:00<00:00, 9404.27it/s]\n"
     ]
    },
    {
     "name": "stdout",
     "output_type": "stream",
     "text": [
      "mp-14037\n"
     ]
    },
    {
     "name": "stderr",
     "output_type": "stream",
     "text": [
      "Retrieving MaterialsDoc documents: 100%|██████████| 1/1 [00:00<00:00, 9198.04it/s]\n",
      "Retrieving SummaryDoc documents: 100%|██████████| 1/1 [00:00<00:00, 8559.80it/s]\n"
     ]
    },
    {
     "name": "stdout",
     "output_type": "stream",
     "text": [
      "mp-14038\n"
     ]
    },
    {
     "name": "stderr",
     "output_type": "stream",
     "text": [
      "Retrieving MaterialsDoc documents: 100%|██████████| 1/1 [00:00<00:00, 9554.22it/s]\n",
      "Retrieving SummaryDoc documents: 100%|██████████| 1/1 [00:00<00:00, 8490.49it/s]\n"
     ]
    },
    {
     "name": "stdout",
     "output_type": "stream",
     "text": [
      "mp-14039\n"
     ]
    },
    {
     "name": "stderr",
     "output_type": "stream",
     "text": [
      "Retrieving MaterialsDoc documents: 100%|██████████| 1/1 [00:00<00:00, 9489.38it/s]\n",
      "Retrieving SummaryDoc documents: 100%|██████████| 1/1 [00:00<00:00, 10010.27it/s]\n"
     ]
    },
    {
     "name": "stdout",
     "output_type": "stream",
     "text": [
      "mp-14069\n"
     ]
    },
    {
     "name": "stderr",
     "output_type": "stream",
     "text": [
      "Retrieving MaterialsDoc documents: 100%|██████████| 1/1 [00:00<00:00, 11522.81it/s]\n",
      "Retrieving SummaryDoc documents: 100%|██████████| 1/1 [00:00<00:00, 10058.28it/s]\n"
     ]
    },
    {
     "name": "stdout",
     "output_type": "stream",
     "text": [
      "mp-14070\n"
     ]
    },
    {
     "name": "stderr",
     "output_type": "stream",
     "text": [
      "Retrieving MaterialsDoc documents: 100%|██████████| 1/1 [00:00<00:00, 9554.22it/s]\n",
      "Retrieving SummaryDoc documents: 100%|██████████| 1/1 [00:00<00:00, 9597.95it/s]\n"
     ]
    },
    {
     "name": "stdout",
     "output_type": "stream",
     "text": [
      "mp-14088\n"
     ]
    },
    {
     "name": "stderr",
     "output_type": "stream",
     "text": [
      "Retrieving MaterialsDoc documents: 100%|██████████| 1/1 [00:00<00:00, 9664.29it/s]\n",
      "Retrieving SummaryDoc documents: 100%|██████████| 1/1 [00:00<00:00, 9576.04it/s]\n"
     ]
    },
    {
     "name": "stdout",
     "output_type": "stream",
     "text": [
      "mp-14091\n"
     ]
    },
    {
     "name": "stderr",
     "output_type": "stream",
     "text": [
      "Retrieving MaterialsDoc documents: 100%|██████████| 1/1 [00:00<00:00, 9137.92it/s]\n",
      "Retrieving SummaryDoc documents: 100%|██████████| 1/1 [00:00<00:00, 8289.14it/s]\n"
     ]
    },
    {
     "name": "stdout",
     "output_type": "stream",
     "text": [
      "mp-14092\n"
     ]
    },
    {
     "name": "stderr",
     "output_type": "stream",
     "text": [
      "Retrieving MaterialsDoc documents: 100%|██████████| 1/1 [00:00<00:00, 9731.56it/s]\n",
      "Retrieving SummaryDoc documents: 100%|██████████| 1/1 [00:00<00:00, 10058.28it/s]\n"
     ]
    },
    {
     "name": "stdout",
     "output_type": "stream",
     "text": [
      "mp-14115\n"
     ]
    },
    {
     "name": "stderr",
     "output_type": "stream",
     "text": [
      "Retrieving MaterialsDoc documents: 100%|██████████| 1/1 [00:00<00:00, 9341.43it/s]\n",
      "Retrieving SummaryDoc documents: 100%|██████████| 1/1 [00:00<00:00, 8559.80it/s]\n"
     ]
    },
    {
     "name": "stdout",
     "output_type": "stream",
     "text": [
      "mp-14116\n"
     ]
    },
    {
     "name": "stderr",
     "output_type": "stream",
     "text": [
      "Retrieving MaterialsDoc documents: 100%|██████████| 1/1 [00:00<00:00, 9000.65it/s]\n",
      "Retrieving SummaryDoc documents: 100%|██████████| 1/1 [00:00<00:00, 8305.55it/s]\n"
     ]
    },
    {
     "name": "stdout",
     "output_type": "stream",
     "text": [
      "mp-1413\n"
     ]
    },
    {
     "name": "stderr",
     "output_type": "stream",
     "text": [
      "Retrieving MaterialsDoc documents: 100%|██████████| 1/1 [00:00<00:00, 9554.22it/s]\n",
      "Retrieving SummaryDoc documents: 100%|██████████| 1/1 [00:00<00:00, 9915.61it/s]\n"
     ]
    },
    {
     "name": "stdout",
     "output_type": "stream",
     "text": [
      "mp-1415\n"
     ]
    },
    {
     "name": "stderr",
     "output_type": "stream",
     "text": [
      "Retrieving MaterialsDoc documents: 100%|██████████| 1/1 [00:00<00:00, 12826.62it/s]\n",
      "Retrieving SummaryDoc documents: 100%|██████████| 1/1 [00:00<00:00, 8507.72it/s]\n"
     ]
    },
    {
     "name": "stdout",
     "output_type": "stream",
     "text": [
      "mp-14175\n"
     ]
    },
    {
     "name": "stderr",
     "output_type": "stream",
     "text": [
      "Retrieving MaterialsDoc documents: 100%|██████████| 1/1 [00:00<00:00, 9709.04it/s]\n",
      "Retrieving SummaryDoc documents: 100%|██████████| 1/1 [00:00<00:00, 9868.95it/s]\n"
     ]
    },
    {
     "name": "stdout",
     "output_type": "stream",
     "text": [
      "mp-14205\n"
     ]
    },
    {
     "name": "stderr",
     "output_type": "stream",
     "text": [
      "Retrieving MaterialsDoc documents: 100%|██████████| 1/1 [00:00<00:00, 9218.25it/s]\n",
      "Retrieving SummaryDoc documents: 100%|██████████| 1/1 [00:00<00:00, 8594.89it/s]\n"
     ]
    },
    {
     "name": "stdout",
     "output_type": "stream",
     "text": [
      "mp-14206\n"
     ]
    },
    {
     "name": "stderr",
     "output_type": "stream",
     "text": [
      "Retrieving MaterialsDoc documents: 100%|██████████| 1/1 [00:00<00:00, 9198.04it/s]\n",
      "Retrieving SummaryDoc documents: 100%|██████████| 1/1 [00:00<00:00, 7530.17it/s]\n"
     ]
    },
    {
     "name": "stdout",
     "output_type": "stream",
     "text": [
      "mp-14285\n"
     ]
    },
    {
     "name": "stderr",
     "output_type": "stream",
     "text": [
      "Retrieving MaterialsDoc documents: 100%|██████████| 1/1 [00:00<00:00, 9510.89it/s]\n",
      "Retrieving SummaryDoc documents: 100%|██████████| 1/1 [00:00<00:00, 8701.88it/s]\n"
     ]
    },
    {
     "name": "stdout",
     "output_type": "stream",
     "text": [
      "mp-14333\n"
     ]
    },
    {
     "name": "stderr",
     "output_type": "stream",
     "text": [
      "Retrieving MaterialsDoc documents: 100%|██████████| 1/1 [00:00<00:00, 9362.29it/s]\n",
      "Retrieving SummaryDoc documents: 100%|██████████| 1/1 [00:00<00:00, 9892.23it/s]\n"
     ]
    },
    {
     "name": "stdout",
     "output_type": "stream",
     "text": [
      "mp-14398\n"
     ]
    },
    {
     "name": "stderr",
     "output_type": "stream",
     "text": [
      "Retrieving MaterialsDoc documents: 100%|██████████| 1/1 [00:00<00:00, 9799.78it/s]\n",
      "Retrieving SummaryDoc documents: 100%|██████████| 1/1 [00:00<00:00, 8322.03it/s]\n"
     ]
    },
    {
     "name": "stdout",
     "output_type": "stream",
     "text": [
      "mp-14437\n"
     ]
    },
    {
     "name": "stderr",
     "output_type": "stream",
     "text": [
      "Retrieving MaterialsDoc documents: 100%|██████████| 1/1 [00:00<00:00, 9554.22it/s]\n",
      "Retrieving SummaryDoc documents: 100%|██████████| 1/1 [00:00<00:00, 9776.93it/s]\n"
     ]
    },
    {
     "name": "stdout",
     "output_type": "stream",
     "text": [
      "mp-14588\n"
     ]
    },
    {
     "name": "stderr",
     "output_type": "stream",
     "text": [
      "Retrieving MaterialsDoc documents: 100%|██████████| 1/1 [00:00<00:00, 9467.95it/s]\n",
      "Retrieving SummaryDoc documents: 100%|██████████| 1/1 [00:00<00:00, 8422.30it/s]\n"
     ]
    },
    {
     "name": "stdout",
     "output_type": "stream",
     "text": [
      "mp-14652\n"
     ]
    },
    {
     "name": "stderr",
     "output_type": "stream",
     "text": [
      "Retrieving MaterialsDoc documents: 100%|██████████| 1/1 [00:00<00:00, 9425.40it/s]\n",
      "Retrieving SummaryDoc documents: 100%|██████████| 1/1 [00:00<00:00, 9446.63it/s]\n"
     ]
    },
    {
     "name": "stdout",
     "output_type": "stream",
     "text": [
      "mp-1479\n"
     ]
    },
    {
     "name": "stderr",
     "output_type": "stream",
     "text": [
      "Retrieving MaterialsDoc documents: 100%|██████████| 1/1 [00:00<00:00, 9845.78it/s]\n",
      "Retrieving SummaryDoc documents: 100%|██████████| 1/1 [00:00<00:00, 9597.95it/s]\n"
     ]
    },
    {
     "name": "stdout",
     "output_type": "stream",
     "text": [
      "mp-149\n"
     ]
    },
    {
     "name": "stderr",
     "output_type": "stream",
     "text": [
      "Retrieving MaterialsDoc documents: 100%|██████████| 1/1 [00:00<00:00, 9489.38it/s]\n",
      "Retrieving SummaryDoc documents: 100%|██████████| 1/1 [00:00<00:00, 8507.72it/s]\n"
     ]
    },
    {
     "name": "stdout",
     "output_type": "stream",
     "text": [
      "mp-14983\n"
     ]
    },
    {
     "name": "stderr",
     "output_type": "stream",
     "text": [
      "Retrieving MaterialsDoc documents: 100%|██████████| 1/1 [00:00<00:00, 9000.65it/s]\n",
      "Retrieving SummaryDoc documents: 100%|██████████| 1/1 [00:00<00:00, 8559.80it/s]\n"
     ]
    },
    {
     "name": "stdout",
     "output_type": "stream",
     "text": [
      "mp-1500\n"
     ]
    },
    {
     "name": "stderr",
     "output_type": "stream",
     "text": [
      "Retrieving MaterialsDoc documents: 100%|██████████| 1/1 [00:00<00:00, 9238.56it/s]\n",
      "Retrieving SummaryDoc documents: 100%|██████████| 1/1 [00:00<00:00, 9510.89it/s]\n"
     ]
    },
    {
     "name": "stdout",
     "output_type": "stream",
     "text": [
      "mp-15157\n"
     ]
    },
    {
     "name": "stderr",
     "output_type": "stream",
     "text": [
      "Retrieving MaterialsDoc documents: 100%|██████████| 1/1 [00:00<00:00, 9279.43it/s]\n",
      "Retrieving SummaryDoc documents: 100%|██████████| 1/1 [00:00<00:00, 9868.95it/s]\n"
     ]
    },
    {
     "name": "stdout",
     "output_type": "stream",
     "text": [
      "mp-1519\n"
     ]
    },
    {
     "name": "stderr",
     "output_type": "stream",
     "text": [
      "Retrieving MaterialsDoc documents: 100%|██████████| 1/1 [00:00<00:00, 9642.08it/s]\n",
      "Retrieving SummaryDoc documents: 100%|██████████| 1/1 [00:00<00:00, 8630.26it/s]\n"
     ]
    },
    {
     "name": "stdout",
     "output_type": "stream",
     "text": [
      "mp-1522\n"
     ]
    },
    {
     "name": "stderr",
     "output_type": "stream",
     "text": [
      "Retrieving MaterialsDoc documents: 100%|██████████| 1/1 [00:00<00:00, 9532.51it/s]\n",
      "Retrieving SummaryDoc documents: 100%|██████████| 1/1 [00:00<00:00, 9362.29it/s]\n"
     ]
    },
    {
     "name": "stdout",
     "output_type": "stream",
     "text": [
      "mp-15349\n"
     ]
    },
    {
     "name": "stderr",
     "output_type": "stream",
     "text": [
      "Retrieving MaterialsDoc documents: 100%|██████████| 1/1 [00:00<00:00, 9532.51it/s]\n",
      "Retrieving SummaryDoc documents: 100%|██████████| 1/1 [00:00<00:00, 8719.97it/s]\n"
     ]
    },
    {
     "name": "stdout",
     "output_type": "stream",
     "text": [
      "mp-1541\n"
     ]
    },
    {
     "name": "stderr",
     "output_type": "stream",
     "text": [
      "Retrieving MaterialsDoc documents: 100%|██████████| 1/1 [00:00<00:00, 11008.67it/s]\n",
      "Retrieving SummaryDoc documents: 100%|██████████| 1/1 [00:00<00:00, 8811.56it/s]\n"
     ]
    },
    {
     "name": "stdout",
     "output_type": "stream",
     "text": [
      "mp-1550\n"
     ]
    },
    {
     "name": "stderr",
     "output_type": "stream",
     "text": [
      "Retrieving MaterialsDoc documents: 100%|██████████| 1/1 [00:00<00:00, 9341.43it/s]\n",
      "Retrieving SummaryDoc documents: 100%|██████████| 1/1 [00:00<00:00, 9642.08it/s]\n"
     ]
    },
    {
     "name": "stdout",
     "output_type": "stream",
     "text": [
      "mp-15556\n"
     ]
    },
    {
     "name": "stderr",
     "output_type": "stream",
     "text": [
      "Retrieving MaterialsDoc documents: 100%|██████████| 1/1 [00:00<00:00, 10058.28it/s]\n",
      "Retrieving SummaryDoc documents: 100%|██████████| 1/1 [00:00<00:00, 8719.97it/s]\n"
     ]
    },
    {
     "name": "stdout",
     "output_type": "stream",
     "text": [
      "mp-15557\n"
     ]
    },
    {
     "name": "stderr",
     "output_type": "stream",
     "text": [
      "Retrieving MaterialsDoc documents: 100%|██████████| 1/1 [00:00<00:00, 9341.43it/s]\n",
      "Retrieving SummaryDoc documents: 100%|██████████| 1/1 [00:00<00:00, 8473.34it/s]\n"
     ]
    },
    {
     "name": "stdout",
     "output_type": "stream",
     "text": [
      "mp-15649\n"
     ]
    },
    {
     "name": "stderr",
     "output_type": "stream",
     "text": [
      "Retrieving MaterialsDoc documents: 100%|██████████| 1/1 [00:00<00:00, 9597.95it/s]\n",
      "Retrieving SummaryDoc documents: 100%|██████████| 1/1 [00:00<00:00, 8981.38it/s]\n"
     ]
    },
    {
     "name": "stdout",
     "output_type": "stream",
     "text": [
      "mp-1565\n"
     ]
    },
    {
     "name": "stderr",
     "output_type": "stream",
     "text": [
      "Retrieving MaterialsDoc documents: 100%|██████████| 1/1 [00:00<00:00, 9532.51it/s]\n",
      "Retrieving SummaryDoc documents: 100%|██████████| 1/1 [00:00<00:00, 9642.08it/s]\n"
     ]
    },
    {
     "name": "stdout",
     "output_type": "stream",
     "text": [
      "mp-15668\n"
     ]
    },
    {
     "name": "stderr",
     "output_type": "stream",
     "text": [
      "Retrieving MaterialsDoc documents: 100%|██████████| 1/1 [00:00<00:00, 9137.92it/s]\n",
      "Retrieving SummaryDoc documents: 100%|██████████| 1/1 [00:00<00:00, 8559.80it/s]\n"
     ]
    },
    {
     "name": "stdout",
     "output_type": "stream",
     "text": [
      "mp-15684\n"
     ]
    },
    {
     "name": "stderr",
     "output_type": "stream",
     "text": [
      "Retrieving MaterialsDoc documents: 100%|██████████| 1/1 [00:00<00:00, 9686.61it/s]\n",
      "Retrieving SummaryDoc documents: 100%|██████████| 1/1 [00:00<00:00, 9642.08it/s]\n"
     ]
    },
    {
     "name": "stdout",
     "output_type": "stream",
     "text": [
      "mp-15685\n"
     ]
    },
    {
     "name": "stderr",
     "output_type": "stream",
     "text": [
      "Retrieving MaterialsDoc documents: 100%|██████████| 1/1 [00:00<00:00, 9279.43it/s]\n",
      "Retrieving SummaryDoc documents: 100%|██████████| 1/1 [00:00<00:00, 9776.93it/s]\n"
     ]
    },
    {
     "name": "stdout",
     "output_type": "stream",
     "text": [
      "mp-1569\n"
     ]
    },
    {
     "name": "stderr",
     "output_type": "stream",
     "text": [
      "Retrieving MaterialsDoc documents: 100%|██████████| 1/1 [00:00<00:00, 10155.70it/s]\n",
      "Retrieving SummaryDoc documents: 100%|██████████| 1/1 [00:00<00:00, 9300.01it/s]\n"
     ]
    },
    {
     "name": "stdout",
     "output_type": "stream",
     "text": [
      "mp-15703\n"
     ]
    },
    {
     "name": "stderr",
     "output_type": "stream",
     "text": [
      "Retrieving MaterialsDoc documents: 100%|██████████| 1/1 [00:00<00:00, 6898.53it/s]\n",
      "Retrieving SummaryDoc documents: 100%|██████████| 1/1 [00:00<00:00, 8612.53it/s]\n"
     ]
    },
    {
     "name": "stdout",
     "output_type": "stream",
     "text": [
      "mp-15704\n"
     ]
    },
    {
     "name": "stderr",
     "output_type": "stream",
     "text": [
      "Retrieving MaterialsDoc documents: 100%|██████████| 1/1 [00:00<00:00, 11066.77it/s]\n",
      "Retrieving SummaryDoc documents: 100%|██████████| 1/1 [00:00<00:00, 10131.17it/s]\n"
     ]
    },
    {
     "name": "stdout",
     "output_type": "stream",
     "text": [
      "mp-15724\n"
     ]
    },
    {
     "name": "stderr",
     "output_type": "stream",
     "text": [
      "Retrieving MaterialsDoc documents: 100%|██████████| 1/1 [00:00<00:00, 9098.27it/s]\n",
      "Retrieving SummaryDoc documents: 100%|██████████| 1/1 [00:00<00:00, 8594.89it/s]\n"
     ]
    },
    {
     "name": "stdout",
     "output_type": "stream",
     "text": [
      "mp-15776\n"
     ]
    },
    {
     "name": "stderr",
     "output_type": "stream",
     "text": [
      "Retrieving MaterialsDoc documents: 100%|██████████| 1/1 [00:00<00:00, 9686.61it/s]\n",
      "Retrieving SummaryDoc documents: 100%|██████████| 1/1 [00:00<00:00, 9198.04it/s]\n"
     ]
    },
    {
     "name": "stdout",
     "output_type": "stream",
     "text": [
      "mp-15777\n"
     ]
    },
    {
     "name": "stderr",
     "output_type": "stream",
     "text": [
      "Retrieving MaterialsDoc documents: 100%|██████████| 1/1 [00:00<00:00, 9341.43it/s]\n",
      "Retrieving SummaryDoc documents: 100%|██████████| 1/1 [00:00<00:00, 8905.10it/s]\n"
     ]
    },
    {
     "name": "stdout",
     "output_type": "stream",
     "text": [
      "mp-15781\n"
     ]
    },
    {
     "name": "stderr",
     "output_type": "stream",
     "text": [
      "Retrieving MaterialsDoc documents: 100%|██████████| 1/1 [00:00<00:00, 8612.53it/s]\n",
      "Retrieving SummaryDoc documents: 100%|██████████| 1/1 [00:00<00:00, 10205.12it/s]\n"
     ]
    },
    {
     "name": "stdout",
     "output_type": "stream",
     "text": [
      "mp-15788\n"
     ]
    },
    {
     "name": "stderr",
     "output_type": "stream",
     "text": [
      "Retrieving MaterialsDoc documents: 100%|██████████| 1/1 [00:00<00:00, 11008.67it/s]\n",
      "Retrieving SummaryDoc documents: 100%|██████████| 1/1 [00:00<00:00, 9279.43it/s]\n"
     ]
    },
    {
     "name": "stdout",
     "output_type": "stream",
     "text": [
      "mp-15794\n"
     ]
    },
    {
     "name": "stderr",
     "output_type": "stream",
     "text": [
      "Retrieving MaterialsDoc documents: 100%|██████████| 1/1 [00:00<00:00, 9362.29it/s]\n",
      "Retrieving SummaryDoc documents: 100%|██████████| 1/1 [00:00<00:00, 10280.16it/s]\n"
     ]
    },
    {
     "name": "stdout",
     "output_type": "stream",
     "text": [
      "mp-15896\n"
     ]
    },
    {
     "name": "stderr",
     "output_type": "stream",
     "text": [
      "Retrieving MaterialsDoc documents: 100%|██████████| 1/1 [00:00<00:00, 13751.82it/s]\n",
      "Retrieving SummaryDoc documents: 100%|██████████| 1/1 [00:00<00:00, 8756.38it/s]\n"
     ]
    },
    {
     "name": "stdout",
     "output_type": "stream",
     "text": [
      "mp-1591\n"
     ]
    },
    {
     "name": "stderr",
     "output_type": "stream",
     "text": [
      "Retrieving MaterialsDoc documents: 100%|██████████| 1/1 [00:00<00:00, 9362.29it/s]\n",
      "Retrieving SummaryDoc documents: 100%|██████████| 1/1 [00:00<00:00, 8594.89it/s]\n"
     ]
    },
    {
     "name": "stdout",
     "output_type": "stream",
     "text": [
      "mp-15951\n"
     ]
    },
    {
     "name": "stderr",
     "output_type": "stream",
     "text": [
      "Retrieving MaterialsDoc documents: 100%|██████████| 1/1 [00:00<00:00, 10106.76it/s]\n",
      "Retrieving SummaryDoc documents: 100%|██████████| 1/1 [00:00<00:00, 10082.46it/s]\n"
     ]
    },
    {
     "name": "stdout",
     "output_type": "stream",
     "text": [
      "mp-15953\n"
     ]
    },
    {
     "name": "stderr",
     "output_type": "stream",
     "text": [
      "Retrieving MaterialsDoc documents: 100%|██████████| 1/1 [00:00<00:00, 9279.43it/s]\n",
      "Retrieving SummaryDoc documents: 100%|██████████| 1/1 [00:00<00:00, 9446.63it/s]\n"
     ]
    },
    {
     "name": "stdout",
     "output_type": "stream",
     "text": [
      "mp-15954\n"
     ]
    },
    {
     "name": "stderr",
     "output_type": "stream",
     "text": [
      "Retrieving MaterialsDoc documents: 100%|██████████| 1/1 [00:00<00:00, 9686.61it/s]\n",
      "Retrieving SummaryDoc documents: 100%|██████████| 1/1 [00:00<00:00, 10407.70it/s]\n"
     ]
    },
    {
     "name": "stdout",
     "output_type": "stream",
     "text": [
      "mp-1598\n"
     ]
    },
    {
     "name": "stderr",
     "output_type": "stream",
     "text": [
      "Retrieving MaterialsDoc documents: 100%|██████████| 1/1 [00:00<00:00, 9731.56it/s]\n",
      "Retrieving SummaryDoc documents: 100%|██████████| 1/1 [00:00<00:00, 9341.43it/s]\n"
     ]
    },
    {
     "name": "stdout",
     "output_type": "stream",
     "text": [
      "mp-15988\n"
     ]
    },
    {
     "name": "stderr",
     "output_type": "stream",
     "text": [
      "Retrieving MaterialsDoc documents: 100%|██████████| 1/1 [00:00<00:00, 9709.04it/s]\n",
      "Retrieving SummaryDoc documents: 100%|██████████| 1/1 [00:00<00:00, 10034.22it/s]\n"
     ]
    },
    {
     "name": "stdout",
     "output_type": "stream",
     "text": [
      "mp-15999\n"
     ]
    },
    {
     "name": "stderr",
     "output_type": "stream",
     "text": [
      "Retrieving MaterialsDoc documents: 100%|██████████| 1/1 [00:00<00:00, 10034.22it/s]\n",
      "Retrieving SummaryDoc documents: 100%|██████████| 1/1 [00:00<00:00, 8490.49it/s]\n"
     ]
    },
    {
     "name": "stdout",
     "output_type": "stream",
     "text": [
      "mp-160\n"
     ]
    },
    {
     "name": "stderr",
     "output_type": "stream",
     "text": [
      "Retrieving MaterialsDoc documents: 100%|██████████| 1/1 [00:00<00:00, 11983.73it/s]\n",
      "Retrieving SummaryDoc documents: 100%|██████████| 1/1 [00:00<00:00, 10106.76it/s]\n"
     ]
    },
    {
     "name": "stdout",
     "output_type": "stream",
     "text": [
      "mp-16236\n"
     ]
    },
    {
     "name": "stderr",
     "output_type": "stream",
     "text": [
      "Retrieving MaterialsDoc documents: 100%|██████████| 1/1 [00:00<00:00, 13443.28it/s]\n",
      "Retrieving SummaryDoc documents: 100%|██████████| 1/1 [00:00<00:00, 9664.29it/s]\n"
     ]
    },
    {
     "name": "stdout",
     "output_type": "stream",
     "text": [
      "mp-16264\n"
     ]
    },
    {
     "name": "stderr",
     "output_type": "stream",
     "text": [
      "Retrieving MaterialsDoc documents: 100%|██████████| 1/1 [00:00<00:00, 10280.16it/s]\n",
      "Retrieving SummaryDoc documents: 100%|██████████| 1/1 [00:00<00:00, 9300.01it/s]\n"
     ]
    },
    {
     "name": "stdout",
     "output_type": "stream",
     "text": [
      "mp-16337\n"
     ]
    },
    {
     "name": "stderr",
     "output_type": "stream",
     "text": [
      "Retrieving MaterialsDoc documents: 100%|██████████| 1/1 [00:00<00:00, 10106.76it/s]\n",
      "Retrieving SummaryDoc documents: 100%|██████████| 1/1 [00:00<00:00, 8756.38it/s]\n"
     ]
    },
    {
     "name": "stdout",
     "output_type": "stream",
     "text": [
      "mp-1634\n"
     ]
    },
    {
     "name": "stderr",
     "output_type": "stream",
     "text": [
      "Retrieving MaterialsDoc documents: 100%|██████████| 1/1 [00:00<00:00, 11244.78it/s]\n",
      "Retrieving SummaryDoc documents: 100%|██████████| 1/1 [00:00<00:00, 8577.31it/s]\n"
     ]
    },
    {
     "name": "stdout",
     "output_type": "stream",
     "text": [
      "mp-1639\n"
     ]
    },
    {
     "name": "stderr",
     "output_type": "stream",
     "text": [
      "Retrieving MaterialsDoc documents: 100%|██████████| 1/1 [00:00<00:00, 9892.23it/s]\n",
      "Retrieving SummaryDoc documents: 100%|██████████| 1/1 [00:00<00:00, 9279.43it/s]\n"
     ]
    },
    {
     "name": "stdout",
     "output_type": "stream",
     "text": [
      "mp-165\n"
     ]
    },
    {
     "name": "stderr",
     "output_type": "stream",
     "text": [
      "Retrieving MaterialsDoc documents: 100%|██████████| 1/1 [00:00<00:00, 9279.43it/s]\n",
      "Retrieving SummaryDoc documents: 100%|██████████| 1/1 [00:00<00:00, 9709.04it/s]\n"
     ]
    },
    {
     "name": "stdout",
     "output_type": "stream",
     "text": [
      "mp-16577\n"
     ]
    },
    {
     "name": "stderr",
     "output_type": "stream",
     "text": [
      "Retrieving MaterialsDoc documents: 100%|██████████| 1/1 [00:00<00:00, 9731.56it/s]\n",
      "Retrieving SummaryDoc documents: 100%|██████████| 1/1 [00:00<00:00, 9986.44it/s]\n"
     ]
    },
    {
     "name": "stdout",
     "output_type": "stream",
     "text": [
      "mp-1672\n"
     ]
    },
    {
     "name": "stderr",
     "output_type": "stream",
     "text": [
      "Retrieving MaterialsDoc documents: 100%|██████████| 1/1 [00:00<00:00, 9532.51it/s]\n",
      "Retrieving SummaryDoc documents: 100%|██████████| 1/1 [00:00<00:00, 8612.53it/s]\n"
     ]
    },
    {
     "name": "stdout",
     "output_type": "stream",
     "text": [
      "mp-16742\n"
     ]
    },
    {
     "name": "stderr",
     "output_type": "stream",
     "text": [
      "Retrieving MaterialsDoc documents: 100%|██████████| 1/1 [00:00<00:00, 9642.08it/s]\n",
      "Retrieving SummaryDoc documents: 100%|██████████| 1/1 [00:00<00:00, 9118.05it/s]\n"
     ]
    },
    {
     "name": "stdout",
     "output_type": "stream",
     "text": [
      "mp-16763\n"
     ]
    },
    {
     "name": "stderr",
     "output_type": "stream",
     "text": [
      "Retrieving MaterialsDoc documents: 100%|██████████| 1/1 [00:00<00:00, 10645.44it/s]\n",
      "Retrieving SummaryDoc documents: 100%|██████████| 1/1 [00:00<00:00, 8525.01it/s]\n"
     ]
    },
    {
     "name": "stdout",
     "output_type": "stream",
     "text": [
      "mp-16764\n"
     ]
    },
    {
     "name": "stderr",
     "output_type": "stream",
     "text": [
      "Retrieving MaterialsDoc documents: 100%|██████████| 1/1 [00:00<00:00, 11037.64it/s]\n",
      "Retrieving SummaryDoc documents: 100%|██████████| 1/1 [00:00<00:00, 9664.29it/s]\n"
     ]
    },
    {
     "name": "stdout",
     "output_type": "stream",
     "text": [
      "mp-1700\n"
     ]
    },
    {
     "name": "stderr",
     "output_type": "stream",
     "text": [
      "Retrieving MaterialsDoc documents: 100%|██████████| 1/1 [00:00<00:00, 9731.56it/s]\n",
      "Retrieving SummaryDoc documents: 100%|██████████| 1/1 [00:00<00:00, 8630.26it/s]\n"
     ]
    },
    {
     "name": "stdout",
     "output_type": "stream",
     "text": [
      "mp-1747\n"
     ]
    },
    {
     "name": "stderr",
     "output_type": "stream",
     "text": [
      "Retrieving MaterialsDoc documents: 100%|██████████| 1/1 [00:00<00:00, 8456.26it/s]\n",
      "Retrieving SummaryDoc documents: 100%|██████████| 1/1 [00:00<00:00, 9822.73it/s]\n"
     ]
    },
    {
     "name": "stdout",
     "output_type": "stream",
     "text": [
      "mp-1778\n"
     ]
    },
    {
     "name": "stderr",
     "output_type": "stream",
     "text": [
      "Retrieving MaterialsDoc documents: 100%|██████████| 1/1 [00:00<00:00, 9467.95it/s]\n",
      "Retrieving SummaryDoc documents: 100%|██████████| 1/1 [00:00<00:00, 8507.72it/s]\n"
     ]
    },
    {
     "name": "stdout",
     "output_type": "stream",
     "text": [
      "mp-1784\n"
     ]
    },
    {
     "name": "stderr",
     "output_type": "stream",
     "text": [
      "Retrieving MaterialsDoc documents: 100%|██████████| 1/1 [00:00<00:00, 11008.67it/s]\n",
      "Retrieving SummaryDoc documents: 100%|██████████| 1/1 [00:00<00:00, 14217.98it/s]\n"
     ]
    },
    {
     "name": "stdout",
     "output_type": "stream",
     "text": [
      "mp-1794\n"
     ]
    },
    {
     "name": "stderr",
     "output_type": "stream",
     "text": [
      "Retrieving MaterialsDoc documents: 100%|██████████| 1/1 [00:00<00:00, 7002.18it/s]\n",
      "Retrieving SummaryDoc documents: 100%|██████████| 1/1 [00:00<00:00, 8756.38it/s]\n"
     ]
    },
    {
     "name": "stdout",
     "output_type": "stream",
     "text": [
      "mp-181\n"
     ]
    },
    {
     "name": "stderr",
     "output_type": "stream",
     "text": [
      "Retrieving MaterialsDoc documents: 100%|██████████| 1/1 [00:00<00:00, 8811.56it/s]\n",
      "Retrieving SummaryDoc documents: 100%|██████████| 1/1 [00:00<00:00, 9446.63it/s]\n"
     ]
    },
    {
     "name": "stdout",
     "output_type": "stream",
     "text": [
      "mp-1873\n"
     ]
    },
    {
     "name": "stderr",
     "output_type": "stream",
     "text": [
      "Retrieving MaterialsDoc documents: 100%|██████████| 1/1 [00:00<00:00, 10180.35it/s]\n",
      "Retrieving SummaryDoc documents: 100%|██████████| 1/1 [00:00<00:00, 9822.73it/s]\n"
     ]
    },
    {
     "name": "stdout",
     "output_type": "stream",
     "text": [
      "mp-189\n"
     ]
    },
    {
     "name": "stderr",
     "output_type": "stream",
     "text": [
      "Retrieving MaterialsDoc documents: 100%|██████████| 1/1 [00:00<00:00, 9258.95it/s]\n",
      "Retrieving SummaryDoc documents: 100%|██████████| 1/1 [00:00<00:00, 9799.78it/s]\n"
     ]
    },
    {
     "name": "stdout",
     "output_type": "stream",
     "text": [
      "mp-1922\n"
     ]
    },
    {
     "name": "stderr",
     "output_type": "stream",
     "text": [
      "Retrieving MaterialsDoc documents: 100%|██████████| 1/1 [00:00<00:00, 9341.43it/s]\n",
      "Retrieving SummaryDoc documents: 100%|██████████| 1/1 [00:00<00:00, 9404.27it/s]\n"
     ]
    },
    {
     "name": "stdout",
     "output_type": "stream",
     "text": [
      "mp-1958\n"
     ]
    },
    {
     "name": "stderr",
     "output_type": "stream",
     "text": [
      "Retrieving MaterialsDoc documents: 100%|██████████| 1/1 [00:00<00:00, 9986.44it/s]\n",
      "Retrieving SummaryDoc documents: 100%|██████████| 1/1 [00:00<00:00, 9576.04it/s]\n"
     ]
    },
    {
     "name": "stdout",
     "output_type": "stream",
     "text": [
      "mp-1960\n"
     ]
    },
    {
     "name": "stderr",
     "output_type": "stream",
     "text": [
      "Retrieving MaterialsDoc documents: 100%|██████████| 1/1 [00:00<00:00, 8981.38it/s]\n",
      "Retrieving SummaryDoc documents: 100%|██████████| 1/1 [00:00<00:00, 8665.92it/s]\n"
     ]
    },
    {
     "name": "stdout",
     "output_type": "stream",
     "text": [
      "mp-1968\n"
     ]
    },
    {
     "name": "stderr",
     "output_type": "stream",
     "text": [
      "Retrieving MaterialsDoc documents: 100%|██████████| 1/1 [00:00<00:00, 9754.20it/s]\n",
      "Retrieving SummaryDoc documents: 100%|██████████| 1/1 [00:00<00:00, 9446.63it/s]\n"
     ]
    },
    {
     "name": "stdout",
     "output_type": "stream",
     "text": [
      "mp-19717\n"
     ]
    },
    {
     "name": "stderr",
     "output_type": "stream",
     "text": [
      "Retrieving MaterialsDoc documents: 100%|██████████| 1/1 [00:00<00:00, 8683.86it/s]\n",
      "Retrieving SummaryDoc documents: 100%|██████████| 1/1 [00:00<00:00, 9238.56it/s]\n"
     ]
    },
    {
     "name": "stdout",
     "output_type": "stream",
     "text": [
      "mp-19734\n"
     ]
    },
    {
     "name": "stderr",
     "output_type": "stream",
     "text": [
      "Retrieving MaterialsDoc documents: 100%|██████████| 1/1 [00:00<00:00, 9597.95it/s]\n",
      "Retrieving SummaryDoc documents: 100%|██████████| 1/1 [00:00<00:00, 10230.01it/s]\n"
     ]
    },
    {
     "name": "stdout",
     "output_type": "stream",
     "text": [
      "mp-19765\n"
     ]
    },
    {
     "name": "stderr",
     "output_type": "stream",
     "text": [
      "Retrieving MaterialsDoc documents: 100%|██████████| 1/1 [00:00<00:00, 13357.66it/s]\n",
      "Retrieving SummaryDoc documents: 100%|██████████| 1/1 [00:00<00:00, 9362.29it/s]\n"
     ]
    },
    {
     "name": "stdout",
     "output_type": "stream",
     "text": [
      "mp-19795\n"
     ]
    },
    {
     "name": "stderr",
     "output_type": "stream",
     "text": [
      "Retrieving MaterialsDoc documents: 100%|██████████| 1/1 [00:00<00:00, 9619.96it/s]\n",
      "Retrieving SummaryDoc documents: 100%|██████████| 1/1 [00:00<00:00, 10330.80it/s]\n"
     ]
    },
    {
     "name": "stdout",
     "output_type": "stream",
     "text": [
      "mp-19799\n"
     ]
    },
    {
     "name": "stderr",
     "output_type": "stream",
     "text": [
      "Retrieving MaterialsDoc documents: 100%|██████████| 1/1 [00:00<00:00, 9709.04it/s]\n",
      "Retrieving SummaryDoc documents: 100%|██████████| 1/1 [00:00<00:00, 9362.29it/s]\n"
     ]
    },
    {
     "name": "stdout",
     "output_type": "stream",
     "text": [
      "mp-19833\n"
     ]
    },
    {
     "name": "stderr",
     "output_type": "stream",
     "text": [
      "Retrieving MaterialsDoc documents: 100%|██████████| 1/1 [00:00<00:00, 9238.56it/s]\n",
      "Retrieving SummaryDoc documents: 100%|██████████| 1/1 [00:00<00:00, 9868.95it/s]\n"
     ]
    },
    {
     "name": "stdout",
     "output_type": "stream",
     "text": [
      "mp-19851\n"
     ]
    },
    {
     "name": "stderr",
     "output_type": "stream",
     "text": [
      "Retrieving MaterialsDoc documents: 100%|██████████| 1/1 [00:00<00:00, 10180.35it/s]\n",
      "Retrieving SummaryDoc documents: 100%|██████████| 1/1 [00:00<00:00, 8577.31it/s]\n"
     ]
    },
    {
     "name": "stdout",
     "output_type": "stream",
     "text": [
      "mp-1986\n"
     ]
    },
    {
     "name": "stderr",
     "output_type": "stream",
     "text": [
      "Retrieving MaterialsDoc documents: 100%|██████████| 1/1 [00:00<00:00, 9597.95it/s]\n",
      "Retrieving SummaryDoc documents: 100%|██████████| 1/1 [00:00<00:00, 9892.23it/s]\n"
     ]
    },
    {
     "name": "stdout",
     "output_type": "stream",
     "text": [
      "mp-20015\n"
     ]
    },
    {
     "name": "stderr",
     "output_type": "stream",
     "text": [
      "Retrieving MaterialsDoc documents: 100%|██████████| 1/1 [00:00<00:00, 10010.27it/s]\n",
      "Retrieving SummaryDoc documents: 100%|██████████| 1/1 [00:00<00:00, 9597.95it/s]\n"
     ]
    },
    {
     "name": "stdout",
     "output_type": "stream",
     "text": [
      "mp-20027\n"
     ]
    },
    {
     "name": "stderr",
     "output_type": "stream",
     "text": [
      "Retrieving MaterialsDoc documents: 100%|██████████| 1/1 [00:00<00:00, 9258.95it/s]\n",
      "Retrieving SummaryDoc documents: 100%|██████████| 1/1 [00:00<00:00, 8630.26it/s]\n"
     ]
    },
    {
     "name": "stdout",
     "output_type": "stream",
     "text": [
      "mp-20072\n"
     ]
    },
    {
     "name": "stderr",
     "output_type": "stream",
     "text": [
      "Retrieving MaterialsDoc documents: 100%|██████████| 1/1 [00:00<00:00, 9597.95it/s]\n",
      "Retrieving SummaryDoc documents: 100%|██████████| 1/1 [00:00<00:00, 9709.04it/s]\n"
     ]
    },
    {
     "name": "stdout",
     "output_type": "stream",
     "text": [
      "mp-2008\n"
     ]
    },
    {
     "name": "stderr",
     "output_type": "stream",
     "text": [
      "Retrieving MaterialsDoc documents: 100%|██████████| 1/1 [00:00<00:00, 9058.97it/s]\n",
      "Retrieving SummaryDoc documents: 100%|██████████| 1/1 [00:00<00:00, 9754.20it/s]\n"
     ]
    },
    {
     "name": "stdout",
     "output_type": "stream",
     "text": [
      "mp-20098\n"
     ]
    },
    {
     "name": "stderr",
     "output_type": "stream",
     "text": [
      "Retrieving MaterialsDoc documents: 100%|██████████| 1/1 [00:00<00:00, 9776.93it/s]\n",
      "Retrieving SummaryDoc documents: 100%|██████████| 1/1 [00:00<00:00, 10155.70it/s]\n"
     ]
    },
    {
     "name": "stdout",
     "output_type": "stream",
     "text": [
      "mp-20187\n"
     ]
    },
    {
     "name": "stderr",
     "output_type": "stream",
     "text": [
      "Retrieving MaterialsDoc documents: 100%|██████████| 1/1 [00:00<00:00, 6345.39it/s]\n",
      "Retrieving SummaryDoc documents: 100%|██████████| 1/1 [00:00<00:00, 8577.31it/s]\n"
     ]
    },
    {
     "name": "stdout",
     "output_type": "stream",
     "text": [
      "mp-20210\n"
     ]
    },
    {
     "name": "stderr",
     "output_type": "stream",
     "text": [
      "Retrieving MaterialsDoc documents: 100%|██████████| 1/1 [00:00<00:00, 12985.46it/s]\n",
      "Retrieving SummaryDoc documents: 100%|██████████| 1/1 [00:00<00:00, 10255.02it/s]\n"
     ]
    },
    {
     "name": "stdout",
     "output_type": "stream",
     "text": [
      "mp-20256\n"
     ]
    },
    {
     "name": "stderr",
     "output_type": "stream",
     "text": [
      "Retrieving MaterialsDoc documents: 100%|██████████| 1/1 [00:00<00:00, 10485.76it/s]\n",
      "Retrieving SummaryDoc documents: 100%|██████████| 1/1 [00:00<00:00, 8473.34it/s]\n"
     ]
    },
    {
     "name": "stdout",
     "output_type": "stream",
     "text": [
      "mp-20282\n"
     ]
    },
    {
     "name": "stderr",
     "output_type": "stream",
     "text": [
      "Retrieving MaterialsDoc documents: 100%|██████████| 1/1 [00:00<00:00, 10782.27it/s]\n",
      "Retrieving SummaryDoc documents: 100%|██████████| 1/1 [00:00<00:00, 8738.13it/s]\n"
     ]
    },
    {
     "name": "stdout",
     "output_type": "stream",
     "text": [
      "mp-20289\n"
     ]
    },
    {
     "name": "stderr",
     "output_type": "stream",
     "text": [
      "Retrieving MaterialsDoc documents: 100%|██████████| 1/1 [00:00<00:00, 9467.95it/s]\n",
      "Retrieving SummaryDoc documents: 100%|██████████| 1/1 [00:00<00:00, 8612.53it/s]\n"
     ]
    },
    {
     "name": "stdout",
     "output_type": "stream",
     "text": [
      "mp-2030\n"
     ]
    },
    {
     "name": "stderr",
     "output_type": "stream",
     "text": [
      "Retrieving MaterialsDoc documents: 100%|██████████| 1/1 [00:00<00:00, 9258.95it/s]\n",
      "Retrieving SummaryDoc documents: 100%|██████████| 1/1 [00:00<00:00, 9939.11it/s]\n"
     ]
    },
    {
     "name": "stdout",
     "output_type": "stream",
     "text": [
      "mp-20329\n"
     ]
    },
    {
     "name": "stderr",
     "output_type": "stream",
     "text": [
      "Retrieving MaterialsDoc documents: 100%|██████████| 1/1 [00:00<00:00, 9576.04it/s]\n",
      "Retrieving SummaryDoc documents: 100%|██████████| 1/1 [00:00<00:00, 10356.31it/s]\n"
     ]
    },
    {
     "name": "stdout",
     "output_type": "stream",
     "text": [
      "mp-20351\n"
     ]
    },
    {
     "name": "stderr",
     "output_type": "stream",
     "text": [
      "Retrieving MaterialsDoc documents: 100%|██████████| 1/1 [00:00<00:00, 9709.04it/s]\n",
      "Retrieving SummaryDoc documents: 100%|██████████| 1/1 [00:00<00:00, 9532.51it/s]\n"
     ]
    },
    {
     "name": "stdout",
     "output_type": "stream",
     "text": [
      "mp-20352\n"
     ]
    },
    {
     "name": "stderr",
     "output_type": "stream",
     "text": [
      "Retrieving MaterialsDoc documents: 100%|██████████| 1/1 [00:00<00:00, 9554.22it/s]\n",
      "Retrieving SummaryDoc documents: 100%|██████████| 1/1 [00:00<00:00, 8811.56it/s]\n"
     ]
    },
    {
     "name": "stdout",
     "output_type": "stream",
     "text": [
      "mp-20450\n"
     ]
    },
    {
     "name": "stderr",
     "output_type": "stream",
     "text": [
      "Retrieving MaterialsDoc documents: 100%|██████████| 1/1 [00:00<00:00, 9915.61it/s]\n",
      "Retrieving SummaryDoc documents: 100%|██████████| 1/1 [00:00<00:00, 7463.17it/s]\n"
     ]
    },
    {
     "name": "stdout",
     "output_type": "stream",
     "text": [
      "mp-20459\n"
     ]
    },
    {
     "name": "stderr",
     "output_type": "stream",
     "text": [
      "Retrieving MaterialsDoc documents: 100%|██████████| 1/1 [00:00<00:00, 10407.70it/s]\n",
      "Retrieving SummaryDoc documents: 100%|██████████| 1/1 [00:00<00:00, 8793.09it/s]\n"
     ]
    },
    {
     "name": "stdout",
     "output_type": "stream",
     "text": [
      "mp-20463\n"
     ]
    },
    {
     "name": "stderr",
     "output_type": "stream",
     "text": [
      "Retrieving MaterialsDoc documents: 100%|██████████| 1/1 [00:00<00:00, 14169.95it/s]\n",
      "Retrieving SummaryDoc documents: 100%|██████████| 1/1 [00:00<00:00, 10058.28it/s]\n"
     ]
    },
    {
     "name": "stdout",
     "output_type": "stream",
     "text": [
      "mp-20620\n"
     ]
    },
    {
     "name": "stderr",
     "output_type": "stream",
     "text": [
      "Retrieving MaterialsDoc documents: 100%|██████████| 1/1 [00:00<00:00, 11554.56it/s]\n",
      "Retrieving SummaryDoc documents: 100%|██████████| 1/1 [00:00<00:00, 8719.97it/s]\n"
     ]
    },
    {
     "name": "stdout",
     "output_type": "stream",
     "text": [
      "mp-2064\n"
     ]
    },
    {
     "name": "stderr",
     "output_type": "stream",
     "text": [
      "Retrieving MaterialsDoc documents: 100%|██████████| 1/1 [00:00<00:00, 9446.63it/s]\n",
      "Retrieving SummaryDoc documents: 100%|██████████| 1/1 [00:00<00:00, 10106.76it/s]\n"
     ]
    },
    {
     "name": "stdout",
     "output_type": "stream",
     "text": [
      "mp-2068\n"
     ]
    },
    {
     "name": "stderr",
     "output_type": "stream",
     "text": [
      "Retrieving MaterialsDoc documents: 100%|██████████| 1/1 [00:00<00:00, 9754.20it/s]\n",
      "Retrieving SummaryDoc documents: 100%|██████████| 1/1 [00:00<00:00, 9467.95it/s]\n"
     ]
    },
    {
     "name": "stdout",
     "output_type": "stream",
     "text": [
      "mp-2072\n"
     ]
    },
    {
     "name": "stderr",
     "output_type": "stream",
     "text": [
      "Retrieving MaterialsDoc documents: 100%|██████████| 1/1 [00:00<00:00, 9118.05it/s]\n",
      "Retrieving SummaryDoc documents: 100%|██████████| 1/1 [00:00<00:00, 8388.61it/s]\n"
     ]
    },
    {
     "name": "stdout",
     "output_type": "stream",
     "text": [
      "mp-20731\n"
     ]
    },
    {
     "name": "stderr",
     "output_type": "stream",
     "text": [
      "Retrieving MaterialsDoc documents: 100%|██████████| 1/1 [00:00<00:00, 9425.40it/s]\n",
      "Retrieving SummaryDoc documents: 100%|██████████| 1/1 [00:00<00:00, 9892.23it/s]\n"
     ]
    },
    {
     "name": "stdout",
     "output_type": "stream",
     "text": [
      "mp-2074\n"
     ]
    },
    {
     "name": "stderr",
     "output_type": "stream",
     "text": [
      "Retrieving MaterialsDoc documents: 100%|██████████| 1/1 [00:00<00:00, 9664.29it/s]\n",
      "Retrieving SummaryDoc documents: 100%|██████████| 1/1 [00:00<00:00, 9619.96it/s]\n"
     ]
    },
    {
     "name": "stdout",
     "output_type": "stream",
     "text": [
      "mp-20782\n"
     ]
    },
    {
     "name": "stderr",
     "output_type": "stream",
     "text": [
      "Retrieving MaterialsDoc documents: 100%|██████████| 1/1 [00:00<00:00, 9510.89it/s]\n",
      "Retrieving SummaryDoc documents: 100%|██████████| 1/1 [00:00<00:00, 7332.70it/s]\n"
     ]
    },
    {
     "name": "stdout",
     "output_type": "stream",
     "text": [
      "mp-2079\n"
     ]
    },
    {
     "name": "stderr",
     "output_type": "stream",
     "text": [
      "Retrieving MaterialsDoc documents: 100%|██████████| 1/1 [00:00<00:00, 9118.05it/s]\n",
      "Retrieving SummaryDoc documents: 100%|██████████| 1/1 [00:00<00:00, 9300.01it/s]\n"
     ]
    },
    {
     "name": "stdout",
     "output_type": "stream",
     "text": [
      "mp-20790\n"
     ]
    },
    {
     "name": "stderr",
     "output_type": "stream",
     "text": [
      "Retrieving MaterialsDoc documents: 100%|██████████| 1/1 [00:00<00:00, 9845.78it/s]\n",
      "Retrieving SummaryDoc documents: 100%|██████████| 1/1 [00:00<00:00, 9915.61it/s]\n"
     ]
    },
    {
     "name": "stdout",
     "output_type": "stream",
     "text": [
      "mp-20817\n"
     ]
    },
    {
     "name": "stderr",
     "output_type": "stream",
     "text": [
      "Retrieving MaterialsDoc documents: 100%|██████████| 1/1 [00:00<00:00, 8962.19it/s]\n",
      "Retrieving SummaryDoc documents: 100%|██████████| 1/1 [00:00<00:00, 8542.37it/s]\n"
     ]
    },
    {
     "name": "stdout",
     "output_type": "stream",
     "text": [
      "mp-20832\n"
     ]
    },
    {
     "name": "stderr",
     "output_type": "stream",
     "text": [
      "Retrieving MaterialsDoc documents: 100%|██████████| 1/1 [00:00<00:00, 10538.45it/s]\n",
      "Retrieving SummaryDoc documents: 100%|██████████| 1/1 [00:00<00:00, 9709.04it/s]\n"
     ]
    },
    {
     "name": "stdout",
     "output_type": "stream",
     "text": [
      "mp-21166\n"
     ]
    },
    {
     "name": "stderr",
     "output_type": "stream",
     "text": [
      "Retrieving MaterialsDoc documents: 100%|██████████| 1/1 [00:00<00:00, 9137.92it/s]\n",
      "Retrieving SummaryDoc documents: 100%|██████████| 1/1 [00:00<00:00, 9137.92it/s]\n"
     ]
    },
    {
     "name": "stdout",
     "output_type": "stream",
     "text": [
      "mp-21228\n"
     ]
    },
    {
     "name": "stderr",
     "output_type": "stream",
     "text": [
      "Retrieving MaterialsDoc documents: 100%|██████████| 1/1 [00:00<00:00, 8338.58it/s]\n",
      "Retrieving SummaryDoc documents: 100%|██████████| 1/1 [00:00<00:00, 9709.04it/s]\n"
     ]
    },
    {
     "name": "stdout",
     "output_type": "stream",
     "text": [
      "mp-21276\n"
     ]
    },
    {
     "name": "stderr",
     "output_type": "stream",
     "text": [
      "Retrieving MaterialsDoc documents: 100%|██████████| 1/1 [00:00<00:00, 9642.08it/s]\n",
      "Retrieving SummaryDoc documents: 100%|██████████| 1/1 [00:00<00:00, 9754.20it/s]\n"
     ]
    },
    {
     "name": "stdout",
     "output_type": "stream",
     "text": [
      "mp-2133\n"
     ]
    },
    {
     "name": "stderr",
     "output_type": "stream",
     "text": [
      "Retrieving MaterialsDoc documents: 100%|██████████| 1/1 [00:00<00:00, 13066.37it/s]\n",
      "Retrieving SummaryDoc documents: 100%|██████████| 1/1 [00:00<00:00, 9664.29it/s]\n"
     ]
    },
    {
     "name": "stdout",
     "output_type": "stream",
     "text": [
      "mp-21374\n"
     ]
    },
    {
     "name": "stderr",
     "output_type": "stream",
     "text": [
      "Retrieving MaterialsDoc documents: 100%|██████████| 1/1 [00:00<00:00, 9446.63it/s]\n",
      "Retrieving SummaryDoc documents: 100%|██████████| 1/1 [00:00<00:00, 10155.70it/s]\n"
     ]
    },
    {
     "name": "stdout",
     "output_type": "stream",
     "text": [
      "mp-2150\n"
     ]
    },
    {
     "name": "stderr",
     "output_type": "stream",
     "text": [
      "Retrieving MaterialsDoc documents: 100%|██████████| 1/1 [00:00<00:00, 9664.29it/s]\n",
      "Retrieving SummaryDoc documents: 100%|██████████| 1/1 [00:00<00:00, 8756.38it/s]\n"
     ]
    },
    {
     "name": "stdout",
     "output_type": "stream",
     "text": [
      "mp-21510\n"
     ]
    },
    {
     "name": "stderr",
     "output_type": "stream",
     "text": [
      "Retrieving MaterialsDoc documents: 100%|██████████| 1/1 [00:00<00:00, 8943.08it/s]\n",
      "Retrieving SummaryDoc documents: 100%|██████████| 1/1 [00:00<00:00, 9868.95it/s]\n"
     ]
    },
    {
     "name": "stdout",
     "output_type": "stream",
     "text": [
      "mp-21511\n"
     ]
    },
    {
     "name": "stderr",
     "output_type": "stream",
     "text": [
      "Retrieving MaterialsDoc documents: 100%|██████████| 1/1 [00:00<00:00, 10754.63it/s]\n",
      "Retrieving SummaryDoc documents: 100%|██████████| 1/1 [00:00<00:00, 9619.96it/s]\n"
     ]
    },
    {
     "name": "stdout",
     "output_type": "stream",
     "text": [
      "mp-2172\n"
     ]
    },
    {
     "name": "stderr",
     "output_type": "stream",
     "text": [
      "Retrieving MaterialsDoc documents: 100%|██████████| 1/1 [00:00<00:00, 9383.23it/s]\n",
      "Retrieving SummaryDoc documents: 100%|██████████| 1/1 [00:00<00:00, 8830.11it/s]\n"
     ]
    },
    {
     "name": "stdout",
     "output_type": "stream",
     "text": [
      "mp-2175\n"
     ]
    },
    {
     "name": "stderr",
     "output_type": "stream",
     "text": [
      "Retrieving MaterialsDoc documents: 100%|██████████| 1/1 [00:00<00:00, 9320.68it/s]\n",
      "Retrieving SummaryDoc documents: 100%|██████████| 1/1 [00:00<00:00, 8577.31it/s]\n"
     ]
    },
    {
     "name": "stdout",
     "output_type": "stream",
     "text": [
      "mp-2176\n"
     ]
    },
    {
     "name": "stderr",
     "output_type": "stream",
     "text": [
      "Retrieving MaterialsDoc documents: 100%|██████████| 1/1 [00:00<00:00, 9686.61it/s]\n",
      "Retrieving SummaryDoc documents: 100%|██████████| 1/1 [00:00<00:00, 10205.12it/s]\n"
     ]
    },
    {
     "name": "stdout",
     "output_type": "stream",
     "text": [
      "mp-21855\n"
     ]
    },
    {
     "name": "stderr",
     "output_type": "stream",
     "text": [
      "Retrieving MaterialsDoc documents: 100%|██████████| 1/1 [00:00<00:00, 9619.96it/s]\n",
      "Retrieving SummaryDoc documents: 100%|██████████| 1/1 [00:00<00:00, 8683.86it/s]\n"
     ]
    },
    {
     "name": "stdout",
     "output_type": "stream",
     "text": [
      "mp-22003\n"
     ]
    },
    {
     "name": "stderr",
     "output_type": "stream",
     "text": [
      "Retrieving MaterialsDoc documents: 100%|██████████| 1/1 [00:00<00:00, 15709.00it/s]\n",
      "Retrieving SummaryDoc documents: 100%|██████████| 1/1 [00:00<00:00, 11554.56it/s]\n"
     ]
    },
    {
     "name": "stdout",
     "output_type": "stream",
     "text": [
      "mp-2201\n"
     ]
    },
    {
     "name": "stderr",
     "output_type": "stream",
     "text": [
      "Retrieving MaterialsDoc documents: 100%|██████████| 1/1 [00:00<00:00, 9664.29it/s]\n",
      "Retrieving SummaryDoc documents: 100%|██████████| 1/1 [00:00<00:00, 9218.25it/s]\n"
     ]
    },
    {
     "name": "stdout",
     "output_type": "stream",
     "text": [
      "mp-22255\n"
     ]
    },
    {
     "name": "stderr",
     "output_type": "stream",
     "text": [
      "Retrieving MaterialsDoc documents: 100%|██████████| 1/1 [00:00<00:00, 8943.08it/s]\n",
      "Retrieving SummaryDoc documents: 100%|██████████| 1/1 [00:00<00:00, 9532.51it/s]\n"
     ]
    },
    {
     "name": "stdout",
     "output_type": "stream",
     "text": [
      "mp-22261\n"
     ]
    },
    {
     "name": "stderr",
     "output_type": "stream",
     "text": [
      "Retrieving MaterialsDoc documents: 100%|██████████| 1/1 [00:00<00:00, 9198.04it/s]\n",
      "Retrieving SummaryDoc documents: 100%|██████████| 1/1 [00:00<00:00, 8612.53it/s]\n"
     ]
    },
    {
     "name": "stdout",
     "output_type": "stream",
     "text": [
      "mp-2229\n"
     ]
    },
    {
     "name": "stderr",
     "output_type": "stream",
     "text": [
      "Retrieving MaterialsDoc documents: 100%|██████████| 1/1 [00:00<00:00, 9868.95it/s]\n",
      "Retrieving SummaryDoc documents: 100%|██████████| 1/1 [00:00<00:00, 9776.93it/s]\n"
     ]
    },
    {
     "name": "stdout",
     "output_type": "stream",
     "text": [
      "mp-223\n"
     ]
    },
    {
     "name": "stderr",
     "output_type": "stream",
     "text": [
      "Retrieving MaterialsDoc documents: 100%|██████████| 1/1 [00:00<00:00, 15087.42it/s]\n",
      "Retrieving SummaryDoc documents: 100%|██████████| 1/1 [00:00<00:00, 9822.73it/s]\n"
     ]
    },
    {
     "name": "stdout",
     "output_type": "stream",
     "text": [
      "mp-22304\n"
     ]
    },
    {
     "name": "stderr",
     "output_type": "stream",
     "text": [
      "Retrieving MaterialsDoc documents: 100%|██████████| 1/1 [00:00<00:00, 11066.77it/s]\n",
      "Retrieving SummaryDoc documents: 100%|██████████| 1/1 [00:00<00:00, 10433.59it/s]\n"
     ]
    },
    {
     "name": "stdout",
     "output_type": "stream",
     "text": [
      "mp-22313\n"
     ]
    },
    {
     "name": "stderr",
     "output_type": "stream",
     "text": [
      "Retrieving MaterialsDoc documents: 100%|██████████| 1/1 [00:00<00:00, 11037.64it/s]\n",
      "Retrieving SummaryDoc documents: 100%|██████████| 1/1 [00:00<00:00, 9446.63it/s]\n"
     ]
    },
    {
     "name": "stdout",
     "output_type": "stream",
     "text": [
      "mp-22323\n"
     ]
    },
    {
     "name": "stderr",
     "output_type": "stream",
     "text": [
      "Retrieving MaterialsDoc documents: 100%|██████████| 1/1 [00:00<00:00, 10205.12it/s]\n",
      "Retrieving SummaryDoc documents: 100%|██████████| 1/1 [00:00<00:00, 9177.91it/s]\n"
     ]
    },
    {
     "name": "stdout",
     "output_type": "stream",
     "text": [
      "mp-22450\n"
     ]
    },
    {
     "name": "stderr",
     "output_type": "stream",
     "text": [
      "Retrieving MaterialsDoc documents: 100%|██████████| 1/1 [00:00<00:00, 9939.11it/s]\n",
      "Retrieving SummaryDoc documents: 100%|██████████| 1/1 [00:00<00:00, 9799.78it/s]\n"
     ]
    },
    {
     "name": "stdout",
     "output_type": "stream",
     "text": [
      "mp-22473\n"
     ]
    },
    {
     "name": "stderr",
     "output_type": "stream",
     "text": [
      "Retrieving MaterialsDoc documents: 100%|██████████| 1/1 [00:00<00:00, 9576.04it/s]\n",
      "Retrieving SummaryDoc documents: 100%|██████████| 1/1 [00:00<00:00, 8756.38it/s]\n"
     ]
    },
    {
     "name": "stdout",
     "output_type": "stream",
     "text": [
      "mp-22483\n"
     ]
    },
    {
     "name": "stderr",
     "output_type": "stream",
     "text": [
      "Retrieving MaterialsDoc documents: 100%|██████████| 1/1 [00:00<00:00, 14074.85it/s]\n",
      "Retrieving SummaryDoc documents: 100%|██████████| 1/1 [00:00<00:00, 10407.70it/s]\n"
     ]
    },
    {
     "name": "stdout",
     "output_type": "stream",
     "text": [
      "mp-2251\n"
     ]
    },
    {
     "name": "stderr",
     "output_type": "stream",
     "text": [
      "Retrieving MaterialsDoc documents: 100%|██████████| 1/1 [00:00<00:00, 13888.42it/s]\n",
      "Retrieving SummaryDoc documents: 100%|██████████| 1/1 [00:00<00:00, 8756.38it/s]\n"
     ]
    },
    {
     "name": "stdout",
     "output_type": "stream",
     "text": [
      "mp-22583\n"
     ]
    },
    {
     "name": "stderr",
     "output_type": "stream",
     "text": [
      "Retrieving MaterialsDoc documents: 100%|██████████| 1/1 [00:00<00:00, 9118.05it/s]\n",
      "Retrieving SummaryDoc documents: 100%|██████████| 1/1 [00:00<00:00, 8507.72it/s]\n"
     ]
    },
    {
     "name": "stdout",
     "output_type": "stream",
     "text": [
      "mp-22607\n"
     ]
    },
    {
     "name": "stderr",
     "output_type": "stream",
     "text": [
      "Retrieving MaterialsDoc documents: 100%|██████████| 1/1 [00:00<00:00, 9962.72it/s]\n",
      "Retrieving SummaryDoc documents: 100%|██████████| 1/1 [00:00<00:00, 10381.94it/s]\n"
     ]
    },
    {
     "name": "stdout",
     "output_type": "stream",
     "text": [
      "mp-22660\n"
     ]
    },
    {
     "name": "stderr",
     "output_type": "stream",
     "text": [
      "Retrieving MaterialsDoc documents: 100%|██████████| 1/1 [00:00<00:00, 9776.93it/s]\n",
      "Retrieving SummaryDoc documents: 100%|██████████| 1/1 [00:00<00:00, 9177.91it/s]\n"
     ]
    },
    {
     "name": "stdout",
     "output_type": "stream",
     "text": [
      "mp-22851\n"
     ]
    },
    {
     "name": "stderr",
     "output_type": "stream",
     "text": [
      "Retrieving MaterialsDoc documents: 100%|██████████| 1/1 [00:00<00:00, 14217.98it/s]\n",
      "Retrieving SummaryDoc documents: 100%|██████████| 1/1 [00:00<00:00, 10922.67it/s]\n"
     ]
    },
    {
     "name": "stdout",
     "output_type": "stream",
     "text": [
      "mp-2286\n"
     ]
    },
    {
     "name": "stderr",
     "output_type": "stream",
     "text": [
      "Retrieving MaterialsDoc documents: 100%|██████████| 1/1 [00:00<00:00, 12087.33it/s]\n",
      "Retrieving SummaryDoc documents: 100%|██████████| 1/1 [00:00<00:00, 8490.49it/s]\n"
     ]
    },
    {
     "name": "stdout",
     "output_type": "stream",
     "text": [
      "mp-22862\n"
     ]
    },
    {
     "name": "stderr",
     "output_type": "stream",
     "text": [
      "Retrieving MaterialsDoc documents: 100%|██████████| 1/1 [00:00<00:00, 9157.87it/s]\n",
      "Retrieving SummaryDoc documents: 100%|██████████| 1/1 [00:00<00:00, 8577.31it/s]\n"
     ]
    },
    {
     "name": "stdout",
     "output_type": "stream",
     "text": [
      "mp-22865\n"
     ]
    },
    {
     "name": "stderr",
     "output_type": "stream",
     "text": [
      "Retrieving MaterialsDoc documents: 100%|██████████| 1/1 [00:00<00:00, 9892.23it/s]\n",
      "Retrieving SummaryDoc documents: 100%|██████████| 1/1 [00:00<00:00, 8943.08it/s]\n"
     ]
    },
    {
     "name": "stdout",
     "output_type": "stream",
     "text": [
      "mp-22867\n"
     ]
    },
    {
     "name": "stderr",
     "output_type": "stream",
     "text": [
      "Retrieving MaterialsDoc documents: 100%|██████████| 1/1 [00:00<00:00, 7449.92it/s]\n",
      "Retrieving SummaryDoc documents: 100%|██████████| 1/1 [00:00<00:00, 9218.25it/s]\n"
     ]
    },
    {
     "name": "stdout",
     "output_type": "stream",
     "text": [
      "mp-22875\n"
     ]
    },
    {
     "name": "stderr",
     "output_type": "stream",
     "text": [
      "Retrieving MaterialsDoc documents: 100%|██████████| 1/1 [00:00<00:00, 12710.01it/s]\n",
      "Retrieving SummaryDoc documents: 100%|██████████| 1/1 [00:00<00:00, 9754.20it/s]\n"
     ]
    },
    {
     "name": "stdout",
     "output_type": "stream",
     "text": [
      "mp-22888\n"
     ]
    },
    {
     "name": "stderr",
     "output_type": "stream",
     "text": [
      "Retrieving MaterialsDoc documents: 100%|██████████| 1/1 [00:00<00:00, 9510.89it/s]\n",
      "Retrieving SummaryDoc documents: 100%|██████████| 1/1 [00:00<00:00, 9642.08it/s]\n"
     ]
    },
    {
     "name": "stdout",
     "output_type": "stream",
     "text": [
      "mp-22894\n"
     ]
    },
    {
     "name": "stderr",
     "output_type": "stream",
     "text": [
      "Retrieving MaterialsDoc documents: 100%|██████████| 1/1 [00:00<00:00, 10305.42it/s]\n",
      "Retrieving SummaryDoc documents: 100%|██████████| 1/1 [00:00<00:00, 9554.22it/s]\n"
     ]
    },
    {
     "name": "stdout",
     "output_type": "stream",
     "text": [
      "mp-22895\n"
     ]
    },
    {
     "name": "stderr",
     "output_type": "stream",
     "text": [
      "Retrieving MaterialsDoc documents: 100%|██████████| 1/1 [00:00<00:00, 10618.49it/s]\n",
      "Retrieving SummaryDoc documents: 100%|██████████| 1/1 [00:00<00:00, 8559.80it/s]\n"
     ]
    },
    {
     "name": "stdout",
     "output_type": "stream",
     "text": [
      "mp-22896\n"
     ]
    },
    {
     "name": "stderr",
     "output_type": "stream",
     "text": [
      "Retrieving MaterialsDoc documents: 100%|██████████| 1/1 [00:00<00:00, 9731.56it/s]\n",
      "Retrieving SummaryDoc documents: 100%|██████████| 1/1 [00:00<00:00, 8905.10it/s]\n"
     ]
    },
    {
     "name": "stdout",
     "output_type": "stream",
     "text": [
      "mp-22898\n"
     ]
    },
    {
     "name": "stderr",
     "output_type": "stream",
     "text": [
      "Retrieving MaterialsDoc documents: 100%|██████████| 1/1 [00:00<00:00, 9177.91it/s]\n",
      "Retrieving SummaryDoc documents: 100%|██████████| 1/1 [00:00<00:00, 8648.05it/s]\n"
     ]
    },
    {
     "name": "stdout",
     "output_type": "stream",
     "text": [
      "mp-22899\n"
     ]
    },
    {
     "name": "stderr",
     "output_type": "stream",
     "text": [
      "Retrieving MaterialsDoc documents: 100%|██████████| 1/1 [00:00<00:00, 8490.49it/s]\n",
      "Retrieving SummaryDoc documents: 100%|██████████| 1/1 [00:00<00:00, 9341.43it/s]\n"
     ]
    },
    {
     "name": "stdout",
     "output_type": "stream",
     "text": [
      "mp-22901\n"
     ]
    },
    {
     "name": "stderr",
     "output_type": "stream",
     "text": [
      "Retrieving MaterialsDoc documents: 100%|██████████| 1/1 [00:00<00:00, 12157.40it/s]\n",
      "Retrieving SummaryDoc documents: 100%|██████████| 1/1 [00:00<00:00, 9554.22it/s]\n"
     ]
    },
    {
     "name": "stdout",
     "output_type": "stream",
     "text": [
      "mp-22903\n"
     ]
    },
    {
     "name": "stderr",
     "output_type": "stream",
     "text": [
      "Retrieving MaterialsDoc documents: 100%|██████████| 1/1 [00:00<00:00, 9576.04it/s]\n",
      "Retrieving SummaryDoc documents: 100%|██████████| 1/1 [00:00<00:00, 9845.78it/s]\n"
     ]
    },
    {
     "name": "stdout",
     "output_type": "stream",
     "text": [
      "mp-22904\n"
     ]
    },
    {
     "name": "stderr",
     "output_type": "stream",
     "text": [
      "Retrieving MaterialsDoc documents: 100%|██████████| 1/1 [00:00<00:00, 11748.75it/s]\n",
      "Retrieving SummaryDoc documents: 100%|██████████| 1/1 [00:00<00:00, 9000.65it/s]\n"
     ]
    },
    {
     "name": "stdout",
     "output_type": "stream",
     "text": [
      "mp-22905\n"
     ]
    },
    {
     "name": "stderr",
     "output_type": "stream",
     "text": [
      "Retrieving MaterialsDoc documents: 100%|██████████| 1/1 [00:00<00:00, 8701.88it/s]\n",
      "Retrieving SummaryDoc documents: 100%|██████████| 1/1 [00:00<00:00, 8224.13it/s]\n"
     ]
    },
    {
     "name": "stdout",
     "output_type": "stream",
     "text": [
      "mp-22906\n"
     ]
    },
    {
     "name": "stderr",
     "output_type": "stream",
     "text": [
      "Retrieving MaterialsDoc documents: 100%|██████████| 1/1 [00:00<00:00, 13797.05it/s]\n",
      "Retrieving SummaryDoc documents: 100%|██████████| 1/1 [00:00<00:00, 10433.59it/s]\n"
     ]
    },
    {
     "name": "stdout",
     "output_type": "stream",
     "text": [
      "mp-22909\n"
     ]
    },
    {
     "name": "stderr",
     "output_type": "stream",
     "text": [
      "Retrieving MaterialsDoc documents: 100%|██████████| 1/1 [00:00<00:00, 10058.28it/s]\n",
      "Retrieving SummaryDoc documents: 100%|██████████| 1/1 [00:00<00:00, 10255.02it/s]\n"
     ]
    },
    {
     "name": "stdout",
     "output_type": "stream",
     "text": [
      "mp-22913\n"
     ]
    },
    {
     "name": "stderr",
     "output_type": "stream",
     "text": [
      "Retrieving MaterialsDoc documents: 100%|██████████| 1/1 [00:00<00:00, 10485.76it/s]\n",
      "Retrieving SummaryDoc documents: 100%|██████████| 1/1 [00:00<00:00, 8542.37it/s]\n"
     ]
    },
    {
     "name": "stdout",
     "output_type": "stream",
     "text": [
      "mp-22914\n"
     ]
    },
    {
     "name": "stderr",
     "output_type": "stream",
     "text": [
      "Retrieving MaterialsDoc documents: 100%|██████████| 1/1 [00:00<00:00, 9868.95it/s]\n",
      "Retrieving SummaryDoc documents: 100%|██████████| 1/1 [00:00<00:00, 9300.01it/s]\n"
     ]
    },
    {
     "name": "stdout",
     "output_type": "stream",
     "text": [
      "mp-22916\n"
     ]
    },
    {
     "name": "stderr",
     "output_type": "stream",
     "text": [
      "Retrieving MaterialsDoc documents: 100%|██████████| 1/1 [00:00<00:00, 13797.05it/s]\n",
      "Retrieving SummaryDoc documents: 100%|██████████| 1/1 [00:00<00:00, 9341.43it/s]\n"
     ]
    },
    {
     "name": "stdout",
     "output_type": "stream",
     "text": [
      "mp-22919\n"
     ]
    },
    {
     "name": "stderr",
     "output_type": "stream",
     "text": [
      "Retrieving MaterialsDoc documents: 100%|██████████| 1/1 [00:00<00:00, 9731.56it/s]\n",
      "Retrieving SummaryDoc documents: 100%|██████████| 1/1 [00:00<00:00, 9510.89it/s]\n"
     ]
    },
    {
     "name": "stdout",
     "output_type": "stream",
     "text": [
      "mp-22922\n"
     ]
    },
    {
     "name": "stderr",
     "output_type": "stream",
     "text": [
      "Retrieving MaterialsDoc documents: 100%|██████████| 1/1 [00:00<00:00, 9467.95it/s]\n",
      "Retrieving SummaryDoc documents: 100%|██████████| 1/1 [00:00<00:00, 9868.95it/s]\n"
     ]
    },
    {
     "name": "stdout",
     "output_type": "stream",
     "text": [
      "mp-22925\n"
     ]
    },
    {
     "name": "stderr",
     "output_type": "stream",
     "text": [
      "Retrieving MaterialsDoc documents: 100%|██████████| 1/1 [00:00<00:00, 9776.93it/s]\n",
      "Retrieving SummaryDoc documents: 100%|██████████| 1/1 [00:00<00:00, 9078.58it/s]\n"
     ]
    },
    {
     "name": "stdout",
     "output_type": "stream",
     "text": [
      "mp-22934\n"
     ]
    },
    {
     "name": "stderr",
     "output_type": "stream",
     "text": [
      "Retrieving MaterialsDoc documents: 100%|██████████| 1/1 [00:00<00:00, 9137.92it/s]\n",
      "Retrieving SummaryDoc documents: 100%|██████████| 1/1 [00:00<00:00, 8683.86it/s]\n"
     ]
    },
    {
     "name": "stdout",
     "output_type": "stream",
     "text": [
      "mp-22935\n"
     ]
    },
    {
     "name": "stderr",
     "output_type": "stream",
     "text": [
      "Retrieving MaterialsDoc documents: 100%|██████████| 1/1 [00:00<00:00, 9754.20it/s]\n",
      "Retrieving SummaryDoc documents: 100%|██████████| 1/1 [00:00<00:00, 8830.11it/s]\n"
     ]
    },
    {
     "name": "stdout",
     "output_type": "stream",
     "text": [
      "mp-22936\n"
     ]
    },
    {
     "name": "stderr",
     "output_type": "stream",
     "text": [
      "Retrieving MaterialsDoc documents: 100%|██████████| 1/1 [00:00<00:00, 14027.77it/s]\n",
      "Retrieving SummaryDoc documents: 100%|██████████| 1/1 [00:00<00:00, 9731.56it/s]\n"
     ]
    },
    {
     "name": "stdout",
     "output_type": "stream",
     "text": [
      "mp-22937\n"
     ]
    },
    {
     "name": "stderr",
     "output_type": "stream",
     "text": [
      "Retrieving MaterialsDoc documents: 100%|██████████| 1/1 [00:00<00:00, 10866.07it/s]\n",
      "Retrieving SummaryDoc documents: 100%|██████████| 1/1 [00:00<00:00, 9238.56it/s]\n"
     ]
    },
    {
     "name": "stdout",
     "output_type": "stream",
     "text": [
      "mp-22951\n"
     ]
    },
    {
     "name": "stderr",
     "output_type": "stream",
     "text": [
      "Retrieving MaterialsDoc documents: 100%|██████████| 1/1 [00:00<00:00, 13981.01it/s]\n",
      "Retrieving SummaryDoc documents: 100%|██████████| 1/1 [00:00<00:00, 9510.89it/s]\n"
     ]
    },
    {
     "name": "stdout",
     "output_type": "stream",
     "text": [
      "mp-22956\n"
     ]
    },
    {
     "name": "stderr",
     "output_type": "stream",
     "text": [
      "Retrieving MaterialsDoc documents: 100%|██████████| 1/1 [00:00<00:00, 9258.95it/s]\n",
      "Retrieving SummaryDoc documents: 100%|██████████| 1/1 [00:00<00:00, 8322.03it/s]\n"
     ]
    },
    {
     "name": "stdout",
     "output_type": "stream",
     "text": [
      "mp-22957\n"
     ]
    },
    {
     "name": "stderr",
     "output_type": "stream",
     "text": [
      "Retrieving MaterialsDoc documents: 100%|██████████| 1/1 [00:00<00:00, 9962.72it/s]\n",
      "Retrieving SummaryDoc documents: 100%|██████████| 1/1 [00:00<00:00, 8405.42it/s]\n"
     ]
    },
    {
     "name": "stdout",
     "output_type": "stream",
     "text": [
      "mp-22975\n"
     ]
    },
    {
     "name": "stderr",
     "output_type": "stream",
     "text": [
      "Retrieving MaterialsDoc documents: 100%|██████████| 1/1 [00:00<00:00, 10180.35it/s]\n",
      "Retrieving SummaryDoc documents: 100%|██████████| 1/1 [00:00<00:00, 9776.93it/s]\n"
     ]
    },
    {
     "name": "stdout",
     "output_type": "stream",
     "text": [
      "mp-22984\n"
     ]
    },
    {
     "name": "stderr",
     "output_type": "stream",
     "text": [
      "Retrieving MaterialsDoc documents: 100%|██████████| 1/1 [00:00<00:00, 9686.61it/s]\n",
      "Retrieving SummaryDoc documents: 100%|██████████| 1/1 [00:00<00:00, 8719.97it/s]\n"
     ]
    },
    {
     "name": "stdout",
     "output_type": "stream",
     "text": [
      "mp-22988\n"
     ]
    },
    {
     "name": "stderr",
     "output_type": "stream",
     "text": [
      "Retrieving MaterialsDoc documents: 100%|██████████| 1/1 [00:00<00:00, 9039.45it/s]\n",
      "Retrieving SummaryDoc documents: 100%|██████████| 1/1 [00:00<00:00, 8388.61it/s]\n"
     ]
    },
    {
     "name": "stdout",
     "output_type": "stream",
     "text": [
      "mp-22990\n"
     ]
    },
    {
     "name": "stderr",
     "output_type": "stream",
     "text": [
      "Retrieving MaterialsDoc documents: 100%|██████████| 1/1 [00:00<00:00, 9098.27it/s]\n",
      "Retrieving SummaryDoc documents: 100%|██████████| 1/1 [00:00<00:00, 10356.31it/s]\n"
     ]
    },
    {
     "name": "stdout",
     "output_type": "stream",
     "text": [
      "mp-23004\n"
     ]
    },
    {
     "name": "stderr",
     "output_type": "stream",
     "text": [
      "Retrieving MaterialsDoc documents: 100%|██████████| 1/1 [00:00<00:00, 9467.95it/s]\n",
      "Retrieving SummaryDoc documents: 100%|██████████| 1/1 [00:00<00:00, 9258.95it/s]\n"
     ]
    },
    {
     "name": "stdout",
     "output_type": "stream",
     "text": [
      "mp-23009\n"
     ]
    },
    {
     "name": "stderr",
     "output_type": "stream",
     "text": [
      "Retrieving MaterialsDoc documents: 100%|██████████| 1/1 [00:00<00:00, 10010.27it/s]\n",
      "Retrieving SummaryDoc documents: 100%|██████████| 1/1 [00:00<00:00, 10106.76it/s]\n"
     ]
    },
    {
     "name": "stdout",
     "output_type": "stream",
     "text": [
      "mp-23017\n"
     ]
    },
    {
     "name": "stderr",
     "output_type": "stream",
     "text": [
      "Retrieving MaterialsDoc documents: 100%|██████████| 1/1 [00:00<00:00, 9177.91it/s]\n",
      "Retrieving SummaryDoc documents: 100%|██████████| 1/1 [00:00<00:00, 8559.80it/s]\n"
     ]
    },
    {
     "name": "stdout",
     "output_type": "stream",
     "text": [
      "mp-23018\n"
     ]
    },
    {
     "name": "stderr",
     "output_type": "stream",
     "text": [
      "Retrieving MaterialsDoc documents: 100%|██████████| 1/1 [00:00<00:00, 9731.56it/s]\n",
      "Retrieving SummaryDoc documents: 100%|██████████| 1/1 [00:00<00:00, 8774.69it/s]\n"
     ]
    },
    {
     "name": "stdout",
     "output_type": "stream",
     "text": [
      "mp-23023\n"
     ]
    },
    {
     "name": "stderr",
     "output_type": "stream",
     "text": [
      "Retrieving MaterialsDoc documents: 100%|██████████| 1/1 [00:00<00:00, 9279.43it/s]\n",
      "Retrieving SummaryDoc documents: 100%|██████████| 1/1 [00:00<00:00, 8559.80it/s]\n"
     ]
    },
    {
     "name": "stdout",
     "output_type": "stream",
     "text": [
      "mp-23024\n"
     ]
    },
    {
     "name": "stderr",
     "output_type": "stream",
     "text": [
      "Retrieving MaterialsDoc documents: 100%|██████████| 1/1 [00:00<00:00, 9754.20it/s]\n",
      "Retrieving SummaryDoc documents: 100%|██████████| 1/1 [00:00<00:00, 9845.78it/s]\n"
     ]
    },
    {
     "name": "stdout",
     "output_type": "stream",
     "text": [
      "mp-23025\n"
     ]
    },
    {
     "name": "stderr",
     "output_type": "stream",
     "text": [
      "Retrieving MaterialsDoc documents: 100%|██████████| 1/1 [00:00<00:00, 10754.63it/s]\n",
      "Retrieving SummaryDoc documents: 100%|██████████| 1/1 [00:00<00:00, 10255.02it/s]\n"
     ]
    },
    {
     "name": "stdout",
     "output_type": "stream",
     "text": [
      "mp-23033\n"
     ]
    },
    {
     "name": "stderr",
     "output_type": "stream",
     "text": [
      "Retrieving MaterialsDoc documents: 100%|██████████| 1/1 [00:00<00:00, 9425.40it/s]\n",
      "Retrieving SummaryDoc documents: 100%|██████████| 1/1 [00:00<00:00, 9664.29it/s]\n"
     ]
    },
    {
     "name": "stdout",
     "output_type": "stream",
     "text": [
      "mp-23036\n"
     ]
    },
    {
     "name": "stderr",
     "output_type": "stream",
     "text": [
      "Retrieving MaterialsDoc documents: 100%|██████████| 1/1 [00:00<00:00, 9320.68it/s]\n",
      "Retrieving SummaryDoc documents: 100%|██████████| 1/1 [00:00<00:00, 10205.12it/s]\n"
     ]
    },
    {
     "name": "stdout",
     "output_type": "stream",
     "text": [
      "mp-23040\n"
     ]
    },
    {
     "name": "stderr",
     "output_type": "stream",
     "text": [
      "Retrieving MaterialsDoc documents: 100%|██████████| 1/1 [00:00<00:00, 11008.67it/s]\n",
      "Retrieving SummaryDoc documents: 100%|██████████| 1/1 [00:00<00:00, 8542.37it/s]\n"
     ]
    },
    {
     "name": "stdout",
     "output_type": "stream",
     "text": [
      "mp-23054\n"
     ]
    },
    {
     "name": "stderr",
     "output_type": "stream",
     "text": [
      "Retrieving MaterialsDoc documents: 100%|██████████| 1/1 [00:00<00:00, 9157.87it/s]\n",
      "Retrieving SummaryDoc documents: 100%|██████████| 1/1 [00:00<00:00, 8867.45it/s]\n"
     ]
    },
    {
     "name": "stdout",
     "output_type": "stream",
     "text": [
      "mp-23056\n"
     ]
    },
    {
     "name": "stderr",
     "output_type": "stream",
     "text": [
      "Retrieving MaterialsDoc documents: 100%|██████████| 1/1 [00:00<00:00, 9489.38it/s]\n",
      "Retrieving SummaryDoc documents: 100%|██████████| 1/1 [00:00<00:00, 8594.89it/s]\n"
     ]
    },
    {
     "name": "stdout",
     "output_type": "stream",
     "text": [
      "mp-23059\n"
     ]
    },
    {
     "name": "stderr",
     "output_type": "stream",
     "text": [
      "Retrieving MaterialsDoc documents: 100%|██████████| 1/1 [00:00<00:00, 10180.35it/s]\n",
      "Retrieving SummaryDoc documents: 100%|██████████| 1/1 [00:00<00:00, 9799.78it/s]\n"
     ]
    },
    {
     "name": "stdout",
     "output_type": "stream",
     "text": [
      "mp-23060\n"
     ]
    },
    {
     "name": "stderr",
     "output_type": "stream",
     "text": [
      "Retrieving MaterialsDoc documents: 100%|██████████| 1/1 [00:00<00:00, 9177.91it/s]\n",
      "Retrieving SummaryDoc documents: 100%|██████████| 1/1 [00:00<00:00, 9642.08it/s]\n"
     ]
    },
    {
     "name": "stdout",
     "output_type": "stream",
     "text": [
      "mp-23067\n"
     ]
    },
    {
     "name": "stderr",
     "output_type": "stream",
     "text": [
      "Retrieving MaterialsDoc documents: 100%|██████████| 1/1 [00:00<00:00, 9238.56it/s]\n",
      "Retrieving SummaryDoc documents: 100%|██████████| 1/1 [00:00<00:00, 8756.38it/s]\n"
     ]
    },
    {
     "name": "stdout",
     "output_type": "stream",
     "text": [
      "mp-23070\n"
     ]
    },
    {
     "name": "stderr",
     "output_type": "stream",
     "text": [
      "Retrieving MaterialsDoc documents: 100%|██████████| 1/1 [00:00<00:00, 9776.93it/s]\n",
      "Retrieving SummaryDoc documents: 100%|██████████| 1/1 [00:00<00:00, 8683.86it/s]\n"
     ]
    },
    {
     "name": "stdout",
     "output_type": "stream",
     "text": [
      "mp-23091\n"
     ]
    },
    {
     "name": "stderr",
     "output_type": "stream",
     "text": [
      "Retrieving MaterialsDoc documents: 100%|██████████| 1/1 [00:00<00:00, 9642.08it/s]\n",
      "Retrieving SummaryDoc documents: 100%|██████████| 1/1 [00:00<00:00, 9642.08it/s]\n"
     ]
    },
    {
     "name": "stdout",
     "output_type": "stream",
     "text": [
      "mp-23092\n"
     ]
    },
    {
     "name": "stderr",
     "output_type": "stream",
     "text": [
      "Retrieving MaterialsDoc documents: 100%|██████████| 1/1 [00:00<00:00, 9177.91it/s]\n",
      "Retrieving SummaryDoc documents: 100%|██████████| 1/1 [00:00<00:00, 9776.93it/s]\n"
     ]
    },
    {
     "name": "stdout",
     "output_type": "stream",
     "text": [
      "mp-23097\n"
     ]
    },
    {
     "name": "stderr",
     "output_type": "stream",
     "text": [
      "Retrieving MaterialsDoc documents: 100%|██████████| 1/1 [00:00<00:00, 12826.62it/s]\n",
      "Retrieving SummaryDoc documents: 100%|██████████| 1/1 [00:00<00:00, 10512.04it/s]\n"
     ]
    },
    {
     "name": "stdout",
     "output_type": "stream",
     "text": [
      "mp-23116\n"
     ]
    },
    {
     "name": "stderr",
     "output_type": "stream",
     "text": [
      "Retrieving MaterialsDoc documents: 100%|██████████| 1/1 [00:00<00:00, 10672.53it/s]\n",
      "Retrieving SummaryDoc documents: 100%|██████████| 1/1 [00:00<00:00, 9776.93it/s]\n"
     ]
    },
    {
     "name": "stdout",
     "output_type": "stream",
     "text": [
      "mp-23120\n"
     ]
    },
    {
     "name": "stderr",
     "output_type": "stream",
     "text": [
      "Retrieving MaterialsDoc documents: 100%|██████████| 1/1 [00:00<00:00, 9258.95it/s]\n",
      "Retrieving SummaryDoc documents: 100%|██████████| 1/1 [00:00<00:00, 8542.37it/s]\n"
     ]
    },
    {
     "name": "stdout",
     "output_type": "stream",
     "text": [
      "mp-23127\n"
     ]
    },
    {
     "name": "stderr",
     "output_type": "stream",
     "text": [
      "Retrieving MaterialsDoc documents: 100%|██████████| 1/1 [00:00<00:00, 10010.27it/s]\n",
      "Retrieving SummaryDoc documents: 100%|██████████| 1/1 [00:00<00:00, 9554.22it/s]\n"
     ]
    },
    {
     "name": "stdout",
     "output_type": "stream",
     "text": [
      "mp-23137\n"
     ]
    },
    {
     "name": "stderr",
     "output_type": "stream",
     "text": [
      "Retrieving MaterialsDoc documents: 100%|██████████| 1/1 [00:00<00:00, 9467.95it/s]\n",
      "Retrieving SummaryDoc documents: 100%|██████████| 1/1 [00:00<00:00, 10255.02it/s]\n"
     ]
    },
    {
     "name": "stdout",
     "output_type": "stream",
     "text": [
      "mp-23167\n"
     ]
    },
    {
     "name": "stderr",
     "output_type": "stream",
     "text": [
      "Retrieving MaterialsDoc documents: 100%|██████████| 1/1 [00:00<00:00, 9822.73it/s]\n",
      "Retrieving SummaryDoc documents: 100%|██████████| 1/1 [00:00<00:00, 8719.97it/s]\n"
     ]
    },
    {
     "name": "stdout",
     "output_type": "stream",
     "text": [
      "mp-2319\n"
     ]
    },
    {
     "name": "stderr",
     "output_type": "stream",
     "text": [
      "Retrieving MaterialsDoc documents: 100%|██████████| 1/1 [00:00<00:00, 9383.23it/s]\n",
      "Retrieving SummaryDoc documents: 100%|██████████| 1/1 [00:00<00:00, 10155.70it/s]\n"
     ]
    },
    {
     "name": "stdout",
     "output_type": "stream",
     "text": [
      "mp-23193\n"
     ]
    },
    {
     "name": "stderr",
     "output_type": "stream",
     "text": [
      "Retrieving MaterialsDoc documents: 100%|██████████| 1/1 [00:00<00:00, 9642.08it/s]\n",
      "Retrieving SummaryDoc documents: 100%|██████████| 1/1 [00:00<00:00, 8701.88it/s]\n"
     ]
    },
    {
     "name": "stdout",
     "output_type": "stream",
     "text": [
      "mp-23197\n"
     ]
    },
    {
     "name": "stderr",
     "output_type": "stream",
     "text": [
      "Retrieving MaterialsDoc documents: 100%|██████████| 1/1 [00:00<00:00, 9532.51it/s]\n",
      "Retrieving SummaryDoc documents: 100%|██████████| 1/1 [00:00<00:00, 8507.72it/s]\n"
     ]
    },
    {
     "name": "stdout",
     "output_type": "stream",
     "text": [
      "mp-23209\n"
     ]
    },
    {
     "name": "stderr",
     "output_type": "stream",
     "text": [
      "Retrieving MaterialsDoc documents: 100%|██████████| 1/1 [00:00<00:00, 9320.68it/s]\n",
      "Retrieving SummaryDoc documents: 100%|██████████| 1/1 [00:00<00:00, 8774.69it/s]\n"
     ]
    },
    {
     "name": "stdout",
     "output_type": "stream",
     "text": [
      "mp-23214\n"
     ]
    },
    {
     "name": "stderr",
     "output_type": "stream",
     "text": [
      "Retrieving MaterialsDoc documents: 100%|██████████| 1/1 [00:00<00:00, 9986.44it/s]\n",
      "Retrieving SummaryDoc documents: 100%|██████████| 1/1 [00:00<00:00, 10180.35it/s]\n"
     ]
    },
    {
     "name": "stdout",
     "output_type": "stream",
     "text": [
      "mp-23222\n"
     ]
    },
    {
     "name": "stderr",
     "output_type": "stream",
     "text": [
      "Retrieving MaterialsDoc documents: 100%|██████████| 1/1 [00:00<00:00, 11096.04it/s]\n",
      "Retrieving SummaryDoc documents: 100%|██████████| 1/1 [00:00<00:00, 8811.56it/s]\n"
     ]
    },
    {
     "name": "stdout",
     "output_type": "stream",
     "text": [
      "mp-23231\n"
     ]
    },
    {
     "name": "stderr",
     "output_type": "stream",
     "text": [
      "Retrieving MaterialsDoc documents: 100%|██████████| 1/1 [00:00<00:00, 13751.82it/s]\n",
      "Retrieving SummaryDoc documents: 100%|██████████| 1/1 [00:00<00:00, 9039.45it/s]\n"
     ]
    },
    {
     "name": "stdout",
     "output_type": "stream",
     "text": [
      "mp-23251\n"
     ]
    },
    {
     "name": "stderr",
     "output_type": "stream",
     "text": [
      "Retrieving MaterialsDoc documents: 100%|██████████| 1/1 [00:00<00:00, 9915.61it/s]\n",
      "Retrieving SummaryDoc documents: 100%|██████████| 1/1 [00:00<00:00, 9058.97it/s]\n"
     ]
    },
    {
     "name": "stdout",
     "output_type": "stream",
     "text": [
      "mp-23259\n"
     ]
    },
    {
     "name": "stderr",
     "output_type": "stream",
     "text": [
      "Retrieving MaterialsDoc documents: 100%|██████████| 1/1 [00:00<00:00, 6909.89it/s]\n",
      "Retrieving SummaryDoc documents: 100%|██████████| 1/1 [00:00<00:00, 8648.05it/s]\n"
     ]
    },
    {
     "name": "stdout",
     "output_type": "stream",
     "text": [
      "mp-23260\n"
     ]
    },
    {
     "name": "stderr",
     "output_type": "stream",
     "text": [
      "Retrieving MaterialsDoc documents: 100%|██████████| 1/1 [00:00<00:00, 9279.43it/s]\n",
      "Retrieving SummaryDoc documents: 100%|██████████| 1/1 [00:00<00:00, 9709.04it/s]\n"
     ]
    },
    {
     "name": "stdout",
     "output_type": "stream",
     "text": [
      "mp-23263\n"
     ]
    },
    {
     "name": "stderr",
     "output_type": "stream",
     "text": [
      "Retrieving MaterialsDoc documents: 100%|██████████| 1/1 [00:00<00:00, 10782.27it/s]\n",
      "Retrieving SummaryDoc documents: 100%|██████████| 1/1 [00:00<00:00, 9619.96it/s]\n"
     ]
    },
    {
     "name": "stdout",
     "output_type": "stream",
     "text": [
      "mp-23268\n"
     ]
    },
    {
     "name": "stderr",
     "output_type": "stream",
     "text": [
      "Retrieving MaterialsDoc documents: 100%|██████████| 1/1 [00:00<00:00, 9137.92it/s]\n",
      "Retrieving SummaryDoc documents: 100%|██████████| 1/1 [00:00<00:00, 8559.80it/s]\n"
     ]
    },
    {
     "name": "stdout",
     "output_type": "stream",
     "text": [
      "mp-23289\n"
     ]
    },
    {
     "name": "stderr",
     "output_type": "stream",
     "text": [
      "Retrieving MaterialsDoc documents: 100%|██████████| 1/1 [00:00<00:00, 9078.58it/s]\n",
      "Retrieving SummaryDoc documents: 100%|██████████| 1/1 [00:00<00:00, 8507.72it/s]\n"
     ]
    },
    {
     "name": "stdout",
     "output_type": "stream",
     "text": [
      "mp-23295\n"
     ]
    },
    {
     "name": "stderr",
     "output_type": "stream",
     "text": [
      "Retrieving MaterialsDoc documents: 100%|██████████| 1/1 [00:00<00:00, 8848.74it/s]\n",
      "Retrieving SummaryDoc documents: 100%|██████████| 1/1 [00:00<00:00, 9137.92it/s]\n"
     ]
    },
    {
     "name": "stdout",
     "output_type": "stream",
     "text": [
      "mp-23299\n"
     ]
    },
    {
     "name": "stderr",
     "output_type": "stream",
     "text": [
      "Retrieving MaterialsDoc documents: 100%|██████████| 1/1 [00:00<00:00, 13617.87it/s]\n",
      "Retrieving SummaryDoc documents: 100%|██████████| 1/1 [00:00<00:00, 9000.65it/s]\n"
     ]
    },
    {
     "name": "stdout",
     "output_type": "stream",
     "text": [
      "mp-23302\n"
     ]
    },
    {
     "name": "stderr",
     "output_type": "stream",
     "text": [
      "Retrieving MaterialsDoc documents: 100%|██████████| 1/1 [00:00<00:00, 9597.95it/s]\n",
      "Retrieving SummaryDoc documents: 100%|██████████| 1/1 [00:00<00:00, 10305.42it/s]\n"
     ]
    },
    {
     "name": "stdout",
     "output_type": "stream",
     "text": [
      "mp-23303\n"
     ]
    },
    {
     "name": "stderr",
     "output_type": "stream",
     "text": [
      "Retrieving MaterialsDoc documents: 100%|██████████| 1/1 [00:00<00:00, 10010.27it/s]\n",
      "Retrieving SummaryDoc documents: 100%|██████████| 1/1 [00:00<00:00, 9686.61it/s]\n"
     ]
    },
    {
     "name": "stdout",
     "output_type": "stream",
     "text": [
      "mp-23349\n"
     ]
    },
    {
     "name": "stderr",
     "output_type": "stream",
     "text": [
      "Retrieving MaterialsDoc documents: 100%|██████████| 1/1 [00:00<00:00, 10058.28it/s]\n",
      "Retrieving SummaryDoc documents: 100%|██████████| 1/1 [00:00<00:00, 9939.11it/s]\n"
     ]
    },
    {
     "name": "stdout",
     "output_type": "stream",
     "text": [
      "mp-23350\n"
     ]
    },
    {
     "name": "stderr",
     "output_type": "stream",
     "text": [
      "Retrieving MaterialsDoc documents: 100%|██████████| 1/1 [00:00<00:00, 8388.61it/s]\n",
      "Retrieving SummaryDoc documents: 100%|██████████| 1/1 [00:00<00:00, 8612.53it/s]\n"
     ]
    },
    {
     "name": "stdout",
     "output_type": "stream",
     "text": [
      "mp-23353\n"
     ]
    },
    {
     "name": "stderr",
     "output_type": "stream",
     "text": [
      "Retrieving MaterialsDoc documents: 100%|██████████| 1/1 [00:00<00:00, 9279.43it/s]\n",
      "Retrieving SummaryDoc documents: 100%|██████████| 1/1 [00:00<00:00, 9731.56it/s]\n"
     ]
    },
    {
     "name": "stdout",
     "output_type": "stream",
     "text": [
      "mp-23364\n"
     ]
    },
    {
     "name": "stderr",
     "output_type": "stream",
     "text": [
      "Retrieving MaterialsDoc documents: 100%|██████████| 1/1 [00:00<00:00, 9554.22it/s]\n",
      "Retrieving SummaryDoc documents: 100%|██████████| 1/1 [00:00<00:00, 8507.72it/s]\n"
     ]
    },
    {
     "name": "stdout",
     "output_type": "stream",
     "text": [
      "mp-2340\n"
     ]
    },
    {
     "name": "stderr",
     "output_type": "stream",
     "text": [
      "Retrieving MaterialsDoc documents: 100%|██████████| 1/1 [00:00<00:00, 9383.23it/s]\n",
      "Retrieving SummaryDoc documents: 100%|██████████| 1/1 [00:00<00:00, 9576.04it/s]\n"
     ]
    },
    {
     "name": "stdout",
     "output_type": "stream",
     "text": [
      "mp-23405\n"
     ]
    },
    {
     "name": "stderr",
     "output_type": "stream",
     "text": [
      "Retrieving MaterialsDoc documents: 100%|██████████| 1/1 [00:00<00:00, 9177.91it/s]\n",
      "Retrieving SummaryDoc documents: 100%|██████████| 1/1 [00:00<00:00, 9554.22it/s]\n"
     ]
    },
    {
     "name": "stdout",
     "output_type": "stream",
     "text": [
      "mp-23406\n"
     ]
    },
    {
     "name": "stderr",
     "output_type": "stream",
     "text": [
      "Retrieving MaterialsDoc documents: 100%|██████████| 1/1 [00:00<00:00, 9597.95it/s]\n",
      "Retrieving SummaryDoc documents: 100%|██████████| 1/1 [00:00<00:00, 8525.01it/s]\n"
     ]
    },
    {
     "name": "stdout",
     "output_type": "stream",
     "text": [
      "mp-23425\n"
     ]
    },
    {
     "name": "stderr",
     "output_type": "stream",
     "text": [
      "Retrieving MaterialsDoc documents: 100%|██████████| 1/1 [00:00<00:00, 9731.56it/s]\n",
      "Retrieving SummaryDoc documents: 100%|██████████| 1/1 [00:00<00:00, 9576.04it/s]\n"
     ]
    },
    {
     "name": "stdout",
     "output_type": "stream",
     "text": [
      "mp-23432\n"
     ]
    },
    {
     "name": "stderr",
     "output_type": "stream",
     "text": [
      "Retrieving MaterialsDoc documents: 100%|██████████| 1/1 [00:00<00:00, 12748.64it/s]\n",
      "Retrieving SummaryDoc documents: 100%|██████████| 1/1 [00:00<00:00, 8439.24it/s]\n"
     ]
    },
    {
     "name": "stdout",
     "output_type": "stream",
     "text": [
      "mp-23465\n"
     ]
    },
    {
     "name": "stderr",
     "output_type": "stream",
     "text": [
      "Retrieving MaterialsDoc documents: 100%|██████████| 1/1 [00:00<00:00, 8981.38it/s]\n",
      "Retrieving SummaryDoc documents: 100%|██████████| 1/1 [00:00<00:00, 13981.01it/s]\n"
     ]
    },
    {
     "name": "stdout",
     "output_type": "stream",
     "text": [
      "mp-23475\n"
     ]
    },
    {
     "name": "stderr",
     "output_type": "stream",
     "text": [
      "Retrieving MaterialsDoc documents: 100%|██████████| 1/1 [00:00<00:00, 9597.95it/s]\n",
      "Retrieving SummaryDoc documents: 100%|██████████| 1/1 [00:00<00:00, 9279.43it/s]\n"
     ]
    },
    {
     "name": "stdout",
     "output_type": "stream",
     "text": [
      "mp-23484\n"
     ]
    },
    {
     "name": "stderr",
     "output_type": "stream",
     "text": [
      "Retrieving MaterialsDoc documents: 100%|██████████| 1/1 [00:00<00:00, 13981.01it/s]\n",
      "Retrieving SummaryDoc documents: 100%|██████████| 1/1 [00:00<00:00, 9510.89it/s]\n"
     ]
    },
    {
     "name": "stdout",
     "output_type": "stream",
     "text": [
      "mp-23485\n"
     ]
    },
    {
     "name": "stderr",
     "output_type": "stream",
     "text": [
      "Retrieving MaterialsDoc documents: 100%|██████████| 1/1 [00:00<00:00, 8793.09it/s]\n",
      "Retrieving SummaryDoc documents: 100%|██████████| 1/1 [00:00<00:00, 8338.58it/s]\n"
     ]
    },
    {
     "name": "stdout",
     "output_type": "stream",
     "text": [
      "mp-23513\n"
     ]
    },
    {
     "name": "stderr",
     "output_type": "stream",
     "text": [
      "Retrieving MaterialsDoc documents: 100%|██████████| 1/1 [00:00<00:00, 9664.29it/s]\n",
      "Retrieving SummaryDoc documents: 100%|██████████| 1/1 [00:00<00:00, 9776.93it/s]\n"
     ]
    },
    {
     "name": "stdout",
     "output_type": "stream",
     "text": [
      "mp-2352\n"
     ]
    },
    {
     "name": "stderr",
     "output_type": "stream",
     "text": [
      "Retrieving MaterialsDoc documents: 100%|██████████| 1/1 [00:00<00:00, 8924.05it/s]\n",
      "Retrieving SummaryDoc documents: 100%|██████████| 1/1 [00:00<00:00, 8081.51it/s]\n"
     ]
    },
    {
     "name": "stdout",
     "output_type": "stream",
     "text": [
      "mp-23550\n"
     ]
    },
    {
     "name": "stderr",
     "output_type": "stream",
     "text": [
      "Retrieving MaterialsDoc documents: 100%|██████████| 1/1 [00:00<00:00, 14926.35it/s]\n",
      "Retrieving SummaryDoc documents: 100%|██████████| 1/1 [00:00<00:00, 11781.75it/s]\n"
     ]
    },
    {
     "name": "stdout",
     "output_type": "stream",
     "text": [
      "mp-23703\n"
     ]
    },
    {
     "name": "stderr",
     "output_type": "stream",
     "text": [
      "Retrieving MaterialsDoc documents: 100%|██████████| 1/1 [00:00<00:00, 6647.07it/s]\n",
      "Retrieving SummaryDoc documents: 100%|██████████| 1/1 [00:00<00:00, 8719.97it/s]\n"
     ]
    },
    {
     "name": "stdout",
     "output_type": "stream",
     "text": [
      "mp-2371\n"
     ]
    },
    {
     "name": "stderr",
     "output_type": "stream",
     "text": [
      "Retrieving MaterialsDoc documents: 100%|██████████| 1/1 [00:00<00:00, 13981.01it/s]\n",
      "Retrieving SummaryDoc documents: 100%|██████████| 1/1 [00:00<00:00, 9597.95it/s]\n"
     ]
    },
    {
     "name": "stdout",
     "output_type": "stream",
     "text": [
      "mp-23710\n"
     ]
    },
    {
     "name": "stderr",
     "output_type": "stream",
     "text": [
      "Retrieving MaterialsDoc documents: 100%|██████████| 1/1 [00:00<00:00, 8738.13it/s]\n",
      "Retrieving SummaryDoc documents: 100%|██████████| 1/1 [00:00<00:00, 8144.28it/s]\n"
     ]
    },
    {
     "name": "stdout",
     "output_type": "stream",
     "text": [
      "mp-23737\n"
     ]
    },
    {
     "name": "stderr",
     "output_type": "stream",
     "text": [
      "Retrieving MaterialsDoc documents: 100%|██████████| 1/1 [00:00<00:00, 9510.89it/s]\n",
      "Retrieving SummaryDoc documents: 100%|██████████| 1/1 [00:00<00:00, 8981.38it/s]\n"
     ]
    },
    {
     "name": "stdout",
     "output_type": "stream",
     "text": [
      "mp-23804\n"
     ]
    },
    {
     "name": "stderr",
     "output_type": "stream",
     "text": [
      "Retrieving MaterialsDoc documents: 100%|██████████| 1/1 [00:00<00:00, 10565.00it/s]\n",
      "Retrieving SummaryDoc documents: 100%|██████████| 1/1 [00:00<00:00, 9892.23it/s]\n"
     ]
    },
    {
     "name": "stdout",
     "output_type": "stream",
     "text": [
      "mp-23818\n"
     ]
    },
    {
     "name": "stderr",
     "output_type": "stream",
     "text": [
      "Retrieving MaterialsDoc documents: 100%|██████████| 1/1 [00:00<00:00, 9279.43it/s]\n",
      "Retrieving SummaryDoc documents: 100%|██████████| 1/1 [00:00<00:00, 9776.93it/s]\n"
     ]
    },
    {
     "name": "stdout",
     "output_type": "stream",
     "text": [
      "mp-23859\n"
     ]
    },
    {
     "name": "stderr",
     "output_type": "stream",
     "text": [
      "Retrieving MaterialsDoc documents: 100%|██████████| 1/1 [00:00<00:00, 10034.22it/s]\n",
      "Retrieving SummaryDoc documents: 100%|██████████| 1/1 [00:00<00:00, 8830.11it/s]\n"
     ]
    },
    {
     "name": "stdout",
     "output_type": "stream",
     "text": [
      "mp-23860\n"
     ]
    },
    {
     "name": "stderr",
     "output_type": "stream",
     "text": [
      "Retrieving MaterialsDoc documents: 100%|██████████| 1/1 [00:00<00:00, 9467.95it/s]\n",
      "Retrieving SummaryDoc documents: 100%|██████████| 1/1 [00:00<00:00, 9822.73it/s]\n"
     ]
    },
    {
     "name": "stdout",
     "output_type": "stream",
     "text": [
      "mp-23861\n"
     ]
    },
    {
     "name": "stderr",
     "output_type": "stream",
     "text": [
      "Retrieving MaterialsDoc documents: 100%|██████████| 1/1 [00:00<00:00, 9576.04it/s]\n",
      "Retrieving SummaryDoc documents: 100%|██████████| 1/1 [00:00<00:00, 9915.61it/s]\n"
     ]
    },
    {
     "name": "stdout",
     "output_type": "stream",
     "text": [
      "mp-23862\n"
     ]
    },
    {
     "name": "stderr",
     "output_type": "stream",
     "text": [
      "Retrieving MaterialsDoc documents: 100%|██████████| 1/1 [00:00<00:00, 10699.76it/s]\n",
      "Retrieving SummaryDoc documents: 100%|██████████| 1/1 [00:00<00:00, 10106.76it/s]\n"
     ]
    },
    {
     "name": "stdout",
     "output_type": "stream",
     "text": [
      "mp-23870\n"
     ]
    },
    {
     "name": "stderr",
     "output_type": "stream",
     "text": [
      "Retrieving MaterialsDoc documents: 100%|██████████| 1/1 [00:00<00:00, 15477.14it/s]\n",
      "Retrieving SummaryDoc documents: 100%|██████████| 1/1 [00:00<00:00, 9362.29it/s]\n"
     ]
    },
    {
     "name": "stdout",
     "output_type": "stream",
     "text": [
      "mp-239\n"
     ]
    },
    {
     "name": "stderr",
     "output_type": "stream",
     "text": [
      "Retrieving MaterialsDoc documents: 100%|██████████| 1/1 [00:00<00:00, 9383.23it/s]\n",
      "Retrieving SummaryDoc documents: 100%|██████████| 1/1 [00:00<00:00, 9939.11it/s]\n"
     ]
    },
    {
     "name": "stdout",
     "output_type": "stream",
     "text": [
      "mp-23933\n"
     ]
    },
    {
     "name": "stderr",
     "output_type": "stream",
     "text": [
      "Retrieving MaterialsDoc documents: 100%|██████████| 1/1 [00:00<00:00, 9892.23it/s]\n",
      "Retrieving SummaryDoc documents: 100%|██████████| 1/1 [00:00<00:00, 10305.42it/s]\n"
     ]
    },
    {
     "name": "stdout",
     "output_type": "stream",
     "text": [
      "mp-23949\n"
     ]
    },
    {
     "name": "stderr",
     "output_type": "stream",
     "text": [
      "Retrieving MaterialsDoc documents: 100%|██████████| 1/1 [00:00<00:00, 11096.04it/s]\n",
      "Retrieving SummaryDoc documents: 100%|██████████| 1/1 [00:00<00:00, 9939.11it/s]\n"
     ]
    },
    {
     "name": "stdout",
     "output_type": "stream",
     "text": [
      "mp-23956\n"
     ]
    },
    {
     "name": "stderr",
     "output_type": "stream",
     "text": [
      "Retrieving MaterialsDoc documents: 100%|██████████| 1/1 [00:00<00:00, 9868.95it/s]\n",
      "Retrieving SummaryDoc documents: 100%|██████████| 1/1 [00:00<00:00, 9939.11it/s]\n"
     ]
    },
    {
     "name": "stdout",
     "output_type": "stream",
     "text": [
      "mp-2400\n"
     ]
    },
    {
     "name": "stderr",
     "output_type": "stream",
     "text": [
      "Retrieving MaterialsDoc documents: 100%|██████████| 1/1 [00:00<00:00, 14413.42it/s]\n",
      "Retrieving SummaryDoc documents: 100%|██████████| 1/1 [00:00<00:00, 9279.43it/s]\n"
     ]
    },
    {
     "name": "stdout",
     "output_type": "stream",
     "text": [
      "mp-24007\n"
     ]
    },
    {
     "name": "stderr",
     "output_type": "stream",
     "text": [
      "Retrieving MaterialsDoc documents: 100%|██████████| 1/1 [00:00<00:00, 13617.87it/s]\n",
      "Retrieving SummaryDoc documents: 100%|██████████| 1/1 [00:00<00:00, 11428.62it/s]\n"
     ]
    },
    {
     "name": "stdout",
     "output_type": "stream",
     "text": [
      "mp-24066\n"
     ]
    },
    {
     "name": "stderr",
     "output_type": "stream",
     "text": [
      "Retrieving MaterialsDoc documents: 100%|██████████| 1/1 [00:00<00:00, 14074.85it/s]\n",
      "Retrieving SummaryDoc documents: 100%|██████████| 1/1 [00:00<00:00, 9341.43it/s]\n"
     ]
    },
    {
     "name": "stdout",
     "output_type": "stream",
     "text": [
      "mp-24084\n"
     ]
    },
    {
     "name": "stderr",
     "output_type": "stream",
     "text": [
      "Retrieving MaterialsDoc documents: 100%|██████████| 1/1 [00:00<00:00, 9279.43it/s]\n",
      "Retrieving SummaryDoc documents: 100%|██████████| 1/1 [00:00<00:00, 8405.42it/s]\n"
     ]
    },
    {
     "name": "stdout",
     "output_type": "stream",
     "text": [
      "mp-241\n"
     ]
    },
    {
     "name": "stderr",
     "output_type": "stream",
     "text": [
      "Retrieving MaterialsDoc documents: 100%|██████████| 1/1 [00:00<00:00, 9754.20it/s]\n",
      "Retrieving SummaryDoc documents: 100%|██████████| 1/1 [00:00<00:00, 9404.27it/s]\n"
     ]
    },
    {
     "name": "stdout",
     "output_type": "stream",
     "text": [
      "mp-24292\n"
     ]
    },
    {
     "name": "stderr",
     "output_type": "stream",
     "text": [
      "Retrieving MaterialsDoc documents: 100%|██████████| 1/1 [00:00<00:00, 9098.27it/s]\n",
      "Retrieving SummaryDoc documents: 100%|██████████| 1/1 [00:00<00:00, 9020.01it/s]\n"
     ]
    },
    {
     "name": "stdout",
     "output_type": "stream",
     "text": [
      "mp-24341\n"
     ]
    },
    {
     "name": "stderr",
     "output_type": "stream",
     "text": [
      "Retrieving MaterialsDoc documents: 100%|██████████| 1/1 [00:00<00:00, 9731.56it/s]\n",
      "Retrieving SummaryDoc documents: 100%|██████████| 1/1 [00:00<00:00, 9799.78it/s]\n"
     ]
    },
    {
     "name": "stdout",
     "output_type": "stream",
     "text": [
      "mp-24423\n"
     ]
    },
    {
     "name": "stderr",
     "output_type": "stream",
     "text": [
      "Retrieving MaterialsDoc documents: 100%|██████████| 1/1 [00:00<00:00, 9177.91it/s]\n",
      "Retrieving SummaryDoc documents: 100%|██████████| 1/1 [00:00<00:00, 9279.43it/s]\n"
     ]
    },
    {
     "name": "stdout",
     "output_type": "stream",
     "text": [
      "mp-24424\n"
     ]
    },
    {
     "name": "stderr",
     "output_type": "stream",
     "text": [
      "Retrieving MaterialsDoc documents: 100%|██████████| 1/1 [00:00<00:00, 9532.51it/s]\n",
      "Retrieving SummaryDoc documents: 100%|██████████| 1/1 [00:00<00:00, 9489.38it/s]\n"
     ]
    },
    {
     "name": "stdout",
     "output_type": "stream",
     "text": [
      "mp-24428\n"
     ]
    },
    {
     "name": "stderr",
     "output_type": "stream",
     "text": [
      "Retrieving MaterialsDoc documents: 100%|██████████| 1/1 [00:00<00:00, 9446.63it/s]\n",
      "Retrieving SummaryDoc documents: 100%|██████████| 1/1 [00:00<00:00, 10280.16it/s]\n"
     ]
    },
    {
     "name": "stdout",
     "output_type": "stream",
     "text": [
      "mp-2455\n"
     ]
    },
    {
     "name": "stderr",
     "output_type": "stream",
     "text": [
      "Retrieving MaterialsDoc documents: 100%|██████████| 1/1 [00:00<00:00, 10672.53it/s]\n",
      "Retrieving SummaryDoc documents: 100%|██████████| 1/1 [00:00<00:00, 17697.49it/s]\n"
     ]
    },
    {
     "name": "stdout",
     "output_type": "stream",
     "text": [
      "mp-24589\n"
     ]
    },
    {
     "name": "stderr",
     "output_type": "stream",
     "text": [
      "Retrieving MaterialsDoc documents: 100%|██████████| 1/1 [00:00<00:00, 9597.95it/s]\n",
      "Retrieving SummaryDoc documents: 100%|██████████| 1/1 [00:00<00:00, 10082.46it/s]\n"
     ]
    },
    {
     "name": "stdout",
     "output_type": "stream",
     "text": [
      "mp-2469\n"
     ]
    },
    {
     "name": "stderr",
     "output_type": "stream",
     "text": [
      "Retrieving MaterialsDoc documents: 100%|██████████| 1/1 [00:00<00:00, 9731.56it/s]\n",
      "Retrieving SummaryDoc documents: 100%|██████████| 1/1 [00:00<00:00, 8756.38it/s]\n"
     ]
    },
    {
     "name": "stdout",
     "output_type": "stream",
     "text": [
      "mp-2472\n"
     ]
    },
    {
     "name": "stderr",
     "output_type": "stream",
     "text": [
      "Retrieving MaterialsDoc documents: 100%|██████████| 1/1 [00:00<00:00, 9962.72it/s]\n",
      "Retrieving SummaryDoc documents: 100%|██████████| 1/1 [00:00<00:00, 10205.12it/s]\n"
     ]
    },
    {
     "name": "stdout",
     "output_type": "stream",
     "text": [
      "mp-24721\n"
     ]
    },
    {
     "name": "stderr",
     "output_type": "stream",
     "text": [
      "Retrieving MaterialsDoc documents: 100%|██████████| 1/1 [00:00<00:00, 10979.85it/s]\n",
      "Retrieving SummaryDoc documents: 100%|██████████| 1/1 [00:00<00:00, 8594.89it/s]\n"
     ]
    },
    {
     "name": "stdout",
     "output_type": "stream",
     "text": [
      "mp-2488\n"
     ]
    },
    {
     "name": "stderr",
     "output_type": "stream",
     "text": [
      "Retrieving MaterialsDoc documents: 100%|██████████| 1/1 [00:00<00:00, 9258.95it/s]\n",
      "Retrieving SummaryDoc documents: 100%|██████████| 1/1 [00:00<00:00, 9576.04it/s]\n"
     ]
    },
    {
     "name": "stdout",
     "output_type": "stream",
     "text": [
      "mp-2490\n"
     ]
    },
    {
     "name": "stderr",
     "output_type": "stream",
     "text": [
      "Retrieving MaterialsDoc documents: 100%|██████████| 1/1 [00:00<00:00, 8701.88it/s]\n",
      "Retrieving SummaryDoc documents: 100%|██████████| 1/1 [00:00<00:00, 9868.95it/s]\n"
     ]
    },
    {
     "name": "stdout",
     "output_type": "stream",
     "text": [
      "mp-2517\n"
     ]
    },
    {
     "name": "stderr",
     "output_type": "stream",
     "text": [
      "Retrieving MaterialsDoc documents: 100%|██████████| 1/1 [00:00<00:00, 9258.95it/s]\n",
      "Retrieving SummaryDoc documents: 100%|██████████| 1/1 [00:00<00:00, 8924.05it/s]\n"
     ]
    },
    {
     "name": "stdout",
     "output_type": "stream",
     "text": [
      "mp-252\n"
     ]
    },
    {
     "name": "stderr",
     "output_type": "stream",
     "text": [
      "Retrieving MaterialsDoc documents: 100%|██████████| 1/1 [00:00<00:00, 10230.01it/s]\n",
      "Retrieving SummaryDoc documents: 100%|██████████| 1/1 [00:00<00:00, 8439.24it/s]\n"
     ]
    },
    {
     "name": "stdout",
     "output_type": "stream",
     "text": [
      "mp-2530\n"
     ]
    },
    {
     "name": "stderr",
     "output_type": "stream",
     "text": [
      "Retrieving MaterialsDoc documents: 100%|██████████| 1/1 [00:00<00:00, 9576.04it/s]\n",
      "Retrieving SummaryDoc documents: 100%|██████████| 1/1 [00:00<00:00, 8422.30it/s]\n"
     ]
    },
    {
     "name": "stdout",
     "output_type": "stream",
     "text": [
      "mp-25305\n"
     ]
    },
    {
     "name": "stderr",
     "output_type": "stream",
     "text": [
      "Retrieving MaterialsDoc documents: 100%|██████████| 1/1 [00:00<00:00, 9362.29it/s]\n",
      "Retrieving SummaryDoc documents: 100%|██████████| 1/1 [00:00<00:00, 9489.38it/s]\n"
     ]
    },
    {
     "name": "stdout",
     "output_type": "stream",
     "text": [
      "mp-2534\n"
     ]
    },
    {
     "name": "stderr",
     "output_type": "stream",
     "text": [
      "Retrieving MaterialsDoc documents: 100%|██████████| 1/1 [00:00<00:00, 9554.22it/s]\n",
      "Retrieving SummaryDoc documents: 100%|██████████| 1/1 [00:00<00:00, 8473.34it/s]\n"
     ]
    },
    {
     "name": "stdout",
     "output_type": "stream",
     "text": [
      "mp-2542\n"
     ]
    },
    {
     "name": "stderr",
     "output_type": "stream",
     "text": [
      "Retrieving MaterialsDoc documents: 100%|██████████| 1/1 [00:00<00:00, 9915.61it/s]\n",
      "Retrieving SummaryDoc documents: 100%|██████████| 1/1 [00:00<00:00, 8943.08it/s]\n"
     ]
    },
    {
     "name": "stdout",
     "output_type": "stream",
     "text": [
      "mp-2552\n"
     ]
    },
    {
     "name": "stderr",
     "output_type": "stream",
     "text": [
      "Retrieving MaterialsDoc documents: 100%|██████████| 1/1 [00:00<00:00, 15033.35it/s]\n",
      "Retrieving SummaryDoc documents: 100%|██████████| 1/1 [00:00<00:00, 9425.40it/s]\n"
     ]
    },
    {
     "name": "stdout",
     "output_type": "stream",
     "text": [
      "mp-2574\n"
     ]
    },
    {
     "name": "stderr",
     "output_type": "stream",
     "text": [
      "Retrieving MaterialsDoc documents: 100%|██████████| 1/1 [00:00<00:00, 9446.63it/s]\n",
      "Retrieving SummaryDoc documents: 100%|██████████| 1/1 [00:00<00:00, 8371.86it/s]\n"
     ]
    },
    {
     "name": "stdout",
     "output_type": "stream",
     "text": [
      "mp-2576\n"
     ]
    },
    {
     "name": "stderr",
     "output_type": "stream",
     "text": [
      "Retrieving MaterialsDoc documents: 100%|██████████| 1/1 [00:00<00:00, 13066.37it/s]\n",
      "Retrieving SummaryDoc documents: 100%|██████████| 1/1 [00:00<00:00, 8473.34it/s]\n"
     ]
    },
    {
     "name": "stdout",
     "output_type": "stream",
     "text": [
      "mp-2600\n"
     ]
    },
    {
     "name": "stderr",
     "output_type": "stream",
     "text": [
      "Retrieving MaterialsDoc documents: 100%|██████████| 1/1 [00:00<00:00, 10672.53it/s]\n",
      "Retrieving SummaryDoc documents: 100%|██████████| 1/1 [00:00<00:00, 9118.05it/s]\n"
     ]
    },
    {
     "name": "stdout",
     "output_type": "stream",
     "text": [
      "mp-2605\n"
     ]
    },
    {
     "name": "stderr",
     "output_type": "stream",
     "text": [
      "Retrieving MaterialsDoc documents: 100%|██████████| 1/1 [00:00<00:00, 12710.01it/s]\n",
      "Retrieving SummaryDoc documents: 100%|██████████| 1/1 [00:00<00:00, 8439.24it/s]\n"
     ]
    },
    {
     "name": "stdout",
     "output_type": "stream",
     "text": [
      "mp-2624\n"
     ]
    },
    {
     "name": "stderr",
     "output_type": "stream",
     "text": [
      "Retrieving MaterialsDoc documents: 100%|██████████| 1/1 [00:00<00:00, 10672.53it/s]\n",
      "Retrieving SummaryDoc documents: 100%|██████████| 1/1 [00:00<00:00, 9597.95it/s]\n"
     ]
    },
    {
     "name": "stdout",
     "output_type": "stream",
     "text": [
      "mp-2646\n"
     ]
    },
    {
     "name": "stderr",
     "output_type": "stream",
     "text": [
      "Retrieving MaterialsDoc documents: 100%|██████████| 1/1 [00:00<00:00, 9218.25it/s]\n",
      "Retrieving SummaryDoc documents: 100%|██████████| 1/1 [00:00<00:00, 9554.22it/s]\n"
     ]
    },
    {
     "name": "stdout",
     "output_type": "stream",
     "text": [
      "mp-2657\n"
     ]
    },
    {
     "name": "stderr",
     "output_type": "stream",
     "text": [
      "Retrieving MaterialsDoc documents: 100%|██████████| 1/1 [00:00<00:00, 12826.62it/s]\n",
      "Retrieving SummaryDoc documents: 100%|██████████| 1/1 [00:00<00:00, 8559.80it/s]\n"
     ]
    },
    {
     "name": "stdout",
     "output_type": "stream",
     "text": [
      "mp-2659\n"
     ]
    },
    {
     "name": "stderr",
     "output_type": "stream",
     "text": [
      "Retrieving MaterialsDoc documents: 100%|██████████| 1/1 [00:00<00:00, 13842.59it/s]\n",
      "Retrieving SummaryDoc documents: 100%|██████████| 1/1 [00:00<00:00, 9597.95it/s]\n"
     ]
    },
    {
     "name": "stdout",
     "output_type": "stream",
     "text": [
      "mp-2667\n"
     ]
    },
    {
     "name": "stderr",
     "output_type": "stream",
     "text": [
      "Retrieving MaterialsDoc documents: 100%|██████████| 1/1 [00:00<00:00, 10106.76it/s]\n",
      "Retrieving SummaryDoc documents: 100%|██████████| 1/1 [00:00<00:00, 9238.56it/s]\n"
     ]
    },
    {
     "name": "stdout",
     "output_type": "stream",
     "text": [
      "mp-267\n"
     ]
    },
    {
     "name": "stderr",
     "output_type": "stream",
     "text": [
      "Retrieving MaterialsDoc documents: 100%|██████████| 1/1 [00:00<00:00, 9822.73it/s]\n",
      "Retrieving SummaryDoc documents: 100%|██████████| 1/1 [00:00<00:00, 9078.58it/s]\n"
     ]
    },
    {
     "name": "stdout",
     "output_type": "stream",
     "text": [
      "mp-2672\n"
     ]
    },
    {
     "name": "stderr",
     "output_type": "stream",
     "text": [
      "Retrieving MaterialsDoc documents: 100%|██████████| 1/1 [00:00<00:00, 9000.65it/s]\n",
      "Retrieving SummaryDoc documents: 100%|██████████| 1/1 [00:00<00:00, 8559.80it/s]\n"
     ]
    },
    {
     "name": "stdout",
     "output_type": "stream",
     "text": [
      "mp-2691\n"
     ]
    },
    {
     "name": "stderr",
     "output_type": "stream",
     "text": [
      "Retrieving MaterialsDoc documents: 100%|██████████| 1/1 [00:00<00:00, 9597.95it/s]\n",
      "Retrieving SummaryDoc documents: 100%|██████████| 1/1 [00:00<00:00, 8577.31it/s]\n"
     ]
    },
    {
     "name": "stdout",
     "output_type": "stream",
     "text": [
      "mp-2693\n"
     ]
    },
    {
     "name": "stderr",
     "output_type": "stream",
     "text": [
      "Retrieving MaterialsDoc documents: 100%|██████████| 1/1 [00:00<00:00, 12787.51it/s]\n",
      "Retrieving SummaryDoc documents: 100%|██████████| 1/1 [00:00<00:00, 8305.55it/s]\n"
     ]
    },
    {
     "name": "stdout",
     "output_type": "stream",
     "text": [
      "mp-2695\n"
     ]
    },
    {
     "name": "stderr",
     "output_type": "stream",
     "text": [
      "Retrieving MaterialsDoc documents: 100%|██████████| 1/1 [00:00<00:00, 9218.25it/s]\n",
      "Retrieving SummaryDoc documents: 100%|██████████| 1/1 [00:00<00:00, 8542.37it/s]\n"
     ]
    },
    {
     "name": "stdout",
     "output_type": "stream",
     "text": [
      "mp-2697\n"
     ]
    },
    {
     "name": "stderr",
     "output_type": "stream",
     "text": [
      "Retrieving MaterialsDoc documents: 100%|██████████| 1/1 [00:00<00:00, 12945.38it/s]\n",
      "Retrieving SummaryDoc documents: 100%|██████████| 1/1 [00:00<00:00, 8793.09it/s]\n"
     ]
    },
    {
     "name": "stdout",
     "output_type": "stream",
     "text": [
      "mp-27138\n"
     ]
    },
    {
     "name": "stderr",
     "output_type": "stream",
     "text": [
      "Retrieving MaterialsDoc documents: 100%|██████████| 1/1 [00:00<00:00, 15477.14it/s]\n",
      "Retrieving SummaryDoc documents: 100%|██████████| 1/1 [00:00<00:00, 9597.95it/s]\n"
     ]
    },
    {
     "name": "stdout",
     "output_type": "stream",
     "text": [
      "mp-27193\n"
     ]
    },
    {
     "name": "stderr",
     "output_type": "stream",
     "text": [
      "Retrieving MaterialsDoc documents: 100%|██████████| 1/1 [00:00<00:00, 9554.22it/s]\n",
      "Retrieving SummaryDoc documents: 100%|██████████| 1/1 [00:00<00:00, 9258.95it/s]\n"
     ]
    },
    {
     "name": "stdout",
     "output_type": "stream",
     "text": [
      "mp-27207\n"
     ]
    },
    {
     "name": "stderr",
     "output_type": "stream",
     "text": [
      "Retrieving MaterialsDoc documents: 100%|██████████| 1/1 [00:00<00:00, 9554.22it/s]\n",
      "Retrieving SummaryDoc documents: 100%|██████████| 1/1 [00:00<00:00, 9776.93it/s]\n"
     ]
    },
    {
     "name": "stdout",
     "output_type": "stream",
     "text": [
      "mp-27227\n"
     ]
    },
    {
     "name": "stderr",
     "output_type": "stream",
     "text": [
      "Retrieving MaterialsDoc documents: 100%|██████████| 1/1 [00:00<00:00, 12052.60it/s]\n",
      "Retrieving SummaryDoc documents: 100%|██████████| 1/1 [00:00<00:00, 8542.37it/s]\n"
     ]
    },
    {
     "name": "stdout",
     "output_type": "stream",
     "text": [
      "mp-27243\n"
     ]
    },
    {
     "name": "stderr",
     "output_type": "stream",
     "text": [
      "Retrieving MaterialsDoc documents: 100%|██████████| 1/1 [00:00<00:00, 9320.68it/s]\n",
      "Retrieving SummaryDoc documents: 100%|██████████| 1/1 [00:00<00:00, 10058.28it/s]\n"
     ]
    },
    {
     "name": "stdout",
     "output_type": "stream",
     "text": [
      "mp-27253\n"
     ]
    },
    {
     "name": "stderr",
     "output_type": "stream",
     "text": [
      "Retrieving MaterialsDoc documents: 100%|██████████| 1/1 [00:00<00:00, 9686.61it/s]\n",
      "Retrieving SummaryDoc documents: 100%|██████████| 1/1 [00:00<00:00, 9218.25it/s]\n"
     ]
    },
    {
     "name": "stdout",
     "output_type": "stream",
     "text": [
      "mp-27255\n"
     ]
    },
    {
     "name": "stderr",
     "output_type": "stream",
     "text": [
      "Retrieving MaterialsDoc documents: 100%|██████████| 1/1 [00:00<00:00, 9709.04it/s]\n",
      "Retrieving SummaryDoc documents: 100%|██████████| 1/1 [00:00<00:00, 7530.17it/s]\n"
     ]
    },
    {
     "name": "stdout",
     "output_type": "stream",
     "text": [
      "mp-27294\n"
     ]
    },
    {
     "name": "stderr",
     "output_type": "stream",
     "text": [
      "Retrieving MaterialsDoc documents: 100%|██████████| 1/1 [00:00<00:00, 9489.38it/s]\n",
      "Retrieving SummaryDoc documents: 100%|██████████| 1/1 [00:00<00:00, 9986.44it/s]\n"
     ]
    },
    {
     "name": "stdout",
     "output_type": "stream",
     "text": [
      "mp-27300\n"
     ]
    },
    {
     "name": "stderr",
     "output_type": "stream",
     "text": [
      "Retrieving MaterialsDoc documents: 100%|██████████| 1/1 [00:00<00:00, 9754.20it/s]\n",
      "Retrieving SummaryDoc documents: 100%|██████████| 1/1 [00:00<00:00, 8793.09it/s]\n"
     ]
    },
    {
     "name": "stdout",
     "output_type": "stream",
     "text": [
      "mp-27303\n"
     ]
    },
    {
     "name": "stderr",
     "output_type": "stream",
     "text": [
      "Retrieving MaterialsDoc documents: 100%|██████████| 1/1 [00:00<00:00, 10381.94it/s]\n",
      "Retrieving SummaryDoc documents: 100%|██████████| 1/1 [00:00<00:00, 8905.10it/s]\n"
     ]
    },
    {
     "name": "stdout",
     "output_type": "stream",
     "text": [
      "mp-27315\n"
     ]
    },
    {
     "name": "stderr",
     "output_type": "stream",
     "text": [
      "Retrieving MaterialsDoc documents: 100%|██████████| 1/1 [00:00<00:00, 8559.80it/s]\n",
      "Retrieving SummaryDoc documents: 100%|██████████| 1/1 [00:00<00:00, 8305.55it/s]\n"
     ]
    },
    {
     "name": "stdout",
     "output_type": "stream",
     "text": [
      "mp-27369\n"
     ]
    },
    {
     "name": "stderr",
     "output_type": "stream",
     "text": [
      "Retrieving MaterialsDoc documents: 100%|██████████| 1/1 [00:00<00:00, 8924.05it/s]\n",
      "Retrieving SummaryDoc documents: 100%|██████████| 1/1 [00:00<00:00, 9039.45it/s]\n"
     ]
    },
    {
     "name": "stdout",
     "output_type": "stream",
     "text": [
      "mp-27385\n"
     ]
    },
    {
     "name": "stderr",
     "output_type": "stream",
     "text": [
      "Retrieving MaterialsDoc documents: 100%|██████████| 1/1 [00:00<00:00, 13888.42it/s]\n",
      "Retrieving SummaryDoc documents: 100%|██████████| 1/1 [00:00<00:00, 9731.56it/s]\n"
     ]
    },
    {
     "name": "stdout",
     "output_type": "stream",
     "text": [
      "mp-2741\n"
     ]
    },
    {
     "name": "stderr",
     "output_type": "stream",
     "text": [
      "Retrieving MaterialsDoc documents: 100%|██████████| 1/1 [00:00<00:00, 9362.29it/s]\n",
      "Retrieving SummaryDoc documents: 100%|██████████| 1/1 [00:00<00:00, 8719.97it/s]\n"
     ]
    },
    {
     "name": "stdout",
     "output_type": "stream",
     "text": [
      "mp-27419\n"
     ]
    },
    {
     "name": "stderr",
     "output_type": "stream",
     "text": [
      "Retrieving MaterialsDoc documents: 100%|██████████| 1/1 [00:00<00:00, 9731.56it/s]\n",
      "Retrieving SummaryDoc documents: 100%|██████████| 1/1 [00:00<00:00, 9383.23it/s]\n"
     ]
    },
    {
     "name": "stdout",
     "output_type": "stream",
     "text": [
      "mp-27420\n"
     ]
    },
    {
     "name": "stderr",
     "output_type": "stream",
     "text": [
      "Retrieving MaterialsDoc documents: 100%|██████████| 1/1 [00:00<00:00, 15363.75it/s]\n",
      "Retrieving SummaryDoc documents: 100%|██████████| 1/1 [00:00<00:00, 11848.32it/s]\n"
     ]
    },
    {
     "name": "stdout",
     "output_type": "stream",
     "text": [
      "mp-27421\n"
     ]
    },
    {
     "name": "stderr",
     "output_type": "stream",
     "text": [
      "Retrieving MaterialsDoc documents: 100%|██████████| 1/1 [00:00<00:00, 9709.04it/s]\n",
      "Retrieving SummaryDoc documents: 100%|██████████| 1/1 [00:00<00:00, 10155.70it/s]\n"
     ]
    },
    {
     "name": "stdout",
     "output_type": "stream",
     "text": [
      "mp-27422\n"
     ]
    },
    {
     "name": "stderr",
     "output_type": "stream",
     "text": [
      "Retrieving MaterialsDoc documents: 100%|██████████| 1/1 [00:00<00:00, 9258.95it/s]\n",
      "Retrieving SummaryDoc documents: 100%|██████████| 1/1 [00:00<00:00, 8525.01it/s]\n"
     ]
    },
    {
     "name": "stdout",
     "output_type": "stream",
     "text": [
      "mp-27456\n"
     ]
    },
    {
     "name": "stderr",
     "output_type": "stream",
     "text": [
      "Retrieving MaterialsDoc documents: 100%|██████████| 1/1 [00:00<00:00, 8886.24it/s]\n",
      "Retrieving SummaryDoc documents: 100%|██████████| 1/1 [00:00<00:00, 8924.05it/s]\n"
     ]
    },
    {
     "name": "stdout",
     "output_type": "stream",
     "text": [
      "mp-27546\n"
     ]
    },
    {
     "name": "stderr",
     "output_type": "stream",
     "text": [
      "Retrieving MaterialsDoc documents: 100%|██████████| 1/1 [00:00<00:00, 10205.12it/s]\n",
      "Retrieving SummaryDoc documents: 100%|██████████| 1/1 [00:00<00:00, 9576.04it/s]\n"
     ]
    },
    {
     "name": "stdout",
     "output_type": "stream",
     "text": [
      "mp-27549\n"
     ]
    },
    {
     "name": "stderr",
     "output_type": "stream",
     "text": [
      "Retrieving MaterialsDoc documents: 100%|██████████| 1/1 [00:00<00:00, 9754.20it/s]\n",
      "Retrieving SummaryDoc documents: 100%|██████████| 1/1 [00:00<00:00, 9986.44it/s]\n"
     ]
    },
    {
     "name": "stdout",
     "output_type": "stream",
     "text": [
      "mp-27562\n"
     ]
    },
    {
     "name": "stderr",
     "output_type": "stream",
     "text": [
      "Retrieving MaterialsDoc documents: 100%|██████████| 1/1 [00:00<00:00, 9619.96it/s]\n",
      "Retrieving SummaryDoc documents: 100%|██████████| 1/1 [00:00<00:00, 10106.76it/s]\n"
     ]
    },
    {
     "name": "stdout",
     "output_type": "stream",
     "text": [
      "mp-2758\n"
     ]
    },
    {
     "name": "stderr",
     "output_type": "stream",
     "text": [
      "Retrieving MaterialsDoc documents: 100%|██████████| 1/1 [00:00<00:00, 9799.78it/s]\n",
      "Retrieving SummaryDoc documents: 100%|██████████| 1/1 [00:00<00:00, 8577.31it/s]\n"
     ]
    },
    {
     "name": "stdout",
     "output_type": "stream",
     "text": [
      "mp-27608\n"
     ]
    },
    {
     "name": "stderr",
     "output_type": "stream",
     "text": [
      "Retrieving MaterialsDoc documents: 100%|██████████| 1/1 [00:00<00:00, 9300.01it/s]\n",
      "Retrieving SummaryDoc documents: 100%|██████████| 1/1 [00:00<00:00, 9404.27it/s]\n"
     ]
    },
    {
     "name": "stdout",
     "output_type": "stream",
     "text": [
      "mp-27678\n"
     ]
    },
    {
     "name": "stderr",
     "output_type": "stream",
     "text": [
      "Retrieving MaterialsDoc documents: 100%|██████████| 1/1 [00:00<00:00, 10205.12it/s]\n",
      "Retrieving SummaryDoc documents: 100%|██████████| 1/1 [00:00<00:00, 9709.04it/s]\n"
     ]
    },
    {
     "name": "stdout",
     "output_type": "stream",
     "text": [
      "mp-27691\n"
     ]
    },
    {
     "name": "stderr",
     "output_type": "stream",
     "text": [
      "Retrieving MaterialsDoc documents: 100%|██████████| 1/1 [00:00<00:00, 9118.05it/s]\n",
      "Retrieving SummaryDoc documents: 100%|██████████| 1/1 [00:00<00:00, 6594.82it/s]\n"
     ]
    },
    {
     "name": "stdout",
     "output_type": "stream",
     "text": [
      "mp-27716\n"
     ]
    },
    {
     "name": "stderr",
     "output_type": "stream",
     "text": [
      "Retrieving MaterialsDoc documents: 100%|██████████| 1/1 [00:00<00:00, 14563.56it/s]\n",
      "Retrieving SummaryDoc documents: 100%|██████████| 1/1 [00:00<00:00, 9731.56it/s]\n"
     ]
    },
    {
     "name": "stdout",
     "output_type": "stream",
     "text": [
      "mp-27791\n"
     ]
    },
    {
     "name": "stderr",
     "output_type": "stream",
     "text": [
      "Retrieving MaterialsDoc documents: 100%|██████████| 1/1 [00:00<00:00, 8981.38it/s]\n",
      "Retrieving SummaryDoc documents: 100%|██████████| 1/1 [00:00<00:00, 8338.58it/s]\n"
     ]
    },
    {
     "name": "stdout",
     "output_type": "stream",
     "text": [
      "mp-27827\n"
     ]
    },
    {
     "name": "stderr",
     "output_type": "stream",
     "text": [
      "Retrieving MaterialsDoc documents: 100%|██████████| 1/1 [00:00<00:00, 10082.46it/s]\n",
      "Retrieving SummaryDoc documents: 100%|██████████| 1/1 [00:00<00:00, 10305.42it/s]\n"
     ]
    },
    {
     "name": "stdout",
     "output_type": "stream",
     "text": [
      "mp-27828\n"
     ]
    },
    {
     "name": "stderr",
     "output_type": "stream",
     "text": [
      "Retrieving MaterialsDoc documents: 100%|██████████| 1/1 [00:00<00:00, 9383.23it/s]\n",
      "Retrieving SummaryDoc documents: 100%|██████████| 1/1 [00:00<00:00, 8577.31it/s]\n"
     ]
    },
    {
     "name": "stdout",
     "output_type": "stream",
     "text": [
      "mp-27829\n"
     ]
    },
    {
     "name": "stderr",
     "output_type": "stream",
     "text": [
      "Retrieving MaterialsDoc documents: 100%|██████████| 1/1 [00:00<00:00, 9341.43it/s]\n",
      "Retrieving SummaryDoc documents: 100%|██████████| 1/1 [00:00<00:00, 10230.01it/s]\n"
     ]
    },
    {
     "name": "stdout",
     "output_type": "stream",
     "text": [
      "mp-27830\n"
     ]
    },
    {
     "name": "stderr",
     "output_type": "stream",
     "text": [
      "Retrieving MaterialsDoc documents: 100%|██████████| 1/1 [00:00<00:00, 10645.44it/s]\n",
      "Retrieving SummaryDoc documents: 100%|██████████| 1/1 [00:00<00:00, 9868.95it/s]\n"
     ]
    },
    {
     "name": "stdout",
     "output_type": "stream",
     "text": [
      "mp-27831\n"
     ]
    },
    {
     "name": "stderr",
     "output_type": "stream",
     "text": [
      "Retrieving MaterialsDoc documents: 100%|██████████| 1/1 [00:00<00:00, 8924.05it/s]\n",
      "Retrieving SummaryDoc documents: 100%|██████████| 1/1 [00:00<00:00, 8473.34it/s]\n"
     ]
    },
    {
     "name": "stdout",
     "output_type": "stream",
     "text": [
      "mp-27839\n"
     ]
    },
    {
     "name": "stderr",
     "output_type": "stream",
     "text": [
      "Retrieving MaterialsDoc documents: 100%|██████████| 1/1 [00:00<00:00, 11305.40it/s]\n",
      "Retrieving SummaryDoc documents: 100%|██████████| 1/1 [00:00<00:00, 9822.73it/s]\n"
     ]
    },
    {
     "name": "stdout",
     "output_type": "stream",
     "text": [
      "mp-2784\n"
     ]
    },
    {
     "name": "stderr",
     "output_type": "stream",
     "text": [
      "Retrieving MaterialsDoc documents: 100%|██████████| 1/1 [00:00<00:00, 9320.68it/s]\n",
      "Retrieving SummaryDoc documents: 100%|██████████| 1/1 [00:00<00:00, 9642.08it/s]\n"
     ]
    },
    {
     "name": "stdout",
     "output_type": "stream",
     "text": [
      "mp-27869\n"
     ]
    },
    {
     "name": "stderr",
     "output_type": "stream",
     "text": [
      "Retrieving MaterialsDoc documents: 100%|██████████| 1/1 [00:00<00:00, 11618.57it/s]\n",
      "Retrieving SummaryDoc documents: 100%|██████████| 1/1 [00:00<00:00, 7570.95it/s]\n"
     ]
    },
    {
     "name": "stdout",
     "output_type": "stream",
     "text": [
      "mp-27882\n"
     ]
    },
    {
     "name": "stderr",
     "output_type": "stream",
     "text": [
      "Retrieving MaterialsDoc documents: 100%|██████████| 1/1 [00:00<00:00, 9000.65it/s]\n",
      "Retrieving SummaryDoc documents: 100%|██████████| 1/1 [00:00<00:00, 8577.31it/s]\n"
     ]
    },
    {
     "name": "stdout",
     "output_type": "stream",
     "text": [
      "mp-27904\n"
     ]
    },
    {
     "name": "stderr",
     "output_type": "stream",
     "text": [
      "Retrieving MaterialsDoc documents: 100%|██████████| 1/1 [00:00<00:00, 9489.38it/s]\n",
      "Retrieving SummaryDoc documents: 100%|██████████| 1/1 [00:00<00:00, 9822.73it/s]\n"
     ]
    },
    {
     "name": "stdout",
     "output_type": "stream",
     "text": [
      "mp-27985\n"
     ]
    },
    {
     "name": "stderr",
     "output_type": "stream",
     "text": [
      "Retrieving MaterialsDoc documents: 100%|██████████| 1/1 [00:00<00:00, 9279.43it/s]\n",
      "Retrieving SummaryDoc documents: 100%|██████████| 1/1 [00:00<00:00, 9868.95it/s]\n"
     ]
    },
    {
     "name": "stdout",
     "output_type": "stream",
     "text": [
      "mp-27999\n"
     ]
    },
    {
     "name": "stderr",
     "output_type": "stream",
     "text": [
      "Retrieving MaterialsDoc documents: 100%|██████████| 1/1 [00:00<00:00, 12336.19it/s]\n",
      "Retrieving SummaryDoc documents: 100%|██████████| 1/1 [00:00<00:00, 8774.69it/s]\n"
     ]
    },
    {
     "name": "stdout",
     "output_type": "stream",
     "text": [
      "mp-28020\n"
     ]
    },
    {
     "name": "stderr",
     "output_type": "stream",
     "text": [
      "Retrieving MaterialsDoc documents: 100%|██████████| 1/1 [00:00<00:00, 10699.76it/s]\n",
      "Retrieving SummaryDoc documents: 100%|██████████| 1/1 [00:00<00:00, 9098.27it/s]\n"
     ]
    },
    {
     "name": "stdout",
     "output_type": "stream",
     "text": [
      "mp-28069\n"
     ]
    },
    {
     "name": "stderr",
     "output_type": "stream",
     "text": [
      "Retrieving MaterialsDoc documents: 100%|██████████| 1/1 [00:00<00:00, 8577.31it/s]\n",
      "Retrieving SummaryDoc documents: 100%|██████████| 1/1 [00:00<00:00, 8473.34it/s]\n"
     ]
    },
    {
     "name": "stdout",
     "output_type": "stream",
     "text": [
      "mp-28075\n"
     ]
    },
    {
     "name": "stderr",
     "output_type": "stream",
     "text": [
      "Retrieving MaterialsDoc documents: 100%|██████████| 1/1 [00:00<00:00, 9058.97it/s]\n",
      "Retrieving SummaryDoc documents: 100%|██████████| 1/1 [00:00<00:00, 8456.26it/s]\n"
     ]
    },
    {
     "name": "stdout",
     "output_type": "stream",
     "text": [
      "mp-28084\n"
     ]
    },
    {
     "name": "stderr",
     "output_type": "stream",
     "text": [
      "Retrieving MaterialsDoc documents: 100%|██████████| 1/1 [00:00<00:00, 9892.23it/s]\n",
      "Retrieving SummaryDoc documents: 100%|██████████| 1/1 [00:00<00:00, 9576.04it/s]\n"
     ]
    },
    {
     "name": "stdout",
     "output_type": "stream",
     "text": [
      "mp-28110\n"
     ]
    },
    {
     "name": "stderr",
     "output_type": "stream",
     "text": [
      "Retrieving MaterialsDoc documents: 100%|██████████| 1/1 [00:00<00:00, 9576.04it/s]\n",
      "Retrieving SummaryDoc documents: 100%|██████████| 1/1 [00:00<00:00, 8738.13it/s]\n"
     ]
    },
    {
     "name": "stdout",
     "output_type": "stream",
     "text": [
      "mp-28111\n"
     ]
    },
    {
     "name": "stderr",
     "output_type": "stream",
     "text": [
      "Retrieving MaterialsDoc documents: 100%|██████████| 1/1 [00:00<00:00, 10330.80it/s]\n",
      "Retrieving SummaryDoc documents: 100%|██████████| 1/1 [00:00<00:00, 8683.86it/s]\n"
     ]
    },
    {
     "name": "stdout",
     "output_type": "stream",
     "text": [
      "mp-28145\n"
     ]
    },
    {
     "name": "stderr",
     "output_type": "stream",
     "text": [
      "Retrieving MaterialsDoc documents: 100%|██████████| 1/1 [00:00<00:00, 9039.45it/s]\n",
      "Retrieving SummaryDoc documents: 100%|██████████| 1/1 [00:00<00:00, 8630.26it/s]\n"
     ]
    },
    {
     "name": "stdout",
     "output_type": "stream",
     "text": [
      "mp-28171\n"
     ]
    },
    {
     "name": "stderr",
     "output_type": "stream",
     "text": [
      "Retrieving MaterialsDoc documents: 100%|██████████| 1/1 [00:00<00:00, 12671.61it/s]\n",
      "Retrieving SummaryDoc documents: 100%|██████████| 1/1 [00:00<00:00, 8542.37it/s]\n"
     ]
    },
    {
     "name": "stdout",
     "output_type": "stream",
     "text": [
      "mp-28237\n"
     ]
    },
    {
     "name": "stderr",
     "output_type": "stream",
     "text": [
      "Retrieving MaterialsDoc documents: 100%|██████████| 1/1 [00:00<00:00, 13443.28it/s]\n",
      "Retrieving SummaryDoc documents: 100%|██████████| 1/1 [00:00<00:00, 9576.04it/s]\n"
     ]
    },
    {
     "name": "stdout",
     "output_type": "stream",
     "text": [
      "mp-28243\n"
     ]
    },
    {
     "name": "stderr",
     "output_type": "stream",
     "text": [
      "Retrieving MaterialsDoc documents: 100%|██████████| 1/1 [00:00<00:00, 11522.81it/s]\n",
      "Retrieving SummaryDoc documents: 100%|██████████| 1/1 [00:00<00:00, 10058.28it/s]\n"
     ]
    },
    {
     "name": "stdout",
     "output_type": "stream",
     "text": [
      "mp-28264\n"
     ]
    },
    {
     "name": "stderr",
     "output_type": "stream",
     "text": [
      "Retrieving MaterialsDoc documents: 100%|██████████| 1/1 [00:00<00:00, 9532.51it/s]\n",
      "Retrieving SummaryDoc documents: 100%|██████████| 1/1 [00:00<00:00, 8289.14it/s]\n"
     ]
    },
    {
     "name": "stdout",
     "output_type": "stream",
     "text": [
      "mp-28266\n"
     ]
    },
    {
     "name": "stderr",
     "output_type": "stream",
     "text": [
      "Retrieving MaterialsDoc documents: 100%|██████████| 1/1 [00:00<00:00, 9078.58it/s]\n",
      "Retrieving SummaryDoc documents: 100%|██████████| 1/1 [00:00<00:00, 9754.20it/s]\n"
     ]
    },
    {
     "name": "stdout",
     "output_type": "stream",
     "text": [
      "mp-28270\n"
     ]
    },
    {
     "name": "stderr",
     "output_type": "stream",
     "text": [
      "Retrieving MaterialsDoc documents: 100%|██████████| 1/1 [00:00<00:00, 14122.24it/s]\n",
      "Retrieving SummaryDoc documents: 100%|██████████| 1/1 [00:00<00:00, 8338.58it/s]\n"
     ]
    },
    {
     "name": "stdout",
     "output_type": "stream",
     "text": [
      "mp-28295\n"
     ]
    },
    {
     "name": "stderr",
     "output_type": "stream",
     "text": [
      "Retrieving MaterialsDoc documents: 100%|██████████| 1/1 [00:00<00:00, 6754.11it/s]\n",
      "Retrieving SummaryDoc documents: 100%|██████████| 1/1 [00:00<00:00, 9822.73it/s]\n"
     ]
    },
    {
     "name": "stdout",
     "output_type": "stream",
     "text": [
      "mp-28302\n"
     ]
    },
    {
     "name": "stderr",
     "output_type": "stream",
     "text": [
      "Retrieving MaterialsDoc documents: 100%|██████████| 1/1 [00:00<00:00, 7884.03it/s]\n",
      "Retrieving SummaryDoc documents: 100%|██████████| 1/1 [00:00<00:00, 9000.65it/s]\n"
     ]
    },
    {
     "name": "stdout",
     "output_type": "stream",
     "text": [
      "mp-28377\n"
     ]
    },
    {
     "name": "stderr",
     "output_type": "stream",
     "text": [
      "Retrieving MaterialsDoc documents: 100%|██████████| 1/1 [00:00<00:00, 9320.68it/s]\n",
      "Retrieving SummaryDoc documents: 100%|██████████| 1/1 [00:00<00:00, 9709.04it/s]\n"
     ]
    },
    {
     "name": "stdout",
     "output_type": "stream",
     "text": [
      "mp-28423\n"
     ]
    },
    {
     "name": "stderr",
     "output_type": "stream",
     "text": [
      "Retrieving MaterialsDoc documents: 100%|██████████| 1/1 [00:00<00:00, 7084.97it/s]\n",
      "Retrieving SummaryDoc documents: 100%|██████████| 1/1 [00:00<00:00, 9664.29it/s]\n"
     ]
    },
    {
     "name": "stdout",
     "output_type": "stream",
     "text": [
      "mp-28453\n"
     ]
    },
    {
     "name": "stderr",
     "output_type": "stream",
     "text": [
      "Retrieving MaterialsDoc documents: 100%|██████████| 1/1 [00:00<00:00, 13357.66it/s]\n",
      "Retrieving SummaryDoc documents: 100%|██████████| 1/1 [00:00<00:00, 9258.95it/s]\n"
     ]
    },
    {
     "name": "stdout",
     "output_type": "stream",
     "text": [
      "mp-2853\n"
     ]
    },
    {
     "name": "stderr",
     "output_type": "stream",
     "text": [
      "Retrieving MaterialsDoc documents: 100%|██████████| 1/1 [00:00<00:00, 11008.67it/s]\n",
      "Retrieving SummaryDoc documents: 100%|██████████| 1/1 [00:00<00:00, 9822.73it/s]\n"
     ]
    },
    {
     "name": "stdout",
     "output_type": "stream",
     "text": [
      "mp-28553\n"
     ]
    },
    {
     "name": "stderr",
     "output_type": "stream",
     "text": [
      "Retrieving MaterialsDoc documents: 100%|██████████| 1/1 [00:00<00:00, 9404.27it/s]\n",
      "Retrieving SummaryDoc documents: 100%|██████████| 1/1 [00:00<00:00, 8507.72it/s]\n"
     ]
    },
    {
     "name": "stdout",
     "output_type": "stream",
     "text": [
      "mp-28554\n"
     ]
    },
    {
     "name": "stderr",
     "output_type": "stream",
     "text": [
      "Retrieving MaterialsDoc documents: 100%|██████████| 1/1 [00:00<00:00, 9258.95it/s]\n",
      "Retrieving SummaryDoc documents: 100%|██████████| 1/1 [00:00<00:00, 9383.23it/s]\n"
     ]
    },
    {
     "name": "stdout",
     "output_type": "stream",
     "text": [
      "mp-2858\n"
     ]
    },
    {
     "name": "stderr",
     "output_type": "stream",
     "text": [
      "Retrieving MaterialsDoc documents: 100%|██████████| 1/1 [00:00<00:00, 9446.63it/s]\n",
      "Retrieving SummaryDoc documents: 100%|██████████| 1/1 [00:00<00:00, 8577.31it/s]\n"
     ]
    },
    {
     "name": "stdout",
     "output_type": "stream",
     "text": [
      "mp-28591\n"
     ]
    },
    {
     "name": "stderr",
     "output_type": "stream",
     "text": [
      "Retrieving MaterialsDoc documents: 100%|██████████| 1/1 [00:00<00:00, 10837.99it/s]\n",
      "Retrieving SummaryDoc documents: 100%|██████████| 1/1 [00:00<00:00, 9868.95it/s]\n"
     ]
    },
    {
     "name": "stdout",
     "output_type": "stream",
     "text": [
      "mp-28599\n"
     ]
    },
    {
     "name": "stderr",
     "output_type": "stream",
     "text": [
      "Retrieving MaterialsDoc documents: 100%|██████████| 1/1 [00:00<00:00, 11848.32it/s]\n",
      "Retrieving SummaryDoc documents: 100%|██████████| 1/1 [00:00<00:00, 9709.04it/s]\n"
     ]
    },
    {
     "name": "stdout",
     "output_type": "stream",
     "text": [
      "mp-28602\n"
     ]
    },
    {
     "name": "stderr",
     "output_type": "stream",
     "text": [
      "Retrieving MaterialsDoc documents: 100%|██████████| 1/1 [00:00<00:00, 10591.68it/s]\n",
      "Retrieving SummaryDoc documents: 100%|██████████| 1/1 [00:00<00:00, 9020.01it/s]\n"
     ]
    },
    {
     "name": "stdout",
     "output_type": "stream",
     "text": [
      "mp-28603\n"
     ]
    },
    {
     "name": "stderr",
     "output_type": "stream",
     "text": [
      "Retrieving MaterialsDoc documents: 100%|██████████| 1/1 [00:00<00:00, 9425.40it/s]\n",
      "Retrieving SummaryDoc documents: 100%|██████████| 1/1 [00:00<00:00, 9986.44it/s]\n"
     ]
    },
    {
     "name": "stdout",
     "output_type": "stream",
     "text": [
      "mp-28626\n"
     ]
    },
    {
     "name": "stderr",
     "output_type": "stream",
     "text": [
      "Retrieving MaterialsDoc documents: 100%|██████████| 1/1 [00:00<00:00, 9554.22it/s]\n",
      "Retrieving SummaryDoc documents: 100%|██████████| 1/1 [00:00<00:00, 10034.22it/s]\n"
     ]
    },
    {
     "name": "stdout",
     "output_type": "stream",
     "text": [
      "mp-28627\n"
     ]
    },
    {
     "name": "stderr",
     "output_type": "stream",
     "text": [
      "Retrieving MaterialsDoc documents: 100%|██████████| 1/1 [00:00<00:00, 6875.91it/s]\n",
      "Retrieving SummaryDoc documents: 100%|██████████| 1/1 [00:00<00:00, 8507.72it/s]\n"
     ]
    },
    {
     "name": "stdout",
     "output_type": "stream",
     "text": [
      "mp-28650\n"
     ]
    },
    {
     "name": "stderr",
     "output_type": "stream",
     "text": [
      "Retrieving MaterialsDoc documents: 100%|██████████| 1/1 [00:00<00:00, 13797.05it/s]\n",
      "Retrieving SummaryDoc documents: 100%|██████████| 1/1 [00:00<00:00, 9383.23it/s]\n"
     ]
    },
    {
     "name": "stdout",
     "output_type": "stream",
     "text": [
      "mp-28797\n"
     ]
    },
    {
     "name": "stderr",
     "output_type": "stream",
     "text": [
      "Retrieving MaterialsDoc documents: 100%|██████████| 1/1 [00:00<00:00, 9576.04it/s]\n",
      "Retrieving SummaryDoc documents: 100%|██████████| 1/1 [00:00<00:00, 10010.27it/s]\n"
     ]
    },
    {
     "name": "stdout",
     "output_type": "stream",
     "text": [
      "mp-288\n"
     ]
    },
    {
     "name": "stderr",
     "output_type": "stream",
     "text": [
      "Retrieving MaterialsDoc documents: 100%|██████████| 1/1 [00:00<00:00, 9868.95it/s]\n",
      "Retrieving SummaryDoc documents: 100%|██████████| 1/1 [00:00<00:00, 9597.95it/s]\n"
     ]
    },
    {
     "name": "stdout",
     "output_type": "stream",
     "text": [
      "mp-28872\n"
     ]
    },
    {
     "name": "stderr",
     "output_type": "stream",
     "text": [
      "Retrieving MaterialsDoc documents: 100%|██████████| 1/1 [00:00<00:00, 12122.27it/s]\n",
      "Retrieving SummaryDoc documents: 100%|██████████| 1/1 [00:00<00:00, 9341.43it/s]\n"
     ]
    },
    {
     "name": "stdout",
     "output_type": "stream",
     "text": [
      "mp-28873\n"
     ]
    },
    {
     "name": "stderr",
     "output_type": "stream",
     "text": [
      "Retrieving MaterialsDoc documents: 100%|██████████| 1/1 [00:00<00:00, 9642.08it/s]\n",
      "Retrieving SummaryDoc documents: 100%|██████████| 1/1 [00:00<00:00, 8981.38it/s]\n"
     ]
    },
    {
     "name": "stdout",
     "output_type": "stream",
     "text": [
      "mp-2894\n"
     ]
    },
    {
     "name": "stderr",
     "output_type": "stream",
     "text": [
      "Retrieving MaterialsDoc documents: 100%|██████████| 1/1 [00:00<00:00, 9664.29it/s]\n",
      "Retrieving SummaryDoc documents: 100%|██████████| 1/1 [00:00<00:00, 8756.38it/s]\n"
     ]
    },
    {
     "name": "stdout",
     "output_type": "stream",
     "text": [
      "mp-28994\n"
     ]
    },
    {
     "name": "stderr",
     "output_type": "stream",
     "text": [
      "Retrieving MaterialsDoc documents: 100%|██████████| 1/1 [00:00<00:00, 9915.61it/s]\n",
      "Retrieving SummaryDoc documents: 100%|██████████| 1/1 [00:00<00:00, 7449.92it/s]\n"
     ]
    },
    {
     "name": "stdout",
     "output_type": "stream",
     "text": [
      "mp-29025\n"
     ]
    },
    {
     "name": "stderr",
     "output_type": "stream",
     "text": [
      "Retrieving MaterialsDoc documents: 100%|██████████| 1/1 [00:00<00:00, 9554.22it/s]\n",
      "Retrieving SummaryDoc documents: 100%|██████████| 1/1 [00:00<00:00, 8456.26it/s]\n"
     ]
    },
    {
     "name": "stdout",
     "output_type": "stream",
     "text": [
      "mp-29055\n"
     ]
    },
    {
     "name": "stderr",
     "output_type": "stream",
     "text": [
      "Retrieving MaterialsDoc documents: 100%|██████████| 1/1 [00:00<00:00, 11554.56it/s]\n",
      "Retrieving SummaryDoc documents: 100%|██████████| 1/1 [00:00<00:00, 9892.23it/s]\n"
     ]
    },
    {
     "name": "stdout",
     "output_type": "stream",
     "text": [
      "mp-29091\n"
     ]
    },
    {
     "name": "stderr",
     "output_type": "stream",
     "text": [
      "Retrieving MaterialsDoc documents: 100%|██████████| 1/1 [00:00<00:00, 14513.16it/s]\n",
      "Retrieving SummaryDoc documents: 100%|██████████| 1/1 [00:00<00:00, 9822.73it/s]\n"
     ]
    },
    {
     "name": "stdout",
     "output_type": "stream",
     "text": [
      "mp-29138\n"
     ]
    },
    {
     "name": "stderr",
     "output_type": "stream",
     "text": [
      "Retrieving MaterialsDoc documents: 100%|██████████| 1/1 [00:00<00:00, 14873.42it/s]\n",
      "Retrieving SummaryDoc documents: 100%|██████████| 1/1 [00:00<00:00, 10951.19it/s]\n"
     ]
    },
    {
     "name": "stdout",
     "output_type": "stream",
     "text": [
      "mp-29149\n"
     ]
    },
    {
     "name": "stderr",
     "output_type": "stream",
     "text": [
      "Retrieving MaterialsDoc documents: 100%|██████████| 1/1 [00:00<00:00, 9446.63it/s]\n",
      "Retrieving SummaryDoc documents: 100%|██████████| 1/1 [00:00<00:00, 8594.89it/s]\n"
     ]
    },
    {
     "name": "stdout",
     "output_type": "stream",
     "text": [
      "mp-29151\n"
     ]
    },
    {
     "name": "stderr",
     "output_type": "stream",
     "text": [
      "Retrieving MaterialsDoc documents: 100%|██████████| 1/1 [00:00<00:00, 13273.11it/s]\n",
      "Retrieving SummaryDoc documents: 100%|██████████| 1/1 [00:00<00:00, 11214.72it/s]\n"
     ]
    },
    {
     "name": "stdout",
     "output_type": "stream",
     "text": [
      "mp-29163\n"
     ]
    },
    {
     "name": "stderr",
     "output_type": "stream",
     "text": [
      "Retrieving MaterialsDoc documents: 100%|██████████| 1/1 [00:00<00:00, 8905.10it/s]\n",
      "Retrieving SummaryDoc documents: 100%|██████████| 1/1 [00:00<00:00, 8456.26it/s]\n"
     ]
    },
    {
     "name": "stdout",
     "output_type": "stream",
     "text": [
      "mp-2918\n"
     ]
    },
    {
     "name": "stderr",
     "output_type": "stream",
     "text": [
      "Retrieving MaterialsDoc documents: 100%|██████████| 1/1 [00:00<00:00, 10565.00it/s]\n",
      "Retrieving SummaryDoc documents: 100%|██████████| 1/1 [00:00<00:00, 9619.96it/s]\n"
     ]
    },
    {
     "name": "stdout",
     "output_type": "stream",
     "text": [
      "mp-2920\n"
     ]
    },
    {
     "name": "stderr",
     "output_type": "stream",
     "text": [
      "Retrieving MaterialsDoc documents: 100%|██████████| 1/1 [00:00<00:00, 9177.91it/s]\n",
      "Retrieving SummaryDoc documents: 100%|██████████| 1/1 [00:00<00:00, 9939.11it/s]\n"
     ]
    },
    {
     "name": "stdout",
     "output_type": "stream",
     "text": [
      "mp-29208\n"
     ]
    },
    {
     "name": "stderr",
     "output_type": "stream",
     "text": [
      "Retrieving MaterialsDoc documents: 100%|██████████| 1/1 [00:00<00:00, 9686.61it/s]\n",
      "Retrieving SummaryDoc documents: 100%|██████████| 1/1 [00:00<00:00, 8355.19it/s]\n"
     ]
    },
    {
     "name": "stdout",
     "output_type": "stream",
     "text": [
      "mp-29209\n"
     ]
    },
    {
     "name": "stderr",
     "output_type": "stream",
     "text": [
      "Retrieving MaterialsDoc documents: 100%|██████████| 1/1 [00:00<00:00, 9238.56it/s]\n",
      "Retrieving SummaryDoc documents: 100%|██████████| 1/1 [00:00<00:00, 8525.01it/s]\n"
     ]
    },
    {
     "name": "stdout",
     "output_type": "stream",
     "text": [
      "mp-29266\n"
     ]
    },
    {
     "name": "stderr",
     "output_type": "stream",
     "text": [
      "Retrieving MaterialsDoc documents: 100%|██████████| 1/1 [00:00<00:00, 9709.04it/s]\n",
      "Retrieving SummaryDoc documents: 100%|██████████| 1/1 [00:00<00:00, 9664.29it/s]\n"
     ]
    },
    {
     "name": "stdout",
     "output_type": "stream",
     "text": [
      "mp-29342\n"
     ]
    },
    {
     "name": "stderr",
     "output_type": "stream",
     "text": [
      "Retrieving MaterialsDoc documents: 100%|██████████| 1/1 [00:00<00:00, 9597.95it/s]\n",
      "Retrieving SummaryDoc documents: 100%|██████████| 1/1 [00:00<00:00, 9238.56it/s]\n"
     ]
    },
    {
     "name": "stdout",
     "output_type": "stream",
     "text": [
      "mp-29364\n"
     ]
    },
    {
     "name": "stderr",
     "output_type": "stream",
     "text": [
      "Retrieving MaterialsDoc documents: 100%|██████████| 1/1 [00:00<00:00, 9845.78it/s]\n",
      "Retrieving SummaryDoc documents: 100%|██████████| 1/1 [00:00<00:00, 9939.11it/s]\n"
     ]
    },
    {
     "name": "stdout",
     "output_type": "stream",
     "text": [
      "mp-29396\n"
     ]
    },
    {
     "name": "stderr",
     "output_type": "stream",
     "text": [
      "Retrieving MaterialsDoc documents: 100%|██████████| 1/1 [00:00<00:00, 9489.38it/s]\n",
      "Retrieving SummaryDoc documents: 100%|██████████| 1/1 [00:00<00:00, 8490.49it/s]\n"
     ]
    },
    {
     "name": "stdout",
     "output_type": "stream",
     "text": [
      "mp-29398\n"
     ]
    },
    {
     "name": "stderr",
     "output_type": "stream",
     "text": [
      "Retrieving MaterialsDoc documents: 100%|██████████| 1/1 [00:00<00:00, 9279.43it/s]\n",
      "Retrieving SummaryDoc documents: 100%|██████████| 1/1 [00:00<00:00, 9098.27it/s]\n"
     ]
    },
    {
     "name": "stdout",
     "output_type": "stream",
     "text": [
      "mp-29403\n"
     ]
    },
    {
     "name": "stderr",
     "output_type": "stream",
     "text": [
      "Retrieving MaterialsDoc documents: 100%|██████████| 1/1 [00:00<00:00, 9619.96it/s]\n",
      "Retrieving SummaryDoc documents: 100%|██████████| 1/1 [00:00<00:00, 9258.95it/s]\n"
     ]
    },
    {
     "name": "stdout",
     "output_type": "stream",
     "text": [
      "mp-29463\n"
     ]
    },
    {
     "name": "stderr",
     "output_type": "stream",
     "text": [
      "Retrieving MaterialsDoc documents: 100%|██████████| 1/1 [00:00<00:00, 9020.01it/s]\n",
      "Retrieving SummaryDoc documents: 100%|██████████| 1/1 [00:00<00:00, 10230.01it/s]\n"
     ]
    },
    {
     "name": "stdout",
     "output_type": "stream",
     "text": [
      "mp-29484\n"
     ]
    },
    {
     "name": "stderr",
     "output_type": "stream",
     "text": [
      "Retrieving MaterialsDoc documents: 100%|██████████| 1/1 [00:00<00:00, 9425.40it/s]\n",
      "Retrieving SummaryDoc documents: 100%|██████████| 1/1 [00:00<00:00, 8439.24it/s]\n"
     ]
    },
    {
     "name": "stdout",
     "output_type": "stream",
     "text": [
      "mp-29506\n"
     ]
    },
    {
     "name": "stderr",
     "output_type": "stream",
     "text": [
      "Retrieving MaterialsDoc documents: 100%|██████████| 1/1 [00:00<00:00, 9754.20it/s]\n",
      "Retrieving SummaryDoc documents: 100%|██████████| 1/1 [00:00<00:00, 9489.38it/s]\n"
     ]
    },
    {
     "name": "stdout",
     "output_type": "stream",
     "text": [
      "mp-29521\n"
     ]
    },
    {
     "name": "stderr",
     "output_type": "stream",
     "text": [
      "Retrieving MaterialsDoc documents: 100%|██████████| 1/1 [00:00<00:00, 11715.93it/s]\n",
      "Retrieving SummaryDoc documents: 100%|██████████| 1/1 [00:00<00:00, 9868.95it/s]\n"
     ]
    },
    {
     "name": "stdout",
     "output_type": "stream",
     "text": [
      "mp-29529\n"
     ]
    },
    {
     "name": "stderr",
     "output_type": "stream",
     "text": [
      "Retrieving MaterialsDoc documents: 100%|██████████| 1/1 [00:00<00:00, 9383.23it/s]\n",
      "Retrieving SummaryDoc documents: 100%|██████████| 1/1 [00:00<00:00, 9776.93it/s]\n"
     ]
    },
    {
     "name": "stdout",
     "output_type": "stream",
     "text": [
      "mp-29584\n"
     ]
    },
    {
     "name": "stderr",
     "output_type": "stream",
     "text": [
      "Retrieving MaterialsDoc documents: 100%|██████████| 1/1 [00:00<00:00, 9664.29it/s]\n",
      "Retrieving SummaryDoc documents: 100%|██████████| 1/1 [00:00<00:00, 8559.80it/s]\n"
     ]
    },
    {
     "name": "stdout",
     "output_type": "stream",
     "text": [
      "mp-29585\n"
     ]
    },
    {
     "name": "stderr",
     "output_type": "stream",
     "text": [
      "Retrieving MaterialsDoc documents: 100%|██████████| 1/1 [00:00<00:00, 9341.43it/s]\n",
      "Retrieving SummaryDoc documents: 100%|██████████| 1/1 [00:00<00:00, 9510.89it/s]\n"
     ]
    },
    {
     "name": "stdout",
     "output_type": "stream",
     "text": [
      "mp-2961\n"
     ]
    },
    {
     "name": "stderr",
     "output_type": "stream",
     "text": [
      "Retrieving MaterialsDoc documents: 100%|██████████| 1/1 [00:00<00:00, 9686.61it/s]\n",
      "Retrieving SummaryDoc documents: 100%|██████████| 1/1 [00:00<00:00, 8756.38it/s]\n"
     ]
    },
    {
     "name": "stdout",
     "output_type": "stream",
     "text": [
      "mp-2964\n"
     ]
    },
    {
     "name": "stderr",
     "output_type": "stream",
     "text": [
      "Retrieving MaterialsDoc documents: 100%|██████████| 1/1 [00:00<00:00, 9425.40it/s]\n",
      "Retrieving SummaryDoc documents: 100%|██████████| 1/1 [00:00<00:00, 8719.97it/s]\n"
     ]
    },
    {
     "name": "stdout",
     "output_type": "stream",
     "text": [
      "mp-29678\n"
     ]
    },
    {
     "name": "stderr",
     "output_type": "stream",
     "text": [
      "Retrieving MaterialsDoc documents: 100%|██████████| 1/1 [00:00<00:00, 8924.05it/s]\n",
      "Retrieving SummaryDoc documents: 100%|██████████| 1/1 [00:00<00:00, 8473.34it/s]\n"
     ]
    },
    {
     "name": "stdout",
     "output_type": "stream",
     "text": [
      "mp-29750\n"
     ]
    },
    {
     "name": "stderr",
     "output_type": "stream",
     "text": [
      "Retrieving MaterialsDoc documents: 100%|██████████| 1/1 [00:00<00:00, 9362.29it/s]\n",
      "Retrieving SummaryDoc documents: 100%|██████████| 1/1 [00:00<00:00, 10058.28it/s]\n"
     ]
    },
    {
     "name": "stdout",
     "output_type": "stream",
     "text": [
      "mp-29751\n"
     ]
    },
    {
     "name": "stderr",
     "output_type": "stream",
     "text": [
      "Retrieving MaterialsDoc documents: 100%|██████████| 1/1 [00:00<00:00, 11650.84it/s]\n",
      "Retrieving SummaryDoc documents: 100%|██████████| 1/1 [00:00<00:00, 10459.61it/s]\n"
     ]
    },
    {
     "name": "stdout",
     "output_type": "stream",
     "text": [
      "mp-29754\n"
     ]
    },
    {
     "name": "stderr",
     "output_type": "stream",
     "text": [
      "Retrieving MaterialsDoc documents: 100%|██████████| 1/1 [00:00<00:00, 9731.56it/s]\n",
      "Retrieving SummaryDoc documents: 100%|██████████| 1/1 [00:00<00:00, 10255.02it/s]\n"
     ]
    },
    {
     "name": "stdout",
     "output_type": "stream",
     "text": [
      "mp-2979\n"
     ]
    },
    {
     "name": "stderr",
     "output_type": "stream",
     "text": [
      "Retrieving MaterialsDoc documents: 100%|██████████| 1/1 [00:00<00:00, 9576.04it/s]\n",
      "Retrieving SummaryDoc documents: 100%|██████████| 1/1 [00:00<00:00, 10106.76it/s]\n"
     ]
    },
    {
     "name": "stdout",
     "output_type": "stream",
     "text": [
      "mp-30004\n"
     ]
    },
    {
     "name": "stderr",
     "output_type": "stream",
     "text": [
      "Retrieving MaterialsDoc documents: 100%|██████████| 1/1 [00:00<00:00, 10010.27it/s]\n",
      "Retrieving SummaryDoc documents: 100%|██████████| 1/1 [00:00<00:00, 10305.42it/s]\n"
     ]
    },
    {
     "name": "stdout",
     "output_type": "stream",
     "text": [
      "mp-30041\n"
     ]
    },
    {
     "name": "stderr",
     "output_type": "stream",
     "text": [
      "Retrieving MaterialsDoc documents: 100%|██████████| 1/1 [00:00<00:00, 9597.95it/s]\n",
      "Retrieving SummaryDoc documents: 100%|██████████| 1/1 [00:00<00:00, 10255.02it/s]\n"
     ]
    },
    {
     "name": "stdout",
     "output_type": "stream",
     "text": [
      "mp-30056\n"
     ]
    },
    {
     "name": "stderr",
     "output_type": "stream",
     "text": [
      "Retrieving MaterialsDoc documents: 100%|██████████| 1/1 [00:00<00:00, 8848.74it/s]\n",
      "Retrieving SummaryDoc documents: 100%|██████████| 1/1 [00:00<00:00, 9362.29it/s]\n"
     ]
    },
    {
     "name": "stdout",
     "output_type": "stream",
     "text": [
      "mp-30062\n"
     ]
    },
    {
     "name": "stderr",
     "output_type": "stream",
     "text": [
      "Retrieving MaterialsDoc documents: 100%|██████████| 1/1 [00:00<00:00, 9799.78it/s]\n",
      "Retrieving SummaryDoc documents: 100%|██████████| 1/1 [00:00<00:00, 10280.16it/s]\n"
     ]
    },
    {
     "name": "stdout",
     "output_type": "stream",
     "text": [
      "mp-30250\n"
     ]
    },
    {
     "name": "stderr",
     "output_type": "stream",
     "text": [
      "Retrieving MaterialsDoc documents: 100%|██████████| 1/1 [00:00<00:00, 9822.73it/s]\n",
      "Retrieving SummaryDoc documents: 100%|██████████| 1/1 [00:00<00:00, 9986.44it/s]\n"
     ]
    },
    {
     "name": "stdout",
     "output_type": "stream",
     "text": [
      "mp-30251\n"
     ]
    },
    {
     "name": "stderr",
     "output_type": "stream",
     "text": [
      "Retrieving MaterialsDoc documents: 100%|██████████| 1/1 [00:00<00:00, 9939.11it/s]\n",
      "Retrieving SummaryDoc documents: 100%|██████████| 1/1 [00:00<00:00, 9776.93it/s]\n"
     ]
    },
    {
     "name": "stdout",
     "output_type": "stream",
     "text": [
      "mp-30315\n"
     ]
    },
    {
     "name": "stderr",
     "output_type": "stream",
     "text": [
      "Retrieving MaterialsDoc documents: 100%|██████████| 1/1 [00:00<00:00, 13315.25it/s]\n",
      "Retrieving SummaryDoc documents: 100%|██████████| 1/1 [00:00<00:00, 9799.78it/s]\n"
     ]
    },
    {
     "name": "stdout",
     "output_type": "stream",
     "text": [
      "mp-30373\n"
     ]
    },
    {
     "name": "stderr",
     "output_type": "stream",
     "text": [
      "Retrieving MaterialsDoc documents: 100%|██████████| 1/1 [00:00<00:00, 9799.78it/s]\n",
      "Retrieving SummaryDoc documents: 100%|██████████| 1/1 [00:00<00:00, 8473.34it/s]\n"
     ]
    },
    {
     "name": "stdout",
     "output_type": "stream",
     "text": [
      "mp-3038\n"
     ]
    },
    {
     "name": "stderr",
     "output_type": "stream",
     "text": [
      "Retrieving MaterialsDoc documents: 100%|██████████| 1/1 [00:00<00:00, 9300.01it/s]\n",
      "Retrieving SummaryDoc documents: 100%|██████████| 1/1 [00:00<00:00, 5447.15it/s]\n"
     ]
    },
    {
     "name": "stdout",
     "output_type": "stream",
     "text": [
      "mp-304\n"
     ]
    },
    {
     "name": "stderr",
     "output_type": "stream",
     "text": [
      "Retrieving MaterialsDoc documents: 100%|██████████| 1/1 [00:00<00:00, 9845.78it/s]\n",
      "Retrieving SummaryDoc documents: 100%|██████████| 1/1 [00:00<00:00, 8256.50it/s]\n"
     ]
    },
    {
     "name": "stdout",
     "output_type": "stream",
     "text": [
      "mp-3042\n"
     ]
    },
    {
     "name": "stderr",
     "output_type": "stream",
     "text": [
      "Retrieving MaterialsDoc documents: 100%|██████████| 1/1 [00:00<00:00, 9320.68it/s]\n",
      "Retrieving SummaryDoc documents: 100%|██████████| 1/1 [00:00<00:00, 9510.89it/s]\n"
     ]
    },
    {
     "name": "stdout",
     "output_type": "stream",
     "text": [
      "mp-30456\n"
     ]
    },
    {
     "name": "stderr",
     "output_type": "stream",
     "text": [
      "Retrieving MaterialsDoc documents: 100%|██████████| 1/1 [00:00<00:00, 9238.56it/s]\n",
      "Retrieving SummaryDoc documents: 100%|██████████| 1/1 [00:00<00:00, 7182.03it/s]\n"
     ]
    },
    {
     "name": "stdout",
     "output_type": "stream",
     "text": [
      "mp-30459\n"
     ]
    },
    {
     "name": "stderr",
     "output_type": "stream",
     "text": [
      "Retrieving MaterialsDoc documents: 100%|██████████| 1/1 [00:00<00:00, 9619.96it/s]\n",
      "Retrieving SummaryDoc documents: 100%|██████████| 1/1 [00:00<00:00, 7231.56it/s]\n"
     ]
    },
    {
     "name": "stdout",
     "output_type": "stream",
     "text": [
      "mp-30460\n"
     ]
    },
    {
     "name": "stderr",
     "output_type": "stream",
     "text": [
      "Retrieving MaterialsDoc documents: 100%|██████████| 1/1 [00:00<00:00, 9198.04it/s]\n",
      "Retrieving SummaryDoc documents: 100%|██████████| 1/1 [00:00<00:00, 8473.34it/s]\n"
     ]
    },
    {
     "name": "stdout",
     "output_type": "stream",
     "text": [
      "mp-3054\n"
     ]
    },
    {
     "name": "stderr",
     "output_type": "stream",
     "text": [
      "Retrieving MaterialsDoc documents: 100%|██████████| 1/1 [00:00<00:00, 9776.93it/s]\n",
      "Retrieving SummaryDoc documents: 100%|██████████| 1/1 [00:00<00:00, 9597.95it/s]\n"
     ]
    },
    {
     "name": "stdout",
     "output_type": "stream",
     "text": [
      "mp-3056\n"
     ]
    },
    {
     "name": "stderr",
     "output_type": "stream",
     "text": [
      "Retrieving MaterialsDoc documents: 100%|██████████| 1/1 [00:00<00:00, 8830.11it/s]\n",
      "Retrieving SummaryDoc documents: 100%|██████████| 1/1 [00:00<00:00, 9467.95it/s]\n"
     ]
    },
    {
     "name": "stdout",
     "output_type": "stream",
     "text": [
      "mp-3070\n"
     ]
    },
    {
     "name": "stderr",
     "output_type": "stream",
     "text": [
      "Retrieving MaterialsDoc documents: 100%|██████████| 1/1 [00:00<00:00, 9868.95it/s]\n",
      "Retrieving SummaryDoc documents: 100%|██████████| 1/1 [00:00<00:00, 9619.96it/s]\n"
     ]
    },
    {
     "name": "stdout",
     "output_type": "stream",
     "text": [
      "mp-3074\n"
     ]
    },
    {
     "name": "stderr",
     "output_type": "stream",
     "text": [
      "Retrieving MaterialsDoc documents: 100%|██████████| 1/1 [00:00<00:00, 8371.86it/s]\n",
      "Retrieving SummaryDoc documents: 100%|██████████| 1/1 [00:00<00:00, 8289.14it/s]\n"
     ]
    },
    {
     "name": "stdout",
     "output_type": "stream",
     "text": [
      "mp-3078\n"
     ]
    },
    {
     "name": "stderr",
     "output_type": "stream",
     "text": [
      "Retrieving MaterialsDoc documents: 100%|██████████| 1/1 [00:00<00:00, 9279.43it/s]\n",
      "Retrieving SummaryDoc documents: 100%|██████████| 1/1 [00:00<00:00, 9868.95it/s]\n"
     ]
    },
    {
     "name": "stdout",
     "output_type": "stream",
     "text": [
      "mp-30847\n"
     ]
    },
    {
     "name": "stderr",
     "output_type": "stream",
     "text": [
      "Retrieving MaterialsDoc documents: 100%|██████████| 1/1 [00:00<00:00, 9939.11it/s]\n",
      "Retrieving SummaryDoc documents: 100%|██████████| 1/1 [00:00<00:00, 9446.63it/s]\n"
     ]
    },
    {
     "name": "stdout",
     "output_type": "stream",
     "text": [
      "mp-3098\n"
     ]
    },
    {
     "name": "stderr",
     "output_type": "stream",
     "text": [
      "Retrieving MaterialsDoc documents: 100%|██████████| 1/1 [00:00<00:00, 9619.96it/s]\n",
      "Retrieving SummaryDoc documents: 100%|██████████| 1/1 [00:00<00:00, 9664.29it/s]\n"
     ]
    },
    {
     "name": "stdout",
     "output_type": "stream",
     "text": [
      "mp-30988\n"
     ]
    },
    {
     "name": "stderr",
     "output_type": "stream",
     "text": [
      "Retrieving MaterialsDoc documents: 100%|██████████| 1/1 [00:00<00:00, 9554.22it/s]\n",
      "Retrieving SummaryDoc documents: 100%|██████████| 1/1 [00:00<00:00, 8886.24it/s]\n"
     ]
    },
    {
     "name": "stdout",
     "output_type": "stream",
     "text": [
      "mp-31002\n"
     ]
    },
    {
     "name": "stderr",
     "output_type": "stream",
     "text": [
      "Retrieving MaterialsDoc documents: 100%|██████████| 1/1 [00:00<00:00, 9709.04it/s]\n",
      "Retrieving SummaryDoc documents: 100%|██████████| 1/1 [00:00<00:00, 9532.51it/s]\n"
     ]
    },
    {
     "name": "stdout",
     "output_type": "stream",
     "text": [
      "mp-3104\n"
     ]
    },
    {
     "name": "stderr",
     "output_type": "stream",
     "text": [
      "Retrieving MaterialsDoc documents: 100%|██████████| 1/1 [00:00<00:00, 9425.40it/s]\n",
      "Retrieving SummaryDoc documents: 100%|██████████| 1/1 [00:00<00:00, 9962.72it/s]\n"
     ]
    },
    {
     "name": "stdout",
     "output_type": "stream",
     "text": [
      "mp-31149\n"
     ]
    },
    {
     "name": "stderr",
     "output_type": "stream",
     "text": [
      "Retrieving MaterialsDoc documents: 100%|██████████| 1/1 [00:00<00:00, 9986.44it/s]\n",
      "Retrieving SummaryDoc documents: 100%|██████████| 1/1 [00:00<00:00, 9489.38it/s]\n"
     ]
    },
    {
     "name": "stdout",
     "output_type": "stream",
     "text": [
      "mp-31212\n"
     ]
    },
    {
     "name": "stderr",
     "output_type": "stream",
     "text": [
      "Retrieving MaterialsDoc documents: 100%|██████████| 1/1 [00:00<00:00, 9962.72it/s]\n",
      "Retrieving SummaryDoc documents: 100%|██████████| 1/1 [00:00<00:00, 9892.23it/s]\n"
     ]
    },
    {
     "name": "stdout",
     "output_type": "stream",
     "text": [
      "mp-31235\n"
     ]
    },
    {
     "name": "stderr",
     "output_type": "stream",
     "text": [
      "Retrieving MaterialsDoc documents: 100%|██████████| 1/1 [00:00<00:00, 9467.95it/s]\n",
      "Retrieving SummaryDoc documents: 100%|██████████| 1/1 [00:00<00:00, 9576.04it/s]\n"
     ]
    },
    {
     "name": "stdout",
     "output_type": "stream",
     "text": [
      "mp-3125\n"
     ]
    },
    {
     "name": "stderr",
     "output_type": "stream",
     "text": [
      "Retrieving MaterialsDoc documents: 100%|██████████| 1/1 [00:00<00:00, 9000.65it/s]\n",
      "Retrieving SummaryDoc documents: 100%|██████████| 1/1 [00:00<00:00, 9320.68it/s]\n"
     ]
    },
    {
     "name": "stdout",
     "output_type": "stream",
     "text": [
      "mp-31451\n"
     ]
    },
    {
     "name": "stderr",
     "output_type": "stream",
     "text": [
      "Retrieving MaterialsDoc documents: 100%|██████████| 1/1 [00:00<00:00, 9576.04it/s]\n",
      "Retrieving SummaryDoc documents: 100%|██████████| 1/1 [00:00<00:00, 8490.49it/s]\n"
     ]
    },
    {
     "name": "stdout",
     "output_type": "stream",
     "text": [
      "mp-31454\n"
     ]
    },
    {
     "name": "stderr",
     "output_type": "stream",
     "text": [
      "Retrieving MaterialsDoc documents: 100%|██████████| 1/1 [00:00<00:00, 9489.38it/s]\n",
      "Retrieving SummaryDoc documents: 100%|██████████| 1/1 [00:00<00:00, 9597.95it/s]\n"
     ]
    },
    {
     "name": "stdout",
     "output_type": "stream",
     "text": [
      "mp-31468\n"
     ]
    },
    {
     "name": "stderr",
     "output_type": "stream",
     "text": [
      "Retrieving MaterialsDoc documents: 100%|██████████| 1/1 [00:00<00:00, 9776.93it/s]\n",
      "Retrieving SummaryDoc documents: 100%|██████████| 1/1 [00:00<00:00, 8525.01it/s]\n"
     ]
    },
    {
     "name": "stdout",
     "output_type": "stream",
     "text": [
      "mp-315\n"
     ]
    },
    {
     "name": "stderr",
     "output_type": "stream",
     "text": [
      "Retrieving MaterialsDoc documents: 100%|██████████| 1/1 [00:00<00:00, 9258.95it/s]\n",
      "Retrieving SummaryDoc documents: 100%|██████████| 1/1 [00:00<00:00, 9118.05it/s]\n"
     ]
    },
    {
     "name": "stdout",
     "output_type": "stream",
     "text": [
      "mp-3159\n"
     ]
    },
    {
     "name": "stderr",
     "output_type": "stream",
     "text": [
      "Retrieving MaterialsDoc documents: 100%|██████████| 1/1 [00:00<00:00, 9576.04it/s]\n",
      "Retrieving SummaryDoc documents: 100%|██████████| 1/1 [00:00<00:00, 8774.69it/s]\n"
     ]
    },
    {
     "name": "stdout",
     "output_type": "stream",
     "text": [
      "mp-3163\n"
     ]
    },
    {
     "name": "stderr",
     "output_type": "stream",
     "text": [
      "Retrieving MaterialsDoc documents: 100%|██████████| 1/1 [00:00<00:00, 8756.38it/s]\n",
      "Retrieving SummaryDoc documents: 100%|██████████| 1/1 [00:00<00:00, 9892.23it/s]\n"
     ]
    },
    {
     "name": "stdout",
     "output_type": "stream",
     "text": [
      "mp-3167\n"
     ]
    },
    {
     "name": "stderr",
     "output_type": "stream",
     "text": [
      "Retrieving MaterialsDoc documents: 100%|██████████| 1/1 [00:00<00:00, 14463.12it/s]\n",
      "Retrieving SummaryDoc documents: 100%|██████████| 1/1 [00:00<00:00, 9238.56it/s]\n"
     ]
    },
    {
     "name": "stdout",
     "output_type": "stream",
     "text": [
      "mp-3216\n"
     ]
    },
    {
     "name": "stderr",
     "output_type": "stream",
     "text": [
      "Retrieving MaterialsDoc documents: 100%|██████████| 1/1 [00:00<00:00, 9576.04it/s]\n",
      "Retrieving SummaryDoc documents: 100%|██████████| 1/1 [00:00<00:00, 8577.31it/s]\n"
     ]
    },
    {
     "name": "stdout",
     "output_type": "stream",
     "text": [
      "mp-3247\n"
     ]
    },
    {
     "name": "stderr",
     "output_type": "stream",
     "text": [
      "Retrieving MaterialsDoc documents: 100%|██████████| 1/1 [00:00<00:00, 9597.95it/s]\n",
      "Retrieving SummaryDoc documents: 100%|██████████| 1/1 [00:00<00:00, 9341.43it/s]\n"
     ]
    },
    {
     "name": "stdout",
     "output_type": "stream",
     "text": [
      "mp-32616\n"
     ]
    },
    {
     "name": "stderr",
     "output_type": "stream",
     "text": [
      "Retrieving MaterialsDoc documents: 100%|██████████| 1/1 [00:00<00:00, 9000.65it/s]\n",
      "Retrieving SummaryDoc documents: 100%|██████████| 1/1 [00:00<00:00, 9467.95it/s]\n"
     ]
    },
    {
     "name": "stdout",
     "output_type": "stream",
     "text": [
      "mp-3277\n"
     ]
    },
    {
     "name": "stderr",
     "output_type": "stream",
     "text": [
      "Retrieving MaterialsDoc documents: 100%|██████████| 1/1 [00:00<00:00, 8473.34it/s]\n",
      "Retrieving SummaryDoc documents: 100%|██████████| 1/1 [00:00<00:00, 8774.69it/s]\n"
     ]
    },
    {
     "name": "stdout",
     "output_type": "stream",
     "text": [
      "mp-3288\n"
     ]
    },
    {
     "name": "stderr",
     "output_type": "stream",
     "text": [
      "Retrieving MaterialsDoc documents: 100%|██████████| 1/1 [00:00<00:00, 9000.65it/s]\n",
      "Retrieving SummaryDoc documents: 100%|██████████| 1/1 [00:00<00:00, 8473.34it/s]\n"
     ]
    },
    {
     "name": "stdout",
     "output_type": "stream",
     "text": [
      "mp-32880\n"
     ]
    },
    {
     "name": "stderr",
     "output_type": "stream",
     "text": [
      "Retrieving MaterialsDoc documents: 100%|██████████| 1/1 [00:00<00:00, 10131.17it/s]\n",
      "Retrieving SummaryDoc documents: 100%|██████████| 1/1 [00:00<00:00, 10155.70it/s]\n"
     ]
    },
    {
     "name": "stdout",
     "output_type": "stream",
     "text": [
      "mp-3349\n"
     ]
    },
    {
     "name": "stderr",
     "output_type": "stream",
     "text": [
      "Retrieving MaterialsDoc documents: 100%|██████████| 1/1 [00:00<00:00, 9576.04it/s]\n",
      "Retrieving SummaryDoc documents: 100%|██████████| 1/1 [00:00<00:00, 8525.01it/s]\n"
     ]
    },
    {
     "name": "stdout",
     "output_type": "stream",
     "text": [
      "mp-33526\n"
     ]
    },
    {
     "name": "stderr",
     "output_type": "stream",
     "text": [
      "Retrieving MaterialsDoc documents: 100%|██████████| 1/1 [00:00<00:00, 9532.51it/s]\n",
      "Retrieving SummaryDoc documents: 100%|██████████| 1/1 [00:00<00:00, 10180.35it/s]\n"
     ]
    },
    {
     "name": "stdout",
     "output_type": "stream",
     "text": [
      "mp-33588\n"
     ]
    },
    {
     "name": "stderr",
     "output_type": "stream",
     "text": [
      "Retrieving MaterialsDoc documents: 100%|██████████| 1/1 [00:00<00:00, 9915.61it/s]\n",
      "Retrieving SummaryDoc documents: 100%|██████████| 1/1 [00:00<00:00, 9118.05it/s]\n"
     ]
    },
    {
     "name": "stdout",
     "output_type": "stream",
     "text": [
      "mp-3359\n"
     ]
    },
    {
     "name": "stderr",
     "output_type": "stream",
     "text": [
      "Retrieving MaterialsDoc documents: 100%|██████████| 1/1 [00:00<00:00, 9258.95it/s]\n",
      "Retrieving SummaryDoc documents: 100%|██████████| 1/1 [00:00<00:00, 9799.78it/s]\n"
     ]
    },
    {
     "name": "stdout",
     "output_type": "stream",
     "text": [
      "mp-3395\n"
     ]
    },
    {
     "name": "stderr",
     "output_type": "stream",
     "text": [
      "Retrieving MaterialsDoc documents: 100%|██████████| 1/1 [00:00<00:00, 10979.85it/s]\n",
      "Retrieving SummaryDoc documents: 100%|██████████| 1/1 [00:00<00:00, 9467.95it/s]\n"
     ]
    },
    {
     "name": "stdout",
     "output_type": "stream",
     "text": [
      "mp-34126\n"
     ]
    },
    {
     "name": "stderr",
     "output_type": "stream",
     "text": [
      "Retrieving MaterialsDoc documents: 100%|██████████| 1/1 [00:00<00:00, 9078.58it/s]\n",
      "Retrieving SummaryDoc documents: 100%|██████████| 1/1 [00:00<00:00, 8338.58it/s]\n"
     ]
    },
    {
     "name": "stdout",
     "output_type": "stream",
     "text": [
      "mp-34169\n"
     ]
    },
    {
     "name": "stderr",
     "output_type": "stream",
     "text": [
      "Retrieving MaterialsDoc documents: 100%|██████████| 1/1 [00:00<00:00, 9664.29it/s]\n",
      "Retrieving SummaryDoc documents: 100%|██████████| 1/1 [00:00<00:00, 9664.29it/s]\n"
     ]
    },
    {
     "name": "stdout",
     "output_type": "stream",
     "text": [
      "mp-3419\n"
     ]
    },
    {
     "name": "stderr",
     "output_type": "stream",
     "text": [
      "Retrieving MaterialsDoc documents: 100%|██████████| 1/1 [00:00<00:00, 2449.94it/s]\n",
      "Retrieving SummaryDoc documents: 100%|██████████| 1/1 [00:00<00:00, 9137.92it/s]\n"
     ]
    },
    {
     "name": "stdout",
     "output_type": "stream",
     "text": [
      "mp-3427\n"
     ]
    },
    {
     "name": "stderr",
     "output_type": "stream",
     "text": [
      "Retrieving MaterialsDoc documents: 100%|██████████| 1/1 [00:00<00:00, 9597.95it/s]\n",
      "Retrieving SummaryDoc documents: 100%|██████████| 1/1 [00:00<00:00, 10082.46it/s]\n"
     ]
    },
    {
     "name": "stdout",
     "output_type": "stream",
     "text": [
      "mp-34293\n"
     ]
    },
    {
     "name": "stderr",
     "output_type": "stream",
     "text": [
      "Retrieving MaterialsDoc documents: 100%|██████████| 1/1 [00:00<00:00, 9799.78it/s]\n",
      "Retrieving SummaryDoc documents: 100%|██████████| 1/1 [00:00<00:00, 9597.95it/s]\n"
     ]
    },
    {
     "name": "stdout",
     "output_type": "stream",
     "text": [
      "mp-3432\n"
     ]
    },
    {
     "name": "stderr",
     "output_type": "stream",
     "text": [
      "Retrieving MaterialsDoc documents: 100%|██████████| 1/1 [00:00<00:00, 9362.29it/s]\n",
      "Retrieving SummaryDoc documents: 100%|██████████| 1/1 [00:00<00:00, 9892.23it/s]\n"
     ]
    },
    {
     "name": "stdout",
     "output_type": "stream",
     "text": [
      "mp-3448\n"
     ]
    },
    {
     "name": "stderr",
     "output_type": "stream",
     "text": [
      "Retrieving MaterialsDoc documents: 100%|██████████| 1/1 [00:00<00:00, 9619.96it/s]\n",
      "Retrieving SummaryDoc documents: 100%|██████████| 1/1 [00:00<00:00, 9118.05it/s]\n"
     ]
    },
    {
     "name": "stdout",
     "output_type": "stream",
     "text": [
      "mp-34579\n"
     ]
    },
    {
     "name": "stderr",
     "output_type": "stream",
     "text": [
      "Retrieving MaterialsDoc documents: 100%|██████████| 1/1 [00:00<00:00, 9258.95it/s]\n",
      "Retrieving SummaryDoc documents: 100%|██████████| 1/1 [00:00<00:00, 8683.86it/s]\n"
     ]
    },
    {
     "name": "stdout",
     "output_type": "stream",
     "text": [
      "mp-3481\n"
     ]
    },
    {
     "name": "stderr",
     "output_type": "stream",
     "text": [
      "Retrieving MaterialsDoc documents: 100%|██████████| 1/1 [00:00<00:00, 8981.38it/s]\n",
      "Retrieving SummaryDoc documents: 100%|██████████| 1/1 [00:00<00:00, 8490.49it/s]\n"
     ]
    },
    {
     "name": "stdout",
     "output_type": "stream",
     "text": [
      "mp-3486\n"
     ]
    },
    {
     "name": "stderr",
     "output_type": "stream",
     "text": [
      "Retrieving MaterialsDoc documents: 100%|██████████| 1/1 [00:00<00:00, 9686.61it/s]\n",
      "Retrieving SummaryDoc documents: 100%|██████████| 1/1 [00:00<00:00, 9731.56it/s]\n"
     ]
    },
    {
     "name": "stdout",
     "output_type": "stream",
     "text": [
      "mp-34932\n"
     ]
    },
    {
     "name": "stderr",
     "output_type": "stream",
     "text": [
      "Retrieving MaterialsDoc documents: 100%|██████████| 1/1 [00:00<00:00, 9341.43it/s]\n",
      "Retrieving SummaryDoc documents: 100%|██████████| 1/1 [00:00<00:00, 8388.61it/s]\n"
     ]
    },
    {
     "name": "stdout",
     "output_type": "stream",
     "text": [
      "mp-35015\n"
     ]
    },
    {
     "name": "stderr",
     "output_type": "stream",
     "text": [
      "Retrieving MaterialsDoc documents: 100%|██████████| 1/1 [00:00<00:00, 14027.77it/s]\n",
      "Retrieving SummaryDoc documents: 100%|██████████| 1/1 [00:00<00:00, 9731.56it/s]\n"
     ]
    },
    {
     "name": "stdout",
     "output_type": "stream",
     "text": [
      "mp-35152\n"
     ]
    },
    {
     "name": "stderr",
     "output_type": "stream",
     "text": [
      "Retrieving MaterialsDoc documents: 100%|██████████| 1/1 [00:00<00:00, 9915.61it/s]\n",
      "Retrieving SummaryDoc documents: 100%|██████████| 1/1 [00:00<00:00, 10034.22it/s]\n"
     ]
    },
    {
     "name": "stdout",
     "output_type": "stream",
     "text": [
      "mp-3519\n"
     ]
    },
    {
     "name": "stderr",
     "output_type": "stream",
     "text": [
      "Retrieving MaterialsDoc documents: 100%|██████████| 1/1 [00:00<00:00, 8867.45it/s]\n",
      "Retrieving SummaryDoc documents: 100%|██████████| 1/1 [00:00<00:00, 8422.30it/s]\n"
     ]
    },
    {
     "name": "stdout",
     "output_type": "stream",
     "text": [
      "mp-35220\n"
     ]
    },
    {
     "name": "stderr",
     "output_type": "stream",
     "text": [
      "Retrieving MaterialsDoc documents: 100%|██████████| 1/1 [00:00<00:00, 9467.95it/s]\n",
      "Retrieving SummaryDoc documents: 100%|██████████| 1/1 [00:00<00:00, 8594.89it/s]\n"
     ]
    },
    {
     "name": "stdout",
     "output_type": "stream",
     "text": [
      "mp-3524\n"
     ]
    },
    {
     "name": "stderr",
     "output_type": "stream",
     "text": [
      "Retrieving MaterialsDoc documents: 100%|██████████| 1/1 [00:00<00:00, 9362.29it/s]\n",
      "Retrieving SummaryDoc documents: 100%|██████████| 1/1 [00:00<00:00, 8439.24it/s]\n"
     ]
    },
    {
     "name": "stdout",
     "output_type": "stream",
     "text": [
      "mp-35777\n"
     ]
    },
    {
     "name": "stderr",
     "output_type": "stream",
     "text": [
      "Retrieving MaterialsDoc documents: 100%|██████████| 1/1 [00:00<00:00, 10010.27it/s]\n",
      "Retrieving SummaryDoc documents: 100%|██████████| 1/1 [00:00<00:00, 8905.10it/s]\n"
     ]
    },
    {
     "name": "stdout",
     "output_type": "stream",
     "text": [
      "mp-3589\n"
     ]
    },
    {
     "name": "stderr",
     "output_type": "stream",
     "text": [
      "Retrieving MaterialsDoc documents: 100%|██████████| 1/1 [00:00<00:00, 9218.25it/s]\n",
      "Retrieving SummaryDoc documents: 100%|██████████| 1/1 [00:00<00:00, 8542.37it/s]\n"
     ]
    },
    {
     "name": "stdout",
     "output_type": "stream",
     "text": [
      "mp-3595\n"
     ]
    },
    {
     "name": "stderr",
     "output_type": "stream",
     "text": [
      "Retrieving MaterialsDoc documents: 100%|██████████| 1/1 [00:00<00:00, 9446.63it/s]\n",
      "Retrieving SummaryDoc documents: 100%|██████████| 1/1 [00:00<00:00, 8473.34it/s]\n"
     ]
    },
    {
     "name": "stdout",
     "output_type": "stream",
     "text": [
      "mp-36066\n"
     ]
    },
    {
     "name": "stderr",
     "output_type": "stream",
     "text": [
      "Retrieving MaterialsDoc documents: 100%|██████████| 1/1 [00:00<00:00, 9510.89it/s]\n",
      "Retrieving SummaryDoc documents: 100%|██████████| 1/1 [00:00<00:00, 9939.11it/s]\n"
     ]
    },
    {
     "name": "stdout",
     "output_type": "stream",
     "text": [
      "mp-36111\n"
     ]
    },
    {
     "name": "stderr",
     "output_type": "stream",
     "text": [
      "Retrieving MaterialsDoc documents: 100%|██████████| 1/1 [00:00<00:00, 9198.04it/s]\n",
      "Retrieving SummaryDoc documents: 100%|██████████| 1/1 [00:00<00:00, 8594.89it/s]\n"
     ]
    },
    {
     "name": "stdout",
     "output_type": "stream",
     "text": [
      "mp-3614\n"
     ]
    },
    {
     "name": "stderr",
     "output_type": "stream",
     "text": [
      "Retrieving MaterialsDoc documents: 100%|██████████| 1/1 [00:00<00:00, 9198.04it/s]\n",
      "Retrieving SummaryDoc documents: 100%|██████████| 1/1 [00:00<00:00, 8793.09it/s]\n"
     ]
    },
    {
     "name": "stdout",
     "output_type": "stream",
     "text": [
      "mp-3637\n"
     ]
    },
    {
     "name": "stderr",
     "output_type": "stream",
     "text": [
      "Retrieving MaterialsDoc documents: 100%|██████████| 1/1 [00:00<00:00, 9845.78it/s]\n",
      "Retrieving SummaryDoc documents: 100%|██████████| 1/1 [00:00<00:00, 8665.92it/s]\n"
     ]
    },
    {
     "name": "stdout",
     "output_type": "stream",
     "text": [
      "mp-3642\n"
     ]
    },
    {
     "name": "stderr",
     "output_type": "stream",
     "text": [
      "Retrieving MaterialsDoc documents: 100%|██████████| 1/1 [00:00<00:00, 9020.01it/s]\n",
      "Retrieving SummaryDoc documents: 100%|██████████| 1/1 [00:00<00:00, 8525.01it/s]\n"
     ]
    },
    {
     "name": "stdout",
     "output_type": "stream",
     "text": [
      "mp-36508\n"
     ]
    },
    {
     "name": "stderr",
     "output_type": "stream",
     "text": [
      "Retrieving MaterialsDoc documents: 100%|██████████| 1/1 [00:00<00:00, 9822.73it/s]\n",
      "Retrieving SummaryDoc documents: 100%|██████████| 1/1 [00:00<00:00, 9510.89it/s]\n"
     ]
    },
    {
     "name": "stdout",
     "output_type": "stream",
     "text": [
      "mp-3654\n"
     ]
    },
    {
     "name": "stderr",
     "output_type": "stream",
     "text": [
      "Retrieving MaterialsDoc documents: 100%|██████████| 1/1 [00:00<00:00, 9467.95it/s]\n",
      "Retrieving SummaryDoc documents: 100%|██████████| 1/1 [00:00<00:00, 10305.42it/s]\n"
     ]
    },
    {
     "name": "stdout",
     "output_type": "stream",
     "text": [
      "mp-36582\n"
     ]
    },
    {
     "name": "stderr",
     "output_type": "stream",
     "text": [
      "Retrieving MaterialsDoc documents: 100%|██████████| 1/1 [00:00<00:00, 9915.61it/s]\n",
      "Retrieving SummaryDoc documents: 100%|██████████| 1/1 [00:00<00:00, 9362.29it/s]\n"
     ]
    },
    {
     "name": "stdout",
     "output_type": "stream",
     "text": [
      "mp-3666\n"
     ]
    },
    {
     "name": "stderr",
     "output_type": "stream",
     "text": [
      "Retrieving MaterialsDoc documents: 100%|██████████| 1/1 [00:00<00:00, 8665.92it/s]\n",
      "Retrieving SummaryDoc documents: 100%|██████████| 1/1 [00:00<00:00, 9320.68it/s]\n"
     ]
    },
    {
     "name": "stdout",
     "output_type": "stream",
     "text": [
      "mp-3668\n"
     ]
    },
    {
     "name": "stderr",
     "output_type": "stream",
     "text": [
      "Retrieving MaterialsDoc documents: 100%|██████████| 1/1 [00:00<00:00, 9845.78it/s]\n",
      "Retrieving SummaryDoc documents: 100%|██████████| 1/1 [00:00<00:00, 9642.08it/s]\n"
     ]
    },
    {
     "name": "stdout",
     "output_type": "stream",
     "text": [
      "mp-370\n"
     ]
    },
    {
     "name": "stderr",
     "output_type": "stream",
     "text": [
      "Retrieving MaterialsDoc documents: 100%|██████████| 1/1 [00:00<00:00, 9754.20it/s]\n",
      "Retrieving SummaryDoc documents: 100%|██████████| 1/1 [00:00<00:00, 9362.29it/s]\n"
     ]
    },
    {
     "name": "stdout",
     "output_type": "stream",
     "text": [
      "mp-3700\n"
     ]
    },
    {
     "name": "stderr",
     "output_type": "stream",
     "text": [
      "Retrieving MaterialsDoc documents: 100%|██████████| 1/1 [00:00<00:00, 9962.72it/s]\n",
      "Retrieving SummaryDoc documents: 100%|██████████| 1/1 [00:00<00:00, 9118.05it/s]\n"
     ]
    },
    {
     "name": "stdout",
     "output_type": "stream",
     "text": [
      "mp-37091\n"
     ]
    },
    {
     "name": "stderr",
     "output_type": "stream",
     "text": [
      "Retrieving MaterialsDoc documents: 100%|██████████| 1/1 [00:00<00:00, 7133.17it/s]\n",
      "Retrieving SummaryDoc documents: 100%|██████████| 1/1 [00:00<00:00, 9532.51it/s]\n"
     ]
    },
    {
     "name": "stdout",
     "output_type": "stream",
     "text": [
      "mp-37153\n"
     ]
    },
    {
     "name": "stderr",
     "output_type": "stream",
     "text": [
      "Retrieving MaterialsDoc documents: 100%|██████████| 1/1 [00:00<00:00, 9686.61it/s]\n",
      "Retrieving SummaryDoc documents: 100%|██████████| 1/1 [00:00<00:00, 9039.45it/s]\n"
     ]
    },
    {
     "name": "stdout",
     "output_type": "stream",
     "text": [
      "mp-37216\n"
     ]
    },
    {
     "name": "stderr",
     "output_type": "stream",
     "text": [
      "Retrieving MaterialsDoc documents: 100%|██████████| 1/1 [00:00<00:00, 9446.63it/s]\n",
      "Retrieving SummaryDoc documents: 100%|██████████| 1/1 [00:00<00:00, 9822.73it/s]\n"
     ]
    },
    {
     "name": "stdout",
     "output_type": "stream",
     "text": [
      "mp-3731\n"
     ]
    },
    {
     "name": "stderr",
     "output_type": "stream",
     "text": [
      "Retrieving MaterialsDoc documents: 100%|██████████| 1/1 [00:00<00:00, 6423.13it/s]\n",
      "Retrieving SummaryDoc documents: 100%|██████████| 1/1 [00:00<00:00, 9868.95it/s]\n"
     ]
    },
    {
     "name": "stdout",
     "output_type": "stream",
     "text": [
      "mp-3744\n"
     ]
    },
    {
     "name": "stderr",
     "output_type": "stream",
     "text": [
      "Retrieving MaterialsDoc documents: 100%|██████████| 1/1 [00:00<00:00, 9939.11it/s]\n",
      "Retrieving SummaryDoc documents: 100%|██████████| 1/1 [00:00<00:00, 9238.56it/s]\n"
     ]
    },
    {
     "name": "stdout",
     "output_type": "stream",
     "text": [
      "mp-3748\n"
     ]
    },
    {
     "name": "stderr",
     "output_type": "stream",
     "text": [
      "Retrieving MaterialsDoc documents: 100%|██████████| 1/1 [00:00<00:00, 9404.27it/s]\n",
      "Retrieving SummaryDoc documents: 100%|██████████| 1/1 [00:00<00:00, 9709.04it/s]\n"
     ]
    },
    {
     "name": "stdout",
     "output_type": "stream",
     "text": [
      "mp-3762\n"
     ]
    },
    {
     "name": "stderr",
     "output_type": "stream",
     "text": [
      "Retrieving MaterialsDoc documents: 100%|██████████| 1/1 [00:00<00:00, 9754.20it/s]\n",
      "Retrieving SummaryDoc documents: 100%|██████████| 1/1 [00:00<00:00, 3956.89it/s]\n"
     ]
    },
    {
     "name": "stdout",
     "output_type": "stream",
     "text": [
      "mp-3771\n"
     ]
    },
    {
     "name": "stderr",
     "output_type": "stream",
     "text": [
      "Retrieving MaterialsDoc documents: 100%|██████████| 1/1 [00:00<00:00, 7108.99it/s]\n",
      "Retrieving SummaryDoc documents: 100%|██████████| 1/1 [00:00<00:00, 9754.20it/s]\n"
     ]
    },
    {
     "name": "stdout",
     "output_type": "stream",
     "text": [
      "mp-3772\n"
     ]
    },
    {
     "name": "stderr",
     "output_type": "stream",
     "text": [
      "Retrieving MaterialsDoc documents: 100%|██████████| 1/1 [00:00<00:00, 10754.63it/s]\n",
      "Retrieving SummaryDoc documents: 100%|██████████| 1/1 [00:00<00:00, 9489.38it/s]\n"
     ]
    },
    {
     "name": "stdout",
     "output_type": "stream",
     "text": [
      "mp-37906\n"
     ]
    },
    {
     "name": "stderr",
     "output_type": "stream",
     "text": [
      "Retrieving MaterialsDoc documents: 100%|██████████| 1/1 [00:00<00:00, 9489.38it/s]\n",
      "Retrieving SummaryDoc documents: 100%|██████████| 1/1 [00:00<00:00, 8559.80it/s]\n"
     ]
    },
    {
     "name": "stdout",
     "output_type": "stream",
     "text": [
      "mp-380\n"
     ]
    },
    {
     "name": "stderr",
     "output_type": "stream",
     "text": [
      "Retrieving MaterialsDoc documents: 100%|██████████| 1/1 [00:00<00:00, 11554.56it/s]\n",
      "Retrieving SummaryDoc documents: 100%|██████████| 1/1 [00:00<00:00, 9597.95it/s]\n"
     ]
    },
    {
     "name": "stdout",
     "output_type": "stream",
     "text": [
      "mp-38011\n"
     ]
    },
    {
     "name": "stderr",
     "output_type": "stream",
     "text": [
      "Retrieving MaterialsDoc documents: 100%|██████████| 1/1 [00:00<00:00, 14074.85it/s]\n",
      "Retrieving SummaryDoc documents: 100%|██████████| 1/1 [00:00<00:00, 9510.89it/s]\n"
     ]
    },
    {
     "name": "stdout",
     "output_type": "stream",
     "text": [
      "mp-3810\n"
     ]
    },
    {
     "name": "stderr",
     "output_type": "stream",
     "text": [
      "Retrieving MaterialsDoc documents: 100%|██████████| 1/1 [00:00<00:00, 9177.91it/s]\n",
      "Retrieving SummaryDoc documents: 100%|██████████| 1/1 [00:00<00:00, 9467.95it/s]\n"
     ]
    },
    {
     "name": "stdout",
     "output_type": "stream",
     "text": [
      "mp-38117\n"
     ]
    },
    {
     "name": "stderr",
     "output_type": "stream",
     "text": [
      "Retrieving MaterialsDoc documents: 100%|██████████| 1/1 [00:00<00:00, 9532.51it/s]\n",
      "Retrieving SummaryDoc documents: 100%|██████████| 1/1 [00:00<00:00, 8738.13it/s]\n"
     ]
    },
    {
     "name": "stdout",
     "output_type": "stream",
     "text": [
      "mp-3813\n"
     ]
    },
    {
     "name": "stderr",
     "output_type": "stream",
     "text": [
      "Retrieving MaterialsDoc documents: 100%|██████████| 1/1 [00:00<00:00, 9020.01it/s]\n",
      "Retrieving SummaryDoc documents: 100%|██████████| 1/1 [00:00<00:00, 6563.86it/s]\n"
     ]
    },
    {
     "name": "stdout",
     "output_type": "stream",
     "text": [
      "mp-3821\n"
     ]
    },
    {
     "name": "stderr",
     "output_type": "stream",
     "text": [
      "Retrieving MaterialsDoc documents: 100%|██████████| 1/1 [00:00<00:00, 6990.51it/s]\n",
      "Retrieving SummaryDoc documents: 100%|██████████| 1/1 [00:00<00:00, 9799.78it/s]\n"
     ]
    },
    {
     "name": "stdout",
     "output_type": "stream",
     "text": [
      "mp-3834\n"
     ]
    },
    {
     "name": "stderr",
     "output_type": "stream",
     "text": [
      "Retrieving MaterialsDoc documents: 100%|██████████| 1/1 [00:00<00:00, 9058.97it/s]\n",
      "Retrieving SummaryDoc documents: 100%|██████████| 1/1 [00:00<00:00, 8456.26it/s]\n"
     ]
    },
    {
     "name": "stdout",
     "output_type": "stream",
     "text": [
      "mp-3839\n"
     ]
    },
    {
     "name": "stderr",
     "output_type": "stream",
     "text": [
      "Retrieving MaterialsDoc documents: 100%|██████████| 1/1 [00:00<00:00, 8924.05it/s]\n",
      "Retrieving SummaryDoc documents: 100%|██████████| 1/1 [00:00<00:00, 8559.80it/s]\n"
     ]
    },
    {
     "name": "stdout",
     "output_type": "stream",
     "text": [
      "mp-384\n"
     ]
    },
    {
     "name": "stderr",
     "output_type": "stream",
     "text": [
      "Retrieving MaterialsDoc documents: 100%|██████████| 1/1 [00:00<00:00, 16644.06it/s]\n",
      "Retrieving SummaryDoc documents: 100%|██████████| 1/1 [00:00<00:00, 17549.39it/s]\n"
     ]
    },
    {
     "name": "stdout",
     "output_type": "stream",
     "text": [
      "mp-38970\n"
     ]
    },
    {
     "name": "stderr",
     "output_type": "stream",
     "text": [
      "Retrieving MaterialsDoc documents: 100%|██████████| 1/1 [00:00<00:00, 8559.80it/s]\n",
      "Retrieving SummaryDoc documents: 100%|██████████| 1/1 [00:00<00:00, 9279.43it/s]\n"
     ]
    },
    {
     "name": "stdout",
     "output_type": "stream",
     "text": [
      "mp-3915\n"
     ]
    },
    {
     "name": "stderr",
     "output_type": "stream",
     "text": [
      "Retrieving MaterialsDoc documents: 100%|██████████| 1/1 [00:00<00:00, 9000.65it/s]\n",
      "Retrieving SummaryDoc documents: 100%|██████████| 1/1 [00:00<00:00, 9510.89it/s]\n"
     ]
    },
    {
     "name": "stdout",
     "output_type": "stream",
     "text": [
      "mp-3924\n"
     ]
    },
    {
     "name": "stderr",
     "output_type": "stream",
     "text": [
      "Retrieving MaterialsDoc documents: 100%|██████████| 1/1 [00:00<00:00, 11491.24it/s]\n",
      "Retrieving SummaryDoc documents: 100%|██████████| 1/1 [00:00<00:00, 8774.69it/s]\n"
     ]
    },
    {
     "name": "stdout",
     "output_type": "stream",
     "text": [
      "mp-3953\n"
     ]
    },
    {
     "name": "stderr",
     "output_type": "stream",
     "text": [
      "Retrieving MaterialsDoc documents: 100%|██████████| 1/1 [00:00<00:00, 9532.51it/s]\n",
      "Retrieving SummaryDoc documents: 100%|██████████| 1/1 [00:00<00:00, 9425.40it/s]\n"
     ]
    },
    {
     "name": "stdout",
     "output_type": "stream",
     "text": [
      "mp-3970\n"
     ]
    },
    {
     "name": "stderr",
     "output_type": "stream",
     "text": [
      "Retrieving MaterialsDoc documents: 100%|██████████| 1/1 [00:00<00:00, 9822.73it/s]\n",
      "Retrieving SummaryDoc documents: 100%|██████████| 1/1 [00:00<00:00, 10155.70it/s]\n"
     ]
    },
    {
     "name": "stdout",
     "output_type": "stream",
     "text": [
      "mp-3980\n"
     ]
    },
    {
     "name": "stderr",
     "output_type": "stream",
     "text": [
      "Retrieving MaterialsDoc documents: 100%|██████████| 1/1 [00:00<00:00, 9822.73it/s]\n",
      "Retrieving SummaryDoc documents: 100%|██████████| 1/1 [00:00<00:00, 9118.05it/s]\n"
     ]
    },
    {
     "name": "stdout",
     "output_type": "stream",
     "text": [
      "mp-3982\n"
     ]
    },
    {
     "name": "stderr",
     "output_type": "stream",
     "text": [
      "Retrieving MaterialsDoc documents: 100%|██████████| 1/1 [00:00<00:00, 11491.24it/s]\n",
      "Retrieving SummaryDoc documents: 100%|██████████| 1/1 [00:00<00:00, 9868.95it/s]\n"
     ]
    },
    {
     "name": "stdout",
     "output_type": "stream",
     "text": [
      "mp-4002\n"
     ]
    },
    {
     "name": "stderr",
     "output_type": "stream",
     "text": [
      "Retrieving MaterialsDoc documents: 100%|██████████| 1/1 [00:00<00:00, 10979.85it/s]\n",
      "Retrieving SummaryDoc documents: 100%|██████████| 1/1 [00:00<00:00, 9177.91it/s]\n"
     ]
    },
    {
     "name": "stdout",
     "output_type": "stream",
     "text": [
      "mp-4009\n"
     ]
    },
    {
     "name": "stderr",
     "output_type": "stream",
     "text": [
      "Retrieving MaterialsDoc documents: 100%|██████████| 1/1 [00:00<00:00, 8756.38it/s]\n",
      "Retrieving SummaryDoc documents: 100%|██████████| 1/1 [00:00<00:00, 8525.01it/s]\n"
     ]
    },
    {
     "name": "stdout",
     "output_type": "stream",
     "text": [
      "mp-4035\n"
     ]
    },
    {
     "name": "stderr",
     "output_type": "stream",
     "text": [
      "Retrieving MaterialsDoc documents: 100%|██████████| 1/1 [00:00<00:00, 9597.95it/s]\n",
      "Retrieving SummaryDoc documents: 100%|██████████| 1/1 [00:00<00:00, 7796.10it/s]\n"
     ]
    },
    {
     "name": "stdout",
     "output_type": "stream",
     "text": [
      "mp-4043\n"
     ]
    },
    {
     "name": "stderr",
     "output_type": "stream",
     "text": [
      "Retrieving MaterialsDoc documents: 100%|██████████| 1/1 [00:00<00:00, 9446.63it/s]\n",
      "Retrieving SummaryDoc documents: 100%|██████████| 1/1 [00:00<00:00, 9554.22it/s]\n"
     ]
    },
    {
     "name": "stdout",
     "output_type": "stream",
     "text": [
      "mp-4047\n"
     ]
    },
    {
     "name": "stderr",
     "output_type": "stream",
     "text": [
      "Retrieving MaterialsDoc documents: 100%|██████████| 1/1 [00:00<00:00, 10010.27it/s]\n",
      "Retrieving SummaryDoc documents: 100%|██████████| 1/1 [00:00<00:00, 9157.87it/s]\n"
     ]
    },
    {
     "name": "stdout",
     "output_type": "stream",
     "text": [
      "mp-406\n"
     ]
    },
    {
     "name": "stderr",
     "output_type": "stream",
     "text": [
      "Retrieving MaterialsDoc documents: 100%|██████████| 1/1 [00:00<00:00, 10082.46it/s]\n",
      "Retrieving SummaryDoc documents: 100%|██████████| 1/1 [00:00<00:00, 6241.52it/s]\n"
     ]
    },
    {
     "name": "stdout",
     "output_type": "stream",
     "text": [
      "mp-4081\n"
     ]
    },
    {
     "name": "stderr",
     "output_type": "stream",
     "text": [
      "Retrieving MaterialsDoc documents: 100%|██████████| 1/1 [00:00<00:00, 9597.95it/s]\n",
      "Retrieving SummaryDoc documents: 100%|██████████| 1/1 [00:00<00:00, 8867.45it/s]\n"
     ]
    },
    {
     "name": "stdout",
     "output_type": "stream",
     "text": [
      "mp-4124\n"
     ]
    },
    {
     "name": "stderr",
     "output_type": "stream",
     "text": [
      "Retrieving MaterialsDoc documents: 100%|██████████| 1/1 [00:00<00:00, 9078.58it/s]\n",
      "Retrieving SummaryDoc documents: 100%|██████████| 1/1 [00:00<00:00, 8630.26it/s]\n"
     ]
    },
    {
     "name": "stdout",
     "output_type": "stream",
     "text": [
      "mp-4156\n"
     ]
    },
    {
     "name": "stderr",
     "output_type": "stream",
     "text": [
      "Retrieving MaterialsDoc documents: 100%|██████████| 1/1 [00:00<00:00, 9754.20it/s]\n",
      "Retrieving SummaryDoc documents: 100%|██████████| 1/1 [00:00<00:00, 8905.10it/s]\n"
     ]
    },
    {
     "name": "stdout",
     "output_type": "stream",
     "text": [
      "mp-4165\n"
     ]
    },
    {
     "name": "stderr",
     "output_type": "stream",
     "text": [
      "Retrieving MaterialsDoc documents: 100%|██████████| 1/1 [00:00<00:00, 8648.05it/s]\n",
      "Retrieving SummaryDoc documents: 100%|██████████| 1/1 [00:00<00:00, 8473.34it/s]\n"
     ]
    },
    {
     "name": "stdout",
     "output_type": "stream",
     "text": [
      "mp-4175\n"
     ]
    },
    {
     "name": "stderr",
     "output_type": "stream",
     "text": [
      "Retrieving MaterialsDoc documents: 100%|██████████| 1/1 [00:00<00:00, 9686.61it/s]\n",
      "Retrieving SummaryDoc documents: 100%|██████████| 1/1 [00:00<00:00, 9137.92it/s]\n"
     ]
    },
    {
     "name": "stdout",
     "output_type": "stream",
     "text": [
      "mp-4187\n"
     ]
    },
    {
     "name": "stderr",
     "output_type": "stream",
     "text": [
      "Retrieving MaterialsDoc documents: 100%|██████████| 1/1 [00:00<00:00, 9341.43it/s]\n",
      "Retrieving SummaryDoc documents: 100%|██████████| 1/1 [00:00<00:00, 8577.31it/s]\n"
     ]
    },
    {
     "name": "stdout",
     "output_type": "stream",
     "text": [
      "mp-4190\n"
     ]
    },
    {
     "name": "stderr",
     "output_type": "stream",
     "text": [
      "Retrieving MaterialsDoc documents: 100%|██████████| 1/1 [00:00<00:00, 9383.23it/s]\n",
      "Retrieving SummaryDoc documents: 100%|██████████| 1/1 [00:00<00:00, 9098.27it/s]\n"
     ]
    },
    {
     "name": "stdout",
     "output_type": "stream",
     "text": [
      "mp-4200\n"
     ]
    },
    {
     "name": "stderr",
     "output_type": "stream",
     "text": [
      "Retrieving MaterialsDoc documents: 100%|██████████| 1/1 [00:00<00:00, 9446.63it/s]\n",
      "Retrieving SummaryDoc documents: 100%|██████████| 1/1 [00:00<00:00, 7928.74it/s]\n"
     ]
    },
    {
     "name": "stdout",
     "output_type": "stream",
     "text": [
      "mp-422\n"
     ]
    },
    {
     "name": "stderr",
     "output_type": "stream",
     "text": [
      "Retrieving MaterialsDoc documents: 100%|██████████| 1/1 [00:00<00:00, 9383.23it/s]\n",
      "Retrieving SummaryDoc documents: 100%|██████████| 1/1 [00:00<00:00, 9915.61it/s]\n"
     ]
    },
    {
     "name": "stdout",
     "output_type": "stream",
     "text": [
      "mp-4236\n"
     ]
    },
    {
     "name": "stderr",
     "output_type": "stream",
     "text": [
      "Retrieving MaterialsDoc documents: 100%|██████████| 1/1 [00:00<00:00, 8719.97it/s]\n",
      "Retrieving SummaryDoc documents: 100%|██████████| 1/1 [00:00<00:00, 8507.72it/s]\n"
     ]
    },
    {
     "name": "stdout",
     "output_type": "stream",
     "text": [
      "mp-4280\n"
     ]
    },
    {
     "name": "stderr",
     "output_type": "stream",
     "text": [
      "Retrieving MaterialsDoc documents: 100%|██████████| 1/1 [00:00<00:00, 9489.38it/s]\n",
      "Retrieving SummaryDoc documents: 100%|██████████| 1/1 [00:00<00:00, 9446.63it/s]\n"
     ]
    },
    {
     "name": "stdout",
     "output_type": "stream",
     "text": [
      "mp-4342\n"
     ]
    },
    {
     "name": "stderr",
     "output_type": "stream",
     "text": [
      "Retrieving MaterialsDoc documents: 100%|██████████| 1/1 [00:00<00:00, 9776.93it/s]\n",
      "Retrieving SummaryDoc documents: 100%|██████████| 1/1 [00:00<00:00, 9962.72it/s]\n"
     ]
    },
    {
     "name": "stdout",
     "output_type": "stream",
     "text": [
      "mp-4359\n"
     ]
    },
    {
     "name": "stderr",
     "output_type": "stream",
     "text": [
      "Retrieving MaterialsDoc documents: 100%|██████████| 1/1 [00:00<00:00, 9489.38it/s]\n",
      "Retrieving SummaryDoc documents: 100%|██████████| 1/1 [00:00<00:00, 9425.40it/s]\n"
     ]
    },
    {
     "name": "stdout",
     "output_type": "stream",
     "text": [
      "mp-4360\n"
     ]
    },
    {
     "name": "stderr",
     "output_type": "stream",
     "text": [
      "Retrieving MaterialsDoc documents: 100%|██████████| 1/1 [00:00<00:00, 9157.87it/s]\n",
      "Retrieving SummaryDoc documents: 100%|██████████| 1/1 [00:00<00:00, 8507.72it/s]\n"
     ]
    },
    {
     "name": "stdout",
     "output_type": "stream",
     "text": [
      "mp-4385\n"
     ]
    },
    {
     "name": "stderr",
     "output_type": "stream",
     "text": [
      "Retrieving MaterialsDoc documents: 100%|██████████| 1/1 [00:00<00:00, 9686.61it/s]\n",
      "Retrieving SummaryDoc documents: 100%|██████████| 1/1 [00:00<00:00, 8525.01it/s]\n"
     ]
    },
    {
     "name": "stdout",
     "output_type": "stream",
     "text": [
      "mp-4405\n"
     ]
    },
    {
     "name": "stderr",
     "output_type": "stream",
     "text": [
      "Retrieving MaterialsDoc documents: 100%|██████████| 1/1 [00:00<00:00, 7973.96it/s]\n",
      "Retrieving SummaryDoc documents: 100%|██████████| 1/1 [00:00<00:00, 7767.23it/s]\n"
     ]
    },
    {
     "name": "stdout",
     "output_type": "stream",
     "text": [
      "mp-4406\n"
     ]
    },
    {
     "name": "stderr",
     "output_type": "stream",
     "text": [
      "Retrieving MaterialsDoc documents: 100%|██████████| 1/1 [00:00<00:00, 9845.78it/s]\n",
      "Retrieving SummaryDoc documents: 100%|██████████| 1/1 [00:00<00:00, 9731.56it/s]\n"
     ]
    },
    {
     "name": "stdout",
     "output_type": "stream",
     "text": [
      "mp-441\n"
     ]
    },
    {
     "name": "stderr",
     "output_type": "stream",
     "text": [
      "Retrieving MaterialsDoc documents: 100%|██████████| 1/1 [00:00<00:00, 9098.27it/s]\n",
      "Retrieving SummaryDoc documents: 100%|██████████| 1/1 [00:00<00:00, 9198.04it/s]\n"
     ]
    },
    {
     "name": "stdout",
     "output_type": "stream",
     "text": [
      "mp-4452\n"
     ]
    },
    {
     "name": "stderr",
     "output_type": "stream",
     "text": [
      "Retrieving MaterialsDoc documents: 100%|██████████| 1/1 [00:00<00:00, 9118.05it/s]\n",
      "Retrieving SummaryDoc documents: 100%|██████████| 1/1 [00:00<00:00, 9341.43it/s]\n"
     ]
    },
    {
     "name": "stdout",
     "output_type": "stream",
     "text": [
      "mp-4482\n"
     ]
    },
    {
     "name": "stderr",
     "output_type": "stream",
     "text": [
      "Retrieving MaterialsDoc documents: 100%|██████████| 1/1 [00:00<00:00, 9489.38it/s]\n",
      "Retrieving SummaryDoc documents: 100%|██████████| 1/1 [00:00<00:00, 6584.46it/s]\n"
     ]
    },
    {
     "name": "stdout",
     "output_type": "stream",
     "text": [
      "mp-4495\n"
     ]
    },
    {
     "name": "stderr",
     "output_type": "stream",
     "text": [
      "Retrieving MaterialsDoc documents: 100%|██████████| 1/1 [00:00<00:00, 15252.01it/s]\n",
      "Retrieving SummaryDoc documents: 100%|██████████| 1/1 [00:00<00:00, 9489.38it/s]\n"
     ]
    },
    {
     "name": "stdout",
     "output_type": "stream",
     "text": [
      "mp-4497\n"
     ]
    },
    {
     "name": "stderr",
     "output_type": "stream",
     "text": [
      "Retrieving MaterialsDoc documents: 100%|██████████| 1/1 [00:00<00:00, 10512.04it/s]\n",
      "Retrieving SummaryDoc documents: 100%|██████████| 1/1 [00:00<00:00, 8507.72it/s]\n"
     ]
    },
    {
     "name": "stdout",
     "output_type": "stream",
     "text": [
      "mp-4511\n"
     ]
    },
    {
     "name": "stderr",
     "output_type": "stream",
     "text": [
      "Retrieving MaterialsDoc documents: 100%|██████████| 1/1 [00:00<00:00, 13148.29it/s]\n",
      "Retrieving SummaryDoc documents: 100%|██████████| 1/1 [00:00<00:00, 9157.87it/s]\n"
     ]
    },
    {
     "name": "stdout",
     "output_type": "stream",
     "text": [
      "mp-4514\n"
     ]
    },
    {
     "name": "stderr",
     "output_type": "stream",
     "text": [
      "Retrieving MaterialsDoc documents: 100%|██████████| 1/1 [00:00<00:00, 13706.88it/s]\n",
      "Retrieving SummaryDoc documents: 100%|██████████| 1/1 [00:00<00:00, 10699.76it/s]\n"
     ]
    },
    {
     "name": "stdout",
     "output_type": "stream",
     "text": [
      "mp-4524\n"
     ]
    },
    {
     "name": "stderr",
     "output_type": "stream",
     "text": [
      "Retrieving MaterialsDoc documents: 100%|██████████| 1/1 [00:00<00:00, 10433.59it/s]\n",
      "Retrieving SummaryDoc documents: 100%|██████████| 1/1 [00:00<00:00, 8422.30it/s]\n"
     ]
    },
    {
     "name": "stdout",
     "output_type": "stream",
     "text": [
      "mp-4531\n"
     ]
    },
    {
     "name": "stderr",
     "output_type": "stream",
     "text": [
      "Retrieving MaterialsDoc documents: 100%|██████████| 1/1 [00:00<00:00, 9404.27it/s]\n",
      "Retrieving SummaryDoc documents: 100%|██████████| 1/1 [00:00<00:00, 9731.56it/s]\n"
     ]
    },
    {
     "name": "stdout",
     "output_type": "stream",
     "text": [
      "mp-4533\n"
     ]
    },
    {
     "name": "stderr",
     "output_type": "stream",
     "text": [
      "Retrieving MaterialsDoc documents: 100%|██████████| 1/1 [00:00<00:00, 13066.37it/s]\n",
      "Retrieving SummaryDoc documents: 100%|██████████| 1/1 [00:00<00:00, 10810.06it/s]\n"
     ]
    },
    {
     "name": "stdout",
     "output_type": "stream",
     "text": [
      "mp-4547\n"
     ]
    },
    {
     "name": "stderr",
     "output_type": "stream",
     "text": [
      "Retrieving MaterialsDoc documents: 100%|██████████| 1/1 [00:00<00:00, 9868.95it/s]\n",
      "Retrieving SummaryDoc documents: 100%|██████████| 1/1 [00:00<00:00, 9986.44it/s]\n"
     ]
    },
    {
     "name": "stdout",
     "output_type": "stream",
     "text": [
      "mp-4555\n"
     ]
    },
    {
     "name": "stderr",
     "output_type": "stream",
     "text": [
      "Retrieving MaterialsDoc documents: 100%|██████████| 1/1 [00:00<00:00, 9320.68it/s]\n",
      "Retrieving SummaryDoc documents: 100%|██████████| 1/1 [00:00<00:00, 8525.01it/s]\n"
     ]
    },
    {
     "name": "stdout",
     "output_type": "stream",
     "text": [
      "mp-4586\n"
     ]
    },
    {
     "name": "stderr",
     "output_type": "stream",
     "text": [
      "Retrieving MaterialsDoc documents: 100%|██████████| 1/1 [00:00<00:00, 9279.43it/s]\n",
      "Retrieving SummaryDoc documents: 100%|██████████| 1/1 [00:00<00:00, 9489.38it/s]\n"
     ]
    },
    {
     "name": "stdout",
     "output_type": "stream",
     "text": [
      "mp-4609\n"
     ]
    },
    {
     "name": "stderr",
     "output_type": "stream",
     "text": [
      "Retrieving MaterialsDoc documents: 100%|██████████| 1/1 [00:00<00:00, 9137.92it/s]\n",
      "Retrieving SummaryDoc documents: 100%|██████████| 1/1 [00:00<00:00, 8371.86it/s]\n"
     ]
    },
    {
     "name": "stdout",
     "output_type": "stream",
     "text": [
      "mp-4627\n"
     ]
    },
    {
     "name": "stderr",
     "output_type": "stream",
     "text": [
      "Retrieving MaterialsDoc documents: 100%|██████████| 1/1 [00:00<00:00, 9532.51it/s]\n",
      "Retrieving SummaryDoc documents: 100%|██████████| 1/1 [00:00<00:00, 7489.83it/s]\n"
     ]
    },
    {
     "name": "stdout",
     "output_type": "stream",
     "text": [
      "mp-463\n"
     ]
    },
    {
     "name": "stderr",
     "output_type": "stream",
     "text": [
      "Retrieving MaterialsDoc documents: 100%|██████████| 1/1 [00:00<00:00, 14364.05it/s]\n",
      "Retrieving SummaryDoc documents: 100%|██████████| 1/1 [00:00<00:00, 8665.92it/s]\n"
     ]
    },
    {
     "name": "stdout",
     "output_type": "stream",
     "text": [
      "mp-4636\n"
     ]
    },
    {
     "name": "stderr",
     "output_type": "stream",
     "text": [
      "Retrieving MaterialsDoc documents: 100%|██████████| 1/1 [00:00<00:00, 9642.08it/s]\n",
      "Retrieving SummaryDoc documents: 100%|██████████| 1/1 [00:00<00:00, 8924.05it/s]\n"
     ]
    },
    {
     "name": "stdout",
     "output_type": "stream",
     "text": [
      "mp-4651\n"
     ]
    },
    {
     "name": "stderr",
     "output_type": "stream",
     "text": [
      "Retrieving MaterialsDoc documents: 100%|██████████| 1/1 [00:00<00:00, 10381.94it/s]\n",
      "Retrieving SummaryDoc documents: 100%|██████████| 1/1 [00:00<00:00, 8490.49it/s]\n"
     ]
    },
    {
     "name": "stdout",
     "output_type": "stream",
     "text": [
      "mp-4666\n"
     ]
    },
    {
     "name": "stderr",
     "output_type": "stream",
     "text": [
      "Retrieving MaterialsDoc documents: 100%|██████████| 1/1 [00:00<00:00, 9709.04it/s]\n",
      "Retrieving SummaryDoc documents: 100%|██████████| 1/1 [00:00<00:00, 9799.78it/s]\n"
     ]
    },
    {
     "name": "stdout",
     "output_type": "stream",
     "text": [
      "mp-468\n"
     ]
    },
    {
     "name": "stderr",
     "output_type": "stream",
     "text": [
      "Retrieving MaterialsDoc documents: 100%|██████████| 1/1 [00:00<00:00, 9000.65it/s]\n",
      "Retrieving SummaryDoc documents: 100%|██████████| 1/1 [00:00<00:00, 8905.10it/s]\n"
     ]
    },
    {
     "name": "stdout",
     "output_type": "stream",
     "text": [
      "mp-4690\n"
     ]
    },
    {
     "name": "stderr",
     "output_type": "stream",
     "text": [
      "Retrieving MaterialsDoc documents: 100%|██████████| 1/1 [00:00<00:00, 14873.42it/s]\n",
      "Retrieving SummaryDoc documents: 100%|██████████| 1/1 [00:00<00:00, 9218.25it/s]\n"
     ]
    },
    {
     "name": "stdout",
     "output_type": "stream",
     "text": [
      "mp-470\n"
     ]
    },
    {
     "name": "stderr",
     "output_type": "stream",
     "text": [
      "Retrieving MaterialsDoc documents: 100%|██████████| 1/1 [00:00<00:00, 9489.38it/s]\n",
      "Retrieving SummaryDoc documents: 100%|██████████| 1/1 [00:00<00:00, 8405.42it/s]\n"
     ]
    },
    {
     "name": "stdout",
     "output_type": "stream",
     "text": [
      "mp-4763\n"
     ]
    },
    {
     "name": "stderr",
     "output_type": "stream",
     "text": [
      "Retrieving MaterialsDoc documents: 100%|██████████| 1/1 [00:00<00:00, 8867.45it/s]\n",
      "Retrieving SummaryDoc documents: 100%|██████████| 1/1 [00:00<00:00, 8525.01it/s]\n"
     ]
    },
    {
     "name": "stdout",
     "output_type": "stream",
     "text": [
      "mp-4782\n"
     ]
    },
    {
     "name": "stderr",
     "output_type": "stream",
     "text": [
      "Retrieving MaterialsDoc documents: 100%|██████████| 1/1 [00:00<00:00, 13751.82it/s]\n",
      "Retrieving SummaryDoc documents: 100%|██████████| 1/1 [00:00<00:00, 8924.05it/s]\n"
     ]
    },
    {
     "name": "stdout",
     "output_type": "stream",
     "text": [
      "mp-4809\n"
     ]
    },
    {
     "name": "stderr",
     "output_type": "stream",
     "text": [
      "Retrieving MaterialsDoc documents: 100%|██████████| 1/1 [00:00<00:00, 9341.43it/s]\n",
      "Retrieving SummaryDoc documents: 100%|██████████| 1/1 [00:00<00:00, 6345.39it/s]\n"
     ]
    },
    {
     "name": "stdout",
     "output_type": "stream",
     "text": [
      "mp-4820\n"
     ]
    },
    {
     "name": "stderr",
     "output_type": "stream",
     "text": [
      "Retrieving MaterialsDoc documents: 100%|██████████| 1/1 [00:00<00:00, 9532.51it/s]\n",
      "Retrieving SummaryDoc documents: 100%|██████████| 1/1 [00:00<00:00, 8612.53it/s]\n"
     ]
    },
    {
     "name": "stdout",
     "output_type": "stream",
     "text": [
      "mp-4824\n"
     ]
    },
    {
     "name": "stderr",
     "output_type": "stream",
     "text": [
      "Retrieving MaterialsDoc documents: 100%|██████████| 1/1 [00:00<00:00, 9300.01it/s]\n",
      "Retrieving SummaryDoc documents: 100%|██████████| 1/1 [00:00<00:00, 9664.29it/s]\n"
     ]
    },
    {
     "name": "stdout",
     "output_type": "stream",
     "text": [
      "mp-486\n"
     ]
    },
    {
     "name": "stderr",
     "output_type": "stream",
     "text": [
      "Retrieving MaterialsDoc documents: 100%|██████████| 1/1 [00:00<00:00, 9619.96it/s]\n",
      "Retrieving SummaryDoc documents: 100%|██████████| 1/1 [00:00<00:00, 8542.37it/s]\n"
     ]
    },
    {
     "name": "stdout",
     "output_type": "stream",
     "text": [
      "mp-487\n"
     ]
    },
    {
     "name": "stderr",
     "output_type": "stream",
     "text": [
      "Retrieving MaterialsDoc documents: 100%|██████████| 1/1 [00:00<00:00, 12264.05it/s]\n",
      "Retrieving SummaryDoc documents: 100%|██████████| 1/1 [00:00<00:00, 8439.24it/s]\n"
     ]
    },
    {
     "name": "stdout",
     "output_type": "stream",
     "text": [
      "mp-4961\n"
     ]
    },
    {
     "name": "stderr",
     "output_type": "stream",
     "text": [
      "Retrieving MaterialsDoc documents: 100%|██████████| 1/1 [00:00<00:00, 9383.23it/s]\n",
      "Retrieving SummaryDoc documents: 100%|██████████| 1/1 [00:00<00:00, 9320.68it/s]\n"
     ]
    },
    {
     "name": "stdout",
     "output_type": "stream",
     "text": [
      "mp-4979\n"
     ]
    },
    {
     "name": "stderr",
     "output_type": "stream",
     "text": [
      "Retrieving MaterialsDoc documents: 100%|██████████| 1/1 [00:00<00:00, 9642.08it/s]\n",
      "Retrieving SummaryDoc documents: 100%|██████████| 1/1 [00:00<00:00, 8793.09it/s]\n"
     ]
    },
    {
     "name": "stdout",
     "output_type": "stream",
     "text": [
      "mp-5012\n"
     ]
    },
    {
     "name": "stderr",
     "output_type": "stream",
     "text": [
      "Retrieving MaterialsDoc documents: 100%|██████████| 1/1 [00:00<00:00, 9404.27it/s]\n",
      "Retrieving SummaryDoc documents: 100%|██████████| 1/1 [00:00<00:00, 9754.20it/s]\n"
     ]
    },
    {
     "name": "stdout",
     "output_type": "stream",
     "text": [
      "mp-5020\n"
     ]
    },
    {
     "name": "stderr",
     "output_type": "stream",
     "text": [
      "Retrieving MaterialsDoc documents: 100%|██████████| 1/1 [00:00<00:00, 12633.45it/s]\n",
      "Retrieving SummaryDoc documents: 100%|██████████| 1/1 [00:00<00:00, 8456.26it/s]\n"
     ]
    },
    {
     "name": "stdout",
     "output_type": "stream",
     "text": [
      "mp-5038\n"
     ]
    },
    {
     "name": "stderr",
     "output_type": "stream",
     "text": [
      "Retrieving MaterialsDoc documents: 100%|██████████| 1/1 [00:00<00:00, 12905.55it/s]\n",
      "Retrieving SummaryDoc documents: 100%|██████████| 1/1 [00:00<00:00, 8648.05it/s]\n"
     ]
    },
    {
     "name": "stdout",
     "output_type": "stream",
     "text": [
      "mp-504535\n"
     ]
    },
    {
     "name": "stderr",
     "output_type": "stream",
     "text": [
      "Retrieving MaterialsDoc documents: 100%|██████████| 1/1 [00:00<00:00, 10082.46it/s]\n",
      "Retrieving SummaryDoc documents: 100%|██████████| 1/1 [00:00<00:00, 8756.38it/s]\n"
     ]
    },
    {
     "name": "stdout",
     "output_type": "stream",
     "text": [
      "mp-5046\n"
     ]
    },
    {
     "name": "stderr",
     "output_type": "stream",
     "text": [
      "Retrieving MaterialsDoc documents: 100%|██████████| 1/1 [00:00<00:00, 8962.19it/s]\n",
      "Retrieving SummaryDoc documents: 100%|██████████| 1/1 [00:00<00:00, 6689.48it/s]\n"
     ]
    },
    {
     "name": "stdout",
     "output_type": "stream",
     "text": [
      "mp-504729\n"
     ]
    },
    {
     "name": "stderr",
     "output_type": "stream",
     "text": [
      "Retrieving MaterialsDoc documents: 100%|██████████| 1/1 [00:00<00:00, 15252.01it/s]\n",
      "Retrieving SummaryDoc documents: 100%|██████████| 1/1 [00:00<00:00, 9776.93it/s]\n"
     ]
    },
    {
     "name": "stdout",
     "output_type": "stream",
     "text": [
      "mp-5048\n"
     ]
    },
    {
     "name": "stderr",
     "output_type": "stream",
     "text": [
      "Retrieving MaterialsDoc documents: 100%|██████████| 1/1 [00:00<00:00, 9383.23it/s]\n",
      "Retrieving SummaryDoc documents: 100%|██████████| 1/1 [00:00<00:00, 9962.72it/s]\n"
     ]
    },
    {
     "name": "stdout",
     "output_type": "stream",
     "text": [
      "mp-504838\n"
     ]
    },
    {
     "name": "stderr",
     "output_type": "stream",
     "text": [
      "Retrieving MaterialsDoc documents: 100%|██████████| 1/1 [00:00<00:00, 9320.68it/s]\n",
      "Retrieving SummaryDoc documents: 100%|██████████| 1/1 [00:00<00:00, 8456.26it/s]\n"
     ]
    },
    {
     "name": "stdout",
     "output_type": "stream",
     "text": [
      "mp-505297\n"
     ]
    },
    {
     "name": "stderr",
     "output_type": "stream",
     "text": [
      "Retrieving MaterialsDoc documents: 100%|██████████| 1/1 [00:00<00:00, 9597.95it/s]\n",
      "Retrieving SummaryDoc documents: 100%|██████████| 1/1 [00:00<00:00, 9300.01it/s]\n"
     ]
    },
    {
     "name": "stdout",
     "output_type": "stream",
     "text": [
      "mp-505634\n"
     ]
    },
    {
     "name": "stderr",
     "output_type": "stream",
     "text": [
      "Retrieving MaterialsDoc documents: 100%|██████████| 1/1 [00:00<00:00, 9532.51it/s]\n",
      "Retrieving SummaryDoc documents: 100%|██████████| 1/1 [00:00<00:00, 8648.05it/s]\n"
     ]
    },
    {
     "name": "stdout",
     "output_type": "stream",
     "text": [
      "mp-505825\n"
     ]
    },
    {
     "name": "stderr",
     "output_type": "stream",
     "text": [
      "Retrieving MaterialsDoc documents: 100%|██████████| 1/1 [00:00<00:00, 9320.68it/s]\n",
      "Retrieving SummaryDoc documents: 100%|██████████| 1/1 [00:00<00:00, 8867.45it/s]\n"
     ]
    },
    {
     "name": "stdout",
     "output_type": "stream",
     "text": [
      "mp-5061\n"
     ]
    },
    {
     "name": "stderr",
     "output_type": "stream",
     "text": [
      "Retrieving MaterialsDoc documents: 100%|██████████| 1/1 [00:00<00:00, 9341.43it/s]\n",
      "Retrieving SummaryDoc documents: 100%|██████████| 1/1 [00:00<00:00, 8338.58it/s]\n"
     ]
    },
    {
     "name": "stdout",
     "output_type": "stream",
     "text": [
      "mp-5072\n"
     ]
    },
    {
     "name": "stderr",
     "output_type": "stream",
     "text": [
      "Retrieving MaterialsDoc documents: 100%|██████████| 1/1 [00:00<00:00, 12787.51it/s]\n",
      "Retrieving SummaryDoc documents: 100%|██████████| 1/1 [00:00<00:00, 8507.72it/s]\n"
     ]
    },
    {
     "name": "stdout",
     "output_type": "stream",
     "text": [
      "mp-5077\n"
     ]
    },
    {
     "name": "stderr",
     "output_type": "stream",
     "text": [
      "Retrieving MaterialsDoc documents: 100%|██████████| 1/1 [00:00<00:00, 10922.67it/s]\n",
      "Retrieving SummaryDoc documents: 100%|██████████| 1/1 [00:00<00:00, 9962.72it/s]\n"
     ]
    },
    {
     "name": "stdout",
     "output_type": "stream",
     "text": [
      "mp-5078\n"
     ]
    },
    {
     "name": "stderr",
     "output_type": "stream",
     "text": [
      "Retrieving MaterialsDoc documents: 100%|██████████| 1/1 [00:00<00:00, 10280.16it/s]\n",
      "Retrieving SummaryDoc documents: 100%|██████████| 1/1 [00:00<00:00, 9404.27it/s]\n"
     ]
    },
    {
     "name": "stdout",
     "output_type": "stream",
     "text": [
      "mp-510268\n"
     ]
    },
    {
     "name": "stderr",
     "output_type": "stream",
     "text": [
      "Retrieving MaterialsDoc documents: 100%|██████████| 1/1 [00:00<00:00, 9845.78it/s]\n",
      "Retrieving SummaryDoc documents: 100%|██████████| 1/1 [00:00<00:00, 9845.78it/s]\n"
     ]
    },
    {
     "name": "stdout",
     "output_type": "stream",
     "text": [
      "mp-510273\n"
     ]
    },
    {
     "name": "stderr",
     "output_type": "stream",
     "text": [
      "Retrieving MaterialsDoc documents: 100%|██████████| 1/1 [00:00<00:00, 9118.05it/s]\n",
      "Retrieving SummaryDoc documents: 100%|██████████| 1/1 [00:00<00:00, 8456.26it/s]\n"
     ]
    },
    {
     "name": "stdout",
     "output_type": "stream",
     "text": [
      "mp-5122\n"
     ]
    },
    {
     "name": "stderr",
     "output_type": "stream",
     "text": [
      "Retrieving MaterialsDoc documents: 100%|██████████| 1/1 [00:00<00:00, 9320.68it/s]\n",
      "Retrieving SummaryDoc documents: 100%|██████████| 1/1 [00:00<00:00, 8542.37it/s]\n"
     ]
    },
    {
     "name": "stdout",
     "output_type": "stream",
     "text": [
      "mp-5127\n"
     ]
    },
    {
     "name": "stderr",
     "output_type": "stream",
     "text": [
      "Retrieving MaterialsDoc documents: 100%|██████████| 1/1 [00:00<00:00, 9939.11it/s]\n",
      "Retrieving SummaryDoc documents: 100%|██████████| 1/1 [00:00<00:00, 8774.69it/s]\n"
     ]
    },
    {
     "name": "stdout",
     "output_type": "stream",
     "text": [
      "mp-5132\n"
     ]
    },
    {
     "name": "stderr",
     "output_type": "stream",
     "text": [
      "Retrieving MaterialsDoc documents: 100%|██████████| 1/1 [00:00<00:00, 9118.05it/s]\n",
      "Retrieving SummaryDoc documents: 100%|██████████| 1/1 [00:00<00:00, 8525.01it/s]\n"
     ]
    },
    {
     "name": "stdout",
     "output_type": "stream",
     "text": [
      "mp-5175\n"
     ]
    },
    {
     "name": "stderr",
     "output_type": "stream",
     "text": [
      "Retrieving MaterialsDoc documents: 100%|██████████| 1/1 [00:00<00:00, 13751.82it/s]\n",
      "Retrieving SummaryDoc documents: 100%|██████████| 1/1 [00:00<00:00, 9709.04it/s]\n"
     ]
    },
    {
     "name": "stdout",
     "output_type": "stream",
     "text": [
      "mp-5213\n"
     ]
    },
    {
     "name": "stderr",
     "output_type": "stream",
     "text": [
      "Retrieving MaterialsDoc documents: 100%|██████████| 1/1 [00:00<00:00, 8981.38it/s]\n",
      "Retrieving SummaryDoc documents: 100%|██████████| 1/1 [00:00<00:00, 10155.70it/s]\n"
     ]
    },
    {
     "name": "stdout",
     "output_type": "stream",
     "text": [
      "mp-5238\n"
     ]
    },
    {
     "name": "stderr",
     "output_type": "stream",
     "text": [
      "Retrieving MaterialsDoc documents: 100%|██████████| 1/1 [00:00<00:00, 9198.04it/s]\n",
      "Retrieving SummaryDoc documents: 100%|██████████| 1/1 [00:00<00:00, 8811.56it/s]\n"
     ]
    },
    {
     "name": "stdout",
     "output_type": "stream",
     "text": [
      "mp-5280\n"
     ]
    },
    {
     "name": "stderr",
     "output_type": "stream",
     "text": [
      "Retrieving MaterialsDoc documents: 100%|██████████| 1/1 [00:00<00:00, 9776.93it/s]\n",
      "Retrieving SummaryDoc documents: 100%|██████████| 1/1 [00:00<00:00, 10305.42it/s]\n"
     ]
    },
    {
     "name": "stdout",
     "output_type": "stream",
     "text": [
      "mp-5295\n"
     ]
    },
    {
     "name": "stderr",
     "output_type": "stream",
     "text": [
      "Retrieving MaterialsDoc documents: 100%|██████████| 1/1 [00:00<00:00, 9467.95it/s]\n",
      "Retrieving SummaryDoc documents: 100%|██████████| 1/1 [00:00<00:00, 10058.28it/s]\n"
     ]
    },
    {
     "name": "stdout",
     "output_type": "stream",
     "text": [
      "mp-5339\n"
     ]
    },
    {
     "name": "stderr",
     "output_type": "stream",
     "text": [
      "Retrieving MaterialsDoc documents: 100%|██████████| 1/1 [00:00<00:00, 9039.45it/s]\n",
      "Retrieving SummaryDoc documents: 100%|██████████| 1/1 [00:00<00:00, 9000.65it/s]\n"
     ]
    },
    {
     "name": "stdout",
     "output_type": "stream",
     "text": [
      "mp-5342\n"
     ]
    },
    {
     "name": "stderr",
     "output_type": "stream",
     "text": [
      "Retrieving MaterialsDoc documents: 100%|██████████| 1/1 [00:00<00:00, 8577.31it/s]\n",
      "Retrieving SummaryDoc documents: 100%|██████████| 1/1 [00:00<00:00, 9822.73it/s]\n"
     ]
    },
    {
     "name": "stdout",
     "output_type": "stream",
     "text": [
      "mp-5348\n"
     ]
    },
    {
     "name": "stderr",
     "output_type": "stream",
     "text": [
      "Retrieving MaterialsDoc documents: 100%|██████████| 1/1 [00:00<00:00, 9576.04it/s]\n",
      "Retrieving SummaryDoc documents: 100%|██████████| 1/1 [00:00<00:00, 8848.74it/s]\n"
     ]
    },
    {
     "name": "stdout",
     "output_type": "stream",
     "text": [
      "mp-5350\n"
     ]
    },
    {
     "name": "stderr",
     "output_type": "stream",
     "text": [
      "Retrieving MaterialsDoc documents: 100%|██████████| 1/1 [00:00<00:00, 7989.15it/s]\n",
      "Retrieving SummaryDoc documents: 100%|██████████| 1/1 [00:00<00:00, 9962.72it/s]\n"
     ]
    },
    {
     "name": "stdout",
     "output_type": "stream",
     "text": [
      "mp-5377\n"
     ]
    },
    {
     "name": "stderr",
     "output_type": "stream",
     "text": [
      "Retrieving MaterialsDoc documents: 100%|██████████| 1/1 [00:00<00:00, 9446.63it/s]\n",
      "Retrieving SummaryDoc documents: 100%|██████████| 1/1 [00:00<00:00, 9341.43it/s]\n"
     ]
    },
    {
     "name": "stdout",
     "output_type": "stream",
     "text": [
      "mp-5380\n"
     ]
    },
    {
     "name": "stderr",
     "output_type": "stream",
     "text": [
      "Retrieving MaterialsDoc documents: 100%|██████████| 1/1 [00:00<00:00, 9320.68it/s]\n",
      "Retrieving SummaryDoc documents: 100%|██████████| 1/1 [00:00<00:00, 9709.04it/s]\n"
     ]
    },
    {
     "name": "stdout",
     "output_type": "stream",
     "text": [
      "mp-539\n"
     ]
    },
    {
     "name": "stderr",
     "output_type": "stream",
     "text": [
      "Retrieving MaterialsDoc documents: 100%|██████████| 1/1 [00:00<00:00, 9554.22it/s]\n",
      "Retrieving SummaryDoc documents: 100%|██████████| 1/1 [00:00<00:00, 9915.61it/s]\n"
     ]
    },
    {
     "name": "stdout",
     "output_type": "stream",
     "text": [
      "mp-5394\n"
     ]
    },
    {
     "name": "stderr",
     "output_type": "stream",
     "text": [
      "Retrieving MaterialsDoc documents: 100%|██████████| 1/1 [00:00<00:00, 9383.23it/s]\n",
      "Retrieving SummaryDoc documents: 100%|██████████| 1/1 [00:00<00:00, 8525.01it/s]\n"
     ]
    },
    {
     "name": "stdout",
     "output_type": "stream",
     "text": [
      "mp-540584\n"
     ]
    },
    {
     "name": "stderr",
     "output_type": "stream",
     "text": [
      "Retrieving MaterialsDoc documents: 100%|██████████| 1/1 [00:00<00:00, 9776.93it/s]\n",
      "Retrieving SummaryDoc documents: 100%|██████████| 1/1 [00:00<00:00, 9822.73it/s]\n"
     ]
    },
    {
     "name": "stdout",
     "output_type": "stream",
     "text": [
      "mp-540703\n"
     ]
    },
    {
     "name": "stderr",
     "output_type": "stream",
     "text": [
      "Retrieving MaterialsDoc documents: 100%|██████████| 1/1 [00:00<00:00, 9157.87it/s]\n",
      "Retrieving SummaryDoc documents: 100%|██████████| 1/1 [00:00<00:00, 8683.86it/s]\n"
     ]
    },
    {
     "name": "stdout",
     "output_type": "stream",
     "text": [
      "mp-540957\n"
     ]
    },
    {
     "name": "stderr",
     "output_type": "stream",
     "text": [
      "Retrieving MaterialsDoc documents: 100%|██████████| 1/1 [00:00<00:00, 9686.61it/s]\n",
      "Retrieving SummaryDoc documents: 100%|██████████| 1/1 [00:00<00:00, 8577.31it/s]\n"
     ]
    },
    {
     "name": "stdout",
     "output_type": "stream",
     "text": [
      "mp-541037\n"
     ]
    },
    {
     "name": "stderr",
     "output_type": "stream",
     "text": [
      "Retrieving MaterialsDoc documents: 100%|██████████| 1/1 [00:00<00:00, 9799.78it/s]\n",
      "Retrieving SummaryDoc documents: 100%|██████████| 1/1 [00:00<00:00, 10034.22it/s]\n"
     ]
    },
    {
     "name": "stdout",
     "output_type": "stream",
     "text": [
      "mp-541044\n"
     ]
    },
    {
     "name": "stderr",
     "output_type": "stream",
     "text": [
      "Retrieving MaterialsDoc documents: 100%|██████████| 1/1 [00:00<00:00, 9446.63it/s]\n",
      "Retrieving SummaryDoc documents: 100%|██████████| 1/1 [00:00<00:00, 9489.38it/s]\n"
     ]
    },
    {
     "name": "stdout",
     "output_type": "stream",
     "text": [
      "mp-541226\n"
     ]
    },
    {
     "name": "stderr",
     "output_type": "stream",
     "text": [
      "Retrieving MaterialsDoc documents: 100%|██████████| 1/1 [00:00<00:00, 13148.29it/s]\n",
      "Retrieving SummaryDoc documents: 100%|██████████| 1/1 [00:00<00:00, 8019.70it/s]\n"
     ]
    },
    {
     "name": "stdout",
     "output_type": "stream",
     "text": [
      "mp-5414\n"
     ]
    },
    {
     "name": "stderr",
     "output_type": "stream",
     "text": [
      "Retrieving MaterialsDoc documents: 100%|██████████| 1/1 [00:00<00:00, 9362.29it/s]\n",
      "Retrieving SummaryDoc documents: 100%|██████████| 1/1 [00:00<00:00, 8542.37it/s]\n"
     ]
    },
    {
     "name": "stdout",
     "output_type": "stream",
     "text": [
      "mp-541899\n"
     ]
    },
    {
     "name": "stderr",
     "output_type": "stream",
     "text": [
      "Retrieving MaterialsDoc documents: 100%|██████████| 1/1 [00:00<00:00, 8981.38it/s]\n",
      "Retrieving SummaryDoc documents: 100%|██████████| 1/1 [00:00<00:00, 9425.40it/s]\n"
     ]
    },
    {
     "name": "stdout",
     "output_type": "stream",
     "text": [
      "mp-541989\n"
     ]
    },
    {
     "name": "stderr",
     "output_type": "stream",
     "text": [
      "Retrieving MaterialsDoc documents: 100%|██████████| 1/1 [00:00<00:00, 9489.38it/s]\n",
      "Retrieving SummaryDoc documents: 100%|██████████| 1/1 [00:00<00:00, 9404.27it/s]\n"
     ]
    },
    {
     "name": "stdout",
     "output_type": "stream",
     "text": [
      "mp-5427\n"
     ]
    },
    {
     "name": "stderr",
     "output_type": "stream",
     "text": [
      "Retrieving MaterialsDoc documents: 100%|██████████| 1/1 [00:00<00:00, 8867.45it/s]\n",
      "Retrieving SummaryDoc documents: 100%|██████████| 1/1 [00:00<00:00, 9177.91it/s]\n"
     ]
    },
    {
     "name": "stdout",
     "output_type": "stream",
     "text": [
      "mp-543024\n"
     ]
    },
    {
     "name": "stderr",
     "output_type": "stream",
     "text": [
      "Retrieving MaterialsDoc documents: 100%|██████████| 1/1 [00:00<00:00, 11214.72it/s]\n",
      "Retrieving SummaryDoc documents: 100%|██████████| 1/1 [00:00<00:00, 9157.87it/s]\n"
     ]
    },
    {
     "name": "stdout",
     "output_type": "stream",
     "text": [
      "mp-5431\n"
     ]
    },
    {
     "name": "stderr",
     "output_type": "stream",
     "text": [
      "Retrieving MaterialsDoc documents: 100%|██████████| 1/1 [00:00<00:00, 9425.40it/s]\n",
      "Retrieving SummaryDoc documents: 100%|██████████| 1/1 [00:00<00:00, 9892.23it/s]\n"
     ]
    },
    {
     "name": "stdout",
     "output_type": "stream",
     "text": [
      "mp-545359\n"
     ]
    },
    {
     "name": "stderr",
     "output_type": "stream",
     "text": [
      "Retrieving MaterialsDoc documents: 100%|██████████| 1/1 [00:00<00:00, 9218.25it/s]\n",
      "Retrieving SummaryDoc documents: 100%|██████████| 1/1 [00:00<00:00, 17331.83it/s]\n"
     ]
    },
    {
     "name": "stdout",
     "output_type": "stream",
     "text": [
      "mp-545500\n"
     ]
    },
    {
     "name": "stderr",
     "output_type": "stream",
     "text": [
      "Retrieving MaterialsDoc documents: 100%|██████████| 1/1 [00:00<00:00, 9642.08it/s]\n",
      "Retrieving SummaryDoc documents: 100%|██████████| 1/1 [00:00<00:00, 9425.40it/s]\n"
     ]
    },
    {
     "name": "stdout",
     "output_type": "stream",
     "text": [
      "mp-545544\n"
     ]
    },
    {
     "name": "stderr",
     "output_type": "stream",
     "text": [
      "Retrieving MaterialsDoc documents: 100%|██████████| 1/1 [00:00<00:00, 9799.78it/s]\n",
      "Retrieving SummaryDoc documents: 100%|██████████| 1/1 [00:00<00:00, 10058.28it/s]\n"
     ]
    },
    {
     "name": "stdout",
     "output_type": "stream",
     "text": [
      "mp-546011\n"
     ]
    },
    {
     "name": "stderr",
     "output_type": "stream",
     "text": [
      "Retrieving MaterialsDoc documents: 100%|██████████| 1/1 [00:00<00:00, 9489.38it/s]\n",
      "Retrieving SummaryDoc documents: 100%|██████████| 1/1 [00:00<00:00, 9822.73it/s]\n"
     ]
    },
    {
     "name": "stdout",
     "output_type": "stream",
     "text": [
      "mp-546125\n"
     ]
    },
    {
     "name": "stderr",
     "output_type": "stream",
     "text": [
      "Retrieving MaterialsDoc documents: 100%|██████████| 1/1 [00:00<00:00, 9822.73it/s]\n",
      "Retrieving SummaryDoc documents: 100%|██████████| 1/1 [00:00<00:00, 9686.61it/s]\n"
     ]
    },
    {
     "name": "stdout",
     "output_type": "stream",
     "text": [
      "mp-546500\n"
     ]
    },
    {
     "name": "stderr",
     "output_type": "stream",
     "text": [
      "Retrieving MaterialsDoc documents: 100%|██████████| 1/1 [00:00<00:00, 9177.91it/s]\n",
      "Retrieving SummaryDoc documents: 100%|██████████| 1/1 [00:00<00:00, 8240.28it/s]\n"
     ]
    },
    {
     "name": "stdout",
     "output_type": "stream",
     "text": [
      "mp-546794\n"
     ]
    },
    {
     "name": "stderr",
     "output_type": "stream",
     "text": [
      "Retrieving MaterialsDoc documents: 100%|██████████| 1/1 [00:00<00:00, 8848.74it/s]\n",
      "Retrieving SummaryDoc documents: 100%|██████████| 1/1 [00:00<00:00, 9137.92it/s]\n"
     ]
    },
    {
     "name": "stdout",
     "output_type": "stream",
     "text": [
      "mp-546864\n"
     ]
    },
    {
     "name": "stderr",
     "output_type": "stream",
     "text": [
      "Retrieving MaterialsDoc documents: 100%|██████████| 1/1 [00:00<00:00, 9686.61it/s]\n",
      "Retrieving SummaryDoc documents: 100%|██████████| 1/1 [00:00<00:00, 9664.29it/s]\n"
     ]
    },
    {
     "name": "stdout",
     "output_type": "stream",
     "text": [
      "mp-547244\n"
     ]
    },
    {
     "name": "stderr",
     "output_type": "stream",
     "text": [
      "Retrieving MaterialsDoc documents: 100%|██████████| 1/1 [00:00<00:00, 9383.23it/s]\n",
      "Retrieving SummaryDoc documents: 100%|██████████| 1/1 [00:00<00:00, 8830.11it/s]\n"
     ]
    },
    {
     "name": "stdout",
     "output_type": "stream",
     "text": [
      "mp-5475\n"
     ]
    },
    {
     "name": "stderr",
     "output_type": "stream",
     "text": [
      "Retrieving MaterialsDoc documents: 100%|██████████| 1/1 [00:00<00:00, 9510.89it/s]\n",
      "Retrieving SummaryDoc documents: 100%|██████████| 1/1 [00:00<00:00, 8774.69it/s]\n"
     ]
    },
    {
     "name": "stdout",
     "output_type": "stream",
     "text": [
      "mp-547792\n"
     ]
    },
    {
     "name": "stderr",
     "output_type": "stream",
     "text": [
      "Retrieving MaterialsDoc documents: 100%|██████████| 1/1 [00:00<00:00, 10106.76it/s]\n",
      "Retrieving SummaryDoc documents: 100%|██████████| 1/1 [00:00<00:00, 9664.29it/s]\n"
     ]
    },
    {
     "name": "stdout",
     "output_type": "stream",
     "text": [
      "mp-5478\n"
     ]
    },
    {
     "name": "stderr",
     "output_type": "stream",
     "text": [
      "Retrieving MaterialsDoc documents: 100%|██████████| 1/1 [00:00<00:00, 8112.77it/s]\n",
      "Retrieving SummaryDoc documents: 100%|██████████| 1/1 [00:00<00:00, 9341.43it/s]\n"
     ]
    },
    {
     "name": "stdout",
     "output_type": "stream",
     "text": [
      "mp-5479\n"
     ]
    },
    {
     "name": "stderr",
     "output_type": "stream",
     "text": [
      "Retrieving MaterialsDoc documents: 100%|██████████| 1/1 [00:00<00:00, 7476.48it/s]\n",
      "Retrieving SummaryDoc documents: 100%|██████████| 1/1 [00:00<00:00, 9467.95it/s]\n"
     ]
    },
    {
     "name": "stdout",
     "output_type": "stream",
     "text": [
      "mp-5488\n"
     ]
    },
    {
     "name": "stderr",
     "output_type": "stream",
     "text": [
      "Retrieving MaterialsDoc documents: 100%|██████████| 1/1 [00:00<00:00, 6345.39it/s]\n",
      "Retrieving SummaryDoc documents: 100%|██████████| 1/1 [00:00<00:00, 8612.53it/s]\n"
     ]
    },
    {
     "name": "stdout",
     "output_type": "stream",
     "text": [
      "mp-549589\n"
     ]
    },
    {
     "name": "stderr",
     "output_type": "stream",
     "text": [
      "Retrieving MaterialsDoc documents: 100%|██████████| 1/1 [00:00<00:00, 9799.78it/s]\n",
      "Retrieving SummaryDoc documents: 100%|██████████| 1/1 [00:00<00:00, 9868.95it/s]\n"
     ]
    },
    {
     "name": "stdout",
     "output_type": "stream",
     "text": [
      "mp-549697\n"
     ]
    },
    {
     "name": "stderr",
     "output_type": "stream",
     "text": [
      "Retrieving MaterialsDoc documents: 100%|██████████| 1/1 [00:00<00:00, 13443.28it/s]\n",
      "Retrieving SummaryDoc documents: 100%|██████████| 1/1 [00:00<00:00, 8559.80it/s]\n"
     ]
    },
    {
     "name": "stdout",
     "output_type": "stream",
     "text": [
      "mp-549737\n"
     ]
    },
    {
     "name": "stderr",
     "output_type": "stream",
     "text": [
      "Retrieving MaterialsDoc documents: 100%|██████████| 1/1 [00:00<00:00, 13400.33it/s]\n",
      "Retrieving SummaryDoc documents: 100%|██████████| 1/1 [00:00<00:00, 8665.92it/s]\n"
     ]
    },
    {
     "name": "stdout",
     "output_type": "stream",
     "text": [
      "mp-550685\n"
     ]
    },
    {
     "name": "stderr",
     "output_type": "stream",
     "text": [
      "Retrieving MaterialsDoc documents: 100%|██████████| 1/1 [00:00<00:00, 9446.63it/s]\n",
      "Retrieving SummaryDoc documents: 100%|██████████| 1/1 [00:00<00:00, 9868.95it/s]\n"
     ]
    },
    {
     "name": "stdout",
     "output_type": "stream",
     "text": [
      "mp-550751\n"
     ]
    },
    {
     "name": "stderr",
     "output_type": "stream",
     "text": [
      "Retrieving MaterialsDoc documents: 100%|██████████| 1/1 [00:00<00:00, 9754.20it/s]\n",
      "Retrieving SummaryDoc documents: 100%|██████████| 1/1 [00:00<00:00, 8594.89it/s]\n"
     ]
    },
    {
     "name": "stdout",
     "output_type": "stream",
     "text": [
      "mp-551092\n"
     ]
    },
    {
     "name": "stderr",
     "output_type": "stream",
     "text": [
      "Retrieving MaterialsDoc documents: 100%|██████████| 1/1 [00:00<00:00, 9320.68it/s]\n",
      "Retrieving SummaryDoc documents: 100%|██████████| 1/1 [00:00<00:00, 9845.78it/s]\n"
     ]
    },
    {
     "name": "stdout",
     "output_type": "stream",
     "text": [
      "mp-551203\n"
     ]
    },
    {
     "name": "stderr",
     "output_type": "stream",
     "text": [
      "Retrieving MaterialsDoc documents: 100%|██████████| 1/1 [00:00<00:00, 7244.05it/s]\n",
      "Retrieving SummaryDoc documents: 100%|██████████| 1/1 [00:00<00:00, 9554.22it/s]\n"
     ]
    },
    {
     "name": "stdout",
     "output_type": "stream",
     "text": [
      "mp-551243\n"
     ]
    },
    {
     "name": "stderr",
     "output_type": "stream",
     "text": [
      "Retrieving MaterialsDoc documents: 100%|██████████| 1/1 [00:00<00:00, 9258.95it/s]\n",
      "Retrieving SummaryDoc documents: 100%|██████████| 1/1 [00:00<00:00, 9962.72it/s]\n"
     ]
    },
    {
     "name": "stdout",
     "output_type": "stream",
     "text": [
      "mp-551269\n"
     ]
    },
    {
     "name": "stderr",
     "output_type": "stream",
     "text": [
      "Retrieving MaterialsDoc documents: 100%|██████████| 1/1 [00:00<00:00, 10951.19it/s]\n",
      "Retrieving SummaryDoc documents: 100%|██████████| 1/1 [00:00<00:00, 8355.19it/s]\n"
     ]
    },
    {
     "name": "stdout",
     "output_type": "stream",
     "text": [
      "mp-551456\n"
     ]
    },
    {
     "name": "stderr",
     "output_type": "stream",
     "text": [
      "Retrieving MaterialsDoc documents: 100%|██████████| 1/1 [00:00<00:00, 9404.27it/s]\n",
      "Retrieving SummaryDoc documents: 100%|██████████| 1/1 [00:00<00:00, 8924.05it/s]\n"
     ]
    },
    {
     "name": "stdout",
     "output_type": "stream",
     "text": [
      "mp-5518\n"
     ]
    },
    {
     "name": "stderr",
     "output_type": "stream",
     "text": [
      "Retrieving MaterialsDoc documents: 100%|██████████| 1/1 [00:00<00:00, 9686.61it/s]\n",
      "Retrieving SummaryDoc documents: 100%|██████████| 1/1 [00:00<00:00, 8701.88it/s]\n"
     ]
    },
    {
     "name": "stdout",
     "output_type": "stream",
     "text": [
      "mp-551835\n"
     ]
    },
    {
     "name": "stderr",
     "output_type": "stream",
     "text": [
      "Retrieving MaterialsDoc documents: 100%|██████████| 1/1 [00:00<00:00, 13231.24it/s]\n",
      "Retrieving SummaryDoc documents: 100%|██████████| 1/1 [00:00<00:00, 8507.72it/s]\n"
     ]
    },
    {
     "name": "stdout",
     "output_type": "stream",
     "text": [
      "mp-551873\n"
     ]
    },
    {
     "name": "stderr",
     "output_type": "stream",
     "text": [
      "Retrieving MaterialsDoc documents: 100%|██████████| 1/1 [00:00<00:00, 9238.56it/s]\n",
      "Retrieving SummaryDoc documents: 100%|██████████| 1/1 [00:00<00:00, 9532.51it/s]\n"
     ]
    },
    {
     "name": "stdout",
     "output_type": "stream",
     "text": [
      "mp-552234\n"
     ]
    },
    {
     "name": "stderr",
     "output_type": "stream",
     "text": [
      "Retrieving MaterialsDoc documents: 100%|██████████| 1/1 [00:00<00:00, 9532.51it/s]\n",
      "Retrieving SummaryDoc documents: 100%|██████████| 1/1 [00:00<00:00, 9510.89it/s]\n"
     ]
    },
    {
     "name": "stdout",
     "output_type": "stream",
     "text": [
      "mp-552488\n"
     ]
    },
    {
     "name": "stderr",
     "output_type": "stream",
     "text": [
      "Retrieving MaterialsDoc documents: 100%|██████████| 1/1 [00:00<00:00, 9157.87it/s]\n",
      "Retrieving SummaryDoc documents: 100%|██████████| 1/1 [00:00<00:00, 9642.08it/s]\n"
     ]
    },
    {
     "name": "stdout",
     "output_type": "stream",
     "text": [
      "mp-552537\n"
     ]
    },
    {
     "name": "stderr",
     "output_type": "stream",
     "text": [
      "Retrieving MaterialsDoc documents: 100%|██████████| 1/1 [00:00<00:00, 9642.08it/s]\n",
      "Retrieving SummaryDoc documents: 100%|██████████| 1/1 [00:00<00:00, 8648.05it/s]\n"
     ]
    },
    {
     "name": "stdout",
     "output_type": "stream",
     "text": [
      "mp-552547\n"
     ]
    },
    {
     "name": "stderr",
     "output_type": "stream",
     "text": [
      "Retrieving MaterialsDoc documents: 100%|██████████| 1/1 [00:00<00:00, 9039.45it/s]\n",
      "Retrieving SummaryDoc documents: 100%|██████████| 1/1 [00:00<00:00, 8525.01it/s]\n"
     ]
    },
    {
     "name": "stdout",
     "output_type": "stream",
     "text": [
      "mp-552663\n"
     ]
    },
    {
     "name": "stderr",
     "output_type": "stream",
     "text": [
      "Retrieving MaterialsDoc documents: 100%|██████████| 1/1 [00:00<00:00, 9198.04it/s]\n",
      "Retrieving SummaryDoc documents: 100%|██████████| 1/1 [00:00<00:00, 9597.95it/s]\n"
     ]
    },
    {
     "name": "stdout",
     "output_type": "stream",
     "text": [
      "mp-552806\n"
     ]
    },
    {
     "name": "stderr",
     "output_type": "stream",
     "text": [
      "Retrieving MaterialsDoc documents: 100%|██████████| 1/1 [00:00<00:00, 9078.58it/s]\n",
      "Retrieving SummaryDoc documents: 100%|██████████| 1/1 [00:00<00:00, 8559.80it/s]\n"
     ]
    },
    {
     "name": "stdout",
     "output_type": "stream",
     "text": [
      "mp-552934\n"
     ]
    },
    {
     "name": "stderr",
     "output_type": "stream",
     "text": [
      "Retrieving MaterialsDoc documents: 100%|██████████| 1/1 [00:00<00:00, 9576.04it/s]\n",
      "Retrieving SummaryDoc documents: 100%|██████████| 1/1 [00:00<00:00, 9000.65it/s]\n"
     ]
    },
    {
     "name": "stdout",
     "output_type": "stream",
     "text": [
      "mp-553025\n"
     ]
    },
    {
     "name": "stderr",
     "output_type": "stream",
     "text": [
      "Retrieving MaterialsDoc documents: 100%|██████████| 1/1 [00:00<00:00, 9362.29it/s]\n",
      "Retrieving SummaryDoc documents: 100%|██████████| 1/1 [00:00<00:00, 10082.46it/s]\n"
     ]
    },
    {
     "name": "stdout",
     "output_type": "stream",
     "text": [
      "mp-5532\n"
     ]
    },
    {
     "name": "stderr",
     "output_type": "stream",
     "text": [
      "Retrieving MaterialsDoc documents: 100%|██████████| 1/1 [00:00<00:00, 9510.89it/s]\n",
      "Retrieving SummaryDoc documents: 100%|██████████| 1/1 [00:00<00:00, 8542.37it/s]\n"
     ]
    },
    {
     "name": "stdout",
     "output_type": "stream",
     "text": [
      "mp-553281\n"
     ]
    },
    {
     "name": "stderr",
     "output_type": "stream",
     "text": [
      "Retrieving MaterialsDoc documents: 100%|██████████| 1/1 [00:00<00:00, 9489.38it/s]\n",
      "Retrieving SummaryDoc documents: 100%|██████████| 1/1 [00:00<00:00, 9799.78it/s]\n"
     ]
    },
    {
     "name": "stdout",
     "output_type": "stream",
     "text": [
      "mp-553303\n"
     ]
    },
    {
     "name": "stderr",
     "output_type": "stream",
     "text": [
      "Retrieving MaterialsDoc documents: 100%|██████████| 1/1 [00:00<00:00, 9868.95it/s]\n",
      "Retrieving SummaryDoc documents: 100%|██████████| 1/1 [00:00<00:00, 8559.80it/s]\n"
     ]
    },
    {
     "name": "stdout",
     "output_type": "stream",
     "text": [
      "mp-553310\n"
     ]
    },
    {
     "name": "stderr",
     "output_type": "stream",
     "text": [
      "Retrieving MaterialsDoc documents: 100%|██████████| 1/1 [00:00<00:00, 9279.43it/s]\n",
      "Retrieving SummaryDoc documents: 100%|██████████| 1/1 [00:00<00:00, 8905.10it/s]\n"
     ]
    },
    {
     "name": "stdout",
     "output_type": "stream",
     "text": [
      "mp-553342\n"
     ]
    },
    {
     "name": "stderr",
     "output_type": "stream",
     "text": [
      "Retrieving MaterialsDoc documents: 100%|██████████| 1/1 [00:00<00:00, 13617.87it/s]\n",
      "Retrieving SummaryDoc documents: 100%|██████████| 1/1 [00:00<00:00, 8612.53it/s]\n"
     ]
    },
    {
     "name": "stdout",
     "output_type": "stream",
     "text": [
      "mp-553374\n"
     ]
    },
    {
     "name": "stderr",
     "output_type": "stream",
     "text": [
      "Retrieving MaterialsDoc documents: 100%|██████████| 1/1 [00:00<00:00, 12052.60it/s]\n",
      "Retrieving SummaryDoc documents: 100%|██████████| 1/1 [00:00<00:00, 8612.53it/s]\n"
     ]
    },
    {
     "name": "stdout",
     "output_type": "stream",
     "text": [
      "mp-553875\n"
     ]
    },
    {
     "name": "stderr",
     "output_type": "stream",
     "text": [
      "Retrieving MaterialsDoc documents: 100%|██████████| 1/1 [00:00<00:00, 9446.63it/s]\n",
      "Retrieving SummaryDoc documents: 100%|██████████| 1/1 [00:00<00:00, 8612.53it/s]\n"
     ]
    },
    {
     "name": "stdout",
     "output_type": "stream",
     "text": [
      "mp-553961\n"
     ]
    },
    {
     "name": "stderr",
     "output_type": "stream",
     "text": [
      "Retrieving MaterialsDoc documents: 100%|██████████| 1/1 [00:00<00:00, 9619.96it/s]\n",
      "Retrieving SummaryDoc documents: 100%|██████████| 1/1 [00:00<00:00, 9845.78it/s]\n"
     ]
    },
    {
     "name": "stdout",
     "output_type": "stream",
     "text": [
      "mp-554155\n"
     ]
    },
    {
     "name": "stderr",
     "output_type": "stream",
     "text": [
      "Retrieving MaterialsDoc documents: 100%|██████████| 1/1 [00:00<00:00, 9597.95it/s]\n",
      "Retrieving SummaryDoc documents: 100%|██████████| 1/1 [00:00<00:00, 8683.86it/s]\n"
     ]
    },
    {
     "name": "stdout",
     "output_type": "stream",
     "text": [
      "mp-554412\n"
     ]
    },
    {
     "name": "stderr",
     "output_type": "stream",
     "text": [
      "Retrieving MaterialsDoc documents: 100%|██████████| 1/1 [00:00<00:00, 9597.95it/s]\n",
      "Retrieving SummaryDoc documents: 100%|██████████| 1/1 [00:00<00:00, 10131.17it/s]\n"
     ]
    },
    {
     "name": "stdout",
     "output_type": "stream",
     "text": [
      "mp-554941\n"
     ]
    },
    {
     "name": "stderr",
     "output_type": "stream",
     "text": [
      "Retrieving MaterialsDoc documents: 100%|██████████| 1/1 [00:00<00:00, 9822.73it/s]\n",
      "Retrieving SummaryDoc documents: 100%|██████████| 1/1 [00:00<00:00, 9198.04it/s]\n"
     ]
    },
    {
     "name": "stdout",
     "output_type": "stream",
     "text": [
      "mp-555166\n"
     ]
    },
    {
     "name": "stderr",
     "output_type": "stream",
     "text": [
      "Retrieving MaterialsDoc documents: 100%|██████████| 1/1 [00:00<00:00, 9554.22it/s]\n",
      "Retrieving SummaryDoc documents: 100%|██████████| 1/1 [00:00<00:00, 9939.11it/s]\n"
     ]
    },
    {
     "name": "stdout",
     "output_type": "stream",
     "text": [
      "mp-555286\n"
     ]
    },
    {
     "name": "stderr",
     "output_type": "stream",
     "text": [
      "Retrieving MaterialsDoc documents: 100%|██████████| 1/1 [00:00<00:00, 9000.65it/s]\n",
      "Retrieving SummaryDoc documents: 100%|██████████| 1/1 [00:00<00:00, 9576.04it/s]\n"
     ]
    },
    {
     "name": "stdout",
     "output_type": "stream",
     "text": [
      "mp-555410\n"
     ]
    },
    {
     "name": "stderr",
     "output_type": "stream",
     "text": [
      "Retrieving MaterialsDoc documents: 100%|██████████| 1/1 [00:00<00:00, 9619.96it/s]\n",
      "Retrieving SummaryDoc documents: 100%|██████████| 1/1 [00:00<00:00, 8701.88it/s]\n"
     ]
    },
    {
     "name": "stdout",
     "output_type": "stream",
     "text": [
      "mp-555763\n"
     ]
    },
    {
     "name": "stderr",
     "output_type": "stream",
     "text": [
      "Retrieving MaterialsDoc documents: 100%|██████████| 1/1 [00:00<00:00, 8981.38it/s]\n",
      "Retrieving SummaryDoc documents: 100%|██████████| 1/1 [00:00<00:00, 9642.08it/s]\n"
     ]
    },
    {
     "name": "stdout",
     "output_type": "stream",
     "text": [
      "mp-555874\n"
     ]
    },
    {
     "name": "stderr",
     "output_type": "stream",
     "text": [
      "Retrieving MaterialsDoc documents: 100%|██████████| 1/1 [00:00<00:00, 9731.56it/s]\n",
      "Retrieving SummaryDoc documents: 100%|██████████| 1/1 [00:00<00:00, 8439.24it/s]\n"
     ]
    },
    {
     "name": "stdout",
     "output_type": "stream",
     "text": [
      "mp-556120\n"
     ]
    },
    {
     "name": "stderr",
     "output_type": "stream",
     "text": [
      "Retrieving MaterialsDoc documents: 100%|██████████| 1/1 [00:00<00:00, 9489.38it/s]\n",
      "Retrieving SummaryDoc documents: 100%|██████████| 1/1 [00:00<00:00, 9915.61it/s]\n"
     ]
    },
    {
     "name": "stdout",
     "output_type": "stream",
     "text": [
      "mp-556405\n"
     ]
    },
    {
     "name": "stderr",
     "output_type": "stream",
     "text": [
      "Retrieving MaterialsDoc documents: 100%|██████████| 1/1 [00:00<00:00, 9754.20it/s]\n",
      "Retrieving SummaryDoc documents: 100%|██████████| 1/1 [00:00<00:00, 9597.95it/s]\n"
     ]
    },
    {
     "name": "stdout",
     "output_type": "stream",
     "text": [
      "mp-556866\n"
     ]
    },
    {
     "name": "stderr",
     "output_type": "stream",
     "text": [
      "Retrieving MaterialsDoc documents: 100%|██████████| 1/1 [00:00<00:00, 9532.51it/s]\n",
      "Retrieving SummaryDoc documents: 100%|██████████| 1/1 [00:00<00:00, 9619.96it/s]\n"
     ]
    },
    {
     "name": "stdout",
     "output_type": "stream",
     "text": [
      "mp-556953\n"
     ]
    },
    {
     "name": "stderr",
     "output_type": "stream",
     "text": [
      "Retrieving MaterialsDoc documents: 100%|██████████| 1/1 [00:00<00:00, 9892.23it/s]\n",
      "Retrieving SummaryDoc documents: 100%|██████████| 1/1 [00:00<00:00, 10155.70it/s]\n"
     ]
    },
    {
     "name": "stdout",
     "output_type": "stream",
     "text": [
      "mp-557664\n"
     ]
    },
    {
     "name": "stderr",
     "output_type": "stream",
     "text": [
      "Retrieving MaterialsDoc documents: 100%|██████████| 1/1 [00:00<00:00, 9425.40it/s]\n",
      "Retrieving SummaryDoc documents: 100%|██████████| 1/1 [00:00<00:00, 9642.08it/s]\n"
     ]
    },
    {
     "name": "stdout",
     "output_type": "stream",
     "text": [
      "mp-558071\n"
     ]
    },
    {
     "name": "stderr",
     "output_type": "stream",
     "text": [
      "Retrieving MaterialsDoc documents: 100%|██████████| 1/1 [00:00<00:00, 9341.43it/s]\n",
      "Retrieving SummaryDoc documents: 100%|██████████| 1/1 [00:00<00:00, 9532.51it/s]\n"
     ]
    },
    {
     "name": "stdout",
     "output_type": "stream",
     "text": [
      "mp-558118\n"
     ]
    },
    {
     "name": "stderr",
     "output_type": "stream",
     "text": [
      "Retrieving MaterialsDoc documents: 100%|██████████| 1/1 [00:00<00:00, 10538.45it/s]\n",
      "Retrieving SummaryDoc documents: 100%|██████████| 1/1 [00:00<00:00, 10034.22it/s]\n"
     ]
    },
    {
     "name": "stdout",
     "output_type": "stream",
     "text": [
      "mp-558430\n"
     ]
    },
    {
     "name": "stderr",
     "output_type": "stream",
     "text": [
      "Retrieving MaterialsDoc documents: 100%|██████████| 1/1 [00:00<00:00, 9532.51it/s]\n",
      "Retrieving SummaryDoc documents: 100%|██████████| 1/1 [00:00<00:00, 9799.78it/s]\n"
     ]
    },
    {
     "name": "stdout",
     "output_type": "stream",
     "text": [
      "mp-558781\n"
     ]
    },
    {
     "name": "stderr",
     "output_type": "stream",
     "text": [
      "Retrieving MaterialsDoc documents: 100%|██████████| 1/1 [00:00<00:00, 9642.08it/s]\n",
      "Retrieving SummaryDoc documents: 100%|██████████| 1/1 [00:00<00:00, 9467.95it/s]\n"
     ]
    },
    {
     "name": "stdout",
     "output_type": "stream",
     "text": [
      "mp-5588\n"
     ]
    },
    {
     "name": "stderr",
     "output_type": "stream",
     "text": [
      "Retrieving MaterialsDoc documents: 100%|██████████| 1/1 [00:00<00:00, 10010.27it/s]\n",
      "Retrieving SummaryDoc documents: 100%|██████████| 1/1 [00:00<00:00, 10180.35it/s]\n"
     ]
    },
    {
     "name": "stdout",
     "output_type": "stream",
     "text": [
      "mp-559092\n"
     ]
    },
    {
     "name": "stderr",
     "output_type": "stream",
     "text": [
      "Retrieving MaterialsDoc documents: 100%|██████████| 1/1 [00:00<00:00, 9776.93it/s]\n",
      "Retrieving SummaryDoc documents: 100%|██████████| 1/1 [00:00<00:00, 8793.09it/s]\n"
     ]
    },
    {
     "name": "stdout",
     "output_type": "stream",
     "text": [
      "mp-5594\n"
     ]
    },
    {
     "name": "stderr",
     "output_type": "stream",
     "text": [
      "Retrieving MaterialsDoc documents: 100%|██████████| 1/1 [00:00<00:00, 9868.95it/s]\n",
      "Retrieving SummaryDoc documents: 100%|██████████| 1/1 [00:00<00:00, 10082.46it/s]\n"
     ]
    },
    {
     "name": "stdout",
     "output_type": "stream",
     "text": [
      "mp-559695\n"
     ]
    },
    {
     "name": "stderr",
     "output_type": "stream",
     "text": [
      "Retrieving MaterialsDoc documents: 100%|██████████| 1/1 [00:00<00:00, 9709.04it/s]\n",
      "Retrieving SummaryDoc documents: 100%|██████████| 1/1 [00:00<00:00, 8774.69it/s]\n"
     ]
    },
    {
     "name": "stdout",
     "output_type": "stream",
     "text": [
      "mp-560037\n"
     ]
    },
    {
     "name": "stderr",
     "output_type": "stream",
     "text": [
      "Retrieving MaterialsDoc documents: 100%|██████████| 1/1 [00:00<00:00, 8981.38it/s]\n",
      "Retrieving SummaryDoc documents: 100%|██████████| 1/1 [00:00<00:00, 9962.72it/s]\n"
     ]
    },
    {
     "name": "stdout",
     "output_type": "stream",
     "text": [
      "mp-560558\n"
     ]
    },
    {
     "name": "stderr",
     "output_type": "stream",
     "text": [
      "Retrieving MaterialsDoc documents: 100%|██████████| 1/1 [00:00<00:00, 9686.61it/s]\n",
      "Retrieving SummaryDoc documents: 100%|██████████| 1/1 [00:00<00:00, 9157.87it/s]\n"
     ]
    },
    {
     "name": "stdout",
     "output_type": "stream",
     "text": [
      "mp-560588\n"
     ]
    },
    {
     "name": "stderr",
     "output_type": "stream",
     "text": [
      "Retrieving MaterialsDoc documents: 100%|██████████| 1/1 [00:00<00:00, 9868.95it/s]\n",
      "Retrieving SummaryDoc documents: 100%|██████████| 1/1 [00:00<00:00, 9177.91it/s]\n"
     ]
    },
    {
     "name": "stdout",
     "output_type": "stream",
     "text": [
      "mp-560790\n"
     ]
    },
    {
     "name": "stderr",
     "output_type": "stream",
     "text": [
      "Retrieving MaterialsDoc documents: 100%|██████████| 1/1 [00:00<00:00, 17189.77it/s]\n",
      "Retrieving SummaryDoc documents: 100%|██████████| 1/1 [00:00<00:00, 9238.56it/s]\n"
     ]
    },
    {
     "name": "stdout",
     "output_type": "stream",
     "text": [
      "mp-560791\n"
     ]
    },
    {
     "name": "stderr",
     "output_type": "stream",
     "text": [
      "Retrieving MaterialsDoc documents: 100%|██████████| 1/1 [00:00<00:00, 10180.35it/s]\n",
      "Retrieving SummaryDoc documents: 100%|██████████| 1/1 [00:00<00:00, 9822.73it/s]\n"
     ]
    },
    {
     "name": "stdout",
     "output_type": "stream",
     "text": [
      "mp-561561\n"
     ]
    },
    {
     "name": "stderr",
     "output_type": "stream",
     "text": [
      "Retrieving MaterialsDoc documents: 100%|██████████| 1/1 [00:00<00:00, 9799.78it/s]\n",
      "Retrieving SummaryDoc documents: 100%|██████████| 1/1 [00:00<00:00, 8612.53it/s]\n"
     ]
    },
    {
     "name": "stdout",
     "output_type": "stream",
     "text": [
      "mp-561586\n"
     ]
    },
    {
     "name": "stderr",
     "output_type": "stream",
     "text": [
      "Retrieving MaterialsDoc documents: 100%|██████████| 1/1 [00:00<00:00, 9962.72it/s]\n",
      "Retrieving SummaryDoc documents: 100%|██████████| 1/1 [00:00<00:00, 10106.76it/s]\n"
     ]
    },
    {
     "name": "stdout",
     "output_type": "stream",
     "text": [
      "mp-561710\n"
     ]
    },
    {
     "name": "stderr",
     "output_type": "stream",
     "text": [
      "Retrieving MaterialsDoc documents: 100%|██████████| 1/1 [00:00<00:00, 10356.31it/s]\n",
      "Retrieving SummaryDoc documents: 100%|██████████| 1/1 [00:00<00:00, 9731.56it/s]\n"
     ]
    },
    {
     "name": "stdout",
     "output_type": "stream",
     "text": [
      "mp-5618\n"
     ]
    },
    {
     "name": "stderr",
     "output_type": "stream",
     "text": [
      "Retrieving MaterialsDoc documents: 100%|██████████| 1/1 [00:00<00:00, 9554.22it/s]\n",
      "Retrieving SummaryDoc documents: 100%|██████████| 1/1 [00:00<00:00, 10034.22it/s]\n"
     ]
    },
    {
     "name": "stdout",
     "output_type": "stream",
     "text": [
      "mp-561827\n"
     ]
    },
    {
     "name": "stderr",
     "output_type": "stream",
     "text": [
      "Retrieving MaterialsDoc documents: 100%|██████████| 1/1 [00:00<00:00, 12018.06it/s]\n",
      "Retrieving SummaryDoc documents: 100%|██████████| 1/1 [00:00<00:00, 8525.01it/s]\n"
     ]
    },
    {
     "name": "stdout",
     "output_type": "stream",
     "text": [
      "mp-561902\n"
     ]
    },
    {
     "name": "stderr",
     "output_type": "stream",
     "text": [
      "Retrieving MaterialsDoc documents: 100%|██████████| 1/1 [00:00<00:00, 9597.95it/s]\n",
      "Retrieving SummaryDoc documents: 100%|██████████| 1/1 [00:00<00:00, 8848.74it/s]\n"
     ]
    },
    {
     "name": "stdout",
     "output_type": "stream",
     "text": [
      "mp-561947\n"
     ]
    },
    {
     "name": "stderr",
     "output_type": "stream",
     "text": [
      "Retrieving MaterialsDoc documents: 100%|██████████| 1/1 [00:00<00:00, 11650.84it/s]\n",
      "Retrieving SummaryDoc documents: 100%|██████████| 1/1 [00:00<00:00, 8594.89it/s]\n"
     ]
    },
    {
     "name": "stdout",
     "output_type": "stream",
     "text": [
      "mp-5621\n"
     ]
    },
    {
     "name": "stderr",
     "output_type": "stream",
     "text": [
      "Retrieving MaterialsDoc documents: 100%|██████████| 1/1 [00:00<00:00, 9489.38it/s]\n",
      "Retrieving SummaryDoc documents: 100%|██████████| 1/1 [00:00<00:00, 9510.89it/s]\n"
     ]
    },
    {
     "name": "stdout",
     "output_type": "stream",
     "text": [
      "mp-5652\n"
     ]
    },
    {
     "name": "stderr",
     "output_type": "stream",
     "text": [
      "Retrieving MaterialsDoc documents: 100%|██████████| 1/1 [00:00<00:00, 9118.05it/s]\n",
      "Retrieving SummaryDoc documents: 100%|██████████| 1/1 [00:00<00:00, 8630.26it/s]\n"
     ]
    },
    {
     "name": "stdout",
     "output_type": "stream",
     "text": [
      "mp-567290\n"
     ]
    },
    {
     "name": "stderr",
     "output_type": "stream",
     "text": [
      "Retrieving MaterialsDoc documents: 100%|██████████| 1/1 [00:00<00:00, 10106.76it/s]\n",
      "Retrieving SummaryDoc documents: 100%|██████████| 1/1 [00:00<00:00, 9300.01it/s]\n"
     ]
    },
    {
     "name": "stdout",
     "output_type": "stream",
     "text": [
      "mp-567373\n"
     ]
    },
    {
     "name": "stderr",
     "output_type": "stream",
     "text": [
      "Retrieving MaterialsDoc documents: 100%|██████████| 1/1 [00:00<00:00, 9489.38it/s]\n",
      "Retrieving SummaryDoc documents: 100%|██████████| 1/1 [00:00<00:00, 9845.78it/s]\n"
     ]
    },
    {
     "name": "stdout",
     "output_type": "stream",
     "text": [
      "mp-567558\n"
     ]
    },
    {
     "name": "stderr",
     "output_type": "stream",
     "text": [
      "Retrieving MaterialsDoc documents: 100%|██████████| 1/1 [00:00<00:00, 9868.95it/s]\n",
      "Retrieving SummaryDoc documents: 100%|██████████| 1/1 [00:00<00:00, 8630.26it/s]\n"
     ]
    },
    {
     "name": "stdout",
     "output_type": "stream",
     "text": [
      "mp-567636\n"
     ]
    },
    {
     "name": "stderr",
     "output_type": "stream",
     "text": [
      "Retrieving MaterialsDoc documents: 100%|██████████| 1/1 [00:00<00:00, 9258.95it/s]\n",
      "Retrieving SummaryDoc documents: 100%|██████████| 1/1 [00:00<00:00, 8542.37it/s]\n"
     ]
    },
    {
     "name": "stdout",
     "output_type": "stream",
     "text": [
      "mp-567652\n"
     ]
    },
    {
     "name": "stderr",
     "output_type": "stream",
     "text": [
      "Retrieving MaterialsDoc documents: 100%|██████████| 1/1 [00:00<00:00, 9597.95it/s]\n",
      "Retrieving SummaryDoc documents: 100%|██████████| 1/1 [00:00<00:00, 9218.25it/s]\n"
     ]
    },
    {
     "name": "stdout",
     "output_type": "stream",
     "text": [
      "mp-567655\n"
     ]
    },
    {
     "name": "stderr",
     "output_type": "stream",
     "text": [
      "Retrieving MaterialsDoc documents: 100%|██████████| 1/1 [00:00<00:00, 9532.51it/s]\n",
      "Retrieving SummaryDoc documents: 100%|██████████| 1/1 [00:00<00:00, 9939.11it/s]\n"
     ]
    },
    {
     "name": "stdout",
     "output_type": "stream",
     "text": [
      "mp-567666\n"
     ]
    },
    {
     "name": "stderr",
     "output_type": "stream",
     "text": [
      "Retrieving MaterialsDoc documents: 100%|██████████| 1/1 [00:00<00:00, 12671.61it/s]\n",
      "Retrieving SummaryDoc documents: 100%|██████████| 1/1 [00:00<00:00, 9554.22it/s]\n"
     ]
    },
    {
     "name": "stdout",
     "output_type": "stream",
     "text": [
      "mp-567680\n"
     ]
    },
    {
     "name": "stderr",
     "output_type": "stream",
     "text": [
      "Retrieving MaterialsDoc documents: 100%|██████████| 1/1 [00:00<00:00, 9300.01it/s]\n",
      "Retrieving SummaryDoc documents: 100%|██████████| 1/1 [00:00<00:00, 9446.63it/s]\n"
     ]
    },
    {
     "name": "stdout",
     "output_type": "stream",
     "text": [
      "mp-567744\n"
     ]
    },
    {
     "name": "stderr",
     "output_type": "stream",
     "text": [
      "Retrieving MaterialsDoc documents: 100%|██████████| 1/1 [00:00<00:00, 9446.63it/s]\n",
      "Retrieving SummaryDoc documents: 100%|██████████| 1/1 [00:00<00:00, 9510.89it/s]\n"
     ]
    },
    {
     "name": "stdout",
     "output_type": "stream",
     "text": [
      "mp-567776\n"
     ]
    },
    {
     "name": "stderr",
     "output_type": "stream",
     "text": [
      "Retrieving MaterialsDoc documents: 100%|██████████| 1/1 [00:00<00:00, 8962.19it/s]\n",
      "Retrieving SummaryDoc documents: 100%|██████████| 1/1 [00:00<00:00, 9489.38it/s]\n"
     ]
    },
    {
     "name": "stdout",
     "output_type": "stream",
     "text": [
      "mp-567841\n"
     ]
    },
    {
     "name": "stderr",
     "output_type": "stream",
     "text": [
      "Retrieving MaterialsDoc documents: 100%|██████████| 1/1 [00:00<00:00, 9554.22it/s]\n",
      "Retrieving SummaryDoc documents: 100%|██████████| 1/1 [00:00<00:00, 8701.88it/s]\n"
     ]
    },
    {
     "name": "stdout",
     "output_type": "stream",
     "text": [
      "mp-567913\n"
     ]
    },
    {
     "name": "stderr",
     "output_type": "stream",
     "text": [
      "Retrieving MaterialsDoc documents: 100%|██████████| 1/1 [00:00<00:00, 9157.87it/s]\n",
      "Retrieving SummaryDoc documents: 100%|██████████| 1/1 [00:00<00:00, 9892.23it/s]\n"
     ]
    },
    {
     "name": "stdout",
     "output_type": "stream",
     "text": [
      "mp-568018\n"
     ]
    },
    {
     "name": "stderr",
     "output_type": "stream",
     "text": [
      "Retrieving MaterialsDoc documents: 100%|██████████| 1/1 [00:00<00:00, 10010.27it/s]\n",
      "Retrieving SummaryDoc documents: 100%|██████████| 1/1 [00:00<00:00, 10155.70it/s]\n"
     ]
    },
    {
     "name": "stdout",
     "output_type": "stream",
     "text": [
      "mp-568032\n"
     ]
    },
    {
     "name": "stderr",
     "output_type": "stream",
     "text": [
      "Retrieving MaterialsDoc documents: 100%|██████████| 1/1 [00:00<00:00, 9446.63it/s]\n",
      "Retrieving SummaryDoc documents: 100%|██████████| 1/1 [00:00<00:00, 8719.97it/s]\n"
     ]
    },
    {
     "name": "stdout",
     "output_type": "stream",
     "text": [
      "mp-568052\n"
     ]
    },
    {
     "name": "stderr",
     "output_type": "stream",
     "text": [
      "Retrieving MaterialsDoc documents: 100%|██████████| 1/1 [00:00<00:00, 9822.73it/s]\n",
      "Retrieving SummaryDoc documents: 100%|██████████| 1/1 [00:00<00:00, 10205.12it/s]\n"
     ]
    },
    {
     "name": "stdout",
     "output_type": "stream",
     "text": [
      "mp-568273\n"
     ]
    },
    {
     "name": "stderr",
     "output_type": "stream",
     "text": [
      "Retrieving MaterialsDoc documents: 100%|██████████| 1/1 [00:00<00:00, 9279.43it/s]\n",
      "Retrieving SummaryDoc documents: 100%|██████████| 1/1 [00:00<00:00, 8456.26it/s]\n"
     ]
    },
    {
     "name": "stdout",
     "output_type": "stream",
     "text": [
      "mp-568284\n"
     ]
    },
    {
     "name": "stderr",
     "output_type": "stream",
     "text": [
      "Retrieving MaterialsDoc documents: 100%|██████████| 1/1 [00:00<00:00, 11125.47it/s]\n",
      "Retrieving SummaryDoc documents: 100%|██████████| 1/1 [00:00<00:00, 10106.76it/s]\n"
     ]
    },
    {
     "name": "stdout",
     "output_type": "stream",
     "text": [
      "mp-568536\n"
     ]
    },
    {
     "name": "stderr",
     "output_type": "stream",
     "text": [
      "Retrieving MaterialsDoc documents: 100%|██████████| 1/1 [00:00<00:00, 14266.34it/s]\n",
      "Retrieving SummaryDoc documents: 100%|██████████| 1/1 [00:00<00:00, 8774.69it/s]\n"
     ]
    },
    {
     "name": "stdout",
     "output_type": "stream",
     "text": [
      "mp-568544\n"
     ]
    },
    {
     "name": "stderr",
     "output_type": "stream",
     "text": [
      "Retrieving MaterialsDoc documents: 100%|██████████| 1/1 [00:00<00:00, 9619.96it/s]\n",
      "Retrieving SummaryDoc documents: 100%|██████████| 1/1 [00:00<00:00, 10407.70it/s]\n"
     ]
    },
    {
     "name": "stdout",
     "output_type": "stream",
     "text": [
      "mp-568560\n"
     ]
    },
    {
     "name": "stderr",
     "output_type": "stream",
     "text": [
      "Retrieving MaterialsDoc documents: 100%|██████████| 1/1 [00:00<00:00, 14614.30it/s]\n",
      "Retrieving SummaryDoc documents: 100%|██████████| 1/1 [00:00<00:00, 8886.24it/s]\n"
     ]
    },
    {
     "name": "stdout",
     "output_type": "stream",
     "text": [
      "mp-568619\n"
     ]
    },
    {
     "name": "stderr",
     "output_type": "stream",
     "text": [
      "Retrieving MaterialsDoc documents: 100%|██████████| 1/1 [00:00<00:00, 9892.23it/s]\n",
      "Retrieving SummaryDoc documents: 100%|██████████| 1/1 [00:00<00:00, 10010.27it/s]\n"
     ]
    },
    {
     "name": "stdout",
     "output_type": "stream",
     "text": [
      "mp-568661\n"
     ]
    },
    {
     "name": "stderr",
     "output_type": "stream",
     "text": [
      "Retrieving MaterialsDoc documents: 100%|██████████| 1/1 [00:00<00:00, 9642.08it/s]\n",
      "Retrieving SummaryDoc documents: 100%|██████████| 1/1 [00:00<00:00, 9731.56it/s]\n"
     ]
    },
    {
     "name": "stdout",
     "output_type": "stream",
     "text": [
      "mp-568662\n"
     ]
    },
    {
     "name": "stderr",
     "output_type": "stream",
     "text": [
      "Retrieving MaterialsDoc documents: 100%|██████████| 1/1 [00:00<00:00, 9383.23it/s]\n",
      "Retrieving SummaryDoc documents: 100%|██████████| 1/1 [00:00<00:00, 9467.95it/s]\n"
     ]
    },
    {
     "name": "stdout",
     "output_type": "stream",
     "text": [
      "mp-568666\n"
     ]
    },
    {
     "name": "stderr",
     "output_type": "stream",
     "text": [
      "Retrieving MaterialsDoc documents: 100%|██████████| 1/1 [00:00<00:00, 10131.17it/s]\n",
      "Retrieving SummaryDoc documents: 100%|██████████| 1/1 [00:00<00:00, 9664.29it/s]\n"
     ]
    },
    {
     "name": "stdout",
     "output_type": "stream",
     "text": [
      "mp-568968\n"
     ]
    },
    {
     "name": "stderr",
     "output_type": "stream",
     "text": [
      "Retrieving MaterialsDoc documents: 100%|██████████| 1/1 [00:00<00:00, 2020.38it/s]\n",
      "Retrieving SummaryDoc documents: 100%|██████████| 1/1 [00:00<00:00, 21290.88it/s]\n"
     ]
    },
    {
     "name": "stdout",
     "output_type": "stream",
     "text": [
      "mp-569028\n"
     ]
    },
    {
     "name": "stderr",
     "output_type": "stream",
     "text": [
      "Retrieving MaterialsDoc documents: 100%|██████████| 1/1 [00:00<00:00, 9754.20it/s]\n",
      "Retrieving SummaryDoc documents: 100%|██████████| 1/1 [00:00<00:00, 9939.11it/s]\n"
     ]
    },
    {
     "name": "stdout",
     "output_type": "stream",
     "text": [
      "mp-569149\n"
     ]
    },
    {
     "name": "stderr",
     "output_type": "stream",
     "text": [
      "Retrieving MaterialsDoc documents: 100%|██████████| 1/1 [00:00<00:00, 9118.05it/s]\n",
      "Retrieving SummaryDoc documents: 100%|██████████| 1/1 [00:00<00:00, 9425.40it/s]\n"
     ]
    },
    {
     "name": "stdout",
     "output_type": "stream",
     "text": [
      "mp-569346\n"
     ]
    },
    {
     "name": "stderr",
     "output_type": "stream",
     "text": [
      "Retrieving MaterialsDoc documents: 100%|██████████| 1/1 [00:00<00:00, 9510.89it/s]\n",
      "Retrieving SummaryDoc documents: 100%|██████████| 1/1 [00:00<00:00, 9118.05it/s]\n"
     ]
    },
    {
     "name": "stdout",
     "output_type": "stream",
     "text": [
      "mp-569442\n"
     ]
    },
    {
     "name": "stderr",
     "output_type": "stream",
     "text": [
      "Retrieving MaterialsDoc documents: 100%|██████████| 1/1 [00:00<00:00, 9554.22it/s]\n",
      "Retrieving SummaryDoc documents: 100%|██████████| 1/1 [00:00<00:00, 7231.56it/s]\n"
     ]
    },
    {
     "name": "stdout",
     "output_type": "stream",
     "text": [
      "mp-569548\n"
     ]
    },
    {
     "name": "stderr",
     "output_type": "stream",
     "text": [
      "Retrieving MaterialsDoc documents: 100%|██████████| 1/1 [00:00<00:00, 6765.01it/s]\n",
      "Retrieving SummaryDoc documents: 100%|██████████| 1/1 [00:00<00:00, 9078.58it/s]\n"
     ]
    },
    {
     "name": "stdout",
     "output_type": "stream",
     "text": [
      "mp-569571\n"
     ]
    },
    {
     "name": "stderr",
     "output_type": "stream",
     "text": [
      "Retrieving MaterialsDoc documents: 100%|██████████| 1/1 [00:00<00:00, 9098.27it/s]\n",
      "Retrieving SummaryDoc documents: 100%|██████████| 1/1 [00:00<00:00, 9892.23it/s]\n"
     ]
    },
    {
     "name": "stdout",
     "output_type": "stream",
     "text": [
      "mp-569639\n"
     ]
    },
    {
     "name": "stderr",
     "output_type": "stream",
     "text": [
      "Retrieving MaterialsDoc documents: 100%|██████████| 1/1 [00:00<00:00, 8630.26it/s]\n",
      "Retrieving SummaryDoc documents: 100%|██████████| 1/1 [00:00<00:00, 8577.31it/s]\n"
     ]
    },
    {
     "name": "stdout",
     "output_type": "stream",
     "text": [
      "mp-569677\n"
     ]
    },
    {
     "name": "stderr",
     "output_type": "stream",
     "text": [
      "Retrieving MaterialsDoc documents: 100%|██████████| 1/1 [00:00<00:00, 14716.86it/s]\n",
      "Retrieving SummaryDoc documents: 100%|██████████| 1/1 [00:00<00:00, 9510.89it/s]\n"
     ]
    },
    {
     "name": "stdout",
     "output_type": "stream",
     "text": [
      "mp-569779\n"
     ]
    },
    {
     "name": "stderr",
     "output_type": "stream",
     "text": [
      "Retrieving MaterialsDoc documents: 100%|██████████| 1/1 [00:00<00:00, 9532.51it/s]\n",
      "Retrieving SummaryDoc documents: 100%|██████████| 1/1 [00:00<00:00, 8490.49it/s]\n"
     ]
    },
    {
     "name": "stdout",
     "output_type": "stream",
     "text": [
      "mp-569812\n"
     ]
    },
    {
     "name": "stderr",
     "output_type": "stream",
     "text": [
      "Retrieving MaterialsDoc documents: 100%|██████████| 1/1 [00:00<00:00, 9118.05it/s]\n",
      "Retrieving SummaryDoc documents: 100%|██████████| 1/1 [00:00<00:00, 9489.38it/s]\n"
     ]
    },
    {
     "name": "stdout",
     "output_type": "stream",
     "text": [
      "mp-570008\n"
     ]
    },
    {
     "name": "stderr",
     "output_type": "stream",
     "text": [
      "Retrieving MaterialsDoc documents: 100%|██████████| 1/1 [00:00<00:00, 9341.43it/s]\n",
      "Retrieving SummaryDoc documents: 100%|██████████| 1/1 [00:00<00:00, 9619.96it/s]\n"
     ]
    },
    {
     "name": "stdout",
     "output_type": "stream",
     "text": [
      "mp-570097\n"
     ]
    },
    {
     "name": "stderr",
     "output_type": "stream",
     "text": [
      "Retrieving MaterialsDoc documents: 100%|██████████| 1/1 [00:00<00:00, 9446.63it/s]\n",
      "Retrieving SummaryDoc documents: 100%|██████████| 1/1 [00:00<00:00, 8507.72it/s]\n"
     ]
    },
    {
     "name": "stdout",
     "output_type": "stream",
     "text": [
      "mp-570213\n"
     ]
    },
    {
     "name": "stderr",
     "output_type": "stream",
     "text": [
      "Retrieving MaterialsDoc documents: 100%|██████████| 1/1 [00:00<00:00, 14315.03it/s]\n",
      "Retrieving SummaryDoc documents: 100%|██████████| 1/1 [00:00<00:00, 9776.93it/s]\n"
     ]
    },
    {
     "name": "stdout",
     "output_type": "stream",
     "text": [
      "mp-570256\n"
     ]
    },
    {
     "name": "stderr",
     "output_type": "stream",
     "text": [
      "Retrieving MaterialsDoc documents: 100%|██████████| 1/1 [00:00<00:00, 10810.06it/s]\n",
      "Retrieving SummaryDoc documents: 100%|██████████| 1/1 [00:00<00:00, 8665.92it/s]\n"
     ]
    },
    {
     "name": "stdout",
     "output_type": "stream",
     "text": [
      "mp-570324\n"
     ]
    },
    {
     "name": "stderr",
     "output_type": "stream",
     "text": [
      "Retrieving MaterialsDoc documents: 100%|██████████| 1/1 [00:00<00:00, 9118.05it/s]\n",
      "Retrieving SummaryDoc documents: 100%|██████████| 1/1 [00:00<00:00, 9597.95it/s]\n"
     ]
    },
    {
     "name": "stdout",
     "output_type": "stream",
     "text": [
      "mp-570354\n"
     ]
    },
    {
     "name": "stderr",
     "output_type": "stream",
     "text": [
      "Retrieving MaterialsDoc documents: 100%|██████████| 1/1 [00:00<00:00, 9554.22it/s]\n",
      "Retrieving SummaryDoc documents: 100%|██████████| 1/1 [00:00<00:00, 9279.43it/s]\n"
     ]
    },
    {
     "name": "stdout",
     "output_type": "stream",
     "text": [
      "mp-570485\n"
     ]
    },
    {
     "name": "stderr",
     "output_type": "stream",
     "text": [
      "Retrieving MaterialsDoc documents: 100%|██████████| 1/1 [00:00<00:00, 9597.95it/s]\n",
      "Retrieving SummaryDoc documents: 100%|██████████| 1/1 [00:00<00:00, 9868.95it/s]\n"
     ]
    },
    {
     "name": "stdout",
     "output_type": "stream",
     "text": [
      "mp-570538\n"
     ]
    },
    {
     "name": "stderr",
     "output_type": "stream",
     "text": [
      "Retrieving MaterialsDoc documents: 100%|██████████| 1/1 [00:00<00:00, 13751.82it/s]\n",
      "Retrieving SummaryDoc documents: 100%|██████████| 1/1 [00:00<00:00, 10672.53it/s]\n"
     ]
    },
    {
     "name": "stdout",
     "output_type": "stream",
     "text": [
      "mp-5707\n"
     ]
    },
    {
     "name": "stderr",
     "output_type": "stream",
     "text": [
      "Retrieving MaterialsDoc documents: 100%|██████████| 1/1 [00:00<00:00, 8943.08it/s]\n",
      "Retrieving SummaryDoc documents: 100%|██████████| 1/1 [00:00<00:00, 8559.80it/s]\n"
     ]
    },
    {
     "name": "stdout",
     "output_type": "stream",
     "text": [
      "mp-570844\n"
     ]
    },
    {
     "name": "stderr",
     "output_type": "stream",
     "text": [
      "Retrieving MaterialsDoc documents: 100%|██████████| 1/1 [00:00<00:00, 11554.56it/s]\n",
      "Retrieving SummaryDoc documents: 100%|██████████| 1/1 [00:00<00:00, 10255.02it/s]\n"
     ]
    },
    {
     "name": "stdout",
     "output_type": "stream",
     "text": [
      "mp-570891\n"
     ]
    },
    {
     "name": "stderr",
     "output_type": "stream",
     "text": [
      "Retrieving MaterialsDoc documents: 100%|██████████| 1/1 [00:00<00:00, 9532.51it/s]\n",
      "Retrieving SummaryDoc documents: 100%|██████████| 1/1 [00:00<00:00, 8683.86it/s]\n"
     ]
    },
    {
     "name": "stdout",
     "output_type": "stream",
     "text": [
      "mp-570935\n"
     ]
    },
    {
     "name": "stderr",
     "output_type": "stream",
     "text": [
      "Retrieving MaterialsDoc documents: 100%|██████████| 1/1 [00:00<00:00, 7612.17it/s]\n",
      "Retrieving SummaryDoc documents: 100%|██████████| 1/1 [00:00<00:00, 8738.13it/s]\n"
     ]
    },
    {
     "name": "stdout",
     "output_type": "stream",
     "text": [
      "mp-571093\n"
     ]
    },
    {
     "name": "stderr",
     "output_type": "stream",
     "text": [
      "Retrieving MaterialsDoc documents: 100%|██████████| 1/1 [00:00<00:00, 11428.62it/s]\n",
      "Retrieving SummaryDoc documents: 100%|██████████| 1/1 [00:00<00:00, 9776.93it/s]\n"
     ]
    },
    {
     "name": "stdout",
     "output_type": "stream",
     "text": [
      "mp-571102\n"
     ]
    },
    {
     "name": "stderr",
     "output_type": "stream",
     "text": [
      "Retrieving MaterialsDoc documents: 100%|██████████| 1/1 [00:00<00:00, 9597.95it/s]\n",
      "Retrieving SummaryDoc documents: 100%|██████████| 1/1 [00:00<00:00, 9532.51it/s]\n"
     ]
    },
    {
     "name": "stdout",
     "output_type": "stream",
     "text": [
      "mp-571124\n"
     ]
    },
    {
     "name": "stderr",
     "output_type": "stream",
     "text": [
      "Retrieving MaterialsDoc documents: 100%|██████████| 1/1 [00:00<00:00, 9218.25it/s]\n",
      "Retrieving SummaryDoc documents: 100%|██████████| 1/1 [00:00<00:00, 8507.72it/s]\n"
     ]
    },
    {
     "name": "stdout",
     "output_type": "stream",
     "text": [
      "mp-571166\n"
     ]
    },
    {
     "name": "stderr",
     "output_type": "stream",
     "text": [
      "Retrieving MaterialsDoc documents: 100%|██████████| 1/1 [00:00<00:00, 10010.27it/s]\n",
      "Retrieving SummaryDoc documents: 100%|██████████| 1/1 [00:00<00:00, 10058.28it/s]\n"
     ]
    },
    {
     "name": "stdout",
     "output_type": "stream",
     "text": [
      "mp-571222\n"
     ]
    },
    {
     "name": "stderr",
     "output_type": "stream",
     "text": [
      "Retrieving MaterialsDoc documents: 100%|██████████| 1/1 [00:00<00:00, 9915.61it/s]\n",
      "Retrieving SummaryDoc documents: 100%|██████████| 1/1 [00:00<00:00, 8559.80it/s]\n"
     ]
    },
    {
     "name": "stdout",
     "output_type": "stream",
     "text": [
      "mp-571306\n"
     ]
    },
    {
     "name": "stderr",
     "output_type": "stream",
     "text": [
      "Retrieving MaterialsDoc documents: 100%|██████████| 1/1 [00:00<00:00, 15947.92it/s]\n",
      "Retrieving SummaryDoc documents: 100%|██████████| 1/1 [00:00<00:00, 9962.72it/s]\n"
     ]
    },
    {
     "name": "stdout",
     "output_type": "stream",
     "text": [
      "mp-571386\n"
     ]
    },
    {
     "name": "stderr",
     "output_type": "stream",
     "text": [
      "Retrieving MaterialsDoc documents: 100%|██████████| 1/1 [00:00<00:00, 9731.56it/s]\n",
      "Retrieving SummaryDoc documents: 100%|██████████| 1/1 [00:00<00:00, 9320.68it/s]\n"
     ]
    },
    {
     "name": "stdout",
     "output_type": "stream",
     "text": [
      "mp-571461\n"
     ]
    },
    {
     "name": "stderr",
     "output_type": "stream",
     "text": [
      "Retrieving MaterialsDoc documents: 100%|██████████| 1/1 [00:00<00:00, 9709.04it/s]\n",
      "Retrieving SummaryDoc documents: 100%|██████████| 1/1 [00:00<00:00, 9362.29it/s]\n"
     ]
    },
    {
     "name": "stdout",
     "output_type": "stream",
     "text": [
      "mp-571467\n"
     ]
    },
    {
     "name": "stderr",
     "output_type": "stream",
     "text": [
      "Retrieving MaterialsDoc documents: 100%|██████████| 1/1 [00:00<00:00, 9754.20it/s]\n",
      "Retrieving SummaryDoc documents: 100%|██████████| 1/1 [00:00<00:00, 9845.78it/s]\n"
     ]
    },
    {
     "name": "stdout",
     "output_type": "stream",
     "text": [
      "mp-573204\n"
     ]
    },
    {
     "name": "stderr",
     "output_type": "stream",
     "text": [
      "Retrieving MaterialsDoc documents: 100%|██████████| 1/1 [00:00<00:00, 9664.29it/s]\n",
      "Retrieving SummaryDoc documents: 100%|██████████| 1/1 [00:00<00:00, 10305.42it/s]\n"
     ]
    },
    {
     "name": "stdout",
     "output_type": "stream",
     "text": [
      "mp-573658\n"
     ]
    },
    {
     "name": "stderr",
     "output_type": "stream",
     "text": [
      "Retrieving MaterialsDoc documents: 100%|██████████| 1/1 [00:00<00:00, 9664.29it/s]\n",
      "Retrieving SummaryDoc documents: 100%|██████████| 1/1 [00:00<00:00, 9892.23it/s]\n"
     ]
    },
    {
     "name": "stdout",
     "output_type": "stream",
     "text": [
      "mp-573697\n"
     ]
    },
    {
     "name": "stderr",
     "output_type": "stream",
     "text": [
      "Retrieving MaterialsDoc documents: 100%|██████████| 1/1 [00:00<00:00, 9425.40it/s]\n",
      "Retrieving SummaryDoc documents: 100%|██████████| 1/1 [00:00<00:00, 8905.10it/s]\n"
     ]
    },
    {
     "name": "stdout",
     "output_type": "stream",
     "text": [
      "mp-573721\n"
     ]
    },
    {
     "name": "stderr",
     "output_type": "stream",
     "text": [
      "Retrieving MaterialsDoc documents: 100%|██████████| 1/1 [00:00<00:00, 10131.17it/s]\n",
      "Retrieving SummaryDoc documents: 100%|██████████| 1/1 [00:00<00:00, 10034.22it/s]\n"
     ]
    },
    {
     "name": "stdout",
     "output_type": "stream",
     "text": [
      "mp-573755\n"
     ]
    },
    {
     "name": "stderr",
     "output_type": "stream",
     "text": [
      "Retrieving MaterialsDoc documents: 100%|██████████| 1/1 [00:00<00:00, 13662.23it/s]\n",
      "Retrieving SummaryDoc documents: 100%|██████████| 1/1 [00:00<00:00, 9731.56it/s]\n"
     ]
    },
    {
     "name": "stdout",
     "output_type": "stream",
     "text": [
      "mp-573763\n"
     ]
    },
    {
     "name": "stderr",
     "output_type": "stream",
     "text": [
      "Retrieving MaterialsDoc documents: 100%|██████████| 1/1 [00:00<00:00, 14364.05it/s]\n",
      "Retrieving SummaryDoc documents: 100%|██████████| 1/1 [00:00<00:00, 9709.04it/s]\n"
     ]
    },
    {
     "name": "stdout",
     "output_type": "stream",
     "text": [
      "mp-574599\n"
     ]
    },
    {
     "name": "stderr",
     "output_type": "stream",
     "text": [
      "Retrieving MaterialsDoc documents: 100%|██████████| 1/1 [00:00<00:00, 11522.81it/s]\n",
      "Retrieving SummaryDoc documents: 100%|██████████| 1/1 [00:00<00:00, 9058.97it/s]\n"
     ]
    },
    {
     "name": "stdout",
     "output_type": "stream",
     "text": [
      "mp-5782\n"
     ]
    },
    {
     "name": "stderr",
     "output_type": "stream",
     "text": [
      "Retrieving MaterialsDoc documents: 100%|██████████| 1/1 [00:00<00:00, 9198.04it/s]\n",
      "Retrieving SummaryDoc documents: 100%|██████████| 1/1 [00:00<00:00, 9799.78it/s]\n"
     ]
    },
    {
     "name": "stdout",
     "output_type": "stream",
     "text": [
      "mp-5784\n"
     ]
    },
    {
     "name": "stderr",
     "output_type": "stream",
     "text": [
      "Retrieving MaterialsDoc documents: 100%|██████████| 1/1 [00:00<00:00, 9404.27it/s]\n",
      "Retrieving SummaryDoc documents: 100%|██████████| 1/1 [00:00<00:00, 10106.76it/s]\n"
     ]
    },
    {
     "name": "stdout",
     "output_type": "stream",
     "text": [
      "mp-5795\n"
     ]
    },
    {
     "name": "stderr",
     "output_type": "stream",
     "text": [
      "Retrieving MaterialsDoc documents: 100%|██████████| 1/1 [00:00<00:00, 11335.96it/s]\n",
      "Retrieving SummaryDoc documents: 100%|██████████| 1/1 [00:00<00:00, 8648.05it/s]\n"
     ]
    },
    {
     "name": "stdout",
     "output_type": "stream",
     "text": [
      "mp-581024\n"
     ]
    },
    {
     "name": "stderr",
     "output_type": "stream",
     "text": [
      "Retrieving MaterialsDoc documents: 100%|██████████| 1/1 [00:00<00:00, 9845.78it/s]\n",
      "Retrieving SummaryDoc documents: 100%|██████████| 1/1 [00:00<00:00, 9776.93it/s]\n"
     ]
    },
    {
     "name": "stdout",
     "output_type": "stream",
     "text": [
      "mp-581833\n"
     ]
    },
    {
     "name": "stderr",
     "output_type": "stream",
     "text": [
      "Retrieving MaterialsDoc documents: 100%|██████████| 1/1 [00:00<00:00, 9446.63it/s]\n",
      "Retrieving SummaryDoc documents: 100%|██████████| 1/1 [00:00<00:00, 8594.89it/s]\n"
     ]
    },
    {
     "name": "stdout",
     "output_type": "stream",
     "text": [
      "mp-5840\n"
     ]
    },
    {
     "name": "stderr",
     "output_type": "stream",
     "text": [
      "Retrieving MaterialsDoc documents: 100%|██████████| 1/1 [00:00<00:00, 9300.01it/s]\n",
      "Retrieving SummaryDoc documents: 100%|██████████| 1/1 [00:00<00:00, 8648.05it/s]\n"
     ]
    },
    {
     "name": "stdout",
     "output_type": "stream",
     "text": [
      "mp-5853\n"
     ]
    },
    {
     "name": "stderr",
     "output_type": "stream",
     "text": [
      "Retrieving MaterialsDoc documents: 100%|██████████| 1/1 [00:00<00:00, 9754.20it/s]\n",
      "Retrieving SummaryDoc documents: 100%|██████████| 1/1 [00:00<00:00, 8405.42it/s]\n"
     ]
    },
    {
     "name": "stdout",
     "output_type": "stream",
     "text": [
      "mp-5858\n"
     ]
    },
    {
     "name": "stderr",
     "output_type": "stream",
     "text": [
      "Retrieving MaterialsDoc documents: 100%|██████████| 1/1 [00:00<00:00, 9341.43it/s]\n",
      "Retrieving SummaryDoc documents: 100%|██████████| 1/1 [00:00<00:00, 9799.78it/s]\n"
     ]
    },
    {
     "name": "stdout",
     "output_type": "stream",
     "text": [
      "mp-5860\n"
     ]
    },
    {
     "name": "stderr",
     "output_type": "stream",
     "text": [
      "Retrieving MaterialsDoc documents: 100%|██████████| 1/1 [00:00<00:00, 9510.89it/s]\n",
      "Retrieving SummaryDoc documents: 100%|██████████| 1/1 [00:00<00:00, 8525.01it/s]\n"
     ]
    },
    {
     "name": "stdout",
     "output_type": "stream",
     "text": [
      "mp-5878\n"
     ]
    },
    {
     "name": "stderr",
     "output_type": "stream",
     "text": [
      "Retrieving MaterialsDoc documents: 100%|██████████| 1/1 [00:00<00:00, 8886.24it/s]\n",
      "Retrieving SummaryDoc documents: 100%|██████████| 1/1 [00:00<00:00, 10330.80it/s]\n"
     ]
    },
    {
     "name": "stdout",
     "output_type": "stream",
     "text": [
      "mp-588\n"
     ]
    },
    {
     "name": "stderr",
     "output_type": "stream",
     "text": [
      "Retrieving MaterialsDoc documents: 100%|██████████| 1/1 [00:00<00:00, 9986.44it/s]\n",
      "Retrieving SummaryDoc documents: 100%|██████████| 1/1 [00:00<00:00, 8924.05it/s]\n"
     ]
    },
    {
     "name": "stdout",
     "output_type": "stream",
     "text": [
      "mp-5928\n"
     ]
    },
    {
     "name": "stderr",
     "output_type": "stream",
     "text": [
      "Retrieving MaterialsDoc documents: 100%|██████████| 1/1 [00:00<00:00, 10131.17it/s]\n",
      "Retrieving SummaryDoc documents: 100%|██████████| 1/1 [00:00<00:00, 9118.05it/s]\n"
     ]
    },
    {
     "name": "stdout",
     "output_type": "stream",
     "text": [
      "mp-5955\n"
     ]
    },
    {
     "name": "stderr",
     "output_type": "stream",
     "text": [
      "Retrieving MaterialsDoc documents: 100%|██████████| 1/1 [00:00<00:00, 8962.19it/s]\n",
      "Retrieving SummaryDoc documents: 100%|██████████| 1/1 [00:00<00:00, 8719.97it/s]\n"
     ]
    },
    {
     "name": "stdout",
     "output_type": "stream",
     "text": [
      "mp-5962\n"
     ]
    },
    {
     "name": "stderr",
     "output_type": "stream",
     "text": [
      "Retrieving MaterialsDoc documents: 100%|██████████| 1/1 [00:00<00:00, 9597.95it/s]\n",
      "Retrieving SummaryDoc documents: 100%|██████████| 1/1 [00:00<00:00, 9939.11it/s]\n"
     ]
    },
    {
     "name": "stdout",
     "output_type": "stream",
     "text": [
      "mp-5967\n"
     ]
    },
    {
     "name": "stderr",
     "output_type": "stream",
     "text": [
      "Retrieving MaterialsDoc documents: 100%|██████████| 1/1 [00:00<00:00, 9776.93it/s]\n",
      "Retrieving SummaryDoc documents: 100%|██████████| 1/1 [00:00<00:00, 9279.43it/s]\n"
     ]
    },
    {
     "name": "stdout",
     "output_type": "stream",
     "text": [
      "mp-5986\n"
     ]
    },
    {
     "name": "stderr",
     "output_type": "stream",
     "text": [
      "Retrieving MaterialsDoc documents: 100%|██████████| 1/1 [00:00<00:00, 9619.96it/s]\n",
      "Retrieving SummaryDoc documents: 100%|██████████| 1/1 [00:00<00:00, 10155.70it/s]\n"
     ]
    },
    {
     "name": "stdout",
     "output_type": "stream",
     "text": [
      "mp-602\n"
     ]
    },
    {
     "name": "stderr",
     "output_type": "stream",
     "text": [
      "Retrieving MaterialsDoc documents: 100%|██████████| 1/1 [00:00<00:00, 14027.77it/s]\n",
      "Retrieving SummaryDoc documents: 100%|██████████| 1/1 [00:00<00:00, 9489.38it/s]\n"
     ]
    },
    {
     "name": "stdout",
     "output_type": "stream",
     "text": [
      "mp-6026\n"
     ]
    },
    {
     "name": "stderr",
     "output_type": "stream",
     "text": [
      "Retrieving MaterialsDoc documents: 100%|██████████| 1/1 [00:00<00:00, 9892.23it/s]\n",
      "Retrieving SummaryDoc documents: 100%|██████████| 1/1 [00:00<00:00, 8943.08it/s]\n"
     ]
    },
    {
     "name": "stdout",
     "output_type": "stream",
     "text": [
      "mp-6058\n"
     ]
    },
    {
     "name": "stderr",
     "output_type": "stream",
     "text": [
      "Retrieving MaterialsDoc documents: 100%|██████████| 1/1 [00:00<00:00, 9320.68it/s]\n",
      "Retrieving SummaryDoc documents: 100%|██████████| 1/1 [00:00<00:00, 9731.56it/s]\n"
     ]
    },
    {
     "name": "stdout",
     "output_type": "stream",
     "text": [
      "mp-6059\n"
     ]
    },
    {
     "name": "stderr",
     "output_type": "stream",
     "text": [
      "Retrieving MaterialsDoc documents: 100%|██████████| 1/1 [00:00<00:00, 8867.45it/s]\n",
      "Retrieving SummaryDoc documents: 100%|██████████| 1/1 [00:00<00:00, 9362.29it/s]\n"
     ]
    },
    {
     "name": "stdout",
     "output_type": "stream",
     "text": [
      "mp-608555\n"
     ]
    },
    {
     "name": "stderr",
     "output_type": "stream",
     "text": [
      "Retrieving MaterialsDoc documents: 100%|██████████| 1/1 [00:00<00:00, 13443.28it/s]\n",
      "Retrieving SummaryDoc documents: 100%|██████████| 1/1 [00:00<00:00, 10565.00it/s]\n"
     ]
    },
    {
     "name": "stdout",
     "output_type": "stream",
     "text": [
      "mp-6088\n"
     ]
    },
    {
     "name": "stderr",
     "output_type": "stream",
     "text": [
      "Retrieving MaterialsDoc documents: 100%|██████████| 1/1 [00:00<00:00, 9754.20it/s]\n",
      "Retrieving SummaryDoc documents: 100%|██████████| 1/1 [00:00<00:00, 8848.74it/s]\n"
     ]
    },
    {
     "name": "stdout",
     "output_type": "stream",
     "text": [
      "mp-614603\n"
     ]
    },
    {
     "name": "stderr",
     "output_type": "stream",
     "text": [
      "Retrieving MaterialsDoc documents: 100%|██████████| 1/1 [00:00<00:00, 10810.06it/s]\n",
      "Retrieving SummaryDoc documents: 100%|██████████| 1/1 [00:00<00:00, 8507.72it/s]\n"
     ]
    },
    {
     "name": "stdout",
     "output_type": "stream",
     "text": [
      "mp-616378\n"
     ]
    },
    {
     "name": "stderr",
     "output_type": "stream",
     "text": [
      "Retrieving MaterialsDoc documents: 100%|██████████| 1/1 [00:00<00:00, 9098.27it/s]\n",
      "Retrieving SummaryDoc documents: 100%|██████████| 1/1 [00:00<00:00, 8648.05it/s]\n"
     ]
    },
    {
     "name": "stdout",
     "output_type": "stream",
     "text": [
      "mp-6204\n"
     ]
    },
    {
     "name": "stderr",
     "output_type": "stream",
     "text": [
      "Retrieving MaterialsDoc documents: 100%|██████████| 1/1 [00:00<00:00, 15420.24it/s]\n",
      "Retrieving SummaryDoc documents: 100%|██████████| 1/1 [00:00<00:00, 10205.12it/s]\n"
     ]
    },
    {
     "name": "stdout",
     "output_type": "stream",
     "text": [
      "mp-623024\n"
     ]
    },
    {
     "name": "stderr",
     "output_type": "stream",
     "text": [
      "Retrieving MaterialsDoc documents: 100%|██████████| 1/1 [00:00<00:00, 9446.63it/s]\n",
      "Retrieving SummaryDoc documents: 100%|██████████| 1/1 [00:00<00:00, 9238.56it/s]\n"
     ]
    },
    {
     "name": "stdout",
     "output_type": "stream",
     "text": [
      "mp-625136\n"
     ]
    },
    {
     "name": "stderr",
     "output_type": "stream",
     "text": [
      "Retrieving MaterialsDoc documents: 100%|██████████| 1/1 [00:00<00:00, 14315.03it/s]\n",
      "Retrieving SummaryDoc documents: 100%|██████████| 1/1 [00:00<00:00, 8542.37it/s]\n"
     ]
    },
    {
     "name": "stdout",
     "output_type": "stream",
     "text": [
      "mp-626151\n"
     ]
    },
    {
     "name": "stderr",
     "output_type": "stream",
     "text": [
      "Retrieving MaterialsDoc documents: 100%|██████████| 1/1 [00:00<00:00, 9467.95it/s]\n",
      "Retrieving SummaryDoc documents: 100%|██████████| 1/1 [00:00<00:00, 9754.20it/s]\n"
     ]
    },
    {
     "name": "stdout",
     "output_type": "stream",
     "text": [
      "mp-626620\n"
     ]
    },
    {
     "name": "stderr",
     "output_type": "stream",
     "text": [
      "Retrieving MaterialsDoc documents: 100%|██████████| 1/1 [00:00<00:00, 9098.27it/s]\n",
      "Retrieving SummaryDoc documents: 100%|██████████| 1/1 [00:00<00:00, 8683.86it/s]\n"
     ]
    },
    {
     "name": "stdout",
     "output_type": "stream",
     "text": [
      "mp-626724\n"
     ]
    },
    {
     "name": "stderr",
     "output_type": "stream",
     "text": [
      "Retrieving MaterialsDoc documents: 100%|██████████| 1/1 [00:00<00:00, 9218.25it/s]\n",
      "Retrieving SummaryDoc documents: 100%|██████████| 1/1 [00:00<00:00, 9962.72it/s]\n"
     ]
    },
    {
     "name": "stdout",
     "output_type": "stream",
     "text": [
      "mp-626785\n"
     ]
    },
    {
     "name": "stderr",
     "output_type": "stream",
     "text": [
      "Retrieving MaterialsDoc documents: 100%|██████████| 1/1 [00:00<00:00, 9597.95it/s]\n",
      "Retrieving SummaryDoc documents: 100%|██████████| 1/1 [00:00<00:00, 9776.93it/s]\n"
     ]
    },
    {
     "name": "stdout",
     "output_type": "stream",
     "text": [
      "mp-6270\n"
     ]
    },
    {
     "name": "stderr",
     "output_type": "stream",
     "text": [
      "Retrieving MaterialsDoc documents: 100%|██████████| 1/1 [00:00<00:00, 9686.61it/s]\n",
      "Retrieving SummaryDoc documents: 100%|██████████| 1/1 [00:00<00:00, 8507.72it/s]\n"
     ]
    },
    {
     "name": "stdout",
     "output_type": "stream",
     "text": [
      "mp-632319\n"
     ]
    },
    {
     "name": "stderr",
     "output_type": "stream",
     "text": [
      "Retrieving MaterialsDoc documents: 100%|██████████| 1/1 [00:00<00:00, 11008.67it/s]\n",
      "Retrieving SummaryDoc documents: 100%|██████████| 1/1 [00:00<00:00, 8830.11it/s]\n"
     ]
    },
    {
     "name": "stdout",
     "output_type": "stream",
     "text": [
      "mp-634657\n"
     ]
    },
    {
     "name": "stderr",
     "output_type": "stream",
     "text": [
      "Retrieving MaterialsDoc documents: 100%|██████████| 1/1 [00:00<00:00, 9664.29it/s]\n",
      "Retrieving SummaryDoc documents: 100%|██████████| 1/1 [00:00<00:00, 9619.96it/s]\n"
     ]
    },
    {
     "name": "stdout",
     "output_type": "stream",
     "text": [
      "mp-634676\n"
     ]
    },
    {
     "name": "stderr",
     "output_type": "stream",
     "text": [
      "Retrieving MaterialsDoc documents: 100%|██████████| 1/1 [00:00<00:00, 9362.29it/s]\n",
      "Retrieving SummaryDoc documents: 100%|██████████| 1/1 [00:00<00:00, 9986.44it/s]\n"
     ]
    },
    {
     "name": "stdout",
     "output_type": "stream",
     "text": [
      "mp-6384\n"
     ]
    },
    {
     "name": "stderr",
     "output_type": "stream",
     "text": [
      "Retrieving MaterialsDoc documents: 100%|██████████| 1/1 [00:00<00:00, 9467.95it/s]\n",
      "Retrieving SummaryDoc documents: 100%|██████████| 1/1 [00:00<00:00, 9915.61it/s]\n"
     ]
    },
    {
     "name": "stdout",
     "output_type": "stream",
     "text": [
      "mp-638729\n"
     ]
    },
    {
     "name": "stderr",
     "output_type": "stream",
     "text": [
      "Retrieving MaterialsDoc documents: 100%|██████████| 1/1 [00:00<00:00, 9238.56it/s]\n",
      "Retrieving SummaryDoc documents: 100%|██████████| 1/1 [00:00<00:00, 9709.04it/s]\n"
     ]
    },
    {
     "name": "stdout",
     "output_type": "stream",
     "text": [
      "mp-6408\n"
     ]
    },
    {
     "name": "stderr",
     "output_type": "stream",
     "text": [
      "Retrieving MaterialsDoc documents: 100%|██████████| 1/1 [00:00<00:00, 7810.62it/s]\n",
      "Retrieving SummaryDoc documents: 100%|██████████| 1/1 [00:00<00:00, 9915.61it/s]\n"
     ]
    },
    {
     "name": "stdout",
     "output_type": "stream",
     "text": [
      "mp-641923\n"
     ]
    },
    {
     "name": "stderr",
     "output_type": "stream",
     "text": [
      "Retrieving MaterialsDoc documents: 100%|██████████| 1/1 [00:00<00:00, 9218.25it/s]\n",
      "Retrieving SummaryDoc documents: 100%|██████████| 1/1 [00:00<00:00, 9709.04it/s]\n"
     ]
    },
    {
     "name": "stdout",
     "output_type": "stream",
     "text": [
      "mp-642648\n"
     ]
    },
    {
     "name": "stderr",
     "output_type": "stream",
     "text": [
      "Retrieving MaterialsDoc documents: 100%|██████████| 1/1 [00:00<00:00, 8886.24it/s]\n",
      "Retrieving SummaryDoc documents: 100%|██████████| 1/1 [00:00<00:00, 9078.58it/s]\n"
     ]
    },
    {
     "name": "stdout",
     "output_type": "stream",
     "text": [
      "mp-642725\n"
     ]
    },
    {
     "name": "stderr",
     "output_type": "stream",
     "text": [
      "Retrieving MaterialsDoc documents: 100%|██████████| 1/1 [00:00<00:00, 8905.10it/s]\n",
      "Retrieving SummaryDoc documents: 100%|██████████| 1/1 [00:00<00:00, 8756.38it/s]\n"
     ]
    },
    {
     "name": "stdout",
     "output_type": "stream",
     "text": [
      "mp-643002\n"
     ]
    },
    {
     "name": "stderr",
     "output_type": "stream",
     "text": [
      "Retrieving MaterialsDoc documents: 100%|██████████| 1/1 [00:00<00:00, 8905.10it/s]\n",
      "Retrieving SummaryDoc documents: 100%|██████████| 1/1 [00:00<00:00, 9686.61it/s]\n"
     ]
    },
    {
     "name": "stdout",
     "output_type": "stream",
     "text": [
      "mp-643101\n"
     ]
    },
    {
     "name": "stderr",
     "output_type": "stream",
     "text": [
      "Retrieving MaterialsDoc documents: 100%|██████████| 1/1 [00:00<00:00, 9709.04it/s]\n",
      "Retrieving SummaryDoc documents: 100%|██████████| 1/1 [00:00<00:00, 8594.89it/s]\n"
     ]
    },
    {
     "name": "stdout",
     "output_type": "stream",
     "text": [
      "mp-643243\n"
     ]
    },
    {
     "name": "stderr",
     "output_type": "stream",
     "text": [
      "Retrieving MaterialsDoc documents: 100%|██████████| 1/1 [00:00<00:00, 15768.06it/s]\n",
      "Retrieving SummaryDoc documents: 100%|██████████| 1/1 [00:00<00:00, 10255.02it/s]\n"
     ]
    },
    {
     "name": "stdout",
     "output_type": "stream",
     "text": [
      "mp-643257\n"
     ]
    },
    {
     "name": "stderr",
     "output_type": "stream",
     "text": [
      "Retrieving MaterialsDoc documents: 100%|██████████| 1/1 [00:00<00:00, 9404.27it/s]\n",
      "Retrieving SummaryDoc documents: 100%|██████████| 1/1 [00:00<00:00, 8848.74it/s]\n"
     ]
    },
    {
     "name": "stdout",
     "output_type": "stream",
     "text": [
      "mp-643260\n"
     ]
    },
    {
     "name": "stderr",
     "output_type": "stream",
     "text": [
      "Retrieving MaterialsDoc documents: 100%|██████████| 1/1 [00:00<00:00, 10010.27it/s]\n",
      "Retrieving SummaryDoc documents: 100%|██████████| 1/1 [00:00<00:00, 9731.56it/s]\n"
     ]
    },
    {
     "name": "stdout",
     "output_type": "stream",
     "text": [
      "mp-643264\n"
     ]
    },
    {
     "name": "stderr",
     "output_type": "stream",
     "text": [
      "Retrieving MaterialsDoc documents: 100%|██████████| 1/1 [00:00<00:00, 9341.43it/s]\n",
      "Retrieving SummaryDoc documents: 100%|██████████| 1/1 [00:00<00:00, 8886.24it/s]\n"
     ]
    },
    {
     "name": "stdout",
     "output_type": "stream",
     "text": [
      "mp-643279\n"
     ]
    },
    {
     "name": "stderr",
     "output_type": "stream",
     "text": [
      "Retrieving MaterialsDoc documents: 100%|██████████| 1/1 [00:00<00:00, 9404.27it/s]\n",
      "Retrieving SummaryDoc documents: 100%|██████████| 1/1 [00:00<00:00, 9554.22it/s]\n"
     ]
    },
    {
     "name": "stdout",
     "output_type": "stream",
     "text": [
      "mp-643370\n"
     ]
    },
    {
     "name": "stderr",
     "output_type": "stream",
     "text": [
      "Retrieving MaterialsDoc documents: 100%|██████████| 1/1 [00:00<00:00, 9554.22it/s]\n",
      "Retrieving SummaryDoc documents: 100%|██████████| 1/1 [00:00<00:00, 8738.13it/s]\n"
     ]
    },
    {
     "name": "stdout",
     "output_type": "stream",
     "text": [
      "mp-644203\n"
     ]
    },
    {
     "name": "stderr",
     "output_type": "stream",
     "text": [
      "Retrieving MaterialsDoc documents: 100%|██████████| 1/1 [00:00<00:00, 6831.11it/s]\n",
      "Retrieving SummaryDoc documents: 100%|██████████| 1/1 [00:00<00:00, 8830.11it/s]\n"
     ]
    },
    {
     "name": "stdout",
     "output_type": "stream",
     "text": [
      "mp-6450\n"
     ]
    },
    {
     "name": "stderr",
     "output_type": "stream",
     "text": [
      "Retrieving MaterialsDoc documents: 100%|██████████| 1/1 [00:00<00:00, 9576.04it/s]\n",
      "Retrieving SummaryDoc documents: 100%|██████████| 1/1 [00:00<00:00, 9939.11it/s]\n"
     ]
    },
    {
     "name": "stdout",
     "output_type": "stream",
     "text": [
      "mp-6459\n"
     ]
    },
    {
     "name": "stderr",
     "output_type": "stream",
     "text": [
      "Retrieving MaterialsDoc documents: 100%|██████████| 1/1 [00:00<00:00, 9362.29it/s]\n",
      "Retrieving SummaryDoc documents: 100%|██████████| 1/1 [00:00<00:00, 9776.93it/s]\n"
     ]
    },
    {
     "name": "stdout",
     "output_type": "stream",
     "text": [
      "mp-648\n"
     ]
    },
    {
     "name": "stderr",
     "output_type": "stream",
     "text": [
      "Retrieving MaterialsDoc documents: 100%|██████████| 1/1 [00:00<00:00, 8793.09it/s]\n",
      "Retrieving SummaryDoc documents: 100%|██████████| 1/1 [00:00<00:00, 8830.11it/s]\n"
     ]
    },
    {
     "name": "stdout",
     "output_type": "stream",
     "text": [
      "mp-6492\n"
     ]
    },
    {
     "name": "stderr",
     "output_type": "stream",
     "text": [
      "Retrieving MaterialsDoc documents: 100%|██████████| 1/1 [00:00<00:00, 8456.26it/s]\n",
      "Retrieving SummaryDoc documents: 100%|██████████| 1/1 [00:00<00:00, 9341.43it/s]\n"
     ]
    },
    {
     "name": "stdout",
     "output_type": "stream",
     "text": [
      "mp-6494\n"
     ]
    },
    {
     "name": "stderr",
     "output_type": "stream",
     "text": [
      "Retrieving MaterialsDoc documents: 100%|██████████| 1/1 [00:00<00:00, 9467.95it/s]\n",
      "Retrieving SummaryDoc documents: 100%|██████████| 1/1 [00:00<00:00, 9642.08it/s]\n"
     ]
    },
    {
     "name": "stdout",
     "output_type": "stream",
     "text": [
      "mp-6560\n"
     ]
    },
    {
     "name": "stderr",
     "output_type": "stream",
     "text": [
      "Retrieving MaterialsDoc documents: 100%|██████████| 1/1 [00:00<00:00, 9939.11it/s]\n",
      "Retrieving SummaryDoc documents: 100%|██████████| 1/1 [00:00<00:00, 9892.23it/s]\n"
     ]
    },
    {
     "name": "stdout",
     "output_type": "stream",
     "text": [
      "mp-6586\n"
     ]
    },
    {
     "name": "stderr",
     "output_type": "stream",
     "text": [
      "Retrieving MaterialsDoc documents: 100%|██████████| 1/1 [00:00<00:00, 13443.28it/s]\n",
      "Retrieving SummaryDoc documents: 100%|██████████| 1/1 [00:00<00:00, 9799.78it/s]\n"
     ]
    },
    {
     "name": "stdout",
     "output_type": "stream",
     "text": [
      "mp-66\n"
     ]
    },
    {
     "name": "stderr",
     "output_type": "stream",
     "text": [
      "Retrieving MaterialsDoc documents: 100%|██████████| 1/1 [00:00<00:00, 10979.85it/s]\n",
      "Retrieving SummaryDoc documents: 100%|██████████| 1/1 [00:00<00:00, 9446.63it/s]\n"
     ]
    },
    {
     "name": "stdout",
     "output_type": "stream",
     "text": [
      "mp-661\n"
     ]
    },
    {
     "name": "stderr",
     "output_type": "stream",
     "text": [
      "Retrieving MaterialsDoc documents: 100%|██████████| 1/1 [00:00<00:00, 9118.05it/s]\n",
      "Retrieving SummaryDoc documents: 100%|██████████| 1/1 [00:00<00:00, 9532.51it/s]\n"
     ]
    },
    {
     "name": "stdout",
     "output_type": "stream",
     "text": [
      "mp-6613\n"
     ]
    },
    {
     "name": "stderr",
     "output_type": "stream",
     "text": [
      "Retrieving MaterialsDoc documents: 100%|██████████| 1/1 [00:00<00:00, 9554.22it/s]\n",
      "Retrieving SummaryDoc documents: 100%|██████████| 1/1 [00:00<00:00, 9709.04it/s]\n"
     ]
    },
    {
     "name": "stdout",
     "output_type": "stream",
     "text": [
      "mp-6654\n"
     ]
    },
    {
     "name": "stderr",
     "output_type": "stream",
     "text": [
      "Retrieving MaterialsDoc documents: 100%|██████████| 1/1 [00:00<00:00, 9157.87it/s]\n",
      "Retrieving SummaryDoc documents: 100%|██████████| 1/1 [00:00<00:00, 8507.72it/s]\n"
     ]
    },
    {
     "name": "stdout",
     "output_type": "stream",
     "text": [
      "mp-6660\n"
     ]
    },
    {
     "name": "stderr",
     "output_type": "stream",
     "text": [
      "Retrieving MaterialsDoc documents: 100%|██████████| 1/1 [00:00<00:00, 14122.24it/s]\n",
      "Retrieving SummaryDoc documents: 100%|██████████| 1/1 [00:00<00:00, 9425.40it/s]\n"
     ]
    },
    {
     "name": "stdout",
     "output_type": "stream",
     "text": [
      "mp-6686\n"
     ]
    },
    {
     "name": "stderr",
     "output_type": "stream",
     "text": [
      "Retrieving MaterialsDoc documents: 100%|██████████| 1/1 [00:00<00:00, 9258.95it/s]\n",
      "Retrieving SummaryDoc documents: 100%|██████████| 1/1 [00:00<00:00, 22671.91it/s]\n"
     ]
    },
    {
     "name": "stdout",
     "output_type": "stream",
     "text": [
      "mp-672\n"
     ]
    },
    {
     "name": "stderr",
     "output_type": "stream",
     "text": [
      "Retrieving MaterialsDoc documents: 100%|██████████| 1/1 [00:00<00:00, 9218.25it/s]\n",
      "Retrieving SummaryDoc documents: 100%|██████████| 1/1 [00:00<00:00, 8793.09it/s]\n"
     ]
    },
    {
     "name": "stdout",
     "output_type": "stream",
     "text": [
      "mp-675011\n"
     ]
    },
    {
     "name": "stderr",
     "output_type": "stream",
     "text": [
      "Retrieving MaterialsDoc documents: 100%|██████████| 1/1 [00:00<00:00, 10205.12it/s]\n",
      "Retrieving SummaryDoc documents: 100%|██████████| 1/1 [00:00<00:00, 9489.38it/s]\n"
     ]
    },
    {
     "name": "stdout",
     "output_type": "stream",
     "text": [
      "mp-675104\n"
     ]
    },
    {
     "name": "stderr",
     "output_type": "stream",
     "text": [
      "Retrieving MaterialsDoc documents: 100%|██████████| 1/1 [00:00<00:00, 8848.74it/s]\n",
      "Retrieving SummaryDoc documents: 100%|██████████| 1/1 [00:00<00:00, 9218.25it/s]\n"
     ]
    },
    {
     "name": "stdout",
     "output_type": "stream",
     "text": [
      "mp-675230\n"
     ]
    },
    {
     "name": "stderr",
     "output_type": "stream",
     "text": [
      "Retrieving MaterialsDoc documents: 100%|██████████| 1/1 [00:00<00:00, 9258.95it/s]\n",
      "Retrieving SummaryDoc documents: 100%|██████████| 1/1 [00:00<00:00, 9554.22it/s]\n"
     ]
    },
    {
     "name": "stdout",
     "output_type": "stream",
     "text": [
      "mp-675531\n"
     ]
    },
    {
     "name": "stderr",
     "output_type": "stream",
     "text": [
      "Retrieving MaterialsDoc documents: 100%|██████████| 1/1 [00:00<00:00, 9619.96it/s]\n",
      "Retrieving SummaryDoc documents: 100%|██████████| 1/1 [00:00<00:00, 9686.61it/s]\n"
     ]
    },
    {
     "name": "stdout",
     "output_type": "stream",
     "text": [
      "mp-675902\n"
     ]
    },
    {
     "name": "stderr",
     "output_type": "stream",
     "text": [
      "Retrieving MaterialsDoc documents: 100%|██████████| 1/1 [00:00<00:00, 10034.22it/s]\n",
      "Retrieving SummaryDoc documents: 100%|██████████| 1/1 [00:00<00:00, 9218.25it/s]\n"
     ]
    },
    {
     "name": "stdout",
     "output_type": "stream",
     "text": [
      "mp-676284\n"
     ]
    },
    {
     "name": "stderr",
     "output_type": "stream",
     "text": [
      "Retrieving MaterialsDoc documents: 100%|██████████| 1/1 [00:00<00:00, 9776.93it/s]\n",
      "Retrieving SummaryDoc documents: 100%|██████████| 1/1 [00:00<00:00, 8525.01it/s]\n"
     ]
    },
    {
     "name": "stdout",
     "output_type": "stream",
     "text": [
      "mp-676464\n"
     ]
    },
    {
     "ename": "KeyboardInterrupt",
     "evalue": "",
     "output_type": "error",
     "traceback": [
      "\u001b[0;31m---------------------------------------------------------------------------\u001b[0m",
      "\u001b[0;31mKeyboardInterrupt\u001b[0m                         Traceback (most recent call last)",
      "\u001b[1;32m/home/rokabe/data1/phonondos/g_phonon_v1/download_cifs_v1.ipynb Cell 6\u001b[0m in \u001b[0;36m<cell line: 4>\u001b[0;34m()\u001b[0m\n\u001b[1;32m      <a href='vscode-notebook-cell://ssh-remote%2Batom.mit.edu/home/rokabe/data1/phonondos/g_phonon_v1/download_cifs_v1.ipynb#W5sdnNjb2RlLXJlbW90ZQ%3D%3D?line=4'>5</a>\u001b[0m \u001b[39mprint\u001b[39m(\u001b[39mid\u001b[39m)\n\u001b[1;32m      <a href='vscode-notebook-cell://ssh-remote%2Batom.mit.edu/home/rokabe/data1/phonondos/g_phonon_v1/download_cifs_v1.ipynb#W5sdnNjb2RlLXJlbW90ZQ%3D%3D?line=5'>6</a>\u001b[0m \u001b[39mwith\u001b[39;00m MPRester(api_key) \u001b[39mas\u001b[39;00m mpr:\n\u001b[0;32m----> <a href='vscode-notebook-cell://ssh-remote%2Batom.mit.edu/home/rokabe/data1/phonondos/g_phonon_v1/download_cifs_v1.ipynb#W5sdnNjb2RlLXJlbW90ZQ%3D%3D?line=6'>7</a>\u001b[0m     struct \u001b[39m=\u001b[39m mpr\u001b[39m.\u001b[39;49mget_structure_by_material_id(\u001b[39mid\u001b[39;49m)\n\u001b[1;32m      <a href='vscode-notebook-cell://ssh-remote%2Batom.mit.edu/home/rokabe/data1/phonondos/g_phonon_v1/download_cifs_v1.ipynb#W5sdnNjb2RlLXJlbW90ZQ%3D%3D?line=7'>8</a>\u001b[0m     structures_pm[\u001b[39mid\u001b[39m] \u001b[39m=\u001b[39m struct\n\u001b[1;32m      <a href='vscode-notebook-cell://ssh-remote%2Batom.mit.edu/home/rokabe/data1/phonondos/g_phonon_v1/download_cifs_v1.ipynb#W5sdnNjb2RlLXJlbW90ZQ%3D%3D?line=8'>9</a>\u001b[0m     \u001b[39m# docs = mpr.summary.search(material_ids=[id], fields=[\"structure\"])\u001b[39;00m\n\u001b[1;32m     <a href='vscode-notebook-cell://ssh-remote%2Batom.mit.edu/home/rokabe/data1/phonondos/g_phonon_v1/download_cifs_v1.ipynb#W5sdnNjb2RlLXJlbW90ZQ%3D%3D?line=9'>10</a>\u001b[0m     \u001b[39m# struct2 = docs[0].structure\u001b[39;00m\n\u001b[1;32m     <a href='vscode-notebook-cell://ssh-remote%2Batom.mit.edu/home/rokabe/data1/phonondos/g_phonon_v1/download_cifs_v1.ipynb#W5sdnNjb2RlLXJlbW90ZQ%3D%3D?line=10'>11</a>\u001b[0m     \u001b[39m# structures_pm2[id] = struct2\u001b[39;00m\n",
      "File \u001b[0;32m~/anaconda3/envs/py310/lib/python3.10/site-packages/mp_api/client.py:217\u001b[0m, in \u001b[0;36mMPRester.get_structure_by_material_id\u001b[0;34m(self, material_id, final, conventional_unit_cell)\u001b[0m\n\u001b[1;32m    199\u001b[0m \u001b[39mdef\u001b[39;00m \u001b[39mget_structure_by_material_id\u001b[39m(\n\u001b[1;32m    200\u001b[0m     \u001b[39mself\u001b[39m, material_id: \u001b[39mstr\u001b[39m, final: \u001b[39mbool\u001b[39m \u001b[39m=\u001b[39m \u001b[39mTrue\u001b[39;00m, conventional_unit_cell: \u001b[39mbool\u001b[39m \u001b[39m=\u001b[39m \u001b[39mFalse\u001b[39;00m\n\u001b[1;32m    201\u001b[0m ) \u001b[39m-\u001b[39m\u001b[39m>\u001b[39m Union[Structure, List[Structure]]:\n\u001b[1;32m    202\u001b[0m     \u001b[39m\"\"\"\u001b[39;00m\n\u001b[1;32m    203\u001b[0m \u001b[39m    Get a Structure corresponding to a material_id.\u001b[39;00m\n\u001b[1;32m    204\u001b[0m \n\u001b[0;32m   (...)\u001b[0m\n\u001b[1;32m    214\u001b[0m \u001b[39m        Structure object or list of Structure objects.\u001b[39;00m\n\u001b[1;32m    215\u001b[0m \u001b[39m    \"\"\"\u001b[39;00m\n\u001b[0;32m--> 217\u001b[0m     structure_data \u001b[39m=\u001b[39m \u001b[39mself\u001b[39;49m\u001b[39m.\u001b[39;49mmaterials\u001b[39m.\u001b[39;49mget_structure_by_material_id(\n\u001b[1;32m    218\u001b[0m         material_id\u001b[39m=\u001b[39;49mmaterial_id, final\u001b[39m=\u001b[39;49mfinal\n\u001b[1;32m    219\u001b[0m     )\n\u001b[1;32m    221\u001b[0m     \u001b[39mif\u001b[39;00m conventional_unit_cell \u001b[39mand\u001b[39;00m structure_data:\n\u001b[1;32m    222\u001b[0m         \u001b[39mif\u001b[39;00m final:\n",
      "File \u001b[0;32m~/anaconda3/envs/py310/lib/python3.10/site-packages/mp_api/routes/materials.py:39\u001b[0m, in \u001b[0;36mMaterialsRester.get_structure_by_material_id\u001b[0;34m(self, material_id, final)\u001b[0m\n\u001b[1;32m     26\u001b[0m \u001b[39m\"\"\"\u001b[39;00m\n\u001b[1;32m     27\u001b[0m \u001b[39mGet a structure for a given Materials Project ID.\u001b[39;00m\n\u001b[1;32m     28\u001b[0m \n\u001b[0;32m   (...)\u001b[0m\n\u001b[1;32m     36\u001b[0m \u001b[39m        pymatgen structure objects.\u001b[39;00m\n\u001b[1;32m     37\u001b[0m \u001b[39m\"\"\"\u001b[39;00m\n\u001b[1;32m     38\u001b[0m \u001b[39mif\u001b[39;00m final:\n\u001b[0;32m---> 39\u001b[0m     response \u001b[39m=\u001b[39m \u001b[39mself\u001b[39;49m\u001b[39m.\u001b[39;49mget_data_by_id(material_id, fields\u001b[39m=\u001b[39;49m[\u001b[39m\"\u001b[39;49m\u001b[39mstructure\u001b[39;49m\u001b[39m\"\u001b[39;49m])\n\u001b[1;32m     40\u001b[0m     \u001b[39mreturn\u001b[39;00m response\u001b[39m.\u001b[39mstructure \u001b[39mif\u001b[39;00m response \u001b[39mis\u001b[39;00m \u001b[39mnot\u001b[39;00m \u001b[39mNone\u001b[39;00m \u001b[39melse\u001b[39;00m response  \u001b[39m# type: ignore\u001b[39;00m\n\u001b[1;32m     41\u001b[0m \u001b[39melse\u001b[39;00m:\n",
      "File \u001b[0;32m~/anaconda3/envs/py310/lib/python3.10/site-packages/mp_api/core/client.py:854\u001b[0m, in \u001b[0;36mBaseRester.get_data_by_id\u001b[0;34m(self, document_id, fields)\u001b[0m\n\u001b[1;32m    851\u001b[0m results \u001b[39m=\u001b[39m []  \u001b[39m# type: List\u001b[39;00m\n\u001b[1;32m    853\u001b[0m \u001b[39mtry\u001b[39;00m:\n\u001b[0;32m--> 854\u001b[0m     results \u001b[39m=\u001b[39m \u001b[39mself\u001b[39;49m\u001b[39m.\u001b[39;49m_query_resource_data(criteria\u001b[39m=\u001b[39;49mcriteria, fields\u001b[39m=\u001b[39;49mfields, suburl\u001b[39m=\u001b[39;49mdocument_id)  \u001b[39m# type: ignore\u001b[39;00m\n\u001b[1;32m    855\u001b[0m \u001b[39mexcept\u001b[39;00m MPRestError:\n\u001b[1;32m    857\u001b[0m     \u001b[39mif\u001b[39;00m \u001b[39mself\u001b[39m\u001b[39m.\u001b[39mprimary_key \u001b[39m==\u001b[39m \u001b[39m\"\u001b[39m\u001b[39mmaterial_id\u001b[39m\u001b[39m\"\u001b[39m:\n\u001b[1;32m    858\u001b[0m         \u001b[39m# see if the material_id has changed, perhaps a task_id was supplied\u001b[39;00m\n\u001b[1;32m    859\u001b[0m         \u001b[39m# this should likely be re-thought\u001b[39;00m\n",
      "File \u001b[0;32m~/anaconda3/envs/py310/lib/python3.10/site-packages/mp_api/core/client.py:811\u001b[0m, in \u001b[0;36mBaseRester._query_resource_data\u001b[0;34m(self, criteria, fields, suburl, use_document_model, timeout)\u001b[0m\n\u001b[1;32m    788\u001b[0m \u001b[39mdef\u001b[39;00m \u001b[39m_query_resource_data\u001b[39m(\n\u001b[1;32m    789\u001b[0m     \u001b[39mself\u001b[39m,\n\u001b[1;32m    790\u001b[0m     criteria: Optional[Dict] \u001b[39m=\u001b[39m \u001b[39mNone\u001b[39;00m,\n\u001b[0;32m   (...)\u001b[0m\n\u001b[1;32m    794\u001b[0m     timeout: Optional[\u001b[39mint\u001b[39m] \u001b[39m=\u001b[39m \u001b[39mNone\u001b[39;00m,\n\u001b[1;32m    795\u001b[0m ) \u001b[39m-\u001b[39m\u001b[39m>\u001b[39m Union[List[T], List[Dict]]:\n\u001b[1;32m    796\u001b[0m     \u001b[39m\"\"\"\u001b[39;00m\n\u001b[1;32m    797\u001b[0m \u001b[39m    Query the endpoint for a list of documents without associated meta information. Only\u001b[39;00m\n\u001b[1;32m    798\u001b[0m \u001b[39m    returns a single page of results.\u001b[39;00m\n\u001b[0;32m   (...)\u001b[0m\n\u001b[1;32m    808\u001b[0m \u001b[39m        A list of documents\u001b[39;00m\n\u001b[1;32m    809\u001b[0m \u001b[39m    \"\"\"\u001b[39;00m\n\u001b[0;32m--> 811\u001b[0m     \u001b[39mreturn\u001b[39;00m \u001b[39mself\u001b[39;49m\u001b[39m.\u001b[39;49m_query_resource(  \u001b[39m# type: ignore\u001b[39;49;00m\n\u001b[1;32m    812\u001b[0m         criteria\u001b[39m=\u001b[39;49mcriteria,\n\u001b[1;32m    813\u001b[0m         fields\u001b[39m=\u001b[39;49mfields,\n\u001b[1;32m    814\u001b[0m         suburl\u001b[39m=\u001b[39;49msuburl,\n\u001b[1;32m    815\u001b[0m         use_document_model\u001b[39m=\u001b[39;49muse_document_model,\n\u001b[1;32m    816\u001b[0m         chunk_size\u001b[39m=\u001b[39;49m\u001b[39m1000\u001b[39;49m,\n\u001b[1;32m    817\u001b[0m         num_chunks\u001b[39m=\u001b[39;49m\u001b[39m1\u001b[39;49m,\n\u001b[1;32m    818\u001b[0m     )\u001b[39m.\u001b[39mget(\u001b[39m\"\u001b[39m\u001b[39mdata\u001b[39m\u001b[39m\"\u001b[39m)\n",
      "File \u001b[0;32m~/anaconda3/envs/py310/lib/python3.10/site-packages/mp_api/core/client.py:301\u001b[0m, in \u001b[0;36mBaseRester._query_resource\u001b[0;34m(self, criteria, fields, suburl, use_document_model, parallel_param, num_chunks, chunk_size, timeout)\u001b[0m\n\u001b[1;32m    298\u001b[0m         \u001b[39mif\u001b[39;00m \u001b[39mnot\u001b[39;00m url\u001b[39m.\u001b[39mendswith(\u001b[39m\"\u001b[39m\u001b[39m/\u001b[39m\u001b[39m\"\u001b[39m):\n\u001b[1;32m    299\u001b[0m             url \u001b[39m+\u001b[39m\u001b[39m=\u001b[39m \u001b[39m\"\u001b[39m\u001b[39m/\u001b[39m\u001b[39m\"\u001b[39m\n\u001b[0;32m--> 301\u001b[0m     data \u001b[39m=\u001b[39m \u001b[39mself\u001b[39;49m\u001b[39m.\u001b[39;49m_submit_requests(\n\u001b[1;32m    302\u001b[0m         url\u001b[39m=\u001b[39;49murl,\n\u001b[1;32m    303\u001b[0m         criteria\u001b[39m=\u001b[39;49mcriteria,\n\u001b[1;32m    304\u001b[0m         use_document_model\u001b[39m=\u001b[39;49muse_document_model,\n\u001b[1;32m    305\u001b[0m         parallel_param\u001b[39m=\u001b[39;49mparallel_param,\n\u001b[1;32m    306\u001b[0m         num_chunks\u001b[39m=\u001b[39;49mnum_chunks,\n\u001b[1;32m    307\u001b[0m         chunk_size\u001b[39m=\u001b[39;49mchunk_size,\n\u001b[1;32m    308\u001b[0m         timeout\u001b[39m=\u001b[39;49mtimeout,\n\u001b[1;32m    309\u001b[0m     )\n\u001b[1;32m    311\u001b[0m     \u001b[39mreturn\u001b[39;00m data\n\u001b[1;32m    313\u001b[0m \u001b[39mexcept\u001b[39;00m RequestException \u001b[39mas\u001b[39;00m ex:\n",
      "File \u001b[0;32m~/anaconda3/envs/py310/lib/python3.10/site-packages/mp_api/core/client.py:411\u001b[0m, in \u001b[0;36mBaseRester._submit_requests\u001b[0;34m(self, url, criteria, use_document_model, parallel_param, num_chunks, chunk_size, timeout)\u001b[0m\n\u001b[1;32m    405\u001b[0m remaining_docs_avail \u001b[39m=\u001b[39m {}\n\u001b[1;32m    407\u001b[0m initial_params_list \u001b[39m=\u001b[39m [\n\u001b[1;32m    408\u001b[0m     {\u001b[39m\"\u001b[39m\u001b[39murl\u001b[39m\u001b[39m\"\u001b[39m: url, \u001b[39m\"\u001b[39m\u001b[39mverify\u001b[39m\u001b[39m\"\u001b[39m: \u001b[39mTrue\u001b[39;00m, \u001b[39m\"\u001b[39m\u001b[39mparams\u001b[39m\u001b[39m\"\u001b[39m: copy(crit)} \u001b[39mfor\u001b[39;00m crit \u001b[39min\u001b[39;00m new_criteria\n\u001b[1;32m    409\u001b[0m ]\n\u001b[0;32m--> 411\u001b[0m initial_data_tuples \u001b[39m=\u001b[39m \u001b[39mself\u001b[39;49m\u001b[39m.\u001b[39;49m_multi_thread(\n\u001b[1;32m    412\u001b[0m     use_document_model, initial_params_list\n\u001b[1;32m    413\u001b[0m )\n\u001b[1;32m    415\u001b[0m \u001b[39mfor\u001b[39;00m data, subtotal, crit_ind \u001b[39min\u001b[39;00m initial_data_tuples:\n\u001b[1;32m    417\u001b[0m     subtotals\u001b[39m.\u001b[39mappend(subtotal)\n",
      "File \u001b[0;32m~/anaconda3/envs/py310/lib/python3.10/site-packages/mp_api/core/client.py:625\u001b[0m, in \u001b[0;36mBaseRester._multi_thread\u001b[0;34m(self, use_document_model, params_list, progress_bar, timeout)\u001b[0m\n\u001b[1;32m    621\u001b[0m     params_ind \u001b[39m+\u001b[39m\u001b[39m=\u001b[39m \u001b[39m1\u001b[39m\n\u001b[1;32m    623\u001b[0m \u001b[39mwhile\u001b[39;00m futures:\n\u001b[1;32m    624\u001b[0m     \u001b[39m# Wait for at least one future to complete and process finished\u001b[39;00m\n\u001b[0;32m--> 625\u001b[0m     finished, futures \u001b[39m=\u001b[39m wait(futures, return_when\u001b[39m=\u001b[39;49mFIRST_COMPLETED)\n\u001b[1;32m    627\u001b[0m     \u001b[39mfor\u001b[39;00m future \u001b[39min\u001b[39;00m finished:\n\u001b[1;32m    629\u001b[0m         data, subtotal \u001b[39m=\u001b[39m future\u001b[39m.\u001b[39mresult()\n",
      "File \u001b[0;32m~/anaconda3/envs/py310/lib/python3.10/concurrent/futures/_base.py:306\u001b[0m, in \u001b[0;36mwait\u001b[0;34m(fs, timeout, return_when)\u001b[0m\n\u001b[1;32m    302\u001b[0m         \u001b[39mreturn\u001b[39;00m DoneAndNotDoneFutures(done, not_done)\n\u001b[1;32m    304\u001b[0m     waiter \u001b[39m=\u001b[39m _create_and_install_waiters(fs, return_when)\n\u001b[0;32m--> 306\u001b[0m waiter\u001b[39m.\u001b[39;49mevent\u001b[39m.\u001b[39;49mwait(timeout)\n\u001b[1;32m    307\u001b[0m \u001b[39mfor\u001b[39;00m f \u001b[39min\u001b[39;00m fs:\n\u001b[1;32m    308\u001b[0m     \u001b[39mwith\u001b[39;00m f\u001b[39m.\u001b[39m_condition:\n",
      "File \u001b[0;32m~/anaconda3/envs/py310/lib/python3.10/threading.py:600\u001b[0m, in \u001b[0;36mEvent.wait\u001b[0;34m(self, timeout)\u001b[0m\n\u001b[1;32m    598\u001b[0m signaled \u001b[39m=\u001b[39m \u001b[39mself\u001b[39m\u001b[39m.\u001b[39m_flag\n\u001b[1;32m    599\u001b[0m \u001b[39mif\u001b[39;00m \u001b[39mnot\u001b[39;00m signaled:\n\u001b[0;32m--> 600\u001b[0m     signaled \u001b[39m=\u001b[39m \u001b[39mself\u001b[39;49m\u001b[39m.\u001b[39;49m_cond\u001b[39m.\u001b[39;49mwait(timeout)\n\u001b[1;32m    601\u001b[0m \u001b[39mreturn\u001b[39;00m signaled\n",
      "File \u001b[0;32m~/anaconda3/envs/py310/lib/python3.10/threading.py:320\u001b[0m, in \u001b[0;36mCondition.wait\u001b[0;34m(self, timeout)\u001b[0m\n\u001b[1;32m    318\u001b[0m \u001b[39mtry\u001b[39;00m:    \u001b[39m# restore state no matter what (e.g., KeyboardInterrupt)\u001b[39;00m\n\u001b[1;32m    319\u001b[0m     \u001b[39mif\u001b[39;00m timeout \u001b[39mis\u001b[39;00m \u001b[39mNone\u001b[39;00m:\n\u001b[0;32m--> 320\u001b[0m         waiter\u001b[39m.\u001b[39;49macquire()\n\u001b[1;32m    321\u001b[0m         gotit \u001b[39m=\u001b[39m \u001b[39mTrue\u001b[39;00m\n\u001b[1;32m    322\u001b[0m     \u001b[39melse\u001b[39;00m:\n",
      "\u001b[0;31mKeyboardInterrupt\u001b[0m: "
     ]
    }
   ],
   "source": [
    "structures_pm = {}\n",
    "structures_pm2 = {}\n",
    "structures_pm3 = {}\n",
    "for id in mp_ids:\n",
    "    print(id)\n",
    "    with MPRester(api_key) as mpr:\n",
    "        struct = mpr.get_structure_by_material_id(id)\n",
    "        structures_pm[id] = struct\n",
    "        # docs = mpr.summary.search(material_ids=[id], fields=[\"structure\"])\n",
    "        # struct2 = docs[0].structure\n",
    "        # structures_pm2[id] = struct2\n",
    "        doc3 = mpr.summary.get_data_by_id(id, fields=[\"structure\"])\n",
    "        struct3 = doc3.structure\n",
    "        structures_pm3[id] = struct3"
   ]
  },
  {
   "cell_type": "code",
   "execution_count": 18,
   "metadata": {},
   "outputs": [
    {
     "data": {
      "text/plain": [
       "True"
      ]
     },
     "execution_count": 18,
     "metadata": {},
     "output_type": "execute_result"
    }
   ],
   "source": [
    "structures_pm==structures_pm3"
   ]
  },
  {
   "cell_type": "code",
   "execution_count": 19,
   "metadata": {},
   "outputs": [
    {
     "data": {
      "text/plain": [
       "1003"
      ]
     },
     "execution_count": 19,
     "metadata": {},
     "output_type": "execute_result"
    }
   ],
   "source": [
    "len(structures_pm3)"
   ]
  },
  {
   "cell_type": "code",
   "execution_count": null,
   "metadata": {},
   "outputs": [],
   "source": []
  }
 ],
 "metadata": {
  "kernelspec": {
   "display_name": "Python 3.10.0 ('py310': conda)",
   "language": "python",
   "name": "python3"
  },
  "language_info": {
   "codemirror_mode": {
    "name": "ipython",
    "version": 3
   },
   "file_extension": ".py",
   "mimetype": "text/x-python",
   "name": "python",
   "nbconvert_exporter": "python",
   "pygments_lexer": "ipython3",
   "version": "3.10.0"
  },
  "orig_nbformat": 4,
  "vscode": {
   "interpreter": {
    "hash": "d652eab38f23ba2029eec41209dd4d20f757a7f4a8352f761c89e61da0b2339e"
   }
  }
 },
 "nbformat": 4,
 "nbformat_minor": 2
}
